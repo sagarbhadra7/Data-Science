{
  "nbformat": 4,
  "nbformat_minor": 0,
  "metadata": {
    "colab": {
      "name": "Matplotlib_practice.ipynb",
      "provenance": [],
      "authorship_tag": "ABX9TyN/BX7QZqY1772ZvJ+i8aQ7",
      "include_colab_link": true
    },
    "kernelspec": {
      "name": "python3",
      "display_name": "Python 3"
    }
  },
  "cells": [
    {
      "cell_type": "markdown",
      "metadata": {
        "id": "view-in-github",
        "colab_type": "text"
      },
      "source": [
        "<a href=\"https://colab.research.google.com/github/sagarbhadra7/Python-Programs/blob/master/Matplotlib_practice.ipynb\" target=\"_parent\"><img src=\"https://colab.research.google.com/assets/colab-badge.svg\" alt=\"Open In Colab\"/></a>"
      ]
    },
    {
      "cell_type": "code",
      "metadata": {
        "id": "tQ-9SFPB4g7p",
        "colab_type": "code",
        "colab": {}
      },
      "source": [
        "import matplotlib.pyplot as plt\n",
        "import seaborn as sb\n",
        "import pandas as pd"
      ],
      "execution_count": 0,
      "outputs": []
    },
    {
      "cell_type": "code",
      "metadata": {
        "id": "zr3sRZAiAjlk",
        "colab_type": "code",
        "colab": {}
      },
      "source": [
        "df=pd.read_csv('WorldHappiness2018_Data.csv')\n",
        "df=pd.DataFrame(df)"
      ],
      "execution_count": 0,
      "outputs": []
    },
    {
      "cell_type": "code",
      "metadata": {
        "id": "DVSzFfoGD6EL",
        "colab_type": "code",
        "colab": {}
      },
      "source": [
        "print(df)"
      ],
      "execution_count": 0,
      "outputs": []
    },
    {
      "cell_type": "code",
      "metadata": {
        "id": "HfM1DMSWESY-",
        "colab_type": "code",
        "colab": {
          "base_uri": "https://localhost:8080/",
          "height": 282
        },
        "outputId": "ec3b95ba-eea8-4959-87b0-2b6f7008c127"
      },
      "source": [
        "plt.plot(df['Rank'],df['Score'])"
      ],
      "execution_count": 12,
      "outputs": [
        {
          "output_type": "execute_result",
          "data": {
            "text/plain": [
              "[<matplotlib.lines.Line2D at 0x7f987fc9ee48>]"
            ]
          },
          "metadata": {
            "tags": []
          },
          "execution_count": 12
        },
        {
          "output_type": "display_data",
          "data": {
            "image/png": "[encoded data removed]",
            "text/plain": [
              "<Figure size 432x288 with 1 Axes>"
            ]
          },
          "metadata": {
            "tags": []
          }
        }
      ]
    },
    {
      "cell_type": "code",
      "metadata": {
        "id": "WO7w-EmYEgU3",
        "colab_type": "code",
        "colab": {
          "base_uri": "https://localhost:8080/",
          "height": 269
        },
        "outputId": "d7196afa-7f9e-47c1-f6bb-f1f32bdad663"
      },
      "source": [
        "print(df.dtypes)\n",
        "print(df.columns)"
      ],
      "execution_count": 34,
      "outputs": [
        {
          "output_type": "stream",
          "text": [
            "Rank                              int64\n",
            "Country                          object\n",
            "Score                           float64\n",
            "GDP_Per_Capita                  float64\n",
            "Social_Support                  float64\n",
            "Healthy_Life_Expectancy         float64\n",
            "Freedom_To_Make_Life_Choices    float64\n",
            "Generosity                      float64\n",
            "Perceptions_Of_Corruption       float64\n",
            "Residual                        float64\n",
            "dtype: object\n",
            "Index(['Rank', 'Country', 'Score', 'GDP_Per_Capita', 'Social_Support',\n",
            "       'Healthy_Life_Expectancy', 'Freedom_To_Make_Life_Choices', 'Generosity',\n",
            "       'Perceptions_Of_Corruption', 'Residual'],\n",
            "      dtype='object')\n"
          ],
          "name": "stdout"
        }
      ]
    },
    {
      "cell_type": "code",
      "metadata": {
        "id": "iXCtQcVXGRP4",
        "colab_type": "code",
        "colab": {}
      },
      "source": [
        "rank=df['Rank']\n",
        "score=df['Score']\n",
        "gdp=df['GDP_Per_Capita']\n",
        "hle=df['Healthy_Life_Expectancy']\n"
      ],
      "execution_count": 0,
      "outputs": []
    },
    {
      "cell_type": "code",
      "metadata": {
        "id": "Wrk90lbpGmFy",
        "colab_type": "code",
        "colab": {
          "base_uri": "https://localhost:8080/",
          "height": 295
        },
        "outputId": "c9b97428-7e0e-4515-e795-dca703205824"
      },
      "source": [
        "plt.title('Demo')\n",
        "plt.xlabel('Rank')\n",
        "plt.ylabel('Score and HLE')\n",
        "plt.plot(rank,hle,'Green',label='1st')\n",
        "plt.plot(df['Rank'],df['Score'],'Red',label='2nd')\n",
        "plt.legend()\n",
        "plt.show()"
      ],
      "execution_count": 29,
      "outputs": [
        {
          "output_type": "display_data",
          "data": {
            "image/png": "[encoded data removed]",
            "text/plain": [
              "<Figure size 432x288 with 1 Axes>"
            ]
          },
          "metadata": {
            "tags": []
          }
        }
      ]
    },
    {
      "cell_type": "code",
      "metadata": {
        "id": "uNajt8PMG3E-",
        "colab_type": "code",
        "colab": {
          "base_uri": "https://localhost:8080/",
          "height": 269
        },
        "outputId": "9495f398-ac0f-4544-bd2a-2d890707500b"
      },
      "source": [
        "plt.bar(rank,score)\n",
        "plt.show()"
      ],
      "execution_count": 21,
      "outputs": [
        {
          "output_type": "display_data",
          "data": {
            "image/png": "[encoded data removed]",
            "text/plain": [
              "<Figure size 432x288 with 1 Axes>"
            ]
          },
          "metadata": {
            "tags": []
          }
        }
      ]
    },
    {
      "cell_type": "code",
      "metadata": {
        "id": "m3vab6r3Hg7E",
        "colab_type": "code",
        "colab": {
          "base_uri": "https://localhost:8080/",
          "height": 295
        },
        "outputId": "72272c57-99c5-402d-9e01-434550a8270f"
      },
      "source": [
        "plt.title('Score Histogram')\n",
        "plt.xlabel('Rank')\n",
        "plt.ylabel('Score')\n",
        "plt.hist(score,edgecolor='Black',linewidth=1,color='red')\n",
        "plt.show()"
      ],
      "execution_count": 85,
      "outputs": [
        {
          "output_type": "display_data",
          "data": {
            "image/png": "[encoded data removed]",
            "text/plain": [
              "<Figure size 432x288 with 1 Axes>"
            ]
          },
          "metadata": {
            "tags": []
          }
        }
      ]
    },
    {
      "cell_type": "code",
      "metadata": {
        "id": "asnAEhtmM9Hz",
        "colab_type": "code",
        "colab": {
          "base_uri": "https://localhost:8080/",
          "height": 34
        },
        "outputId": "4cf3016d-63ab-44b2-c02b-4c45949e3fbf"
      },
      "source": [
        "print(score.dtype)"
      ],
      "execution_count": 43,
      "outputs": [
        {
          "output_type": "stream",
          "text": [
            "float64\n"
          ],
          "name": "stdout"
        }
      ]
    },
    {
      "cell_type": "code",
      "metadata": {
        "id": "GDemjB8aOcY9",
        "colab_type": "code",
        "colab": {
          "base_uri": "https://localhost:8080/",
          "height": 218
        },
        "outputId": "8999943c-ae4a-4d36-bbbd-def4e7561a8d"
      },
      "source": [
        "score.astype('int')"
      ],
      "execution_count": 42,
      "outputs": [
        {
          "output_type": "execute_result",
          "data": {
            "text/plain": [
              "0      7\n",
              "1      7\n",
              "2      7\n",
              "3      7\n",
              "4      7\n",
              "      ..\n",
              "151    3\n",
              "152    3\n",
              "153    3\n",
              "154    3\n",
              "155    2\n",
              "Name: Score, Length: 156, dtype: int64"
            ]
          },
          "metadata": {
            "tags": []
          },
          "execution_count": 42
        }
      ]
    },
    {
      "cell_type": "code",
      "metadata": {
        "id": "hb5iIcuAOl8o",
        "colab_type": "code",
        "colab": {}
      },
      "source": [
        "df['Score']=df['Score'].apply(int)"
      ],
      "execution_count": 0,
      "outputs": []
    },
    {
      "cell_type": "code",
      "metadata": {
        "id": "w4I-byR5O43P",
        "colab_type": "code",
        "colab": {
          "base_uri": "https://localhost:8080/",
          "height": 202
        },
        "outputId": "303b049f-2f61-4eb3-8526-1d394439913c"
      },
      "source": [
        "df.dtypes"
      ],
      "execution_count": 48,
      "outputs": [
        {
          "output_type": "execute_result",
          "data": {
            "text/plain": [
              "Rank                              int64\n",
              "Country                          object\n",
              "Score                             int64\n",
              "GDP_Per_Capita                  float64\n",
              "Social_Support                  float64\n",
              "Healthy_Life_Expectancy         float64\n",
              "Freedom_To_Make_Life_Choices    float64\n",
              "Generosity                      float64\n",
              "Perceptions_Of_Corruption       float64\n",
              "Residual                        float64\n",
              "dtype: object"
            ]
          },
          "metadata": {
            "tags": []
          },
          "execution_count": 48
        }
      ]
    },
    {
      "cell_type": "code",
      "metadata": {
        "id": "7sHfajUBPBUa",
        "colab_type": "code",
        "colab": {}
      },
      "source": [
        "score_count=df['Score'].value_counts()"
      ],
      "execution_count": 0,
      "outputs": []
    },
    {
      "cell_type": "code",
      "metadata": {
        "id": "7P8vsgSnPRLQ",
        "colab_type": "code",
        "colab": {
          "base_uri": "https://localhost:8080/",
          "height": 134
        },
        "outputId": "d81a7f6d-c465-40ed-914e-9fb8d14db830"
      },
      "source": [
        "print(score_count)"
      ],
      "execution_count": 51,
      "outputs": [
        {
          "output_type": "stream",
          "text": [
            "5    50\n",
            "4    41\n",
            "6    34\n",
            "3    17\n",
            "7    13\n",
            "2     1\n",
            "Name: Score, dtype: int64\n"
          ],
          "name": "stdout"
        }
      ]
    },
    {
      "cell_type": "code",
      "metadata": {
        "id": "kaSFxo75PTU6",
        "colab_type": "code",
        "colab": {
          "base_uri": "https://localhost:8080/",
          "height": 282
        },
        "outputId": "7919d359-2c6c-461c-8eac-9cf5df7794a3"
      },
      "source": [
        "plt.bar(score_count.index,score_count,width=1)"
      ],
      "execution_count": 86,
      "outputs": [
        {
          "output_type": "execute_result",
          "data": {
            "text/plain": [
              "<BarContainer object of 6 artists>"
            ]
          },
          "metadata": {
            "tags": []
          },
          "execution_count": 86
        },
        {
          "output_type": "display_data",
          "data": {
            "image/png": "[encoded data removed]",
            "text/plain": [
              "<Figure size 432x288 with 1 Axes>"
            ]
          },
          "metadata": {
            "tags": []
          }
        }
      ]
    },
    {
      "cell_type": "code",
      "metadata": {
        "id": "s4Iw6-8NSxOc",
        "colab_type": "code",
        "colab": {}
      },
      "source": [
        "score_value=score.values\n",
        "gdp_value=gdp.values"
      ],
      "execution_count": 0,
      "outputs": []
    },
    {
      "cell_type": "code",
      "metadata": {
        "id": "MNKeSOulPo_a",
        "colab_type": "code",
        "colab": {
          "base_uri": "https://localhost:8080/",
          "height": 279
        },
        "outputId": "2201e2cf-d98f-496e-8068-1f66ea2816d0"
      },
      "source": [
        "df.plot(kind='scatter',x='Rank',y='GDP_Per_Capita')\n",
        "plt.show()"
      ],
      "execution_count": 76,
      "outputs": [
        {
          "output_type": "display_data",
          "data": {
            "image/png": "[encoded data removed]",
            "text/plain": [
              "<Figure size 432x288 with 1 Axes>"
            ]
          },
          "metadata": {
            "tags": []
          }
        }
      ]
    },
    {
      "cell_type": "code",
      "metadata": {
        "id": "SzGtm92ESCLf",
        "colab_type": "code",
        "colab": {
          "base_uri": "https://localhost:8080/",
          "height": 265
        },
        "outputId": "44e62ab8-9882-402c-df82-3b8c3b7aa3cd"
      },
      "source": [
        "plt.scatter(score,gdp,color='Red')\n",
        "plt.show()"
      ],
      "execution_count": 93,
      "outputs": [
        {
          "output_type": "display_data",
          "data": {
            "image/png": "[encoded data removed]",
            "text/plain": [
              "<Figure size 432x288 with 1 Axes>"
            ]
          },
          "metadata": {
            "tags": []
          }
        }
      ]
    },
    {
      "cell_type": "code",
      "metadata": {
        "id": "0YMsUfLlVVPW",
        "colab_type": "code",
        "colab": {}
      },
      "source": [
        ""
      ],
      "execution_count": 0,
      "outputs": []
    }
  ]
}