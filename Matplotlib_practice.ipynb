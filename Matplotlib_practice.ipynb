{
  "nbformat": 4,
  "nbformat_minor": 0,
  "metadata": {
    "colab": {
      "name": "Matplotlib_practice.ipynb",
      "provenance": [],
      "authorship_tag": "ABX9TyNWFA2srnHA8XMm8c3Y/iDR",
      "include_colab_link": true
    },
    "kernelspec": {
      "name": "python3",
      "display_name": "Python 3"
    }
  },
  "cells": [
    {
      "cell_type": "markdown",
      "metadata": {
        "id": "view-in-github",
        "colab_type": "text"
      },
      "source": [
        "<a href=\"https://colab.research.google.com/github/sagarbhadra7/Python-Programs/blob/master/Matplotlib_practice.ipynb\" target=\"_parent\"><img src=\"https://colab.research.google.com/assets/colab-badge.svg\" alt=\"Open In Colab\"/></a>"
      ]
    },
    {
      "cell_type": "code",
      "metadata": {
        "id": "tQ-9SFPB4g7p",
        "colab_type": "code",
        "colab": {}
      },
      "source": [
        "import matplotlib.pyplot as plt\n",
        "import seaborn as sb\n",
        "import pandas as pd\n",
        "import numpy as np"
      ],
      "execution_count": 0,
      "outputs": []
    },
    {
      "cell_type": "code",
      "metadata": {
        "id": "zr3sRZAiAjlk",
        "colab_type": "code",
        "colab": {}
      },
      "source": [
        "df=pd.read_csv('WorldHappiness2018_Data.csv')\n",
        "df=pd.DataFrame(df)"
      ],
      "execution_count": 0,
      "outputs": []
    },
    {
      "cell_type": "code",
      "metadata": {
        "id": "DVSzFfoGD6EL",
        "colab_type": "code",
        "colab": {}
      },
      "source": [
        "print(df)"
      ],
      "execution_count": 0,
      "outputs": []
    },
    {
      "cell_type": "code",
      "metadata": {
        "id": "HfM1DMSWESY-",
        "colab_type": "code",
        "colab": {
          "base_uri": "https://localhost:8080/",
          "height": 282
        },
        "outputId": "ec3b95ba-eea8-4959-87b0-2b6f7008c127"
      },
      "source": [
        "plt.plot(df['Rank'],df['Score'])"
      ],
      "execution_count": 12,
      "outputs": [
        {
          "output_type": "execute_result",
          "data": {
            "text/plain": [
              "[<matplotlib.lines.Line2D at 0x7f987fc9ee48>]"
            ]
          },
          "metadata": {
            "tags": []
          },
          "execution_count": 12
        },
        {
          "output_type": "display_data",
          "data": {
            "image/png": "[encoded data removed]",
            "text/plain": [
              "<Figure size 432x288 with 1 Axes>"
            ]
          },
          "metadata": {
            "tags": []
          }
        }
      ]
    },
    {
      "cell_type": "code",
      "metadata": {
        "id": "WO7w-EmYEgU3",
        "colab_type": "code",
        "colab": {
          "base_uri": "https://localhost:8080/",
          "height": 269
        },
        "outputId": "d7196afa-7f9e-47c1-f6bb-f1f32bdad663"
      },
      "source": [
        "print(df.dtypes)\n",
        "print(df.columns)"
      ],
      "execution_count": 34,
      "outputs": [
        {
          "output_type": "stream",
          "text": [
            "Rank                              int64\n",
            "Country                          object\n",
            "Score                           float64\n",
            "GDP_Per_Capita                  float64\n",
            "Social_Support                  float64\n",
            "Healthy_Life_Expectancy         float64\n",
            "Freedom_To_Make_Life_Choices    float64\n",
            "Generosity                      float64\n",
            "Perceptions_Of_Corruption       float64\n",
            "Residual                        float64\n",
            "dtype: object\n",
            "Index(['Rank', 'Country', 'Score', 'GDP_Per_Capita', 'Social_Support',\n",
            "       'Healthy_Life_Expectancy', 'Freedom_To_Make_Life_Choices', 'Generosity',\n",
            "       'Perceptions_Of_Corruption', 'Residual'],\n",
            "      dtype='object')\n"
          ],
          "name": "stdout"
        }
      ]
    },
    {
      "cell_type": "code",
      "metadata": {
        "id": "iXCtQcVXGRP4",
        "colab_type": "code",
        "colab": {}
      },
      "source": [
        "rank=df['Rank']\n",
        "score=df['Score']\n",
        "gdp=df['GDP_Per_Capita']\n",
        "hle=df['Healthy_Life_Expectancy']\n"
      ],
      "execution_count": 0,
      "outputs": []
    },
    {
      "cell_type": "code",
      "metadata": {
        "id": "Wrk90lbpGmFy",
        "colab_type": "code",
        "colab": {
          "base_uri": "https://localhost:8080/",
          "height": 295
        },
        "outputId": "c9b97428-7e0e-4515-e795-dca703205824"
      },
      "source": [
        "plt.title('Demo')\n",
        "plt.xlabel('Rank')\n",
        "plt.ylabel('Score and HLE')\n",
        "plt.plot(rank,hle,'Green',label='1st')\n",
        "plt.plot(df['Rank'],df['Score'],'Red',label='2nd')\n",
        "plt.legend()\n",
        "plt.show()"
      ],
      "execution_count": 29,
      "outputs": [
        {
          "output_type": "display_data",
          "data": {
            "image/png": "[encoded data removed]",
            "text/plain": [
              "<Figure size 432x288 with 1 Axes>"
            ]
          },
          "metadata": {
            "tags": []
          }
        }
      ]
    },
    {
      "cell_type": "code",
      "metadata": {
        "id": "uNajt8PMG3E-",
        "colab_type": "code",
        "colab": {
          "base_uri": "https://localhost:8080/",
          "height": 269
        },
        "outputId": "9495f398-ac0f-4544-bd2a-2d890707500b"
      },
      "source": [
        "plt.bar(rank,score)\n",
        "plt.show()"
      ],
      "execution_count": 21,
      "outputs": [
        {
          "output_type": "display_data",
          "data": {
            "image/png": "[encoded data removed]",
            "text/plain": [
              "<Figure size 432x288 with 1 Axes>"
            ]
          },
          "metadata": {
            "tags": []
          }
        }
      ]
    },
    {
      "cell_type": "code",
      "metadata": {
        "id": "m3vab6r3Hg7E",
        "colab_type": "code",
        "colab": {
          "base_uri": "https://localhost:8080/",
          "height": 295
        },
        "outputId": "72272c57-99c5-402d-9e01-434550a8270f"
      },
      "source": [
        "plt.title('Score Histogram')\n",
        "plt.xlabel('Rank')\n",
        "plt.ylabel('Score')\n",
        "plt.hist(score,edgecolor='Black',linewidth=1,color='red')\n",
        "plt.show()"
      ],
      "execution_count": 85,
      "outputs": [
        {
          "output_type": "display_data",
          "data": {
            "image/png": "[encoded data removed]",
            "text/plain": [
              "<Figure size 432x288 with 1 Axes>"
            ]
          },
          "metadata": {
            "tags": []
          }
        }
      ]
    },
    {
      "cell_type": "code",
      "metadata": {
        "id": "asnAEhtmM9Hz",
        "colab_type": "code",
        "colab": {
          "base_uri": "https://localhost:8080/",
          "height": 34
        },
        "outputId": "4cf3016d-63ab-44b2-c02b-4c45949e3fbf"
      },
      "source": [
        "print(score.dtype)"
      ],
      "execution_count": 43,
      "outputs": [
        {
          "output_type": "stream",
          "text": [
            "float64\n"
          ],
          "name": "stdout"
        }
      ]
    },
    {
      "cell_type": "code",
      "metadata": {
        "id": "GDemjB8aOcY9",
        "colab_type": "code",
        "colab": {
          "base_uri": "https://localhost:8080/",
          "height": 218
        },
        "outputId": "8999943c-ae4a-4d36-bbbd-def4e7561a8d"
      },
      "source": [
        "score.astype('int')"
      ],
      "execution_count": 42,
      "outputs": [
        {
          "output_type": "execute_result",
          "data": {
            "text/plain": [
              "0      7\n",
              "1      7\n",
              "2      7\n",
              "3      7\n",
              "4      7\n",
              "      ..\n",
              "151    3\n",
              "152    3\n",
              "153    3\n",
              "154    3\n",
              "155    2\n",
              "Name: Score, Length: 156, dtype: int64"
            ]
          },
          "metadata": {
            "tags": []
          },
          "execution_count": 42
        }
      ]
    },
    {
      "cell_type": "code",
      "metadata": {
        "id": "hb5iIcuAOl8o",
        "colab_type": "code",
        "colab": {}
      },
      "source": [
        "df['Score']=df['Score'].apply(int)"
      ],
      "execution_count": 0,
      "outputs": []
    },
    {
      "cell_type": "code",
      "metadata": {
        "id": "w4I-byR5O43P",
        "colab_type": "code",
        "colab": {
          "base_uri": "https://localhost:8080/",
          "height": 202
        },
        "outputId": "303b049f-2f61-4eb3-8526-1d394439913c"
      },
      "source": [
        "df.dtypes"
      ],
      "execution_count": 48,
      "outputs": [
        {
          "output_type": "execute_result",
          "data": {
            "text/plain": [
              "Rank                              int64\n",
              "Country                          object\n",
              "Score                             int64\n",
              "GDP_Per_Capita                  float64\n",
              "Social_Support                  float64\n",
              "Healthy_Life_Expectancy         float64\n",
              "Freedom_To_Make_Life_Choices    float64\n",
              "Generosity                      float64\n",
              "Perceptions_Of_Corruption       float64\n",
              "Residual                        float64\n",
              "dtype: object"
            ]
          },
          "metadata": {
            "tags": []
          },
          "execution_count": 48
        }
      ]
    },
    {
      "cell_type": "code",
      "metadata": {
        "id": "7sHfajUBPBUa",
        "colab_type": "code",
        "colab": {}
      },
      "source": [
        "score_count=df['Score'].value_counts()"
      ],
      "execution_count": 0,
      "outputs": []
    },
    {
      "cell_type": "code",
      "metadata": {
        "id": "7P8vsgSnPRLQ",
        "colab_type": "code",
        "colab": {
          "base_uri": "https://localhost:8080/",
          "height": 134
        },
        "outputId": "cfe40f8c-e2d5-475a-e6b8-c15473a1296e"
      },
      "source": [
        "print(score_count)"
      ],
      "execution_count": 136,
      "outputs": [
        {
          "output_type": "stream",
          "text": [
            "5    50\n",
            "4    41\n",
            "6    34\n",
            "3    17\n",
            "7    13\n",
            "2     1\n",
            "Name: Score, dtype: int64\n"
          ],
          "name": "stdout"
        }
      ]
    },
    {
      "cell_type": "code",
      "metadata": {
        "id": "kaSFxo75PTU6",
        "colab_type": "code",
        "colab": {
          "base_uri": "https://localhost:8080/",
          "height": 282
        },
        "outputId": "7919d359-2c6c-461c-8eac-9cf5df7794a3"
      },
      "source": [
        "plt.bar(score_count.index,score_count,width=1)"
      ],
      "execution_count": 86,
      "outputs": [
        {
          "output_type": "execute_result",
          "data": {
            "text/plain": [
              "<BarContainer object of 6 artists>"
            ]
          },
          "metadata": {
            "tags": []
          },
          "execution_count": 86
        },
        {
          "output_type": "display_data",
          "data": {
            "image/png": "[encoded data removed]",
            "text/plain": [
              "<Figure size 432x288 with 1 Axes>"
            ]
          },
          "metadata": {
            "tags": []
          }
        }
      ]
    },
    {
      "cell_type": "code",
      "metadata": {
        "id": "s4Iw6-8NSxOc",
        "colab_type": "code",
        "colab": {}
      },
      "source": [
        "score_value=score.values\n",
        "gdp_value=gdp.values"
      ],
      "execution_count": 0,
      "outputs": []
    },
    {
      "cell_type": "code",
      "metadata": {
        "id": "MNKeSOulPo_a",
        "colab_type": "code",
        "colab": {
          "base_uri": "https://localhost:8080/",
          "height": 279
        },
        "outputId": "2201e2cf-d98f-496e-8068-1f66ea2816d0"
      },
      "source": [
        "df.plot(kind='scatter',x='Rank',y='GDP_Per_Capita')\n",
        "plt.show()"
      ],
      "execution_count": 76,
      "outputs": [
        {
          "output_type": "display_data",
          "data": {
            "image/png": "[encoded data removed]",
            "text/plain": [
              "<Figure size 432x288 with 1 Axes>"
            ]
          },
          "metadata": {
            "tags": []
          }
        }
      ]
    },
    {
      "cell_type": "code",
      "metadata": {
        "id": "SzGtm92ESCLf",
        "colab_type": "code",
        "colab": {
          "base_uri": "https://localhost:8080/",
          "height": 265
        },
        "outputId": "d424d0f2-f934-4a89-dcb1-29c5dcdc34a8"
      },
      "source": [
        "plt.scatter(score,gdp,color='Red')\n",
        "plt.show()"
      ],
      "execution_count": 100,
      "outputs": [
        {
          "output_type": "display_data",
          "data": {
            "image/png": "[encoded data removed]",
            "text/plain": [
              "<Figure size 432x288 with 1 Axes>"
            ]
          },
          "metadata": {
            "tags": []
          }
        }
      ]
    },
    {
      "cell_type": "code",
      "metadata": {
        "id": "0YMsUfLlVVPW",
        "colab_type": "code",
        "colab": {
          "base_uri": "https://localhost:8080/",
          "height": 269
        },
        "outputId": "923e4840-71de-4371-fea7-dd0a24e9e2e1"
      },
      "source": [
        "plt.boxplot(score)\n",
        "plt.boxplot(hle)\n",
        "plt.show()"
      ],
      "execution_count": 105,
      "outputs": [
        {
          "output_type": "display_data",
          "data": {
            "image/png": "[encoded data removed]",
            "text/plain": [
              "<Figure size 432x288 with 1 Axes>"
            ]
          },
          "metadata": {
            "tags": []
          }
        }
      ]
    },
    {
      "cell_type": "code",
      "metadata": {
        "id": "JukdRmLJWYWK",
        "colab_type": "code",
        "colab": {}
      },
      "source": [
        "matrix=np.random.randint(1,100,size=[12,12])"
      ],
      "execution_count": 0,
      "outputs": []
    },
    {
      "cell_type": "code",
      "metadata": {
        "id": "0OhGc-_dXXOg",
        "colab_type": "code",
        "colab": {
          "base_uri": "https://localhost:8080/",
          "height": 84
        },
        "outputId": "aea03726-15dc-4e24-8e80-0e589b21c88e"
      },
      "source": [
        "print(matrix)"
      ],
      "execution_count": 116,
      "outputs": [
        {
          "output_type": "stream",
          "text": [
            "[[46 88 75 65 55]\n",
            " [25 88  6 90 48]\n",
            " [39 14 30 70 11]\n",
            " [27 63 14 42 89]]\n"
          ],
          "name": "stdout"
        }
      ]
    },
    {
      "cell_type": "code",
      "metadata": {
        "id": "dXrKiq7kXZsg",
        "colab_type": "code",
        "colab": {
          "base_uri": "https://localhost:8080/",
          "height": 282
        },
        "outputId": "79477f4f-448c-4a5b-fda0-a731477905c0"
      },
      "source": [
        "sb.heatmap(matrix,linewidths=)"
      ],
      "execution_count": 121,
      "outputs": [
        {
          "output_type": "execute_result",
          "data": {
            "text/plain": [
              "<matplotlib.axes._subplots.AxesSubplot at 0x7f987c248898>"
            ]
          },
          "metadata": {
            "tags": []
          },
          "execution_count": 121
        },
        {
          "output_type": "display_data",
          "data": {
            "image/png": "[encoded data removed]",
            "text/plain": [
              "<Figure size 432x288 with 2 Axes>"
            ]
          },
          "metadata": {
            "tags": []
          }
        }
      ]
    },
    {
      "cell_type": "code",
      "metadata": {
        "id": "WLciKcUVYLf6",
        "colab_type": "code",
        "colab": {
          "base_uri": "https://localhost:8080/",
          "height": 269
        },
        "outputId": "a312cd60-90ed-440e-b2f8-b999cd2b45df"
      },
      "source": [
        "sb.heatmap([score_count.index,score_count])\n",
        "plt.show()"
      ],
      "execution_count": 137,
      "outputs": [
        {
          "output_type": "display_data",
          "data": {
            "image/png": "[encoded data removed]",
            "text/plain": [
              "<Figure size 432x288 with 2 Axes>"
            ]
          },
          "metadata": {
            "tags": []
          }
        }
      ]
    },
    {
      "cell_type": "code",
      "metadata": {
        "id": "4gNwKiAbZLJE",
        "colab_type": "code",
        "colab": {
          "base_uri": "https://localhost:8080/",
          "height": 118
        },
        "outputId": "b000b753-a22a-40f0-d3e4-abbcaf23d28e"
      },
      "source": [
        "df1=pd.DataFrame([rank,score,gdp])\n",
        "print(df1)"
      ],
      "execution_count": 151,
      "outputs": [
        {
          "output_type": "stream",
          "text": [
            "                  0      1      2      3    ...      152      153      154      155\n",
            "Rank            1.000  2.000  3.000  4.000  ...  153.000  154.000  155.000  156.000\n",
            "Score           7.000  7.000  7.000  7.000  ...    3.000    3.000    3.000    2.000\n",
            "GDP_Per_Capita  1.305  1.456  1.351  1.343  ...    0.455    0.337    0.024    0.091\n",
            "\n",
            "[3 rows x 156 columns]\n"
          ],
          "name": "stdout"
        }
      ]
    },
    {
      "cell_type": "code",
      "metadata": {
        "id": "_HGfK4KRbHC0",
        "colab_type": "code",
        "colab": {
          "base_uri": "https://localhost:8080/",
          "height": 415
        },
        "outputId": "ab0f4327-ff29-494f-f1a1-e0d875b9ecc6"
      },
      "source": [
        "corr=df.corr()\n",
        "sb.heatmap(corr)\n",
        "plt.show()"
      ],
      "execution_count": 153,
      "outputs": [
        {
          "output_type": "display_data",
          "data": {
            "image/png": "[encoded data removed]",
            "text/plain": [
              "<Figure size 432x288 with 2 Axes>"
            ]
          },
          "metadata": {
            "tags": []
          }
        }
      ]
    },
    {
      "cell_type": "code",
      "metadata": {
        "id": "_2CVUZCFbH-3",
        "colab_type": "code",
        "colab": {
          "base_uri": "https://localhost:8080/",
          "height": 265
        },
        "outputId": "c5d43c7b-3a19-404d-e432-1f14856677a3"
      },
      "source": [
        "sb.violinplot(x=df[['Score','GDP_Per_Capita','Healthy_Life_Expectancy']])\n",
        "plt.show()"
      ],
      "execution_count": 157,
      "outputs": [
        {
          "output_type": "display_data",
          "data": {
            "image/png": "[encoded data removed]",
            "text/plain": [
              "<Figure size 432x288 with 1 Axes>"
            ]
          },
          "metadata": {
            "tags": []
          }
        }
      ]
    },
    {
      "cell_type": "code",
      "metadata": {
        "id": "jdvq3G7Sfz3r",
        "colab_type": "code",
        "colab": {}
      },
      "source": [
        "tips=sb.load_dataset('tips')"
      ],
      "execution_count": 0,
      "outputs": []
    },
    {
      "cell_type": "code",
      "metadata": {
        "id": "NbtffZ7lguoX",
        "colab_type": "code",
        "colab": {
          "base_uri": "https://localhost:8080/",
          "height": 252
        },
        "outputId": "ac9d5672-c29f-4df1-a4e9-1a6a15fa4849"
      },
      "source": [
        "print(tips)"
      ],
      "execution_count": 159,
      "outputs": [
        {
          "output_type": "stream",
          "text": [
            "     total_bill   tip     sex smoker   day    time  size\n",
            "0         16.99  1.01  Female     No   Sun  Dinner     2\n",
            "1         10.34  1.66    Male     No   Sun  Dinner     3\n",
            "2         21.01  3.50    Male     No   Sun  Dinner     3\n",
            "3         23.68  3.31    Male     No   Sun  Dinner     2\n",
            "4         24.59  3.61  Female     No   Sun  Dinner     4\n",
            "..          ...   ...     ...    ...   ...     ...   ...\n",
            "239       29.03  5.92    Male     No   Sat  Dinner     3\n",
            "240       27.18  2.00  Female    Yes   Sat  Dinner     2\n",
            "241       22.67  2.00    Male    Yes   Sat  Dinner     2\n",
            "242       17.82  1.75    Male     No   Sat  Dinner     2\n",
            "243       18.78  3.00  Female     No  Thur  Dinner     2\n",
            "\n",
            "[244 rows x 7 columns]\n"
          ],
          "name": "stdout"
        }
      ]
    },
    {
      "cell_type": "code",
      "metadata": {
        "id": "uSkv92d6gxxL",
        "colab_type": "code",
        "colab": {
          "base_uri": "https://localhost:8080/",
          "height": 151
        },
        "outputId": "dae8dad6-0dba-4b17-d438-f18c8f2c4158"
      },
      "source": [
        "tips.dtypes"
      ],
      "execution_count": 160,
      "outputs": [
        {
          "output_type": "execute_result",
          "data": {
            "text/plain": [
              "total_bill     float64\n",
              "tip            float64\n",
              "sex           category\n",
              "smoker        category\n",
              "day           category\n",
              "time          category\n",
              "size             int64\n",
              "dtype: object"
            ]
          },
          "metadata": {
            "tags": []
          },
          "execution_count": 160
        }
      ]
    },
    {
      "cell_type": "code",
      "metadata": {
        "id": "N3jZ8SWHg0gf",
        "colab_type": "code",
        "colab": {
          "base_uri": "https://localhost:8080/",
          "height": 297
        },
        "outputId": "ceafa06b-83d5-4971-fa33-2d5cc668471c"
      },
      "source": [
        "sb.violinplot(x=tips['total_bill'])"
      ],
      "execution_count": 161,
      "outputs": [
        {
          "output_type": "execute_result",
          "data": {
            "text/plain": [
              "<matplotlib.axes._subplots.AxesSubplot at 0x7f9878e54550>"
            ]
          },
          "metadata": {
            "tags": []
          },
          "execution_count": 161
        },
        {
          "output_type": "display_data",
          "data": {
            "image/png": "[encoded data removed]",
            "text/plain": [
              "<Figure size 432x288 with 1 Axes>"
            ]
          },
          "metadata": {
            "tags": []
          }
        }
      ]
    },
    {
      "cell_type": "code",
      "metadata": {
        "id": "-zzlaJy6hLuJ",
        "colab_type": "code",
        "colab": {
          "base_uri": "https://localhost:8080/",
          "height": 296
        },
        "outputId": "ad26415e-9c7d-4f6e-d388-604a8abd453b"
      },
      "source": [
        "sb.violinplot(x='day',y='total_bill',data=tips)"
      ],
      "execution_count": 183,
      "outputs": [
        {
          "output_type": "execute_result",
          "data": {
            "text/plain": [
              "<matplotlib.axes._subplots.AxesSubplot at 0x7f9878827550>"
            ]
          },
          "metadata": {
            "tags": []
          },
          "execution_count": 183
        },
        {
          "output_type": "display_data",
          "data": {
            "image/png": "[encoded data removed]",
            "text/plain": [
              "<Figure size 432x288 with 1 Axes>"
            ]
          },
          "metadata": {
            "tags": []
          }
        }
      ]
    },
    {
      "cell_type": "code",
      "metadata": {
        "id": "_7YTRsawiout",
        "colab_type": "code",
        "colab": {
          "base_uri": "https://localhost:8080/",
          "height": 252
        },
        "outputId": "b6e2e49a-aa20-4b02-e140-414736089b26"
      },
      "source": [
        "sat=tips[tips['day']=='Sat']\n",
        "print(sat)"
      ],
      "execution_count": 172,
      "outputs": [
        {
          "output_type": "stream",
          "text": [
            "     total_bill   tip     sex smoker  day    time  size\n",
            "19        20.65  3.35    Male     No  Sat  Dinner     3\n",
            "20        17.92  4.08    Male     No  Sat  Dinner     2\n",
            "21        20.29  2.75  Female     No  Sat  Dinner     2\n",
            "22        15.77  2.23  Female     No  Sat  Dinner     2\n",
            "23        39.42  7.58    Male     No  Sat  Dinner     4\n",
            "..          ...   ...     ...    ...  ...     ...   ...\n",
            "238       35.83  4.67  Female     No  Sat  Dinner     3\n",
            "239       29.03  5.92    Male     No  Sat  Dinner     3\n",
            "240       27.18  2.00  Female    Yes  Sat  Dinner     2\n",
            "241       22.67  2.00    Male    Yes  Sat  Dinner     2\n",
            "242       17.82  1.75    Male     No  Sat  Dinner     2\n",
            "\n",
            "[87 rows x 7 columns]\n"
          ],
          "name": "stdout"
        }
      ]
    },
    {
      "cell_type": "code",
      "metadata": {
        "id": "aRGCslW8hqrW",
        "colab_type": "code",
        "colab": {
          "base_uri": "https://localhost:8080/",
          "height": 296
        },
        "outputId": "d7b70411-5420-44a2-e2d4-e11993527589"
      },
      "source": [
        "sb.violinplot(x='day',y='total_bill',data=sat)"
      ],
      "execution_count": 171,
      "outputs": [
        {
          "output_type": "execute_result",
          "data": {
            "text/plain": [
              "<matplotlib.axes._subplots.AxesSubplot at 0x7f9878da6fd0>"
            ]
          },
          "metadata": {
            "tags": []
          },
          "execution_count": 171
        },
        {
          "output_type": "display_data",
          "data": {
            "image/png": "[encoded data removed]",
            "text/plain": [
              "<Figure size 432x288 with 1 Axes>"
            ]
          },
          "metadata": {
            "tags": []
          }
        }
      ]
    },
    {
      "cell_type": "code",
      "metadata": {
        "id": "j6ez01ntiFkT",
        "colab_type": "code",
        "colab": {
          "base_uri": "https://localhost:8080/",
          "height": 296
        },
        "outputId": "9faa6ecd-f830-42b6-d908-37aaee6e167d"
      },
      "source": [
        "sb.violinplot(x='day',y='total_bill',data=tips,hue='smoker',palette='muted')"
      ],
      "execution_count": 174,
      "outputs": [
        {
          "output_type": "execute_result",
          "data": {
            "text/plain": [
              "<matplotlib.axes._subplots.AxesSubplot at 0x7f9878d52f98>"
            ]
          },
          "metadata": {
            "tags": []
          },
          "execution_count": 174
        },
        {
          "output_type": "display_data",
          "data": {
            "image/png": "[encoded data removed]",
            "text/plain": [
              "<Figure size 432x288 with 1 Axes>"
            ]
          },
          "metadata": {
            "tags": []
          }
        }
      ]
    },
    {
      "cell_type": "code",
      "metadata": {
        "id": "WSIkyF89jv01",
        "colab_type": "code",
        "colab": {}
      },
      "source": [
        "sb.violinplot(x='day',y='total_bill',data=tips,hue='smoker',palette='muted')"
      ],
      "execution_count": 0,
      "outputs": []
    },
    {
      "cell_type": "code",
      "metadata": {
        "id": "plAVXo8skrNA",
        "colab_type": "code",
        "colab": {
          "base_uri": "https://localhost:8080/",
          "height": 202
        },
        "outputId": "6f3b59f7-f398-4d55-ca11-2bfcb7462ce9"
      },
      "source": [
        "df.dtypes"
      ],
      "execution_count": 176,
      "outputs": [
        {
          "output_type": "execute_result",
          "data": {
            "text/plain": [
              "Rank                              int64\n",
              "Country                          object\n",
              "Score                             int64\n",
              "GDP_Per_Capita                  float64\n",
              "Social_Support                  float64\n",
              "Healthy_Life_Expectancy         float64\n",
              "Freedom_To_Make_Life_Choices    float64\n",
              "Generosity                      float64\n",
              "Perceptions_Of_Corruption       float64\n",
              "Residual                        float64\n",
              "dtype: object"
            ]
          },
          "metadata": {
            "tags": []
          },
          "execution_count": 176
        }
      ]
    },
    {
      "cell_type": "code",
      "metadata": {
        "id": "vtkGsN-YkyEH",
        "colab_type": "code",
        "colab": {}
      },
      "source": [
        "country=df['Country'].unique()"
      ],
      "execution_count": 0,
      "outputs": []
    },
    {
      "cell_type": "code",
      "metadata": {
        "id": "Yk6XjIoIk6rX",
        "colab_type": "code",
        "colab": {
          "base_uri": "https://localhost:8080/",
          "height": 454
        },
        "outputId": "9dbf42c1-b2a8-4786-9c0c-a1658286d132"
      },
      "source": [
        "print(country)"
      ],
      "execution_count": 178,
      "outputs": [
        {
          "output_type": "stream",
          "text": [
            "['Finland' 'Norway' 'Denmark' 'Iceland' 'Switzerland' 'Netherlands'\n",
            " 'Canada' 'New Zealand' 'Sweden' 'Australia' 'Israel' 'Austria'\n",
            " 'Costa Rica' 'Ireland' 'Germany' 'Belgium' 'Luxembourg' 'United States'\n",
            " 'United Kingdom' 'United Arab Emirates' 'Czech Republic' 'Malta' 'France'\n",
            " 'Mexico' 'Chile' 'Taiwan' 'Panama' 'Brazil' 'Argentina' 'Guatemala'\n",
            " 'Uruguay' 'Qatar' 'Saudi Arabia' 'Singapore' 'Malaysia' 'Spain'\n",
            " 'Colombia' 'Trinidad & Tobago' 'Slovakia' 'El Salvador' 'Nicaragua'\n",
            " 'Poland' 'Bahrain' 'Uzbekistan' 'Kuwait' 'Thailand' 'Italy' 'Ecuador'\n",
            " 'Belize' 'Lithuania' 'Slovenia' 'Romania' 'Latvia' 'Japan' 'Mauritius'\n",
            " 'Jamaica' 'South Korea' 'Northern Cyprus' 'Russia' 'Kazakhstan' 'Cyprus'\n",
            " 'Bolivia' 'Estonia' 'Paraguay' 'Peru' 'Kosovo' 'Moldova' 'Turkmenistan'\n",
            " 'Hungary' 'Libya' 'Philippines' 'Honduras' 'Belarus' 'Turkey' 'Pakistan'\n",
            " 'Hong Kong' 'Portugal' 'Serbia' 'Greece' 'Tajikistan' 'Montenegro'\n",
            " 'Croatia' 'Dominican Republic' 'Algeria' 'Morocco' 'China' 'Azerbaijan'\n",
            " 'Lebanon' 'Macedonia' 'Jordan' 'Nigeria' 'Kyrgyzstan'\n",
            " 'Bosnia and Herzegovina' 'Mongolia' 'Vietnam' 'Indonesia' 'Bhutan'\n",
            " 'Somalia' 'Cameroon' 'Bulgaria' 'Nepal' 'Venezuela' 'Gabon'\n",
            " 'Palestinian Territories' 'South Africa' 'Iran' 'Ivory Coast' 'Ghana'\n",
            " 'Senegal' 'Laos' 'Tunisia' 'Albania' 'Sierra Leone' 'Congo (Brazzaville)'\n",
            " 'Bangladesh' 'Sri Lanka' 'Iraq' 'Mali' 'Namibia' 'Cambodia'\n",
            " 'Burkina Faso' 'Egypt' 'Mozambique' 'Kenya' 'Zambia' 'Mauritania'\n",
            " 'Ethiopia' 'Georgia' 'Armenia' 'Myanmar' 'Chad' 'Congo (Kinshasa)'\n",
            " 'India' 'Niger' 'Uganda' 'Benin' 'Sudan' 'Ukraine' 'Togo' 'Guinea'\n",
            " 'Lesotho' 'Angola' 'Madagascar' 'Zimbabwe' 'Afghanistan' 'Botswana'\n",
            " 'Malawi' 'Haiti' 'Liberia' 'Syria' 'Rwanda' 'Yemen' 'Tanzania'\n",
            " 'South Sudan' 'Central African Republic' 'Burundi']\n"
          ],
          "name": "stdout"
        }
      ]
    },
    {
      "cell_type": "code",
      "metadata": {
        "id": "d_eDSHX-k8tf",
        "colab_type": "code",
        "colab": {}
      },
      "source": [
        "df_new=df[(df['Country']=='Finland') |(df['Country']=='Greece') | (df['Country']=='Australia')]"
      ],
      "execution_count": 0,
      "outputs": []
    },
    {
      "cell_type": "code",
      "metadata": {
        "id": "xaIONVJwlsBp",
        "colab_type": "code",
        "colab": {
          "base_uri": "https://localhost:8080/",
          "height": 156
        },
        "outputId": "b42ab568-b5fc-467c-9573-957338b3cf7b"
      },
      "source": [
        "df_new"
      ],
      "execution_count": 180,
      "outputs": [
        {
          "output_type": "execute_result",
          "data": {
            "text/html": [
              "<div>\n",
              "<style scoped>\n",
              "    .dataframe tbody tr th:only-of-type {\n",
              "        vertical-align: middle;\n",
              "    }\n",
              "\n",
              "    .dataframe tbody tr th {\n",
              "        vertical-align: top;\n",
              "    }\n",
              "\n",
              "    .dataframe thead th {\n",
              "        text-align: right;\n",
              "    }\n",
              "</style>\n",
              "<table border=\"1\" class=\"dataframe\">\n",
              "  <thead>\n",
              "    <tr style=\"text-align: right;\">\n",
              "      <th></th>\n",
              "      <th>Rank</th>\n",
              "      <th>Country</th>\n",
              "      <th>Score</th>\n",
              "      <th>GDP_Per_Capita</th>\n",
              "      <th>Social_Support</th>\n",
              "      <th>Healthy_Life_Expectancy</th>\n",
              "      <th>Freedom_To_Make_Life_Choices</th>\n",
              "      <th>Generosity</th>\n",
              "      <th>Perceptions_Of_Corruption</th>\n",
              "      <th>Residual</th>\n",
              "    </tr>\n",
              "  </thead>\n",
              "  <tbody>\n",
              "    <tr>\n",
              "      <th>0</th>\n",
              "      <td>1</td>\n",
              "      <td>Finland</td>\n",
              "      <td>7</td>\n",
              "      <td>1.305</td>\n",
              "      <td>1.592</td>\n",
              "      <td>0.874</td>\n",
              "      <td>0.681</td>\n",
              "      <td>0.192</td>\n",
              "      <td>0.393</td>\n",
              "      <td>2.988</td>\n",
              "    </tr>\n",
              "    <tr>\n",
              "      <th>9</th>\n",
              "      <td>10</td>\n",
              "      <td>Australia</td>\n",
              "      <td>7</td>\n",
              "      <td>1.340</td>\n",
              "      <td>1.573</td>\n",
              "      <td>0.910</td>\n",
              "      <td>0.647</td>\n",
              "      <td>0.361</td>\n",
              "      <td>0.302</td>\n",
              "      <td>2.441</td>\n",
              "    </tr>\n",
              "    <tr>\n",
              "      <th>78</th>\n",
              "      <td>79</td>\n",
              "      <td>Greece</td>\n",
              "      <td>5</td>\n",
              "      <td>1.154</td>\n",
              "      <td>1.202</td>\n",
              "      <td>0.879</td>\n",
              "      <td>0.131</td>\n",
              "      <td>0.000</td>\n",
              "      <td>0.044</td>\n",
              "      <td>1.992</td>\n",
              "    </tr>\n",
              "  </tbody>\n",
              "</table>\n",
              "</div>"
            ],
            "text/plain": [
              "    Rank    Country  Score  ...  Generosity  Perceptions_Of_Corruption  Residual\n",
              "0      1    Finland      7  ...       0.192                      0.393     2.988\n",
              "9     10  Australia      7  ...       0.361                      0.302     2.441\n",
              "78    79     Greece      5  ...       0.000                      0.044     1.992\n",
              "\n",
              "[3 rows x 10 columns]"
            ]
          },
          "metadata": {
            "tags": []
          },
          "execution_count": 180
        }
      ]
    },
    {
      "cell_type": "code",
      "metadata": {
        "id": "kenUWXfGmGCr",
        "colab_type": "code",
        "colab": {
          "base_uri": "https://localhost:8080/",
          "height": 472
        },
        "outputId": "677d6fa2-d062-4be3-a9fa-c2b8140539f4"
      },
      "source": [
        "df"
      ],
      "execution_count": 185,
      "outputs": [
        {
          "output_type": "execute_result",
          "data": {
            "text/html": [
              "<div>\n",
              "<style scoped>\n",
              "    .dataframe tbody tr th:only-of-type {\n",
              "        vertical-align: middle;\n",
              "    }\n",
              "\n",
              "    .dataframe tbody tr th {\n",
              "        vertical-align: top;\n",
              "    }\n",
              "\n",
              "    .dataframe thead th {\n",
              "        text-align: right;\n",
              "    }\n",
              "</style>\n",
              "<table border=\"1\" class=\"dataframe\">\n",
              "  <thead>\n",
              "    <tr style=\"text-align: right;\">\n",
              "      <th></th>\n",
              "      <th>Rank</th>\n",
              "      <th>Country</th>\n",
              "      <th>Score</th>\n",
              "      <th>GDP_Per_Capita</th>\n",
              "      <th>Social_Support</th>\n",
              "      <th>Healthy_Life_Expectancy</th>\n",
              "      <th>Freedom_To_Make_Life_Choices</th>\n",
              "      <th>Generosity</th>\n",
              "      <th>Perceptions_Of_Corruption</th>\n",
              "      <th>Residual</th>\n",
              "    </tr>\n",
              "  </thead>\n",
              "  <tbody>\n",
              "    <tr>\n",
              "      <th>0</th>\n",
              "      <td>1</td>\n",
              "      <td>Finland</td>\n",
              "      <td>7</td>\n",
              "      <td>1.305</td>\n",
              "      <td>1.592</td>\n",
              "      <td>0.874</td>\n",
              "      <td>0.681</td>\n",
              "      <td>0.192</td>\n",
              "      <td>0.393</td>\n",
              "      <td>2.988</td>\n",
              "    </tr>\n",
              "    <tr>\n",
              "      <th>1</th>\n",
              "      <td>2</td>\n",
              "      <td>Norway</td>\n",
              "      <td>7</td>\n",
              "      <td>1.456</td>\n",
              "      <td>1.582</td>\n",
              "      <td>0.861</td>\n",
              "      <td>0.686</td>\n",
              "      <td>0.286</td>\n",
              "      <td>0.340</td>\n",
              "      <td>2.723</td>\n",
              "    </tr>\n",
              "    <tr>\n",
              "      <th>2</th>\n",
              "      <td>3</td>\n",
              "      <td>Denmark</td>\n",
              "      <td>7</td>\n",
              "      <td>1.351</td>\n",
              "      <td>1.590</td>\n",
              "      <td>0.868</td>\n",
              "      <td>0.683</td>\n",
              "      <td>0.284</td>\n",
              "      <td>0.408</td>\n",
              "      <td>2.779</td>\n",
              "    </tr>\n",
              "    <tr>\n",
              "      <th>3</th>\n",
              "      <td>4</td>\n",
              "      <td>Iceland</td>\n",
              "      <td>7</td>\n",
              "      <td>1.343</td>\n",
              "      <td>1.644</td>\n",
              "      <td>0.914</td>\n",
              "      <td>0.677</td>\n",
              "      <td>0.353</td>\n",
              "      <td>0.138</td>\n",
              "      <td>2.564</td>\n",
              "    </tr>\n",
              "    <tr>\n",
              "      <th>4</th>\n",
              "      <td>5</td>\n",
              "      <td>Switzerland</td>\n",
              "      <td>7</td>\n",
              "      <td>1.420</td>\n",
              "      <td>1.549</td>\n",
              "      <td>0.927</td>\n",
              "      <td>0.660</td>\n",
              "      <td>0.256</td>\n",
              "      <td>0.357</td>\n",
              "      <td>2.675</td>\n",
              "    </tr>\n",
              "    <tr>\n",
              "      <th>...</th>\n",
              "      <td>...</td>\n",
              "      <td>...</td>\n",
              "      <td>...</td>\n",
              "      <td>...</td>\n",
              "      <td>...</td>\n",
              "      <td>...</td>\n",
              "      <td>...</td>\n",
              "      <td>...</td>\n",
              "      <td>...</td>\n",
              "      <td>...</td>\n",
              "    </tr>\n",
              "    <tr>\n",
              "      <th>151</th>\n",
              "      <td>152</td>\n",
              "      <td>Yemen</td>\n",
              "      <td>3</td>\n",
              "      <td>0.442</td>\n",
              "      <td>1.073</td>\n",
              "      <td>0.343</td>\n",
              "      <td>0.244</td>\n",
              "      <td>0.083</td>\n",
              "      <td>0.064</td>\n",
              "      <td>1.170</td>\n",
              "    </tr>\n",
              "    <tr>\n",
              "      <th>152</th>\n",
              "      <td>153</td>\n",
              "      <td>Tanzania</td>\n",
              "      <td>3</td>\n",
              "      <td>0.455</td>\n",
              "      <td>0.991</td>\n",
              "      <td>0.381</td>\n",
              "      <td>0.481</td>\n",
              "      <td>0.270</td>\n",
              "      <td>0.097</td>\n",
              "      <td>0.725</td>\n",
              "    </tr>\n",
              "    <tr>\n",
              "      <th>153</th>\n",
              "      <td>154</td>\n",
              "      <td>South Sudan</td>\n",
              "      <td>3</td>\n",
              "      <td>0.337</td>\n",
              "      <td>0.608</td>\n",
              "      <td>0.177</td>\n",
              "      <td>0.112</td>\n",
              "      <td>0.224</td>\n",
              "      <td>0.106</td>\n",
              "      <td>1.796</td>\n",
              "    </tr>\n",
              "    <tr>\n",
              "      <th>154</th>\n",
              "      <td>155</td>\n",
              "      <td>Central African Republic</td>\n",
              "      <td>3</td>\n",
              "      <td>0.024</td>\n",
              "      <td>0.000</td>\n",
              "      <td>0.010</td>\n",
              "      <td>0.305</td>\n",
              "      <td>0.218</td>\n",
              "      <td>0.038</td>\n",
              "      <td>2.526</td>\n",
              "    </tr>\n",
              "    <tr>\n",
              "      <th>155</th>\n",
              "      <td>156</td>\n",
              "      <td>Burundi</td>\n",
              "      <td>2</td>\n",
              "      <td>0.091</td>\n",
              "      <td>0.627</td>\n",
              "      <td>0.145</td>\n",
              "      <td>0.065</td>\n",
              "      <td>0.149</td>\n",
              "      <td>0.076</td>\n",
              "      <td>1.828</td>\n",
              "    </tr>\n",
              "  </tbody>\n",
              "</table>\n",
              "<p>156 rows × 10 columns</p>\n",
              "</div>"
            ],
            "text/plain": [
              "     Rank                   Country  ...  Perceptions_Of_Corruption  Residual\n",
              "0       1                   Finland  ...                      0.393     2.988\n",
              "1       2                    Norway  ...                      0.340     2.723\n",
              "2       3                   Denmark  ...                      0.408     2.779\n",
              "3       4                   Iceland  ...                      0.138     2.564\n",
              "4       5               Switzerland  ...                      0.357     2.675\n",
              "..    ...                       ...  ...                        ...       ...\n",
              "151   152                     Yemen  ...                      0.064     1.170\n",
              "152   153                  Tanzania  ...                      0.097     0.725\n",
              "153   154               South Sudan  ...                      0.106     1.796\n",
              "154   155  Central African Republic  ...                      0.038     2.526\n",
              "155   156                   Burundi  ...                      0.076     1.828\n",
              "\n",
              "[156 rows x 10 columns]"
            ]
          },
          "metadata": {
            "tags": []
          },
          "execution_count": 185
        }
      ]
    },
    {
      "cell_type": "code",
      "metadata": {
        "id": "rBLJr5YQ4DbW",
        "colab_type": "code",
        "colab": {}
      },
      "source": [
        ""
      ],
      "execution_count": 0,
      "outputs": []
    }
  ]
}