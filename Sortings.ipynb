{
  "nbformat": 4,
  "nbformat_minor": 0,
  "metadata": {
    "colab": {
      "name": "Sortings.ipynb",
      "provenance": [],
      "authorship_tag": "ABX9TyO1w9tztUcpEC75zL75ac7C",
      "include_colab_link": true
    },
    "kernelspec": {
      "name": "python3",
      "display_name": "Python 3"
    }
  },
  "cells": [
    {
      "cell_type": "markdown",
      "metadata": {
        "id": "view-in-github",
        "colab_type": "text"
      },
      "source": [
        "<a href=\"https://colab.research.google.com/github/sagarbhadra7/Python-Programs/blob/master/Sortings.ipynb\" target=\"_parent\"><img src=\"https://colab.research.google.com/assets/colab-badge.svg\" alt=\"Open In Colab\"/></a>"
      ]
    },
    {
      "cell_type": "markdown",
      "metadata": {
        "id": "RZDpcxfUnkaz",
        "colab_type": "text"
      },
      "source": [
        "# Shell Sort"
      ]
    },
    {
      "cell_type": "code",
      "metadata": {
        "id": "jAaDL1DbnlNX",
        "colab_type": "code",
        "colab": {}
      },
      "source": [
        "def shellSort(alist):\n",
        "    sublistcount = len(alist)//2\n",
        "    while sublistcount > 0:\n",
        "      for start_position in range(sublistcount):\n",
        "        gap_InsertionSort(alist, start_position, sublistcount)\n",
        "\n",
        "      print(\"After increments of size\",sublistcount, \"The list is\",nlist)\n",
        "\n",
        "      sublistcount = sublistcount // 2\n",
        "\n",
        "def gap_InsertionSort(nlist,start,gap):\n",
        "    for i in range(start+gap,len(nlist),gap):\n",
        "\n",
        "        current_value = nlist[i]\n",
        "        position = i\n",
        "\n",
        "        while position>=gap and nlist[position-gap]>current_value:\n",
        "            nlist[position]=nlist[position-gap]\n",
        "            position = position-gap\n",
        "\n",
        "        nlist[position]=current_value"
      ],
      "execution_count": 0,
      "outputs": []
    },
    {
      "cell_type": "code",
      "metadata": {
        "id": "yAc_6CChmvts",
        "colab_type": "code",
        "colab": {
          "base_uri": "https://localhost:8080/",
          "height": 101
        },
        "outputId": "faf23ab6-7147-4fec-d794-e2a7b4b87537"
      },
      "source": [
        "nlist =[534,246,933,127,277,321,454,565,220]\n",
        "print(\"Unsorted array is :\",nlist)\n",
        "shellSort(nlist)\n",
        "print(nlist)"
      ],
      "execution_count": 40,
      "outputs": [
        {
          "output_type": "stream",
          "text": [
            "Unsorted array is : [534, 246, 933, 127, 277, 321, 454, 565, 220]\n",
            "After increments of size 4 The list is [220, 246, 454, 127, 277, 321, 933, 565, 534]\n",
            "After increments of size 2 The list is [220, 127, 277, 246, 454, 321, 534, 565, 933]\n",
            "After increments of size 1 The list is [127, 220, 246, 277, 321, 454, 534, 565, 933]\n",
            "[127, 220, 246, 277, 321, 454, 534, 565, 933]\n"
          ],
          "name": "stdout"
        }
      ]
    },
    {
      "cell_type": "markdown",
      "metadata": {
        "id": "sHmnPIfonvD0",
        "colab_type": "text"
      },
      "source": [
        "# Bubble Sort"
      ]
    },
    {
      "cell_type": "code",
      "metadata": {
        "id": "PHBWFRSumwXU",
        "colab_type": "code",
        "colab": {}
      },
      "source": [
        "def bubbleSort(arr): \n",
        "    n = len(arr) \n",
        "  \n",
        "    # Traverse through all array elements \n",
        "    for i in range(n-1): \n",
        "    # range(n) also work but outer loop will repeat one time more than needed. \n",
        "  \n",
        "        # Last i elements are already in place \n",
        "        for j in range(0, n-i-1): \n",
        "  \n",
        "            # traverse the array from 0 to n-i-1 \n",
        "            # Swap if the element found is greater \n",
        "            # than the next element \n",
        "            if arr[j] > arr[j+1] : \n",
        "                arr[j], arr[j+1] = arr[j+1], arr[j] \n",
        "        print(arr)"
      ],
      "execution_count": 0,
      "outputs": []
    },
    {
      "cell_type": "code",
      "metadata": {
        "id": "KlsrzkIUn5Nw",
        "colab_type": "code",
        "colab": {
          "base_uri": "https://localhost:8080/",
          "height": 185
        },
        "outputId": "613de1c4-49b3-4bba-e646-74723514be58"
      },
      "source": [
        "nlist =[534,246,933,127,277,321,454,565,220]\n",
        "print(\"Unsorted array is :\",nlist)\n",
        "bubbleSort(nlist)\n",
        "print(nlist)"
      ],
      "execution_count": 41,
      "outputs": [
        {
          "output_type": "stream",
          "text": [
            "Unsorted array is : [534, 246, 933, 127, 277, 321, 454, 565, 220]\n",
            "[246, 534, 127, 277, 321, 454, 565, 220, 933]\n",
            "[246, 127, 277, 321, 454, 534, 220, 565, 933]\n",
            "[127, 246, 277, 321, 454, 220, 534, 565, 933]\n",
            "[127, 246, 277, 321, 220, 454, 534, 565, 933]\n",
            "[127, 246, 277, 220, 321, 454, 534, 565, 933]\n",
            "[127, 246, 220, 277, 321, 454, 534, 565, 933]\n",
            "[127, 220, 246, 277, 321, 454, 534, 565, 933]\n",
            "[127, 220, 246, 277, 321, 454, 534, 565, 933]\n",
            "[127, 220, 246, 277, 321, 454, 534, 565, 933]\n"
          ],
          "name": "stdout"
        }
      ]
    },
    {
      "cell_type": "markdown",
      "metadata": {
        "id": "0aTPa945ocCv",
        "colab_type": "text"
      },
      "source": [
        "# Selection Sort"
      ]
    },
    {
      "cell_type": "code",
      "metadata": {
        "id": "VcjMuiatn9qv",
        "colab_type": "code",
        "colab": {}
      },
      "source": [
        "def selection_sort(L):\n",
        "    # i indicates how many items were sorted\n",
        "    for i in range(len(L)-1):\n",
        "        # To find the minimum value of the unsorted segment\n",
        "        # We first assume that the first element is the lowest\n",
        "        min_index = i\n",
        "        # We then use j to loop through the remaining elements\n",
        "        for j in range(i+1, len(L)-1):\n",
        "            # Update the min_index if the element at j is lower than it\n",
        "            if L[j] < L[min_index]:\n",
        "                min_index = j\n",
        "        # After finding the lowest item of the unsorted regions, swap with the first unsorted item\n",
        "        L[i], L[min_index] = L[min_index], L[i]\n",
        "        print(L)"
      ],
      "execution_count": 0,
      "outputs": []
    },
    {
      "cell_type": "code",
      "metadata": {
        "id": "NbC2_1JPofT5",
        "colab_type": "code",
        "colab": {
          "base_uri": "https://localhost:8080/",
          "height": 185
        },
        "outputId": "7c6008d0-ced5-43b6-ba4a-a3df544fbd58"
      },
      "source": [
        "nlist =[534,246,933,127,277,321,454,565,220]\n",
        "print(\"Unsorted array is :\",nlist)\n",
        "selection_sort(nlist)\n",
        "print(nlist)"
      ],
      "execution_count": 44,
      "outputs": [
        {
          "output_type": "stream",
          "text": [
            "Unsorted array is : [534, 246, 933, 127, 277, 321, 454, 565, 220]\n",
            "[127, 246, 933, 534, 277, 321, 454, 565, 220]\n",
            "[127, 246, 933, 534, 277, 321, 454, 565, 220]\n",
            "[127, 246, 277, 534, 933, 321, 454, 565, 220]\n",
            "[127, 246, 277, 321, 933, 534, 454, 565, 220]\n",
            "[127, 246, 277, 321, 454, 534, 933, 565, 220]\n",
            "[127, 246, 277, 321, 454, 534, 933, 565, 220]\n",
            "[127, 246, 277, 321, 454, 534, 565, 933, 220]\n",
            "[127, 246, 277, 321, 454, 534, 565, 933, 220]\n",
            "[127, 246, 277, 321, 454, 534, 565, 933, 220]\n"
          ],
          "name": "stdout"
        }
      ]
    },
    {
      "cell_type": "markdown",
      "metadata": {
        "id": "hDIUpn3FpyFd",
        "colab_type": "text"
      },
      "source": [
        "# Insertion Sort"
      ]
    },
    {
      "cell_type": "code",
      "metadata": {
        "id": "z2FFcTafoiXp",
        "colab_type": "code",
        "colab": {}
      },
      "source": [
        "def insertionSort(arr): \n",
        "  \n",
        "    # Traverse through 1 to len(arr) \n",
        "    for i in range(1, len(arr)): \n",
        "  \n",
        "        key = arr[i] \n",
        "  \n",
        "        # Move elements of arr[0..i-1], that are \n",
        "        # greater than key, to one position ahead \n",
        "        # of their current position \n",
        "        j = i-1\n",
        "        while j >=0 and key < arr[j] : \n",
        "                arr[j+1] = arr[j] \n",
        "                j -= 1\n",
        "        arr[j+1] = key \n",
        "        print(arr)\n",
        "  "
      ],
      "execution_count": 0,
      "outputs": []
    },
    {
      "cell_type": "code",
      "metadata": {
        "id": "Han9aKSbp2Dw",
        "colab_type": "code",
        "colab": {
          "base_uri": "https://localhost:8080/",
          "height": 185
        },
        "outputId": "5b44a8c9-2727-4e23-cacf-55498d948d9a"
      },
      "source": [
        "nlist =[534,246,933,127,277,321,454,565,220]\n",
        "print(\"Unsorted array is :\",nlist)\n",
        "insertionSort(nlist)\n",
        "print(nlist)"
      ],
      "execution_count": 49,
      "outputs": [
        {
          "output_type": "stream",
          "text": [
            "Unsorted array is : [534, 246, 933, 127, 277, 321, 454, 565, 220]\n",
            "[246, 534, 933, 127, 277, 321, 454, 565, 220]\n",
            "[246, 534, 933, 127, 277, 321, 454, 565, 220]\n",
            "[127, 246, 534, 933, 277, 321, 454, 565, 220]\n",
            "[127, 246, 277, 534, 933, 321, 454, 565, 220]\n",
            "[127, 246, 277, 321, 534, 933, 454, 565, 220]\n",
            "[127, 246, 277, 321, 454, 534, 933, 565, 220]\n",
            "[127, 246, 277, 321, 454, 534, 565, 933, 220]\n",
            "[127, 220, 246, 277, 321, 454, 534, 565, 933]\n",
            "[127, 220, 246, 277, 321, 454, 534, 565, 933]\n"
          ],
          "name": "stdout"
        }
      ]
    },
    {
      "cell_type": "markdown",
      "metadata": {
        "id": "p3_zCNpw1_dy",
        "colab_type": "text"
      },
      "source": [
        "# Merge Sort"
      ]
    },
    {
      "cell_type": "code",
      "metadata": {
        "id": "mXk2eSH_2BV6",
        "colab_type": "code",
        "colab": {}
      },
      "source": [
        "# Python program for implementation of MergeSort \n",
        "  \n",
        "# Merges two subarrays of arr[]. \n",
        "# First subarray is arr[l..m] \n",
        "# Second subarray is arr[m+1..r] \n",
        "def merge(arr, l, m, r): \n",
        "    n1 = m - l + 1\n",
        "    n2 = r- m \n",
        "  \n",
        "    # create temp arrays \n",
        "    L = [0] * (n1) \n",
        "    R = [0] * (n2) \n",
        "  \n",
        "    # Copy data to temp arrays L[] and R[] \n",
        "    for i in range(0 , n1): \n",
        "        L[i] = arr[l + i] \n",
        "  \n",
        "    for j in range(0 , n2): \n",
        "        R[j] = arr[m + 1 + j] \n",
        "  \n",
        "    # Merge the temp arrays back into arr[l..r] \n",
        "    i = 0     # Initial index of first subarray \n",
        "    j = 0     # Initial index of second subarray \n",
        "    k = l     # Initial index of merged subarray \n",
        "  \n",
        "    while i < n1 and j < n2 : \n",
        "        if L[i] <= R[j]: \n",
        "            arr[k] = L[i] \n",
        "            i += 1\n",
        "        else: \n",
        "            arr[k] = R[j] \n",
        "            j += 1\n",
        "        k += 1\n",
        "  \n",
        "    # Copy the remaining elements of L[], if there \n",
        "    # are any \n",
        "    while i < n1: \n",
        "        arr[k] = L[i] \n",
        "        i += 1\n",
        "        k += 1\n",
        "  \n",
        "    # Copy the remaining elements of R[], if there \n",
        "    # are any \n",
        "    while j < n2: \n",
        "        arr[k] = R[j] \n",
        "        j += 1\n",
        "        k += 1\n",
        "  \n",
        "# l is for left index and r is right index of the \n",
        "# sub-array of arr to be sorted \n",
        "def mergeSort(arr,l,r): \n",
        "    if l < r: \n",
        "  \n",
        "        # Same as (l+r)//2, but avoids overflow for \n",
        "        # large l and h \n",
        "        m = (l+(r-1))//2\n",
        "  \n",
        "        # Sort first and second halves \n",
        "        mergeSort(arr, l, m) \n",
        "        mergeSort(arr, m+1, r) \n",
        "        merge(arr, l, m, r) "
      ],
      "execution_count": 0,
      "outputs": []
    },
    {
      "cell_type": "code",
      "metadata": {
        "id": "yK8mEd6P2B6z",
        "colab_type": "code",
        "colab": {
          "base_uri": "https://localhost:8080/",
          "height": 50
        },
        "outputId": "5d8aedbd-b2bf-4f20-eb65-f2ba6933cad4"
      },
      "source": [
        "nlist =[534,246,933,127,277,321,454,565,220]\n",
        "n = len(nlist) \n",
        "\n",
        "print(\"Unsorted array is :\",nlist)\n",
        "mergeSort(nlist,0,n-1)\n",
        "print(nlist)"
      ],
      "execution_count": 53,
      "outputs": [
        {
          "output_type": "stream",
          "text": [
            "Unsorted array is : [534, 246, 933, 127, 277, 321, 454, 565, 220]\n",
            "[127, 220, 246, 277, 321, 454, 534, 565, 933]\n"
          ],
          "name": "stdout"
        }
      ]
    },
    {
      "cell_type": "code",
      "metadata": {
        "id": "Ucf1SohH2PMC",
        "colab_type": "code",
        "colab": {}
      },
      "source": [
        ""
      ],
      "execution_count": 0,
      "outputs": []
    }
  ]
}