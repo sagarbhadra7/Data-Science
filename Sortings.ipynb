{
  "nbformat": 4,
  "nbformat_minor": 0,
  "metadata": {
    "colab": {
      "name": "Sortings.ipynb",
      "provenance": [],
      "authorship_tag": "ABX9TyO/vAwCfDaP1r+FUAZlp2GA",
      "include_colab_link": true
    },
    "kernelspec": {
      "name": "python3",
      "display_name": "Python 3"
    }
  },
  "cells": [
    {
      "cell_type": "markdown",
      "metadata": {
        "id": "view-in-github",
        "colab_type": "text"
      },
      "source": [
        "<a href=\"https://colab.research.google.com/github/sagarbhadra7/Python-Programs/blob/master/Sortings.ipynb\" target=\"_parent\"><img src=\"https://colab.research.google.com/assets/colab-badge.svg\" alt=\"Open In Colab\"/></a>"
      ]
    },
    {
      "cell_type": "markdown",
      "metadata": {
        "id": "RZDpcxfUnkaz",
        "colab_type": "text"
      },
      "source": [
        "# Shell Sort"
      ]
    },
    {
      "cell_type": "code",
      "metadata": {
        "id": "jAaDL1DbnlNX",
        "colab_type": "code",
        "colab": {}
      },
      "source": [
        "def shellSort(alist):\n",
        "    sublistcount = len(alist)//2\n",
        "    while sublistcount > 0:\n",
        "      for start_position in range(sublistcount):\n",
        "        gap_InsertionSort(alist, start_position, sublistcount)\n",
        "\n",
        "      print(\"After increments of size\",sublistcount, \"The list is\",nlist)\n",
        "\n",
        "      sublistcount = sublistcount // 2\n",
        "\n",
        "def gap_InsertionSort(nlist,start,gap):\n",
        "    for i in range(start+gap,len(nlist),gap):\n",
        "\n",
        "        current_value = nlist[i]\n",
        "        position = i\n",
        "\n",
        "        while position>=gap and nlist[position-gap]>current_value:\n",
        "            nlist[position]=nlist[position-gap]\n",
        "            position = position-gap\n",
        "\n",
        "        nlist[position]=current_value"
      ],
      "execution_count": 0,
      "outputs": []
    },
    {
      "cell_type": "code",
      "metadata": {
        "id": "yAc_6CChmvts",
        "colab_type": "code",
        "colab": {
          "base_uri": "https://localhost:8080/",
          "height": 101
        },
        "outputId": "faf23ab6-7147-4fec-d794-e2a7b4b87537"
      },
      "source": [
        "nlist =[534,246,933,127,277,321,454,565,220]\n",
        "print(\"Unsorted array is :\",nlist)\n",
        "shellSort(nlist)\n",
        "print(nlist)"
      ],
      "execution_count": 40,
      "outputs": [
        {
          "output_type": "stream",
          "text": [
            "Unsorted array is : [534, 246, 933, 127, 277, 321, 454, 565, 220]\n",
            "After increments of size 4 The list is [220, 246, 454, 127, 277, 321, 933, 565, 534]\n",
            "After increments of size 2 The list is [220, 127, 277, 246, 454, 321, 534, 565, 933]\n",
            "After increments of size 1 The list is [127, 220, 246, 277, 321, 454, 534, 565, 933]\n",
            "[127, 220, 246, 277, 321, 454, 534, 565, 933]\n"
          ],
          "name": "stdout"
        }
      ]
    },
    {
      "cell_type": "markdown",
      "metadata": {
        "id": "sHmnPIfonvD0",
        "colab_type": "text"
      },
      "source": [
        "# Bubble Sort"
      ]
    },
    {
      "cell_type": "code",
      "metadata": {
        "id": "PHBWFRSumwXU",
        "colab_type": "code",
        "colab": {}
      },
      "source": [
        "def bubbleSort(arr): \n",
        "    n = len(arr) \n",
        "  \n",
        "    # Traverse through all array elements \n",
        "    for i in range(n-1): \n",
        "    # range(n) also work but outer loop will repeat one time more than needed. \n",
        "  \n",
        "        # Last i elements are already in place \n",
        "        for j in range(0, n-i-1): \n",
        "  \n",
        "            # traverse the array from 0 to n-i-1 \n",
        "            # Swap if the element found is greater \n",
        "            # than the next element \n",
        "            if arr[j] > arr[j+1] : \n",
        "                arr[j], arr[j+1] = arr[j+1], arr[j] \n",
        "        print(arr)"
      ],
      "execution_count": 0,
      "outputs": []
    },
    {
      "cell_type": "code",
      "metadata": {
        "id": "KlsrzkIUn5Nw",
        "colab_type": "code",
        "colab": {
          "base_uri": "https://localhost:8080/",
          "height": 185
        },
        "outputId": "613de1c4-49b3-4bba-e646-74723514be58"
      },
      "source": [
        "nlist =[534,246,933,127,277,321,454,565,220]\n",
        "print(\"Unsorted array is :\",nlist)\n",
        "bubbleSort(nlist)\n",
        "print(nlist)"
      ],
      "execution_count": 41,
      "outputs": [
        {
          "output_type": "stream",
          "text": [
            "Unsorted array is : [534, 246, 933, 127, 277, 321, 454, 565, 220]\n",
            "[246, 534, 127, 277, 321, 454, 565, 220, 933]\n",
            "[246, 127, 277, 321, 454, 534, 220, 565, 933]\n",
            "[127, 246, 277, 321, 454, 220, 534, 565, 933]\n",
            "[127, 246, 277, 321, 220, 454, 534, 565, 933]\n",
            "[127, 246, 277, 220, 321, 454, 534, 565, 933]\n",
            "[127, 246, 220, 277, 321, 454, 534, 565, 933]\n",
            "[127, 220, 246, 277, 321, 454, 534, 565, 933]\n",
            "[127, 220, 246, 277, 321, 454, 534, 565, 933]\n",
            "[127, 220, 246, 277, 321, 454, 534, 565, 933]\n"
          ],
          "name": "stdout"
        }
      ]
    },
    {
      "cell_type": "markdown",
      "metadata": {
        "id": "0aTPa945ocCv",
        "colab_type": "text"
      },
      "source": [
        "# Selection Sort"
      ]
    },
    {
      "cell_type": "code",
      "metadata": {
        "id": "VcjMuiatn9qv",
        "colab_type": "code",
        "colab": {}
      },
      "source": [
        "def selection_sort(L):\n",
        "    # i indicates how many items were sorted\n",
        "    for i in range(len(L)-1):\n",
        "        # To find the minimum value of the unsorted segment\n",
        "        # We first assume that the first element is the lowest\n",
        "        min_index = i\n",
        "        # We then use j to loop through the remaining elements\n",
        "        for j in range(i+1, len(L)-1):\n",
        "            # Update the min_index if the element at j is lower than it\n",
        "            if L[j] < L[min_index]:\n",
        "                min_index = j\n",
        "        # After finding the lowest item of the unsorted regions, swap with the first unsorted item\n",
        "        L[i], L[min_index] = L[min_index], L[i]\n",
        "        print(L)"
      ],
      "execution_count": 0,
      "outputs": []
    },
    {
      "cell_type": "code",
      "metadata": {
        "id": "NbC2_1JPofT5",
        "colab_type": "code",
        "colab": {
          "base_uri": "https://localhost:8080/",
          "height": 185
        },
        "outputId": "7c6008d0-ced5-43b6-ba4a-a3df544fbd58"
      },
      "source": [
        "nlist =[534,246,933,127,277,321,454,565,220]\n",
        "print(\"Unsorted array is :\",nlist)\n",
        "selection_sort(nlist)\n",
        "print(nlist)"
      ],
      "execution_count": 44,
      "outputs": [
        {
          "output_type": "stream",
          "text": [
            "Unsorted array is : [534, 246, 933, 127, 277, 321, 454, 565, 220]\n",
            "[127, 246, 933, 534, 277, 321, 454, 565, 220]\n",
            "[127, 246, 933, 534, 277, 321, 454, 565, 220]\n",
            "[127, 246, 277, 534, 933, 321, 454, 565, 220]\n",
            "[127, 246, 277, 321, 933, 534, 454, 565, 220]\n",
            "[127, 246, 277, 321, 454, 534, 933, 565, 220]\n",
            "[127, 246, 277, 321, 454, 534, 933, 565, 220]\n",
            "[127, 246, 277, 321, 454, 534, 565, 933, 220]\n",
            "[127, 246, 277, 321, 454, 534, 565, 933, 220]\n",
            "[127, 246, 277, 321, 454, 534, 565, 933, 220]\n"
          ],
          "name": "stdout"
        }
      ]
    },
    {
      "cell_type": "markdown",
      "metadata": {
        "id": "hDIUpn3FpyFd",
        "colab_type": "text"
      },
      "source": [
        "# Insertion Sort"
      ]
    },
    {
      "cell_type": "code",
      "metadata": {
        "id": "z2FFcTafoiXp",
        "colab_type": "code",
        "colab": {}
      },
      "source": [
        "def insertionSort(arr): \n",
        "  \n",
        "    # Traverse through 1 to len(arr) \n",
        "    for i in range(1, len(arr)): \n",
        "  \n",
        "        key = arr[i] \n",
        "  \n",
        "        # Move elements of arr[0..i-1], that are \n",
        "        # greater than key, to one position ahead \n",
        "        # of their current position \n",
        "        j = i-1\n",
        "        while j >=0 and key < arr[j] : \n",
        "                arr[j+1] = arr[j] \n",
        "                j -= 1\n",
        "        arr[j+1] = key \n",
        "        print(arr)\n",
        "  "
      ],
      "execution_count": 0,
      "outputs": []
    },
    {
      "cell_type": "code",
      "metadata": {
        "id": "Han9aKSbp2Dw",
        "colab_type": "code",
        "colab": {
          "base_uri": "https://localhost:8080/",
          "height": 185
        },
        "outputId": "5b44a8c9-2727-4e23-cacf-55498d948d9a"
      },
      "source": [
        "nlist =[534,246,933,127,277,321,454,565,220]\n",
        "print(\"Unsorted array is :\",nlist)\n",
        "insertionSort(nlist)\n",
        "print(nlist)"
      ],
      "execution_count": 49,
      "outputs": [
        {
          "output_type": "stream",
          "text": [
            "Unsorted array is : [534, 246, 933, 127, 277, 321, 454, 565, 220]\n",
            "[246, 534, 933, 127, 277, 321, 454, 565, 220]\n",
            "[246, 534, 933, 127, 277, 321, 454, 565, 220]\n",
            "[127, 246, 534, 933, 277, 321, 454, 565, 220]\n",
            "[127, 246, 277, 534, 933, 321, 454, 565, 220]\n",
            "[127, 246, 277, 321, 534, 933, 454, 565, 220]\n",
            "[127, 246, 277, 321, 454, 534, 933, 565, 220]\n",
            "[127, 246, 277, 321, 454, 534, 565, 933, 220]\n",
            "[127, 220, 246, 277, 321, 454, 534, 565, 933]\n",
            "[127, 220, 246, 277, 321, 454, 534, 565, 933]\n"
          ],
          "name": "stdout"
        }
      ]
    },
    {
      "cell_type": "code",
      "metadata": {
        "id": "dm6CTd4Lp5iV",
        "colab_type": "code",
        "colab": {}
      },
      "source": [
        ""
      ],
      "execution_count": 0,
      "outputs": []
    }
  ]
}