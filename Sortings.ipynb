{
  "nbformat": 4,
  "nbformat_minor": 0,
  "metadata": {
    "colab": {
      "name": "Sortings.ipynb",
      "provenance": [],
      "authorship_tag": "ABX9TyO5IC7AP83ppFxKMGTgQ9rr",
      "include_colab_link": true
    },
    "kernelspec": {
      "name": "python3",
      "display_name": "Python 3"
    }
  },
  "cells": [
    {
      "cell_type": "markdown",
      "metadata": {
        "id": "view-in-github",
        "colab_type": "text"
      },
      "source": [
        "<a href=\"https://colab.research.google.com/github/sagarbhadra7/Python-Programs/blob/master/Sortings.ipynb\" target=\"_parent\"><img src=\"https://colab.research.google.com/assets/colab-badge.svg\" alt=\"Open In Colab\"/></a>"
      ]
    },
    {
      "cell_type": "markdown",
      "metadata": {
        "id": "RZDpcxfUnkaz",
        "colab_type": "text"
      },
      "source": [
        "# Shell Sort"
      ]
    },
    {
      "cell_type": "code",
      "metadata": {
        "id": "jAaDL1DbnlNX",
        "colab_type": "code",
        "colab": {}
      },
      "source": [
        "def shellSort(alist):\n",
        "    sublistcount = len(alist)//2\n",
        "    while sublistcount > 0:\n",
        "      for start_position in range(sublistcount):\n",
        "        gap_InsertionSort(alist, start_position, sublistcount)\n",
        "\n",
        "      print(\"After increments of size\",sublistcount, \"The list is\",nlist)\n",
        "\n",
        "      sublistcount = sublistcount // 2\n",
        "\n",
        "def gap_InsertionSort(nlist,start,gap):\n",
        "    for i in range(start+gap,len(nlist),gap):\n",
        "\n",
        "        current_value = nlist[i]\n",
        "        position = i\n",
        "\n",
        "        while position>=gap and nlist[position-gap]>current_value:\n",
        "            nlist[position]=nlist[position-gap]\n",
        "            position = position-gap\n",
        "\n",
        "        nlist[position]=current_value"
      ],
      "execution_count": 0,
      "outputs": []
    },
    {
      "cell_type": "code",
      "metadata": {
        "id": "yAc_6CChmvts",
        "colab_type": "code",
        "outputId": "faf23ab6-7147-4fec-d794-e2a7b4b87537",
        "colab": {
          "base_uri": "https://localhost:8080/",
          "height": 101
        }
      },
      "source": [
        "nlist =[534,246,933,127,277,321,454,565,220]\n",
        "print(\"Unsorted array is :\",nlist)\n",
        "shellSort(nlist)\n",
        "print(\"sorted array is \",nlist)"
      ],
      "execution_count": 0,
      "outputs": [
        {
          "output_type": "stream",
          "text": [
            "Unsorted array is : [534, 246, 933, 127, 277, 321, 454, 565, 220]\n",
            "After increments of size 4 The list is [220, 246, 454, 127, 277, 321, 933, 565, 534]\n",
            "After increments of size 2 The list is [220, 127, 277, 246, 454, 321, 534, 565, 933]\n",
            "After increments of size 1 The list is [127, 220, 246, 277, 321, 454, 534, 565, 933]\n",
            "[127, 220, 246, 277, 321, 454, 534, 565, 933]\n"
          ],
          "name": "stdout"
        }
      ]
    },
    {
      "cell_type": "markdown",
      "metadata": {
        "id": "sHmnPIfonvD0",
        "colab_type": "text"
      },
      "source": [
        "# Bubble Sort"
      ]
    },
    {
      "cell_type": "code",
      "metadata": {
        "id": "PHBWFRSumwXU",
        "colab_type": "code",
        "colab": {}
      },
      "source": [
        "def bubbleSort(arr): \n",
        "    n = len(arr) \n",
        "  \n",
        "    # Traverse through all array elements \n",
        "    for i in range(n-1): \n",
        "    # range(n) also work but outer loop will repeat one time more than needed. \n",
        "  \n",
        "        # Last i elements are already in place \n",
        "        for j in range(0, n-i-1): \n",
        "  \n",
        "            # traverse the array from 0 to n-i-1 \n",
        "            # Swap if the element found is greater \n",
        "            # than the next element \n",
        "            if arr[j] > arr[j+1] : \n",
        "                arr[j], arr[j+1] = arr[j+1], arr[j] \n",
        "        print(arr)"
      ],
      "execution_count": 0,
      "outputs": []
    },
    {
      "cell_type": "code",
      "metadata": {
        "id": "KlsrzkIUn5Nw",
        "colab_type": "code",
        "outputId": "613de1c4-49b3-4bba-e646-74723514be58",
        "colab": {
          "base_uri": "https://localhost:8080/",
          "height": 185
        }
      },
      "source": [
        "nlist =[534,246,933,127,277,321,454,565,220]\n",
        "print(\"Unsorted array is :\",nlist)\n",
        "bubbleSort(nlist)\n",
        "print(\"sorted array is \",nlist)"
      ],
      "execution_count": 0,
      "outputs": [
        {
          "output_type": "stream",
          "text": [
            "Unsorted array is : [534, 246, 933, 127, 277, 321, 454, 565, 220]\n",
            "[246, 534, 127, 277, 321, 454, 565, 220, 933]\n",
            "[246, 127, 277, 321, 454, 534, 220, 565, 933]\n",
            "[127, 246, 277, 321, 454, 220, 534, 565, 933]\n",
            "[127, 246, 277, 321, 220, 454, 534, 565, 933]\n",
            "[127, 246, 277, 220, 321, 454, 534, 565, 933]\n",
            "[127, 246, 220, 277, 321, 454, 534, 565, 933]\n",
            "[127, 220, 246, 277, 321, 454, 534, 565, 933]\n",
            "[127, 220, 246, 277, 321, 454, 534, 565, 933]\n",
            "[127, 220, 246, 277, 321, 454, 534, 565, 933]\n"
          ],
          "name": "stdout"
        }
      ]
    },
    {
      "cell_type": "markdown",
      "metadata": {
        "id": "0aTPa945ocCv",
        "colab_type": "text"
      },
      "source": [
        "# Selection Sort"
      ]
    },
    {
      "cell_type": "code",
      "metadata": {
        "id": "VcjMuiatn9qv",
        "colab_type": "code",
        "colab": {}
      },
      "source": [
        "def selection_sort(L):\n",
        "    # i indicates how many items were sorted\n",
        "    for i in range(len(L)-1):\n",
        "        # To find the minimum value of the unsorted segment\n",
        "        # We first assume that the first element is the lowest\n",
        "        min_index = i\n",
        "        # We then use j to loop through the remaining elements\n",
        "        for j in range(i+1, len(L)-1):\n",
        "            # Update the min_index if the element at j is lower than it\n",
        "            if L[j] < L[min_index]:\n",
        "                min_index = j\n",
        "        # After finding the lowest item of the unsorted regions, swap with the first unsorted item\n",
        "        L[i], L[min_index] = L[min_index], L[i]\n",
        "        print(L)"
      ],
      "execution_count": 0,
      "outputs": []
    },
    {
      "cell_type": "code",
      "metadata": {
        "id": "NbC2_1JPofT5",
        "colab_type": "code",
        "outputId": "7c6008d0-ced5-43b6-ba4a-a3df544fbd58",
        "colab": {
          "base_uri": "https://localhost:8080/",
          "height": 185
        }
      },
      "source": [
        "nlist =[534,246,933,127,277,321,454,565,220]\n",
        "print(\"Unsorted array is :\",nlist)\n",
        "selection_sort(nlist)\n",
        "print(\"sorted array is \",nlist)"
      ],
      "execution_count": 0,
      "outputs": [
        {
          "output_type": "stream",
          "text": [
            "Unsorted array is : [534, 246, 933, 127, 277, 321, 454, 565, 220]\n",
            "[127, 246, 933, 534, 277, 321, 454, 565, 220]\n",
            "[127, 246, 933, 534, 277, 321, 454, 565, 220]\n",
            "[127, 246, 277, 534, 933, 321, 454, 565, 220]\n",
            "[127, 246, 277, 321, 933, 534, 454, 565, 220]\n",
            "[127, 246, 277, 321, 454, 534, 933, 565, 220]\n",
            "[127, 246, 277, 321, 454, 534, 933, 565, 220]\n",
            "[127, 246, 277, 321, 454, 534, 565, 933, 220]\n",
            "[127, 246, 277, 321, 454, 534, 565, 933, 220]\n",
            "[127, 246, 277, 321, 454, 534, 565, 933, 220]\n"
          ],
          "name": "stdout"
        }
      ]
    },
    {
      "cell_type": "markdown",
      "metadata": {
        "id": "hDIUpn3FpyFd",
        "colab_type": "text"
      },
      "source": [
        "# Insertion Sort"
      ]
    },
    {
      "cell_type": "code",
      "metadata": {
        "id": "z2FFcTafoiXp",
        "colab_type": "code",
        "colab": {}
      },
      "source": [
        "def insertionSort(arr): \n",
        "  \n",
        "    # Traverse through 1 to len(arr) \n",
        "    for i in range(1, len(arr)): \n",
        "  \n",
        "        key = arr[i] \n",
        "  \n",
        "        # Move elements of arr[0..i-1], that are \n",
        "        # greater than key, to one position ahead \n",
        "        # of their current position \n",
        "        j = i-1\n",
        "        while j >=0 and key < arr[j] : \n",
        "                arr[j+1] = arr[j] \n",
        "                j -= 1\n",
        "        arr[j+1] = key \n",
        "        print(arr)\n",
        "  "
      ],
      "execution_count": 0,
      "outputs": []
    },
    {
      "cell_type": "code",
      "metadata": {
        "id": "Han9aKSbp2Dw",
        "colab_type": "code",
        "outputId": "5b44a8c9-2727-4e23-cacf-55498d948d9a",
        "colab": {
          "base_uri": "https://localhost:8080/",
          "height": 185
        }
      },
      "source": [
        "nlist =[534,246,933,127,277,321,454,565,220]\n",
        "print(\"Unsorted array is :\",nlist)\n",
        "insertionSort(nlist)\n",
        "print(\"sorted array is \",nlist)"
      ],
      "execution_count": 0,
      "outputs": [
        {
          "output_type": "stream",
          "text": [
            "Unsorted array is : [534, 246, 933, 127, 277, 321, 454, 565, 220]\n",
            "[246, 534, 933, 127, 277, 321, 454, 565, 220]\n",
            "[246, 534, 933, 127, 277, 321, 454, 565, 220]\n",
            "[127, 246, 534, 933, 277, 321, 454, 565, 220]\n",
            "[127, 246, 277, 534, 933, 321, 454, 565, 220]\n",
            "[127, 246, 277, 321, 534, 933, 454, 565, 220]\n",
            "[127, 246, 277, 321, 454, 534, 933, 565, 220]\n",
            "[127, 246, 277, 321, 454, 534, 565, 933, 220]\n",
            "[127, 220, 246, 277, 321, 454, 534, 565, 933]\n",
            "[127, 220, 246, 277, 321, 454, 534, 565, 933]\n"
          ],
          "name": "stdout"
        }
      ]
    },
    {
      "cell_type": "markdown",
      "metadata": {
        "id": "p3_zCNpw1_dy",
        "colab_type": "text"
      },
      "source": [
        "# Merge Sort"
      ]
    },
    {
      "cell_type": "code",
      "metadata": {
        "id": "mXk2eSH_2BV6",
        "colab_type": "code",
        "colab": {}
      },
      "source": [
        "# Python program for implementation of MergeSort \n",
        "  \n",
        "# Merges two subarrays of arr[]. \n",
        "# First subarray is arr[l..m] \n",
        "# Second subarray is arr[m+1..r] \n",
        "def merge(arr, l, m, r): \n",
        "    n1 = m - l + 1\n",
        "    n2 = r- m \n",
        "  \n",
        "    # create temp arrays \n",
        "    L = [0] * (n1) \n",
        "    R = [0] * (n2) \n",
        "  \n",
        "    # Copy data to temp arrays L[] and R[] \n",
        "    for i in range(0 , n1): \n",
        "        L[i] = arr[l + i] \n",
        "  \n",
        "    for j in range(0 , n2): \n",
        "        R[j] = arr[m + 1 + j] \n",
        "  \n",
        "    # Merge the temp arrays back into arr[l..r] \n",
        "    i = 0     # Initial index of first subarray \n",
        "    j = 0     # Initial index of second subarray \n",
        "    k = l     # Initial index of merged subarray \n",
        "  \n",
        "    while i < n1 and j < n2 : \n",
        "        if L[i] <= R[j]: \n",
        "            arr[k] = L[i] \n",
        "            i += 1\n",
        "        else: \n",
        "            arr[k] = R[j] \n",
        "            j += 1\n",
        "        k += 1\n",
        "  \n",
        "    # Copy the remaining elements of L[], if there \n",
        "    # are any \n",
        "    while i < n1: \n",
        "        arr[k] = L[i] \n",
        "        i += 1\n",
        "        k += 1\n",
        "  \n",
        "    # Copy the remaining elements of R[], if there \n",
        "    # are any \n",
        "    while j < n2: \n",
        "        arr[k] = R[j] \n",
        "        j += 1\n",
        "        k += 1\n",
        "  \n",
        "# l is for left index and r is right index of the \n",
        "# sub-array of arr to be sorted \n",
        "def mergeSort(arr,l,r): \n",
        "    if l < r: \n",
        "  \n",
        "        # Same as (l+r)//2, but avoids overflow for \n",
        "        # large l and h \n",
        "        m = (l+(r-1))//2\n",
        "  \n",
        "        # Sort first and second halves \n",
        "        mergeSort(arr, l, m) \n",
        "        mergeSort(arr, m+1, r) \n",
        "        merge(arr, l, m, r) "
      ],
      "execution_count": 0,
      "outputs": []
    },
    {
      "cell_type": "code",
      "metadata": {
        "id": "yK8mEd6P2B6z",
        "colab_type": "code",
        "outputId": "5d8aedbd-b2bf-4f20-eb65-f2ba6933cad4",
        "colab": {
          "base_uri": "https://localhost:8080/",
          "height": 50
        }
      },
      "source": [
        "nlist =[534,246,933,127,277,321,454,565,220]\n",
        "n = len(nlist) \n",
        "\n",
        "print(\"Unsorted array is :\",nlist)\n",
        "mergeSort(nlist,0,n-1)\n",
        "print(\"sorted array is \",nlist)"
      ],
      "execution_count": 0,
      "outputs": [
        {
          "output_type": "stream",
          "text": [
            "Unsorted array is : [534, 246, 933, 127, 277, 321, 454, 565, 220]\n",
            "[127, 220, 246, 277, 321, 454, 534, 565, 933]\n"
          ],
          "name": "stdout"
        }
      ]
    },
    {
      "cell_type": "markdown",
      "metadata": {
        "id": "t11FidOu74-v",
        "colab_type": "text"
      },
      "source": [
        "# Heap sort"
      ]
    },
    {
      "cell_type": "code",
      "metadata": {
        "id": "Ucf1SohH2PMC",
        "colab_type": "code",
        "colab": {}
      },
      "source": [
        "# Python program for implementation of heap Sort \n",
        "  \n",
        "# To heapify subtree rooted at index i. \n",
        "# n is size of heap \n",
        "def heapify(arr, n, i): \n",
        "    largest = i  # Initialize largest as root \n",
        "    l = 2 * i + 1     # left = 2*i + 1 \n",
        "    r = 2 * i + 2     # right = 2*i + 2 \n",
        "  \n",
        "    # See if left child of root exists and is \n",
        "    # greater than root \n",
        "    if l < n and arr[i] < arr[l]: \n",
        "        largest = l \n",
        "  \n",
        "    # See if right child of root exists and is \n",
        "    # greater than root \n",
        "    if r < n and arr[largest] < arr[r]: \n",
        "        largest = r \n",
        "  \n",
        "    # Change root, if needed \n",
        "    if largest != i: \n",
        "        arr[i],arr[largest] = arr[largest],arr[i]  # swap \n",
        "  \n",
        "        # Heapify the root. \n",
        "        heapify(arr, n, largest) \n",
        "  \n",
        "# The main function to sort an array of given size \n",
        "def heapSort(arr): \n",
        "    n = len(arr) \n",
        "  \n",
        "    # Build a maxheap. \n",
        "    for i in range(n, -1, -1): \n",
        "        heapify(arr, n, i)\n",
        "    print(\"Heap array :\",arr)\n",
        "  \n",
        "    # One by one extract elements \n",
        "    for i in range(n-1, 0, -1): \n",
        "        arr[i], arr[0] = arr[0], arr[i]   # swap \n",
        "        heapify(arr, i, 0)\n",
        "        print(\"Heap trial \",i,arr)"
      ],
      "execution_count": 0,
      "outputs": []
    },
    {
      "cell_type": "code",
      "metadata": {
        "id": "__a4lZ9o77e1",
        "colab_type": "code",
        "outputId": "1d789eb3-a888-48e5-e22c-26d5ededcfa9",
        "colab": {
          "base_uri": "https://localhost:8080/",
          "height": 202
        }
      },
      "source": [
        "nlist =[534,246,933,127,277,321,454,565,220]\n",
        "print(\"Unsorted array is :\",nlist)\n",
        "heapSort(nlist)\n",
        "print(\"sorted array is \",nlist)"
      ],
      "execution_count": 0,
      "outputs": [
        {
          "output_type": "stream",
          "text": [
            "Unsorted array is : [534, 246, 933, 127, 277, 321, 454, 565, 220]\n",
            "Heap array : [933, 565, 534, 246, 277, 321, 454, 127, 220]\n",
            "Heap trial  8 [565, 277, 534, 246, 220, 321, 454, 127, 933]\n",
            "Heap trial  7 [534, 277, 454, 246, 220, 321, 127, 565, 933]\n",
            "Heap trial  6 [454, 277, 321, 246, 220, 127, 534, 565, 933]\n",
            "Heap trial  5 [321, 277, 127, 246, 220, 454, 534, 565, 933]\n",
            "Heap trial  4 [277, 246, 127, 220, 321, 454, 534, 565, 933]\n",
            "Heap trial  3 [246, 220, 127, 277, 321, 454, 534, 565, 933]\n",
            "Heap trial  2 [220, 127, 246, 277, 321, 454, 534, 565, 933]\n",
            "Heap trial  1 [127, 220, 246, 277, 321, 454, 534, 565, 933]\n",
            "sorted array is  [127, 220, 246, 277, 321, 454, 534, 565, 933]\n"
          ],
          "name": "stdout"
        }
      ]
    },
    {
      "cell_type": "markdown",
      "metadata": {
        "id": "srYibq2_jPMC",
        "colab_type": "text"
      },
      "source": [
        "# Quick Sort"
      ]
    },
    {
      "cell_type": "code",
      "metadata": {
        "id": "dosRE_NI8H3N",
        "colab_type": "code",
        "colab": {}
      },
      "source": [
        "# This function takes last element as pivot, places \n",
        "# the pivot element at its correct position in sorted \n",
        "# array, and places all smaller (smaller than pivot) \n",
        "# to left of pivot and all greater elements to right \n",
        "# of pivot \n",
        "def partition(arr,low,high): \n",
        "    i = ( low-1 )         # index of smaller element \n",
        "    pivot = arr[high]     # pivot \n",
        "  \n",
        "    for j in range(low , high): \n",
        "  \n",
        "        # If current element is smaller than or \n",
        "        # equal to pivot \n",
        "        if   arr[j] <= pivot: \n",
        "          \n",
        "            # increment index of smaller element \n",
        "            i = i+1 \n",
        "            arr[i],arr[j] = arr[j],arr[i] \n",
        "  \n",
        "    arr[i+1],arr[high] = arr[high],arr[i+1] \n",
        "    return ( i+1 ) \n",
        "  \n",
        "# The main function that implements QuickSort \n",
        "# arr[] --> Array to be sorted, \n",
        "# low  --> Starting index, \n",
        "# high  --> Ending index \n",
        "  \n",
        "# Function to do Quick sort \n",
        "def quickSort(arr,low,high): \n",
        "    if low < high:\n",
        "        print(\"Qick sort trials \",arr)\n",
        "        # pi is partitioning index, arr[p] is now \n",
        "        # at right place \n",
        "        pi = partition(arr,low,high) \n",
        "  \n",
        "        # Separately sort elements before \n",
        "        # partition and after partition \n",
        "        quickSort(arr, low, pi-1) \n",
        "        quickSort(arr, pi+1, high) \n",
        "  "
      ],
      "execution_count": 0,
      "outputs": []
    },
    {
      "cell_type": "code",
      "metadata": {
        "id": "hb_hypofnIER",
        "colab_type": "code",
        "outputId": "42d55924-2969-4187-f686-1904448fe85a",
        "colab": {
          "base_uri": "https://localhost:8080/",
          "height": 151
        }
      },
      "source": [
        "nlist =[534,246,933,127,277,321,454,565,220]\n",
        "n = len(nlist) \n",
        "\n",
        "print(\"Unsorted array is :\",nlist)\n",
        "quickSort(nlist,0,n-1)\n",
        "print(\"sorted array is \",nlist)"
      ],
      "execution_count": 0,
      "outputs": [
        {
          "output_type": "stream",
          "text": [
            "Unsorted array is : [534, 246, 933, 127, 277, 321, 454, 565, 220]\n",
            "Qick sort trials  [534, 246, 933, 127, 277, 321, 454, 565, 220]\n",
            "Qick sort trials  [127, 220, 933, 534, 277, 321, 454, 565, 246]\n",
            "Qick sort trials  [127, 220, 246, 534, 277, 321, 454, 565, 933]\n",
            "Qick sort trials  [127, 220, 246, 534, 277, 321, 454, 565, 933]\n",
            "Qick sort trials  [127, 220, 246, 534, 277, 321, 454, 565, 933]\n",
            "Qick sort trials  [127, 220, 246, 277, 321, 454, 534, 565, 933]\n",
            "sorted array is  [127, 220, 246, 277, 321, 454, 534, 565, 933]\n"
          ],
          "name": "stdout"
        }
      ]
    },
    {
      "cell_type": "markdown",
      "metadata": {
        "id": "7LFDVy1z82Zj",
        "colab_type": "text"
      },
      "source": [
        "# Tree Sort"
      ]
    },
    {
      "cell_type": "code",
      "metadata": {
        "id": "9rSTL9qWnST_",
        "colab_type": "code",
        "colab": {}
      },
      "source": [
        "class BSTNode:\n",
        "    def __init__(self, key):\n",
        "        self.key = key\n",
        "        self.left = None\n",
        "        self.right = None\n",
        "        self.parent = None\n",
        " \n",
        "    def insert(self, node):\n",
        "        if self.key > node.key:\n",
        "            if self.left is None:\n",
        "                self.left = node\n",
        "                node.parent = self\n",
        "            else:\n",
        "                self.left.insert(node)\n",
        "        elif self.key <= node.key:\n",
        "            if self.right is None:\n",
        "                self.right = node\n",
        "                node.parent = self\n",
        "            else:\n",
        "                self.right.insert(node)\n",
        " \n",
        "    def inorder(self):\n",
        "        if self.left is not None:\n",
        "            self.left.inorder()\n",
        "        print(self.key, end=' ')\n",
        "        if self.right is not None:\n",
        "            self.right.inorder()\n",
        " \n",
        " \n",
        "class BSTree:\n",
        "    def __init__(self):\n",
        "        self.root = None\n",
        " \n",
        "    def inorder(self):\n",
        "        if self.root is not None:\n",
        "            self.root.inorder()\n",
        " \n",
        "    def add(self, key):\n",
        "        new_node = BSTNode(key)\n",
        "        if self.root is None:\n",
        "            self.root = new_node\n",
        "        else:\n",
        "            self.root.insert(new_node)"
      ],
      "execution_count": 0,
      "outputs": []
    },
    {
      "cell_type": "code",
      "metadata": {
        "id": "LLOfYKqP85Lj",
        "colab_type": "code",
        "outputId": "207d54a6-cde5-4090-90fc-0bc23c7da668",
        "colab": {
          "base_uri": "https://localhost:8080/",
          "height": 50
        }
      },
      "source": [
        "bstree = BSTree()\n",
        "alist = [534,246,933,127,277,321,454,565,220]\n",
        "print(\"Unsorted array is :\",alist)\n",
        "\n",
        "alist = [int(x) for x in alist]\n",
        "for x in alist:\n",
        "    bstree.add(x)\n",
        "print('Sorted list: ', end='')\n",
        "bstree.inorder()"
      ],
      "execution_count": 0,
      "outputs": [
        {
          "output_type": "stream",
          "text": [
            "Unsorted array is : [534, 246, 933, 127, 277, 321, 454, 565, 220]\n",
            "Sorted list: 127 220 246 277 321 454 534 565 933 "
          ],
          "name": "stdout"
        }
      ]
    },
    {
      "cell_type": "markdown",
      "metadata": {
        "id": "BKRAw_7uEhTC",
        "colab_type": "text"
      },
      "source": [
        "#Linear Sorting Algorithm"
      ]
    },
    {
      "cell_type": "markdown",
      "metadata": {
        "id": "CR_UIiMpEnOG",
        "colab_type": "text"
      },
      "source": [
        "# Counting Sort"
      ]
    },
    {
      "cell_type": "code",
      "metadata": {
        "id": "xoMT_KOw9KBZ",
        "colab_type": "code",
        "colab": {}
      },
      "source": [
        "# Counting sort in Python programming\n",
        "\n",
        "\n",
        "def countingSort(array):\n",
        "    size = len(array)\n",
        "    output = [0] * size\n",
        "\n",
        "    # Initialize count array\n",
        "    count = [0] * 10\n",
        "\n",
        "    # Store the count of each elements in count array\n",
        "    for i in range(0, size+1):\n",
        "        count[array[i]] += 1\n",
        "\n",
        "    # Store the cummulative count\n",
        "    for i in range(1, size):\n",
        "        count[i] += count[i - 1]\n",
        "\n",
        "    # Find the index of each element of the original array in count array\n",
        "    # place the elements in output array\n",
        "    i = size - 1\n",
        "    while i >= 0:\n",
        "        output[count[array[i]] - 1] = array[i]\n",
        "        count[array[i]] -= 1\n",
        "        i -= 1\n",
        "\n",
        "    # Copy the sorted elements into original array\n",
        "    for i in range(0, size):\n",
        "        array[i] = output[i]\n"
      ],
      "execution_count": 0,
      "outputs": []
    },
    {
      "cell_type": "code",
      "metadata": {
        "id": "sEUjJyJdGyVC",
        "colab_type": "code",
        "colab": {}
      },
      "source": [
        "def counting_sort(the_list, max_value):\n",
        "    \n",
        "    # Count the number of times each value appears.\n",
        "    # counts[0] stores the number of 0's in the input\n",
        "    # counts[4] stores the number of 4's in the input\n",
        "    # etc.\n",
        "    counts = [0] * (max_value + 1)\n",
        "    for item in the_list:\n",
        "        counts[item] += 1\n",
        "\n",
        "    # Overwrite counts to hold the next index an item with\n",
        "    # a given value goes. So, counts[4] will now store the index\n",
        "    # where the next 4 goes, not the number of 4's our\n",
        "    # list has.\n",
        "    num_items_before = 0\n",
        "    for i, count in enumerate(counts):\n",
        "        counts[i] = num_items_before\n",
        "        num_items_before += count\n",
        "\n",
        "    # Output list to be filled in\n",
        "    sorted_list = [None] * len(the_list)\n",
        "\n",
        "    # Run through the input list\n",
        "    for item in the_list:\n",
        "        \n",
        "        # Place the item in the sorted list\n",
        "        sorted_list[ counts[item] ] = item\n",
        "\n",
        "        # And, make sure the next item we see with the same value\n",
        "        # goes after the one we just placed\n",
        "        counts[item] += 1\n",
        "\n",
        "    return sorted_list"
      ],
      "execution_count": 0,
      "outputs": []
    },
    {
      "cell_type": "code",
      "metadata": {
        "id": "spC4AhbzErQ8",
        "colab_type": "code",
        "outputId": "44418096-f96b-4a33-8604-9f6a020b5727",
        "colab": {
          "base_uri": "https://localhost:8080/",
          "height": 50
        }
      },
      "source": [
        "nlist =[534,246,933,127,277,321,454,565,220]\n",
        "print(\"Unsorted array is :\",nlist)\n",
        "nlist1=counting_sort(nlist,933)\n",
        "print(\"sorted array is \",nlist1)"
      ],
      "execution_count": 0,
      "outputs": [
        {
          "output_type": "stream",
          "text": [
            "Unsorted array is : [534, 246, 933, 127, 277, 321, 454, 565, 220]\n",
            "sorted array is  [127, 220, 246, 277, 321, 454, 534, 565, 933]\n"
          ],
          "name": "stdout"
        }
      ]
    },
    {
      "cell_type": "markdown",
      "metadata": {
        "id": "NmYzewDLMvyO",
        "colab_type": "text"
      },
      "source": [
        "# Radix Sort"
      ]
    },
    {
      "cell_type": "code",
      "metadata": {
        "id": "b6auSaBbNBX-",
        "colab_type": "code",
        "colab": {}
      },
      "source": [
        "# Radix sort in Python\n",
        "\n",
        "\n",
        "# Using counting sort to sort the elements in the basis of significant places\n",
        "def countingSort(array, place):\n",
        "    size = len(array)\n",
        "    output = [0] * size\n",
        "    count = [0] * 10\n",
        "\n",
        "    # Calculate count of elements\n",
        "    for i in range(0, size):\n",
        "        index = array[i] // place\n",
        "        count[index % 10] += 1\n",
        "\n",
        "    # Calculate cummulative count\n",
        "    for i in range(1, 10):\n",
        "        count[i] += count[i - 1]\n",
        "\n",
        "    # Place the elements in sorted order\n",
        "    i = size - 1\n",
        "    while i >= 0:\n",
        "        index = array[i] // place\n",
        "        output[count[index % 10] - 1] = array[i]\n",
        "        count[index % 10] -= 1\n",
        "        i -= 1\n",
        "\n",
        "    for i in range(0, size):\n",
        "        array[i] = output[i]\n",
        "\n",
        "\n",
        "# Main function to implement radix sort\n",
        "def radixSort(array):\n",
        "    # Get maximum element\n",
        "    max_element = max(array)\n",
        "\n",
        "    # Apply counting sort to sort elements based on place value.\n",
        "    place = 1\n",
        "    while max_element // place > 0:\n",
        "        countingSort(array, place)\n",
        "        place *= 10\n",
        "        print(\"Radix sort trials : \",array)"
      ],
      "execution_count": 0,
      "outputs": []
    },
    {
      "cell_type": "code",
      "metadata": {
        "id": "gual-B1_OQim",
        "colab_type": "code",
        "colab": {
          "base_uri": "https://localhost:8080/",
          "height": 101
        },
        "outputId": "a461370e-833d-474d-d56d-42519b99759c"
      },
      "source": [
        "nlist =[534,246,933,127,277,321,454,565,220]\n",
        "print(\"Unsorted array is :\",nlist)\n",
        "radixSort(nlist)\n",
        "print(\"sorted array is \",nlist)"
      ],
      "execution_count": 16,
      "outputs": [
        {
          "output_type": "stream",
          "text": [
            "Unsorted array is : [534, 246, 933, 127, 277, 321, 454, 565, 220]\n",
            "Radix sort trials :  [220, 321, 933, 534, 454, 565, 246, 127, 277]\n",
            "Radix sort trials :  [220, 321, 127, 933, 534, 246, 454, 565, 277]\n",
            "Radix sort trials :  [127, 220, 246, 277, 321, 454, 534, 565, 933]\n",
            "sorted array is  [127, 220, 246, 277, 321, 454, 534, 565, 933]\n"
          ],
          "name": "stdout"
        }
      ]
    },
    {
      "cell_type": "code",
      "metadata": {
        "id": "opNdHxOtOXCn",
        "colab_type": "code",
        "colab": {}
      },
      "source": [
        ""
      ],
      "execution_count": 0,
      "outputs": []
    }
  ]
}