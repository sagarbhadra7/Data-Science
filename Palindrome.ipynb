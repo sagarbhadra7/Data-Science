{
  "nbformat": 4,
  "nbformat_minor": 0,
  "metadata": {
    "colab": {
      "name": "Palindrome.ipynb",
      "provenance": [],
      "authorship_tag": "ABX9TyO69VLBbnBkE4wX5pno/MGi",
      "include_colab_link": true
    },
    "kernelspec": {
      "name": "python3",
      "display_name": "Python 3"
    }
  },
  "cells": [
    {
      "cell_type": "markdown",
      "metadata": {
        "id": "view-in-github",
        "colab_type": "text"
      },
      "source": [
        "<a href=\"https://colab.research.google.com/github/sagarbhadra7/Python-Programs/blob/master/Palindrome.ipynb\" target=\"_parent\"><img src=\"https://colab.research.google.com/assets/colab-badge.svg\" alt=\"Open In Colab\"/></a>"
      ]
    },
    {
      "cell_type": "code",
      "metadata": {
        "id": "51VG5saf5vKk",
        "colab_type": "code",
        "colab": {
          "base_uri": "https://localhost:8080/",
          "height": 34
        },
        "outputId": "0d55ff06-8df6-42b0-98e9-956ceb93c356"
      },
      "source": [
        "def check_palindrome(n):\n",
        "    temp=n\n",
        "    rev=0\n",
        "    while(n>0):\n",
        "        dig=n%10\n",
        "        rev=rev*10+dig\n",
        "        n=n//10\n",
        "    if(temp==rev):\n",
        "        return True\n",
        "\n",
        "def palindrome(num):\n",
        "    bol=False\n",
        "    #x=len(str(num))\n",
        "    num=num+1\n",
        "    while(bol==False):\n",
        "        if(check_palindrome(num)):\n",
        "            bol=True\n",
        "        else:\n",
        "            num=num+1\n",
        "    return num\n",
        "\n",
        "b=palindrome(8)\n",
        "print(b)"
      ],
      "execution_count": 1,
      "outputs": [
        {
          "output_type": "stream",
          "text": [
            "9\n"
          ],
          "name": "stdout"
        }
      ]
    },
    {
      "cell_type": "code",
      "metadata": {
        "id": "GIYhyn8j51kb",
        "colab_type": "code",
        "colab": {
          "base_uri": "https://localhost:8080/",
          "height": 34
        },
        "outputId": "1bc8b41d-5484-40a3-e453-fa89c6840435"
      },
      "source": [
        "import sys\n",
        "def Next_smallest_Palindrome(num):\n",
        "    numstr = str(num)\n",
        "    for i in range(num+1,sys.maxsize):\n",
        "        if str(i) == str(i)[::-1]:\n",
        "            return i\n",
        "\n",
        "b=palindrome(8)\n",
        "print(b)"
      ],
      "execution_count": 2,
      "outputs": [
        {
          "output_type": "stream",
          "text": [
            "9\n"
          ],
          "name": "stdout"
        }
      ]
    },
    {
      "cell_type": "code",
      "metadata": {
        "id": "Ivw5P3r-59zw",
        "colab_type": "code",
        "colab": {}
      },
      "source": [
        ""
      ],
      "execution_count": 0,
      "outputs": []
    }
  ]
}