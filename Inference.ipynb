{
  "nbformat": 4,
  "nbformat_minor": 0,
  "metadata": {
    "kernelspec": {
      "display_name": "Python 3",
      "language": "python",
      "name": "python3"
    },
    "language_info": {
      "codemirror_mode": {
        "name": "ipython",
        "version": 3
      },
      "file_extension": ".py",
      "mimetype": "text/x-python",
      "name": "python",
      "nbconvert_exporter": "python",
      "pygments_lexer": "ipython3",
      "version": "3.7.6"
    },
    "colab": {
      "name": "Inference.ipynb",
      "provenance": [],
      "include_colab_link": true
    }
  },
  "cells": [
    {
      "cell_type": "markdown",
      "metadata": {
        "id": "view-in-github",
        "colab_type": "text"
      },
      "source": [
        "<a href=\"https://colab.research.google.com/github/sagarbhadra7/Python-Programs/blob/master/Inference.ipynb\" target=\"_parent\"><img src=\"https://colab.research.google.com/assets/colab-badge.svg\" alt=\"Open In Colab\"/></a>"
      ]
    },
    {
      "cell_type": "code",
      "metadata": {
        "id": "MhJMr5h7UpAV",
        "colab_type": "code",
        "colab": {}
      },
      "source": [
        "import pandas as pd\n",
        "import numpy as np\n",
        "import matplotlib.pyplot as plt\n",
        "import seaborn as sns\n",
        "import statistics as stats\n",
        "%matplotlib inline\n",
        "np.set_printoptions(precision=3)\n",
        "\n",
        "import random"
      ],
      "execution_count": 0,
      "outputs": []
    },
    {
      "cell_type": "code",
      "metadata": {
        "id": "iqTcUvI1UpAc",
        "colab_type": "code",
        "colab": {}
      },
      "source": [
        "list_array=list()\n",
        "sample_avg=list()"
      ],
      "execution_count": 0,
      "outputs": []
    },
    {
      "cell_type": "code",
      "metadata": {
        "id": "4byRf14CUpAh",
        "colab_type": "code",
        "colab": {}
      },
      "source": [
        "l1=np.random.randint(1,1000,100)"
      ],
      "execution_count": 0,
      "outputs": []
    },
    {
      "cell_type": "code",
      "metadata": {
        "id": "u8zDDy3sUpAm",
        "colab_type": "code",
        "colab": {}
      },
      "source": [
        "l1"
      ],
      "execution_count": 0,
      "outputs": []
    },
    {
      "cell_type": "code",
      "metadata": {
        "id": "i7JFCygfUpAs",
        "colab_type": "code",
        "colab": {}
      },
      "source": [
        "for i in range(1,31):\n",
        "    list_array.append(np.random.randint(1,1000,100))"
      ],
      "execution_count": 0,
      "outputs": []
    },
    {
      "cell_type": "code",
      "metadata": {
        "id": "Va1QLfgyUpA2",
        "colab_type": "code",
        "colab": {}
      },
      "source": [
        "list_array"
      ],
      "execution_count": 0,
      "outputs": []
    },
    {
      "cell_type": "code",
      "metadata": {
        "id": "roQa6oP5UpA7",
        "colab_type": "code",
        "colab": {}
      },
      "source": [
        "type(list_array[1])"
      ],
      "execution_count": 0,
      "outputs": []
    },
    {
      "cell_type": "code",
      "metadata": {
        "id": "-CpTHu5IUpA_",
        "colab_type": "code",
        "colab": {}
      },
      "source": [
        "list_array[1].mean()"
      ],
      "execution_count": 0,
      "outputs": []
    },
    {
      "cell_type": "code",
      "metadata": {
        "id": "BLDQdj-mUpBG",
        "colab_type": "code",
        "colab": {}
      },
      "source": [
        "for i in range(0,30):\n",
        "    l=list_array[i]\n",
        "    list_avg.append(stats.mean(l))"
      ],
      "execution_count": 0,
      "outputs": []
    },
    {
      "cell_type": "code",
      "metadata": {
        "id": "imVys4a6UpBJ",
        "colab_type": "code",
        "colab": {}
      },
      "source": [
        "list_avg"
      ],
      "execution_count": 0,
      "outputs": []
    },
    {
      "cell_type": "code",
      "metadata": {
        "id": "vPW8182fUpBO",
        "colab_type": "code",
        "colab": {},
        "outputId": "7e1c08eb-8ee9-4f9e-bc15-d9e3ea436b97"
      },
      "source": [
        "plt.hist(list_avg)\n",
        "plt.show()"
      ],
      "execution_count": 0,
      "outputs": [
        {
          "output_type": "display_data",
          "data": {
            "image/png": "[encoded data removed]",
            "text/plain": [
              "<Figure size 432x288 with 1 Axes>"
            ]
          },
          "metadata": {
            "tags": [],
            "needs_background": "light"
          }
        }
      ]
    },
    {
      "cell_type": "code",
      "metadata": {
        "id": "v3KuKoMlUpBT",
        "colab_type": "code",
        "colab": {}
      },
      "source": [
        "poplulation_mean=stats.mean(list_avg)"
      ],
      "execution_count": 0,
      "outputs": []
    },
    {
      "cell_type": "code",
      "metadata": {
        "id": "u3WKzN0sUpBX",
        "colab_type": "code",
        "colab": {}
      },
      "source": [
        "poplulation_mean"
      ],
      "execution_count": 0,
      "outputs": []
    },
    {
      "cell_type": "code",
      "metadata": {
        "id": "pht5BLVMUpBa",
        "colab_type": "code",
        "colab": {}
      },
      "source": [
        "np.random.uniform(1,1000,100)"
      ],
      "execution_count": 0,
      "outputs": []
    },
    {
      "cell_type": "code",
      "metadata": {
        "id": "oGJUU_ghUpBe",
        "colab_type": "code",
        "colab": {}
      },
      "source": [
        "uniform_array=list()\n",
        "uniform_mean=list()"
      ],
      "execution_count": 0,
      "outputs": []
    },
    {
      "cell_type": "code",
      "metadata": {
        "id": "WISc92LGUpBk",
        "colab_type": "code",
        "colab": {}
      },
      "source": [
        "for i in range(0,1000):\n",
        "    uniform_array.append(np.random.uniform(0.0,1.0,size=1000))"
      ],
      "execution_count": 0,
      "outputs": []
    },
    {
      "cell_type": "code",
      "metadata": {
        "id": "IlSOJ2loUpBq",
        "colab_type": "code",
        "colab": {}
      },
      "source": [
        "for i in range(0,1000):\n",
        "    l=uniform_array[i]\n",
        "    uniform_mean.append(stats.mean(l))"
      ],
      "execution_count": 0,
      "outputs": []
    },
    {
      "cell_type": "code",
      "metadata": {
        "id": "PRqawOZcUpBt",
        "colab_type": "code",
        "colab": {},
        "outputId": "beaa3d06-a683-41d4-ee0e-3239d96ac610"
      },
      "source": [
        "plt.hist(uniform_mean)\n",
        "plt.show()"
      ],
      "execution_count": 0,
      "outputs": [
        {
          "output_type": "display_data",
          "data": {
            "image/png": "[encoded data removed]",
            "text/plain": [
              "<Figure size 432x288 with 1 Axes>"
            ]
          },
          "metadata": {
            "tags": [],
            "needs_background": "light"
          }
        }
      ]
    },
    {
      "cell_type": "code",
      "metadata": {
        "id": "FNYzRbCxUpBx",
        "colab_type": "code",
        "colab": {},
        "outputId": "c8ad181d-28ad-47a7-8b38-36b2148c4ed2"
      },
      "source": [
        "plt.hist(uniform_array,bins=10)\n",
        "plt.show()"
      ],
      "execution_count": 0,
      "outputs": [
        {
          "output_type": "display_data",
          "data": {
            "image/png": "[encoded data removed]",
            "text/plain": [
              "<Figure size 432x288 with 1 Axes>"
            ]
          },
          "metadata": {
            "tags": [],
            "needs_background": "light"
          }
        }
      ]
    },
    {
      "cell_type": "code",
      "metadata": {
        "id": "1bE1UjhNUpB2",
        "colab_type": "code",
        "colab": {}
      },
      "source": [
        "normal_array=list()\n",
        "normal_mean=list()"
      ],
      "execution_count": 0,
      "outputs": []
    },
    {
      "cell_type": "code",
      "metadata": {
        "id": "LT1aCN6DUpB5",
        "colab_type": "code",
        "colab": {}
      },
      "source": [
        "for i in range(0,1000):\n",
        "    normal_array.append(np.random.normal(0.0,1.0,1000))"
      ],
      "execution_count": 0,
      "outputs": []
    },
    {
      "cell_type": "code",
      "metadata": {
        "id": "xnf5G10uUpB-",
        "colab_type": "code",
        "colab": {}
      },
      "source": [
        "for i in range(0,1000):\n",
        "    l=normal_array[i]\n",
        "    normal_mean.append(stats.mean(l))"
      ],
      "execution_count": 0,
      "outputs": []
    },
    {
      "cell_type": "code",
      "metadata": {
        "id": "rhXd7SYOUpCD",
        "colab_type": "code",
        "colab": {},
        "outputId": "9b2e07aa-654c-4aab-fd12-50336ee5049d"
      },
      "source": [
        "plt.hist(normal_mean,bins=10)\n",
        "plt.show()"
      ],
      "execution_count": 0,
      "outputs": [
        {
          "output_type": "display_data",
          "data": {
            "image/png": "[encoded data removed]",
            "text/plain": [
              "<Figure size 432x288 with 1 Axes>"
            ]
          },
          "metadata": {
            "tags": [],
            "needs_background": "light"
          }
        }
      ]
    },
    {
      "cell_type": "code",
      "metadata": {
        "id": "2n4lRij6UpCI",
        "colab_type": "code",
        "colab": {},
        "outputId": "f4b1598a-ebbf-4dc0-e4e8-a0294a97e1cd"
      },
      "source": [
        "normal_array=list()\n",
        "normal_mean=list()\n",
        "for i in range(0,1000):\n",
        "    normal_array.append(np.random.normal(0.0,1.0,1000))\n",
        "normal_mean.append(np.mean(normal_array,axis=1))\n",
        "plt.hist(normal_mean,bins=10)\n",
        "plt.show()"
      ],
      "execution_count": 0,
      "outputs": [
        {
          "output_type": "display_data",
          "data": {
            "image/png": "[encoded data removed]",
            "text/plain": [
              "<Figure size 432x288 with 1 Axes>"
            ]
          },
          "metadata": {
            "tags": [],
            "needs_background": "light"
          }
        }
      ]
    },
    {
      "cell_type": "code",
      "metadata": {
        "id": "Iaxa-62WUpCM",
        "colab_type": "code",
        "colab": {},
        "outputId": "62dd8d3d-5dc4-4064-8079-34a88e726f29"
      },
      "source": [
        "normal_array=list()\n",
        "normal_mean=list()\n",
        "for i in range(0,1000):\n",
        "    normal_array.append(np.random.uniform(0.0,1.0,1000))\n",
        "normal_mean.append(np.mean(normal_array,axis=1))\n",
        "sns.distplot(normal_mean,bins=10)\n",
        "plt.show()"
      ],
      "execution_count": 0,
      "outputs": [
        {
          "output_type": "display_data",
          "data": {
            "image/png": "[encoded data removed]",
            "text/plain": [
              "<Figure size 432x288 with 1 Axes>"
            ]
          },
          "metadata": {
            "tags": [],
            "needs_background": "light"
          }
        }
      ]
    },
    {
      "cell_type": "code",
      "metadata": {
        "id": "x2BNLI53UpCQ",
        "colab_type": "code",
        "colab": {},
        "outputId": "d3e934a3-4ad2-4fb2-c577-84d74265d48d"
      },
      "source": [
        "normal_array=list()\n",
        "normal_mean=list()\n",
        "for i in range(0,1000):\n",
        "    normal_array.append(np.random.normal(0.0,1.0,1000))\n",
        "normal_mean.append(np.mean(normal_array,axis=1))\n",
        "sns.distplot(normal_mean,bins=10)\n",
        "plt.show()"
      ],
      "execution_count": 0,
      "outputs": [
        {
          "output_type": "display_data",
          "data": {
            "image/png": "[encoded data removed]",
            "text/plain": [
              "<Figure size 432x288 with 1 Axes>"
            ]
          },
          "metadata": {
            "tags": [],
            "needs_background": "light"
          }
        }
      ]
    },
    {
      "cell_type": "code",
      "metadata": {
        "id": "hR-toEX9UpCU",
        "colab_type": "code",
        "colab": {}
      },
      "source": [
        "l1=np.random.randint(27,33,30)"
      ],
      "execution_count": 0,
      "outputs": []
    },
    {
      "cell_type": "code",
      "metadata": {
        "id": "bsuy2kjUUpCZ",
        "colab_type": "code",
        "colab": {},
        "outputId": "c320dca4-f798-4c7d-8205-2e66819a0895"
      },
      "source": [
        "l1"
      ],
      "execution_count": 0,
      "outputs": [
        {
          "output_type": "execute_result",
          "data": {
            "text/plain": [
              "array([30, 28, 30, 28, 30, 29, 28, 31, 31, 28, 30, 30, 30, 31, 27, 29, 31,\n",
              "       27, 27, 28, 31, 30, 29, 27, 28, 29, 32, 31, 29, 32])"
            ]
          },
          "metadata": {
            "tags": []
          },
          "execution_count": 174
        }
      ]
    },
    {
      "cell_type": "code",
      "metadata": {
        "id": "H-7aeNCbUpCe",
        "colab_type": "code",
        "colab": {}
      },
      "source": [
        "l2=np.random.randint(10,120,30)"
      ],
      "execution_count": 0,
      "outputs": []
    },
    {
      "cell_type": "code",
      "metadata": {
        "id": "wQKaLVHhUpCg",
        "colab_type": "code",
        "colab": {},
        "outputId": "28e93c30-01fd-4736-e20e-48c38679f316"
      },
      "source": [
        "l2"
      ],
      "execution_count": 0,
      "outputs": [
        {
          "output_type": "execute_result",
          "data": {
            "text/plain": [
              "array([109,  35,  16,  62,  23,  61, 100,  54, 105,  78, 118, 104, 109,\n",
              "        30,  58,  54,  36,  95,  93,  84,  44,  11,  50, 118,  55,  70,\n",
              "        22,  92,  76,  80])"
            ]
          },
          "metadata": {
            "tags": []
          },
          "execution_count": 187
        }
      ]
    },
    {
      "cell_type": "code",
      "metadata": {
        "id": "JbQrYZ7KUpCu",
        "colab_type": "code",
        "colab": {},
        "outputId": "6506bc74-481f-48b7-9aa8-1b70b83de1ad"
      },
      "source": [
        "l1.mean()"
      ],
      "execution_count": 0,
      "outputs": [
        {
          "output_type": "execute_result",
          "data": {
            "text/plain": [
              "29.1"
            ]
          },
          "metadata": {
            "tags": []
          },
          "execution_count": 146
        }
      ]
    },
    {
      "cell_type": "code",
      "metadata": {
        "id": "Sra0eCsyUpDA",
        "colab_type": "code",
        "colab": {},
        "outputId": "ef77fc19-a77f-4cee-aadb-f0d52be8e415"
      },
      "source": [
        "l2.mean()"
      ],
      "execution_count": 0,
      "outputs": [
        {
          "output_type": "execute_result",
          "data": {
            "text/plain": [
              "68.06666666666666"
            ]
          },
          "metadata": {
            "tags": []
          },
          "execution_count": 190
        }
      ]
    },
    {
      "cell_type": "code",
      "metadata": {
        "id": "eyv-0gJhUpDE",
        "colab_type": "code",
        "colab": {}
      },
      "source": [
        "from scipy.stats import ttest_1samp"
      ],
      "execution_count": 0,
      "outputs": []
    },
    {
      "cell_type": "code",
      "metadata": {
        "id": "lsdhqoaLUpDJ",
        "colab_type": "code",
        "colab": {}
      },
      "source": [
        "q,p=ttest_1samp(l1,30)"
      ],
      "execution_count": 0,
      "outputs": []
    },
    {
      "cell_type": "code",
      "metadata": {
        "id": "B9NXIIc6UpDN",
        "colab_type": "code",
        "colab": {}
      },
      "source": [
        "s,t=ttest_1samp(l2,30)"
      ],
      "execution_count": 0,
      "outputs": []
    },
    {
      "cell_type": "code",
      "metadata": {
        "id": "h9LyfgTHUpDR",
        "colab_type": "code",
        "colab": {},
        "outputId": "5e8c7c3a-1e03-4868-9e8e-f7e5002e3c1f"
      },
      "source": [
        "p"
      ],
      "execution_count": 0,
      "outputs": [
        {
          "output_type": "execute_result",
          "data": {
            "text/plain": [
              "0.006722137509074963"
            ]
          },
          "metadata": {
            "tags": []
          },
          "execution_count": 161
        }
      ]
    },
    {
      "cell_type": "code",
      "metadata": {
        "id": "PMIdEJDGUpDU",
        "colab_type": "code",
        "colab": {},
        "outputId": "f867d74e-338a-44ec-b3df-ecc5cb1ebdaf"
      },
      "source": [
        "t"
      ],
      "execution_count": 0,
      "outputs": [
        {
          "output_type": "execute_result",
          "data": {
            "text/plain": [
              "0.00012726042065259373"
            ]
          },
          "metadata": {
            "tags": []
          },
          "execution_count": 164
        }
      ]
    },
    {
      "cell_type": "code",
      "metadata": {
        "id": "fQCRbk71UpDY",
        "colab_type": "code",
        "colab": {},
        "outputId": "79a54510-a734-4437-c475-2886d835109f"
      },
      "source": [
        "ttest_1samp(l1,30)"
      ],
      "execution_count": 0,
      "outputs": [
        {
          "output_type": "execute_result",
          "data": {
            "text/plain": [
              "Ttest_1sampResult(statistic=-2.919102742667524, pvalue=0.006722137509074963)"
            ]
          },
          "metadata": {
            "tags": []
          },
          "execution_count": 171
        }
      ]
    },
    {
      "cell_type": "code",
      "metadata": {
        "id": "W_C_zTEWUpDc",
        "colab_type": "code",
        "colab": {},
        "outputId": "cea6f2c1-8c88-4ccf-f053-fa0afe0b85fb"
      },
      "source": [
        "ttest_1samp(l2,30)"
      ],
      "execution_count": 0,
      "outputs": [
        {
          "output_type": "execute_result",
          "data": {
            "text/plain": [
              "Ttest_1sampResult(statistic=6.499237061286464, pvalue=4.088824303092665e-07)"
            ]
          },
          "metadata": {
            "tags": []
          },
          "execution_count": 191
        }
      ]
    },
    {
      "cell_type": "code",
      "metadata": {
        "id": "NZPO5HfJUpDf",
        "colab_type": "code",
        "colab": {},
        "outputId": "8884f062-0ea4-45a0-d867-887b67360752"
      },
      "source": [
        "from scipy.stats import ttest_1samp,kstest,norm,uniform\n",
        "import numpy as np\n",
        "ages = np.array([100,32,303,12,56,45,404,396,392,191,67,89,22,54,33])\n",
        "print(ages)\n",
        "ages_mean = np.mean(ages)\n",
        "print(ages_mean)\n",
        "tset, pval = ttest_1samp(ages, 30)\n",
        "print(\"p-values”=\",pval)\n",
        "if pval < 0.05:    # alpha value is 0.05 or 5%\n",
        "   print(\" we are rejecting null hypothesis\")\n",
        "else:\n",
        "  print(\"we are failed to reject  null hypothesis\")"
      ],
      "execution_count": 0,
      "outputs": [
        {
          "output_type": "stream",
          "text": [
            "[100  32 303  12  56  45 404 396 392 191  67  89  22  54  33]\n",
            "146.4\n",
            "p-values”= 0.009335081627042555\n",
            " we are rejecting null hypothesis\n"
          ],
          "name": "stdout"
        }
      ]
    },
    {
      "cell_type": "code",
      "metadata": {
        "id": "UXxWXgHSUpDi",
        "colab_type": "code",
        "colab": {},
        "outputId": "81f06f7a-dc41-4690-eb99-e76762f6ac09"
      },
      "source": [
        "my_data=norm.rvs(size=1000)\n",
        "ks_Statstics,p_value=kstest(my_data,'norm')\n",
        "print(ks_Statstics,p_value)"
      ],
      "execution_count": 0,
      "outputs": [
        {
          "output_type": "stream",
          "text": [
            "0.033404152963687705 0.2099554865706583\n"
          ],
          "name": "stdout"
        }
      ]
    },
    {
      "cell_type": "code",
      "metadata": {
        "id": "oYZe2TTXUpDm",
        "colab_type": "code",
        "colab": {},
        "outputId": "36b2b785-b936-4b40-9de6-e5b1072dbaf6"
      },
      "source": [
        "my_data=uniform.rvs(size=1000)\n",
        "ks_Statstics,p_value=kstest(my_data,'uniform')\n",
        "print(ks_Statstics,p_value)"
      ],
      "execution_count": 0,
      "outputs": [
        {
          "output_type": "stream",
          "text": [
            "0.031328633955713836 0.2750778820411232\n"
          ],
          "name": "stdout"
        }
      ]
    },
    {
      "cell_type": "code",
      "metadata": {
        "id": "kOl17rinUpDs",
        "colab_type": "code",
        "colab": {},
        "outputId": "73aa56f4-f616-407a-d6c8-1a55e21760fc"
      },
      "source": [
        "from scipy.stats import ttest_1samp,kstest,norm,uniform\n",
        "import numpy as np\n",
        "print(l1)\n",
        "ages_mean = np.mean(l1)\n",
        "print(ages_mean)\n",
        "tset, pval = ttest_1samp(l1, 30)\n",
        "print(\"p-values”=\",pval)\n",
        "if pval < 0.05:    # alpha value is 0.05 or 5%\n",
        "   print(\" we are rejecting null hypothesis\")\n",
        "else:\n",
        "  print(\"we are failed to reject  null hypothesis\")"
      ],
      "execution_count": 0,
      "outputs": [
        {
          "output_type": "stream",
          "text": [
            "[30 28 30 28 30 29 28 31 31 28 30 30 30 31 27 29 31 27 27 28 31 30 29 27\n",
            " 28 29 32 31 29 32]\n",
            "29.366666666666667\n",
            "p-values”= 0.02996031876496803\n",
            " we are rejecting null hypothesis\n"
          ],
          "name": "stdout"
        }
      ]
    },
    {
      "cell_type": "code",
      "metadata": {
        "id": "S5dneEO2UpDw",
        "colab_type": "code",
        "colab": {},
        "outputId": "38154aef-efb8-40d7-9ede-cb4ad60ffea3"
      },
      "source": [
        "from scipy.stats import ttest_1samp,kstest,norm,uniform\n",
        "import numpy as np\n",
        "print(l2)\n",
        "ages_mean = np.mean(l2)\n",
        "print(ages_mean)\n",
        "tset, pval = ttest_1samp(l2, 30)\n",
        "print(\"p-values”=\",pval)\n",
        "if pval < 0.05:    # alpha value is 0.05 or 5%\n",
        "   print(\" we are rejecting null hypothesis\")\n",
        "else:\n",
        "  print(\"we are failed to reject  null hypothesis\")"
      ],
      "execution_count": 0,
      "outputs": [
        {
          "output_type": "stream",
          "text": [
            "[109  35  16  62  23  61 100  54 105  78 118 104 109  30  58  54  36  95\n",
            "  93  84  44  11  50 118  55  70  22  92  76  80]\n",
            "68.06666666666666\n",
            "p-values”= 4.088824303092665e-07\n",
            " we are rejecting null hypothesis\n"
          ],
          "name": "stdout"
        }
      ]
    },
    {
      "cell_type": "code",
      "metadata": {
        "id": "fP7wlUIBUpDz",
        "colab_type": "code",
        "colab": {}
      },
      "source": [
        ""
      ],
      "execution_count": 0,
      "outputs": []
    }
  ]
}