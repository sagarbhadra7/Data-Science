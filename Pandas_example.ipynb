{
  "nbformat": 4,
  "nbformat_minor": 0,
  "metadata": {
    "colab": {
      "name": "Pandas_example.ipynb",
      "provenance": [],
      "authorship_tag": "ABX9TyPIMritRwxKwM/+ocVhGi+u",
      "include_colab_link": true
    },
    "kernelspec": {
      "name": "python3",
      "display_name": "Python 3"
    }
  },
  "cells": [
    {
      "cell_type": "markdown",
      "metadata": {
        "id": "view-in-github",
        "colab_type": "text"
      },
      "source": [
        "<a href=\"https://colab.research.google.com/github/sagarbhadra7/Python-Programs/blob/master/Pandas_example.ipynb\" target=\"_parent\"><img src=\"https://colab.research.google.com/assets/colab-badge.svg\" alt=\"Open In Colab\"/></a>"
      ]
    },
    {
      "cell_type": "code",
      "metadata": {
        "id": "KTuZVPzS3jYv",
        "colab_type": "code",
        "colab": {}
      },
      "source": [
        "import pandas as pd\n",
        "import matplotlib as plt\n",
        "import numpy as np"
      ],
      "execution_count": 0,
      "outputs": []
    },
    {
      "cell_type": "code",
      "metadata": {
        "id": "MHt0pTu35GjO",
        "colab_type": "code",
        "colab": {}
      },
      "source": [
        "df=pd.read_csv('bank.csv',sep=';',delimiter=';')\n",
        "#df1=pd.DataFrame('bank.csv')"
      ],
      "execution_count": 0,
      "outputs": []
    },
    {
      "cell_type": "code",
      "metadata": {
        "id": "QOi8_pnO5iCm",
        "colab_type": "code",
        "colab": {
          "base_uri": "https://localhost:8080/",
          "height": 380
        },
        "outputId": "2c290b17-e901-42b1-9736-3d7c608ec9f1"
      },
      "source": [
        "df.head(10)"
      ],
      "execution_count": 6,
      "outputs": [
        {
          "output_type": "execute_result",
          "data": {
            "text/html": [
              "<div>\n",
              "<style scoped>\n",
              "    .dataframe tbody tr th:only-of-type {\n",
              "        vertical-align: middle;\n",
              "    }\n",
              "\n",
              "    .dataframe tbody tr th {\n",
              "        vertical-align: top;\n",
              "    }\n",
              "\n",
              "    .dataframe thead th {\n",
              "        text-align: right;\n",
              "    }\n",
              "</style>\n",
              "<table border=\"1\" class=\"dataframe\">\n",
              "  <thead>\n",
              "    <tr style=\"text-align: right;\">\n",
              "      <th></th>\n",
              "      <th>age</th>\n",
              "      <th>job</th>\n",
              "      <th>marital</th>\n",
              "      <th>education</th>\n",
              "      <th>default</th>\n",
              "      <th>balance</th>\n",
              "      <th>housing</th>\n",
              "      <th>loan</th>\n",
              "      <th>contact</th>\n",
              "      <th>day</th>\n",
              "      <th>month</th>\n",
              "      <th>duration</th>\n",
              "      <th>campaign</th>\n",
              "      <th>pdays</th>\n",
              "      <th>previous</th>\n",
              "      <th>poutcome</th>\n",
              "      <th>y</th>\n",
              "    </tr>\n",
              "  </thead>\n",
              "  <tbody>\n",
              "    <tr>\n",
              "      <th>0</th>\n",
              "      <td>30</td>\n",
              "      <td>unemployed</td>\n",
              "      <td>married</td>\n",
              "      <td>primary</td>\n",
              "      <td>no</td>\n",
              "      <td>1787</td>\n",
              "      <td>no</td>\n",
              "      <td>no</td>\n",
              "      <td>cellular</td>\n",
              "      <td>19</td>\n",
              "      <td>oct</td>\n",
              "      <td>79</td>\n",
              "      <td>1</td>\n",
              "      <td>-1</td>\n",
              "      <td>0</td>\n",
              "      <td>unknown</td>\n",
              "      <td>no</td>\n",
              "    </tr>\n",
              "    <tr>\n",
              "      <th>1</th>\n",
              "      <td>33</td>\n",
              "      <td>services</td>\n",
              "      <td>married</td>\n",
              "      <td>secondary</td>\n",
              "      <td>no</td>\n",
              "      <td>4789</td>\n",
              "      <td>yes</td>\n",
              "      <td>yes</td>\n",
              "      <td>cellular</td>\n",
              "      <td>11</td>\n",
              "      <td>may</td>\n",
              "      <td>220</td>\n",
              "      <td>1</td>\n",
              "      <td>339</td>\n",
              "      <td>4</td>\n",
              "      <td>failure</td>\n",
              "      <td>no</td>\n",
              "    </tr>\n",
              "    <tr>\n",
              "      <th>2</th>\n",
              "      <td>35</td>\n",
              "      <td>management</td>\n",
              "      <td>single</td>\n",
              "      <td>tertiary</td>\n",
              "      <td>no</td>\n",
              "      <td>1350</td>\n",
              "      <td>yes</td>\n",
              "      <td>no</td>\n",
              "      <td>cellular</td>\n",
              "      <td>16</td>\n",
              "      <td>apr</td>\n",
              "      <td>185</td>\n",
              "      <td>1</td>\n",
              "      <td>330</td>\n",
              "      <td>1</td>\n",
              "      <td>failure</td>\n",
              "      <td>no</td>\n",
              "    </tr>\n",
              "    <tr>\n",
              "      <th>3</th>\n",
              "      <td>30</td>\n",
              "      <td>management</td>\n",
              "      <td>married</td>\n",
              "      <td>tertiary</td>\n",
              "      <td>no</td>\n",
              "      <td>1476</td>\n",
              "      <td>yes</td>\n",
              "      <td>yes</td>\n",
              "      <td>unknown</td>\n",
              "      <td>3</td>\n",
              "      <td>jun</td>\n",
              "      <td>199</td>\n",
              "      <td>4</td>\n",
              "      <td>-1</td>\n",
              "      <td>0</td>\n",
              "      <td>unknown</td>\n",
              "      <td>no</td>\n",
              "    </tr>\n",
              "    <tr>\n",
              "      <th>4</th>\n",
              "      <td>59</td>\n",
              "      <td>blue-collar</td>\n",
              "      <td>married</td>\n",
              "      <td>secondary</td>\n",
              "      <td>no</td>\n",
              "      <td>0</td>\n",
              "      <td>yes</td>\n",
              "      <td>no</td>\n",
              "      <td>unknown</td>\n",
              "      <td>5</td>\n",
              "      <td>may</td>\n",
              "      <td>226</td>\n",
              "      <td>1</td>\n",
              "      <td>-1</td>\n",
              "      <td>0</td>\n",
              "      <td>unknown</td>\n",
              "      <td>no</td>\n",
              "    </tr>\n",
              "    <tr>\n",
              "      <th>5</th>\n",
              "      <td>35</td>\n",
              "      <td>management</td>\n",
              "      <td>single</td>\n",
              "      <td>tertiary</td>\n",
              "      <td>no</td>\n",
              "      <td>747</td>\n",
              "      <td>no</td>\n",
              "      <td>no</td>\n",
              "      <td>cellular</td>\n",
              "      <td>23</td>\n",
              "      <td>feb</td>\n",
              "      <td>141</td>\n",
              "      <td>2</td>\n",
              "      <td>176</td>\n",
              "      <td>3</td>\n",
              "      <td>failure</td>\n",
              "      <td>no</td>\n",
              "    </tr>\n",
              "    <tr>\n",
              "      <th>6</th>\n",
              "      <td>36</td>\n",
              "      <td>self-employed</td>\n",
              "      <td>married</td>\n",
              "      <td>tertiary</td>\n",
              "      <td>no</td>\n",
              "      <td>307</td>\n",
              "      <td>yes</td>\n",
              "      <td>no</td>\n",
              "      <td>cellular</td>\n",
              "      <td>14</td>\n",
              "      <td>may</td>\n",
              "      <td>341</td>\n",
              "      <td>1</td>\n",
              "      <td>330</td>\n",
              "      <td>2</td>\n",
              "      <td>other</td>\n",
              "      <td>no</td>\n",
              "    </tr>\n",
              "    <tr>\n",
              "      <th>7</th>\n",
              "      <td>39</td>\n",
              "      <td>technician</td>\n",
              "      <td>married</td>\n",
              "      <td>secondary</td>\n",
              "      <td>no</td>\n",
              "      <td>147</td>\n",
              "      <td>yes</td>\n",
              "      <td>no</td>\n",
              "      <td>cellular</td>\n",
              "      <td>6</td>\n",
              "      <td>may</td>\n",
              "      <td>151</td>\n",
              "      <td>2</td>\n",
              "      <td>-1</td>\n",
              "      <td>0</td>\n",
              "      <td>unknown</td>\n",
              "      <td>no</td>\n",
              "    </tr>\n",
              "    <tr>\n",
              "      <th>8</th>\n",
              "      <td>41</td>\n",
              "      <td>entrepreneur</td>\n",
              "      <td>married</td>\n",
              "      <td>tertiary</td>\n",
              "      <td>no</td>\n",
              "      <td>221</td>\n",
              "      <td>yes</td>\n",
              "      <td>no</td>\n",
              "      <td>unknown</td>\n",
              "      <td>14</td>\n",
              "      <td>may</td>\n",
              "      <td>57</td>\n",
              "      <td>2</td>\n",
              "      <td>-1</td>\n",
              "      <td>0</td>\n",
              "      <td>unknown</td>\n",
              "      <td>no</td>\n",
              "    </tr>\n",
              "    <tr>\n",
              "      <th>9</th>\n",
              "      <td>43</td>\n",
              "      <td>services</td>\n",
              "      <td>married</td>\n",
              "      <td>primary</td>\n",
              "      <td>no</td>\n",
              "      <td>-88</td>\n",
              "      <td>yes</td>\n",
              "      <td>yes</td>\n",
              "      <td>cellular</td>\n",
              "      <td>17</td>\n",
              "      <td>apr</td>\n",
              "      <td>313</td>\n",
              "      <td>1</td>\n",
              "      <td>147</td>\n",
              "      <td>2</td>\n",
              "      <td>failure</td>\n",
              "      <td>no</td>\n",
              "    </tr>\n",
              "  </tbody>\n",
              "</table>\n",
              "</div>"
            ],
            "text/plain": [
              "   age            job  marital  education  ... pdays  previous poutcome   y\n",
              "0   30     unemployed  married    primary  ...    -1         0  unknown  no\n",
              "1   33       services  married  secondary  ...   339         4  failure  no\n",
              "2   35     management   single   tertiary  ...   330         1  failure  no\n",
              "3   30     management  married   tertiary  ...    -1         0  unknown  no\n",
              "4   59    blue-collar  married  secondary  ...    -1         0  unknown  no\n",
              "5   35     management   single   tertiary  ...   176         3  failure  no\n",
              "6   36  self-employed  married   tertiary  ...   330         2    other  no\n",
              "7   39     technician  married  secondary  ...    -1         0  unknown  no\n",
              "8   41   entrepreneur  married   tertiary  ...    -1         0  unknown  no\n",
              "9   43       services  married    primary  ...   147         2  failure  no\n",
              "\n",
              "[10 rows x 17 columns]"
            ]
          },
          "metadata": {
            "tags": []
          },
          "execution_count": 6
        }
      ]
    },
    {
      "cell_type": "code",
      "metadata": {
        "id": "nVDalJP-5jSI",
        "colab_type": "code",
        "colab": {
          "base_uri": "https://localhost:8080/",
          "height": 202
        },
        "outputId": "4bc6c946-68cb-445b-d75d-be1d6528cce6"
      },
      "source": [
        "print(df.describe())"
      ],
      "execution_count": 7,
      "outputs": [
        {
          "output_type": "stream",
          "text": [
            "               age       balance  ...        pdays     previous\n",
            "count  4521.000000   4521.000000  ...  4521.000000  4521.000000\n",
            "mean     41.170095   1422.657819  ...    39.766645     0.542579\n",
            "std      10.576211   3009.638142  ...   100.121124     1.693562\n",
            "min      19.000000  -3313.000000  ...    -1.000000     0.000000\n",
            "25%      33.000000     69.000000  ...    -1.000000     0.000000\n",
            "50%      39.000000    444.000000  ...    -1.000000     0.000000\n",
            "75%      49.000000   1480.000000  ...    -1.000000     0.000000\n",
            "max      87.000000  71188.000000  ...   871.000000    25.000000\n",
            "\n",
            "[8 rows x 7 columns]\n"
          ],
          "name": "stdout"
        }
      ]
    },
    {
      "cell_type": "code",
      "metadata": {
        "id": "1ZJBCMHh8t4V",
        "colab_type": "code",
        "colab": {
          "base_uri": "https://localhost:8080/",
          "height": 282
        },
        "outputId": "c76aec36-5c0f-4249-ccbe-eaf0d385e3ab"
      },
      "source": [
        "df['age'].hist()"
      ],
      "execution_count": 8,
      "outputs": [
        {
          "output_type": "execute_result",
          "data": {
            "text/plain": [
              "<matplotlib.axes._subplots.AxesSubplot at 0x7ff3d1c599e8>"
            ]
          },
          "metadata": {
            "tags": []
          },
          "execution_count": 8
        },
        {
          "output_type": "display_data",
          "data": {
            "image/png": "[encoded data removed]",
            "text/plain": [
              "<Figure size 432x288 with 1 Axes>"
            ]
          },
          "metadata": {
            "tags": []
          }
        }
      ]
    },
    {
      "cell_type": "code",
      "metadata": {
        "id": "5tk9DNgS-dPq",
        "colab_type": "code",
        "colab": {
          "base_uri": "https://localhost:8080/",
          "height": 285
        },
        "outputId": "95b79ad6-d102-413f-ad8e-c4cf5dd0fd24"
      },
      "source": [
        "#fig = plt.figure(figsize=(8,6))\n",
        "#ax = fig.gca()\n",
        "df.boxplot(column='age')"
      ],
      "execution_count": 21,
      "outputs": [
        {
          "output_type": "execute_result",
          "data": {
            "text/plain": [
              "<matplotlib.axes._subplots.AxesSubplot at 0x7ff3d14e9940>"
            ]
          },
          "metadata": {
            "tags": []
          },
          "execution_count": 21
        },
        {
          "output_type": "display_data",
          "data": {
            "image/png": "[encoded data removed]",
            "text/plain": [
              "<Figure size 432x288 with 1 Axes>"
            ]
          },
          "metadata": {
            "tags": []
          }
        }
      ]
    },
    {
      "cell_type": "code",
      "metadata": {
        "id": "KI9B0a-__N1x",
        "colab_type": "code",
        "colab": {}
      },
      "source": [
        "df.replace()"
      ],
      "execution_count": 0,
      "outputs": []
    },
    {
      "cell_type": "code",
      "metadata": {
        "id": "UNh6QxqkBI5o",
        "colab_type": "code",
        "colab": {
          "base_uri": "https://localhost:8080/",
          "height": 252
        },
        "outputId": "cc993d1d-3d11-4882-c18d-f3b13041cea2"
      },
      "source": [
        "print(df.isnull())"
      ],
      "execution_count": 23,
      "outputs": [
        {
          "output_type": "stream",
          "text": [
            "        age    job  marital  education  ...  pdays  previous  poutcome      y\n",
            "0     False  False    False      False  ...  False     False     False  False\n",
            "1     False  False    False      False  ...  False     False     False  False\n",
            "2     False  False    False      False  ...  False     False     False  False\n",
            "3     False  False    False      False  ...  False     False     False  False\n",
            "4     False  False    False      False  ...  False     False     False  False\n",
            "...     ...    ...      ...        ...  ...    ...       ...       ...    ...\n",
            "4516  False  False    False      False  ...  False     False     False  False\n",
            "4517  False  False    False      False  ...  False     False     False  False\n",
            "4518  False  False    False      False  ...  False     False     False  False\n",
            "4519  False  False    False      False  ...  False     False     False  False\n",
            "4520  False  False    False      False  ...  False     False     False  False\n",
            "\n",
            "[4521 rows x 17 columns]\n"
          ],
          "name": "stdout"
        }
      ]
    },
    {
      "cell_type": "code",
      "metadata": {
        "id": "uDh_UBOzBL1f",
        "colab_type": "code",
        "colab": {}
      },
      "source": [
        "list1=[1,0,1,0,1,0]\n",
        "array1=np.array(list1,dtype='bool')"
      ],
      "execution_count": 0,
      "outputs": []
    },
    {
      "cell_type": "code",
      "metadata": {
        "id": "r3Ye1YoyBlX0",
        "colab_type": "code",
        "colab": {
          "base_uri": "https://localhost:8080/",
          "height": 34
        },
        "outputId": "629eb9ef-7780-493a-d0ce-130ea9e35556"
      },
      "source": [
        "print(array1)"
      ],
      "execution_count": 30,
      "outputs": [
        {
          "output_type": "stream",
          "text": [
            "[ True False  True False  True False]\n"
          ],
          "name": "stdout"
        }
      ]
    },
    {
      "cell_type": "code",
      "metadata": {
        "id": "bGIq5iPbBw6G",
        "colab_type": "code",
        "colab": {
          "base_uri": "https://localhost:8080/",
          "height": 34
        },
        "outputId": "b06f3d3a-f2c6-40d6-f704-33b2da1d8353"
      },
      "source": [
        "print(np.sum(array1))"
      ],
      "execution_count": 31,
      "outputs": [
        {
          "output_type": "stream",
          "text": [
            "3\n"
          ],
          "name": "stdout"
        }
      ]
    },
    {
      "cell_type": "code",
      "metadata": {
        "id": "PTfb-puZCl6e",
        "colab_type": "code",
        "colab": {}
      },
      "source": [
        "df1=df.replace('unknown',np.nan)"
      ],
      "execution_count": 0,
      "outputs": []
    },
    {
      "cell_type": "code",
      "metadata": {
        "id": "nV1c9MkzC13z",
        "colab_type": "code",
        "colab": {
          "base_uri": "https://localhost:8080/",
          "height": 319
        },
        "outputId": "20e3c56e-4b8c-47b7-a74f-7a0415b0b1d5"
      },
      "source": [
        "df1.isnull().sum()"
      ],
      "execution_count": 51,
      "outputs": [
        {
          "output_type": "execute_result",
          "data": {
            "text/plain": [
              "age             0\n",
              "job            38\n",
              "marital         0\n",
              "education     187\n",
              "default         0\n",
              "balance         0\n",
              "housing         0\n",
              "loan            0\n",
              "contact      1324\n",
              "day             0\n",
              "month           0\n",
              "duration        0\n",
              "campaign        0\n",
              "pdays           0\n",
              "previous        0\n",
              "poutcome     3705\n",
              "y               0\n",
              "dtype: int64"
            ]
          },
          "metadata": {
            "tags": []
          },
          "execution_count": 51
        }
      ]
    },
    {
      "cell_type": "code",
      "metadata": {
        "id": "cOczQzQdC8AX",
        "colab_type": "code",
        "colab": {
          "base_uri": "https://localhost:8080/",
          "height": 252
        },
        "outputId": "e3ae4e54-e75f-4e39-8723-f0aa4dc180e2"
      },
      "source": [
        "print(df1)"
      ],
      "execution_count": 40,
      "outputs": [
        {
          "output_type": "stream",
          "text": [
            "      age            job  marital  education  ... pdays  previous poutcome   y\n",
            "0      30     unemployed  married    primary  ...    -1         0      NaN  no\n",
            "1      33       services  married  secondary  ...   339         4  failure  no\n",
            "2      35     management   single   tertiary  ...   330         1  failure  no\n",
            "3      30     management  married   tertiary  ...    -1         0      NaN  no\n",
            "4      59    blue-collar  married  secondary  ...    -1         0      NaN  no\n",
            "...   ...            ...      ...        ...  ...   ...       ...      ...  ..\n",
            "4516   33       services  married  secondary  ...    -1         0      NaN  no\n",
            "4517   57  self-employed  married   tertiary  ...    -1         0      NaN  no\n",
            "4518   57     technician  married  secondary  ...    -1         0      NaN  no\n",
            "4519   28    blue-collar  married  secondary  ...   211         3    other  no\n",
            "4520   44   entrepreneur   single   tertiary  ...   249         7    other  no\n",
            "\n",
            "[4521 rows x 17 columns]\n"
          ],
          "name": "stdout"
        }
      ]
    },
    {
      "cell_type": "code",
      "metadata": {
        "id": "__sOS8j1DxTe",
        "colab_type": "code",
        "colab": {}
      },
      "source": [
        "df1.dropna(inplace=True)"
      ],
      "execution_count": 0,
      "outputs": []
    },
    {
      "cell_type": "code",
      "metadata": {
        "id": "M0Ir_B1bEDbI",
        "colab_type": "code",
        "colab": {
          "base_uri": "https://localhost:8080/",
          "height": 319
        },
        "outputId": "664063cf-e653-4d0d-b955-f16b4bf900bd"
      },
      "source": [
        "print(df1.isnull().sum())"
      ],
      "execution_count": 56,
      "outputs": [
        {
          "output_type": "stream",
          "text": [
            "age          0\n",
            "job          0\n",
            "marital      0\n",
            "education    0\n",
            "default      0\n",
            "balance      0\n",
            "housing      0\n",
            "loan         0\n",
            "contact      0\n",
            "day          0\n",
            "month        0\n",
            "duration     0\n",
            "campaign     0\n",
            "pdays        0\n",
            "previous     0\n",
            "poutcome     0\n",
            "y            0\n",
            "dtype: int64\n"
          ],
          "name": "stdout"
        }
      ]
    },
    {
      "cell_type": "code",
      "metadata": {
        "id": "OC--rjdMFPLE",
        "colab_type": "code",
        "colab": {
          "base_uri": "https://localhost:8080/",
          "height": 232
        },
        "outputId": "44d1ffc7-9670-42e2-80fa-1273a8046c81"
      },
      "source": [
        "df1.head()"
      ],
      "execution_count": 55,
      "outputs": [
        {
          "output_type": "execute_result",
          "data": {
            "text/html": [
              "<div>\n",
              "<style scoped>\n",
              "    .dataframe tbody tr th:only-of-type {\n",
              "        vertical-align: middle;\n",
              "    }\n",
              "\n",
              "    .dataframe tbody tr th {\n",
              "        vertical-align: top;\n",
              "    }\n",
              "\n",
              "    .dataframe thead th {\n",
              "        text-align: right;\n",
              "    }\n",
              "</style>\n",
              "<table border=\"1\" class=\"dataframe\">\n",
              "  <thead>\n",
              "    <tr style=\"text-align: right;\">\n",
              "      <th></th>\n",
              "      <th>age</th>\n",
              "      <th>job</th>\n",
              "      <th>marital</th>\n",
              "      <th>education</th>\n",
              "      <th>default</th>\n",
              "      <th>balance</th>\n",
              "      <th>housing</th>\n",
              "      <th>loan</th>\n",
              "      <th>contact</th>\n",
              "      <th>day</th>\n",
              "      <th>month</th>\n",
              "      <th>duration</th>\n",
              "      <th>campaign</th>\n",
              "      <th>pdays</th>\n",
              "      <th>previous</th>\n",
              "      <th>poutcome</th>\n",
              "      <th>y</th>\n",
              "    </tr>\n",
              "  </thead>\n",
              "  <tbody>\n",
              "    <tr>\n",
              "      <th>1</th>\n",
              "      <td>33</td>\n",
              "      <td>services</td>\n",
              "      <td>married</td>\n",
              "      <td>secondary</td>\n",
              "      <td>no</td>\n",
              "      <td>4789</td>\n",
              "      <td>yes</td>\n",
              "      <td>yes</td>\n",
              "      <td>cellular</td>\n",
              "      <td>11</td>\n",
              "      <td>may</td>\n",
              "      <td>220</td>\n",
              "      <td>1</td>\n",
              "      <td>339</td>\n",
              "      <td>4</td>\n",
              "      <td>failure</td>\n",
              "      <td>no</td>\n",
              "    </tr>\n",
              "    <tr>\n",
              "      <th>2</th>\n",
              "      <td>35</td>\n",
              "      <td>management</td>\n",
              "      <td>single</td>\n",
              "      <td>tertiary</td>\n",
              "      <td>no</td>\n",
              "      <td>1350</td>\n",
              "      <td>yes</td>\n",
              "      <td>no</td>\n",
              "      <td>cellular</td>\n",
              "      <td>16</td>\n",
              "      <td>apr</td>\n",
              "      <td>185</td>\n",
              "      <td>1</td>\n",
              "      <td>330</td>\n",
              "      <td>1</td>\n",
              "      <td>failure</td>\n",
              "      <td>no</td>\n",
              "    </tr>\n",
              "    <tr>\n",
              "      <th>5</th>\n",
              "      <td>35</td>\n",
              "      <td>management</td>\n",
              "      <td>single</td>\n",
              "      <td>tertiary</td>\n",
              "      <td>no</td>\n",
              "      <td>747</td>\n",
              "      <td>no</td>\n",
              "      <td>no</td>\n",
              "      <td>cellular</td>\n",
              "      <td>23</td>\n",
              "      <td>feb</td>\n",
              "      <td>141</td>\n",
              "      <td>2</td>\n",
              "      <td>176</td>\n",
              "      <td>3</td>\n",
              "      <td>failure</td>\n",
              "      <td>no</td>\n",
              "    </tr>\n",
              "    <tr>\n",
              "      <th>6</th>\n",
              "      <td>36</td>\n",
              "      <td>self-employed</td>\n",
              "      <td>married</td>\n",
              "      <td>tertiary</td>\n",
              "      <td>no</td>\n",
              "      <td>307</td>\n",
              "      <td>yes</td>\n",
              "      <td>no</td>\n",
              "      <td>cellular</td>\n",
              "      <td>14</td>\n",
              "      <td>may</td>\n",
              "      <td>341</td>\n",
              "      <td>1</td>\n",
              "      <td>330</td>\n",
              "      <td>2</td>\n",
              "      <td>other</td>\n",
              "      <td>no</td>\n",
              "    </tr>\n",
              "    <tr>\n",
              "      <th>9</th>\n",
              "      <td>43</td>\n",
              "      <td>services</td>\n",
              "      <td>married</td>\n",
              "      <td>primary</td>\n",
              "      <td>no</td>\n",
              "      <td>-88</td>\n",
              "      <td>yes</td>\n",
              "      <td>yes</td>\n",
              "      <td>cellular</td>\n",
              "      <td>17</td>\n",
              "      <td>apr</td>\n",
              "      <td>313</td>\n",
              "      <td>1</td>\n",
              "      <td>147</td>\n",
              "      <td>2</td>\n",
              "      <td>failure</td>\n",
              "      <td>no</td>\n",
              "    </tr>\n",
              "  </tbody>\n",
              "</table>\n",
              "</div>"
            ],
            "text/plain": [
              "   age            job  marital  education  ... pdays  previous poutcome   y\n",
              "1   33       services  married  secondary  ...   339         4  failure  no\n",
              "2   35     management   single   tertiary  ...   330         1  failure  no\n",
              "5   35     management   single   tertiary  ...   176         3  failure  no\n",
              "6   36  self-employed  married   tertiary  ...   330         2    other  no\n",
              "9   43       services  married    primary  ...   147         2  failure  no\n",
              "\n",
              "[5 rows x 17 columns]"
            ]
          },
          "metadata": {
            "tags": []
          },
          "execution_count": 55
        }
      ]
    },
    {
      "cell_type": "code",
      "metadata": {
        "id": "Gxgay_7_GGZx",
        "colab_type": "code",
        "colab": {
          "base_uri": "https://localhost:8080/",
          "height": 402
        },
        "outputId": "1e4ca0f2-bcff-4c01-ea9a-adf2242fe4ce"
      },
      "source": [
        "df1[['age','job']]"
      ],
      "execution_count": 63,
      "outputs": [
        {
          "output_type": "execute_result",
          "data": {
            "text/html": [
              "<div>\n",
              "<style scoped>\n",
              "    .dataframe tbody tr th:only-of-type {\n",
              "        vertical-align: middle;\n",
              "    }\n",
              "\n",
              "    .dataframe tbody tr th {\n",
              "        vertical-align: top;\n",
              "    }\n",
              "\n",
              "    .dataframe thead th {\n",
              "        text-align: right;\n",
              "    }\n",
              "</style>\n",
              "<table border=\"1\" class=\"dataframe\">\n",
              "  <thead>\n",
              "    <tr style=\"text-align: right;\">\n",
              "      <th></th>\n",
              "      <th>age</th>\n",
              "      <th>job</th>\n",
              "    </tr>\n",
              "  </thead>\n",
              "  <tbody>\n",
              "    <tr>\n",
              "      <th>1</th>\n",
              "      <td>33</td>\n",
              "      <td>services</td>\n",
              "    </tr>\n",
              "    <tr>\n",
              "      <th>2</th>\n",
              "      <td>35</td>\n",
              "      <td>management</td>\n",
              "    </tr>\n",
              "    <tr>\n",
              "      <th>5</th>\n",
              "      <td>35</td>\n",
              "      <td>management</td>\n",
              "    </tr>\n",
              "    <tr>\n",
              "      <th>6</th>\n",
              "      <td>36</td>\n",
              "      <td>self-employed</td>\n",
              "    </tr>\n",
              "    <tr>\n",
              "      <th>9</th>\n",
              "      <td>43</td>\n",
              "      <td>services</td>\n",
              "    </tr>\n",
              "    <tr>\n",
              "      <th>...</th>\n",
              "      <td>...</td>\n",
              "      <td>...</td>\n",
              "    </tr>\n",
              "    <tr>\n",
              "      <th>4492</th>\n",
              "      <td>32</td>\n",
              "      <td>technician</td>\n",
              "    </tr>\n",
              "    <tr>\n",
              "      <th>4504</th>\n",
              "      <td>42</td>\n",
              "      <td>blue-collar</td>\n",
              "    </tr>\n",
              "    <tr>\n",
              "      <th>4514</th>\n",
              "      <td>38</td>\n",
              "      <td>blue-collar</td>\n",
              "    </tr>\n",
              "    <tr>\n",
              "      <th>4519</th>\n",
              "      <td>28</td>\n",
              "      <td>blue-collar</td>\n",
              "    </tr>\n",
              "    <tr>\n",
              "      <th>4520</th>\n",
              "      <td>44</td>\n",
              "      <td>entrepreneur</td>\n",
              "    </tr>\n",
              "  </tbody>\n",
              "</table>\n",
              "<p>764 rows × 2 columns</p>\n",
              "</div>"
            ],
            "text/plain": [
              "      age            job\n",
              "1      33       services\n",
              "2      35     management\n",
              "5      35     management\n",
              "6      36  self-employed\n",
              "9      43       services\n",
              "...   ...            ...\n",
              "4492   32     technician\n",
              "4504   42    blue-collar\n",
              "4514   38    blue-collar\n",
              "4519   28    blue-collar\n",
              "4520   44   entrepreneur\n",
              "\n",
              "[764 rows x 2 columns]"
            ]
          },
          "metadata": {
            "tags": []
          },
          "execution_count": 63
        }
      ]
    },
    {
      "cell_type": "code",
      "metadata": {
        "id": "yQ0QqwcZGSwB",
        "colab_type": "code",
        "colab": {}
      },
      "source": [
        "df1.rename(columns={'age':'Age','job':'Job','y':'Loan_status'},inplace=True)"
      ],
      "execution_count": 0,
      "outputs": []
    },
    {
      "cell_type": "code",
      "metadata": {
        "id": "nS0cuZhvGaFo",
        "colab_type": "code",
        "colab": {
          "base_uri": "https://localhost:8080/",
          "height": 50
        },
        "outputId": "1f15cd5c-01c3-49e5-e930-30d96fd0c979"
      },
      "source": [
        "print(df1['Job'].unique())"
      ],
      "execution_count": 91,
      "outputs": [
        {
          "output_type": "stream",
          "text": [
            "['services' 'management' 'self-employed' 'blue-collar' 'admin.'\n",
            " 'technician' 'unemployed' 'student' 'retired' 'housemaid' 'entrepreneur']\n"
          ],
          "name": "stdout"
        }
      ]
    },
    {
      "cell_type": "code",
      "metadata": {
        "id": "jm9mW8_fHyq4",
        "colab_type": "code",
        "colab": {
          "base_uri": "https://localhost:8080/",
          "height": 218
        },
        "outputId": "00d9b472-ac77-4595-a6d2-24fde18581f0"
      },
      "source": [
        "print(df1['Job'].value_counts())"
      ],
      "execution_count": 79,
      "outputs": [
        {
          "output_type": "stream",
          "text": [
            "management       177\n",
            "blue-collar      143\n",
            "technician       137\n",
            "admin.           102\n",
            "services          58\n",
            "retired           44\n",
            "self-employed     26\n",
            "entrepreneur      21\n",
            "unemployed        20\n",
            "student           19\n",
            "housemaid         17\n",
            "Name: job, dtype: int64\n"
          ],
          "name": "stdout"
        }
      ]
    },
    {
      "cell_type": "code",
      "metadata": {
        "id": "MsobrU2jJoO_",
        "colab_type": "code",
        "colab": {
          "base_uri": "https://localhost:8080/",
          "height": 319
        },
        "outputId": "d322a931-4530-49e5-f168-5c552c4ddb0d"
      },
      "source": [
        "print(df1.nunique())"
      ],
      "execution_count": 81,
      "outputs": [
        {
          "output_type": "stream",
          "text": [
            "age           58\n",
            "job           11\n",
            "marital        3\n",
            "education      3\n",
            "default        2\n",
            "balance      606\n",
            "housing        2\n",
            "loan           2\n",
            "contact        2\n",
            "day           31\n",
            "month         12\n",
            "duration     430\n",
            "campaign      11\n",
            "pdays        280\n",
            "previous      22\n",
            "poutcome       3\n",
            "y              2\n",
            "dtype: int64\n"
          ],
          "name": "stdout"
        }
      ]
    },
    {
      "cell_type": "code",
      "metadata": {
        "id": "mY-d5LU5VeEL",
        "colab_type": "code",
        "colab": {
          "base_uri": "https://localhost:8080/",
          "height": 84
        },
        "outputId": "75ad104f-20a3-4ae3-b38b-d31c0390812f"
      },
      "source": [
        "df1.columns"
      ],
      "execution_count": 92,
      "outputs": [
        {
          "output_type": "execute_result",
          "data": {
            "text/plain": [
              "Index(['Age', 'Job', 'marital', 'education', 'default', 'balance', 'housing',\n",
              "       'loan', 'contact', 'day', 'month', 'duration', 'campaign', 'pdays',\n",
              "       'previous', 'poutcome', 'Loan_status'],\n",
              "      dtype='object')"
            ]
          },
          "metadata": {
            "tags": []
          },
          "execution_count": 92
        }
      ]
    },
    {
      "cell_type": "code",
      "metadata": {
        "id": "J-C3gW-XUghM",
        "colab_type": "code",
        "colab": {
          "base_uri": "https://localhost:8080/",
          "height": 420
        },
        "outputId": "45741800-e1d7-405b-ba29-e42697e3bf80"
      },
      "source": [
        "df1.groupby('Job').Loan_status.value_counts()"
      ],
      "execution_count": 93,
      "outputs": [
        {
          "output_type": "execute_result",
          "data": {
            "text/plain": [
              "Job            Loan_status\n",
              "admin.         no              77\n",
              "               yes             25\n",
              "blue-collar    no             126\n",
              "               yes             17\n",
              "entrepreneur   no              18\n",
              "               yes              3\n",
              "housemaid      no              12\n",
              "               yes              5\n",
              "management     no             130\n",
              "               yes             47\n",
              "retired        no              30\n",
              "               yes             14\n",
              "self-employed  no              22\n",
              "               yes              4\n",
              "services       no              44\n",
              "               yes             14\n",
              "student        no              11\n",
              "               yes              8\n",
              "technician     no             108\n",
              "               yes             29\n",
              "unemployed     no              15\n",
              "               yes              5\n",
              "Name: Loan_status, dtype: int64"
            ]
          },
          "metadata": {
            "tags": []
          },
          "execution_count": 93
        }
      ]
    },
    {
      "cell_type": "code",
      "metadata": {
        "id": "TvNbhEXVVk1v",
        "colab_type": "code",
        "colab": {
          "base_uri": "https://localhost:8080/",
          "height": 588
        },
        "outputId": "4a727473-bac1-4d5c-e671-659ea9fab624"
      },
      "source": [
        "df1.groupby('Job').marital.value_counts()"
      ],
      "execution_count": 84,
      "outputs": [
        {
          "output_type": "execute_result",
          "data": {
            "text/plain": [
              "job            marital \n",
              "admin.         married      55\n",
              "               single       36\n",
              "               divorced     11\n",
              "blue-collar    married     106\n",
              "               single       27\n",
              "               divorced     10\n",
              "entrepreneur   married      15\n",
              "               single        4\n",
              "               divorced      2\n",
              "housemaid      married      10\n",
              "               divorced      4\n",
              "               single        3\n",
              "management     married      94\n",
              "               single       62\n",
              "               divorced     21\n",
              "retired        married      35\n",
              "               divorced      6\n",
              "               single        3\n",
              "self-employed  married      22\n",
              "               divorced      2\n",
              "               single        2\n",
              "services       married      28\n",
              "               single       21\n",
              "               divorced      9\n",
              "student        single       18\n",
              "               married       1\n",
              "technician     married      76\n",
              "               single       50\n",
              "               divorced     11\n",
              "unemployed     married      14\n",
              "               divorced      4\n",
              "               single        2\n",
              "Name: marital, dtype: int64"
            ]
          },
          "metadata": {
            "tags": []
          },
          "execution_count": 84
        }
      ]
    },
    {
      "cell_type": "code",
      "metadata": {
        "id": "MOOrAoKBVx6E",
        "colab_type": "code",
        "colab": {
          "base_uri": "https://localhost:8080/",
          "height": 151
        },
        "outputId": "3a72e106-cb4b-499f-bd26-875dbf2a5e96"
      },
      "source": [
        "df1.groupby('marital').Loan_status.value_counts(normalize=True)"
      ],
      "execution_count": 86,
      "outputs": [
        {
          "output_type": "execute_result",
          "data": {
            "text/plain": [
              "marital   y  \n",
              "divorced  no     0.737500\n",
              "          yes    0.262500\n",
              "married   no     0.789474\n",
              "          yes    0.210526\n",
              "single    no     0.763158\n",
              "          yes    0.236842\n",
              "Name: y, dtype: float64"
            ]
          },
          "metadata": {
            "tags": []
          },
          "execution_count": 86
        }
      ]
    },
    {
      "cell_type": "code",
      "metadata": {
        "id": "vUk2NNlkWSbT",
        "colab_type": "code",
        "colab": {
          "base_uri": "https://localhost:8080/",
          "height": 186
        },
        "outputId": "e63a8ca9-b0b5-495c-b7b4-fa91cecc8738"
      },
      "source": [
        "df1[(df1['Loan_status']=='yes') & (df1['Age']==30)]"
      ],
      "execution_count": 99,
      "outputs": [
        {
          "output_type": "execute_result",
          "data": {
            "text/html": [
              "<div>\n",
              "<style scoped>\n",
              "    .dataframe tbody tr th:only-of-type {\n",
              "        vertical-align: middle;\n",
              "    }\n",
              "\n",
              "    .dataframe tbody tr th {\n",
              "        vertical-align: top;\n",
              "    }\n",
              "\n",
              "    .dataframe thead th {\n",
              "        text-align: right;\n",
              "    }\n",
              "</style>\n",
              "<table border=\"1\" class=\"dataframe\">\n",
              "  <thead>\n",
              "    <tr style=\"text-align: right;\">\n",
              "      <th></th>\n",
              "      <th>Age</th>\n",
              "      <th>Job</th>\n",
              "      <th>marital</th>\n",
              "      <th>education</th>\n",
              "      <th>default</th>\n",
              "      <th>balance</th>\n",
              "      <th>housing</th>\n",
              "      <th>loan</th>\n",
              "      <th>contact</th>\n",
              "      <th>day</th>\n",
              "      <th>month</th>\n",
              "      <th>duration</th>\n",
              "      <th>campaign</th>\n",
              "      <th>pdays</th>\n",
              "      <th>previous</th>\n",
              "      <th>poutcome</th>\n",
              "      <th>Loan_status</th>\n",
              "    </tr>\n",
              "  </thead>\n",
              "  <tbody>\n",
              "    <tr>\n",
              "      <th>2037</th>\n",
              "      <td>30</td>\n",
              "      <td>management</td>\n",
              "      <td>married</td>\n",
              "      <td>tertiary</td>\n",
              "      <td>no</td>\n",
              "      <td>1942</td>\n",
              "      <td>yes</td>\n",
              "      <td>yes</td>\n",
              "      <td>cellular</td>\n",
              "      <td>21</td>\n",
              "      <td>nov</td>\n",
              "      <td>436</td>\n",
              "      <td>2</td>\n",
              "      <td>178</td>\n",
              "      <td>3</td>\n",
              "      <td>other</td>\n",
              "      <td>yes</td>\n",
              "    </tr>\n",
              "    <tr>\n",
              "      <th>2332</th>\n",
              "      <td>30</td>\n",
              "      <td>management</td>\n",
              "      <td>married</td>\n",
              "      <td>tertiary</td>\n",
              "      <td>no</td>\n",
              "      <td>102</td>\n",
              "      <td>yes</td>\n",
              "      <td>no</td>\n",
              "      <td>cellular</td>\n",
              "      <td>5</td>\n",
              "      <td>apr</td>\n",
              "      <td>470</td>\n",
              "      <td>7</td>\n",
              "      <td>426</td>\n",
              "      <td>3</td>\n",
              "      <td>other</td>\n",
              "      <td>yes</td>\n",
              "    </tr>\n",
              "    <tr>\n",
              "      <th>3684</th>\n",
              "      <td>30</td>\n",
              "      <td>admin.</td>\n",
              "      <td>single</td>\n",
              "      <td>tertiary</td>\n",
              "      <td>no</td>\n",
              "      <td>305</td>\n",
              "      <td>no</td>\n",
              "      <td>no</td>\n",
              "      <td>cellular</td>\n",
              "      <td>30</td>\n",
              "      <td>apr</td>\n",
              "      <td>633</td>\n",
              "      <td>1</td>\n",
              "      <td>85</td>\n",
              "      <td>2</td>\n",
              "      <td>success</td>\n",
              "      <td>yes</td>\n",
              "    </tr>\n",
              "    <tr>\n",
              "      <th>4213</th>\n",
              "      <td>30</td>\n",
              "      <td>technician</td>\n",
              "      <td>single</td>\n",
              "      <td>secondary</td>\n",
              "      <td>no</td>\n",
              "      <td>-522</td>\n",
              "      <td>yes</td>\n",
              "      <td>yes</td>\n",
              "      <td>cellular</td>\n",
              "      <td>5</td>\n",
              "      <td>may</td>\n",
              "      <td>670</td>\n",
              "      <td>2</td>\n",
              "      <td>286</td>\n",
              "      <td>6</td>\n",
              "      <td>failure</td>\n",
              "      <td>yes</td>\n",
              "    </tr>\n",
              "  </tbody>\n",
              "</table>\n",
              "</div>"
            ],
            "text/plain": [
              "      Age         Job  marital  education  ... pdays  previous poutcome Loan_status\n",
              "2037   30  management  married   tertiary  ...   178         3    other         yes\n",
              "2332   30  management  married   tertiary  ...   426         3    other         yes\n",
              "3684   30      admin.   single   tertiary  ...    85         2  success         yes\n",
              "4213   30  technician   single  secondary  ...   286         6  failure         yes\n",
              "\n",
              "[4 rows x 17 columns]"
            ]
          },
          "metadata": {
            "tags": []
          },
          "execution_count": 99
        }
      ]
    },
    {
      "cell_type": "code",
      "metadata": {
        "id": "Jf6oFL9OYXaI",
        "colab_type": "code",
        "colab": {
          "base_uri": "https://localhost:8080/",
          "height": 218
        },
        "outputId": "5c9d705a-b48d-4ecf-b9bd-5e57619e0ed9"
      },
      "source": [
        "df1['Loan_status']=='yes'"
      ],
      "execution_count": 95,
      "outputs": [
        {
          "output_type": "execute_result",
          "data": {
            "text/plain": [
              "1       False\n",
              "2       False\n",
              "5       False\n",
              "6       False\n",
              "9       False\n",
              "        ...  \n",
              "4492    False\n",
              "4504     True\n",
              "4514    False\n",
              "4519    False\n",
              "4520    False\n",
              "Name: Loan_status, Length: 764, dtype: bool"
            ]
          },
          "metadata": {
            "tags": []
          },
          "execution_count": 95
        }
      ]
    },
    {
      "cell_type": "code",
      "metadata": {
        "id": "4TF7jHmtY7ri",
        "colab_type": "code",
        "colab": {
          "base_uri": "https://localhost:8080/",
          "height": 84
        },
        "outputId": "1d4197c9-4fc2-487b-ab75-4858551982ff"
      },
      "source": [
        "df1[df1['Loan_status']=='yes']['education'].value_counts(normalize=True)"
      ],
      "execution_count": 107,
      "outputs": [
        {
          "output_type": "execute_result",
          "data": {
            "text/plain": [
              "secondary    0.502924\n",
              "tertiary     0.409357\n",
              "primary      0.087719\n",
              "Name: education, dtype: float64"
            ]
          },
          "metadata": {
            "tags": []
          },
          "execution_count": 107
        }
      ]
    },
    {
      "cell_type": "code",
      "metadata": {
        "id": "ko75XfRLb5gG",
        "colab_type": "code",
        "colab": {
          "base_uri": "https://localhost:8080/",
          "height": 402
        },
        "outputId": "441ec722-f54b-4733-c199-6537ee3e2118"
      },
      "source": [
        "df1[df1['Loan_status']=='yes'][['education','Age']]"
      ],
      "execution_count": 108,
      "outputs": [
        {
          "output_type": "execute_result",
          "data": {
            "text/html": [
              "<div>\n",
              "<style scoped>\n",
              "    .dataframe tbody tr th:only-of-type {\n",
              "        vertical-align: middle;\n",
              "    }\n",
              "\n",
              "    .dataframe tbody tr th {\n",
              "        vertical-align: top;\n",
              "    }\n",
              "\n",
              "    .dataframe thead th {\n",
              "        text-align: right;\n",
              "    }\n",
              "</style>\n",
              "<table border=\"1\" class=\"dataframe\">\n",
              "  <thead>\n",
              "    <tr style=\"text-align: right;\">\n",
              "      <th></th>\n",
              "      <th>education</th>\n",
              "      <th>Age</th>\n",
              "    </tr>\n",
              "  </thead>\n",
              "  <tbody>\n",
              "    <tr>\n",
              "      <th>38</th>\n",
              "      <td>secondary</td>\n",
              "      <td>33</td>\n",
              "    </tr>\n",
              "    <tr>\n",
              "      <th>53</th>\n",
              "      <td>tertiary</td>\n",
              "      <td>34</td>\n",
              "    </tr>\n",
              "    <tr>\n",
              "      <th>70</th>\n",
              "      <td>tertiary</td>\n",
              "      <td>37</td>\n",
              "    </tr>\n",
              "    <tr>\n",
              "      <th>83</th>\n",
              "      <td>secondary</td>\n",
              "      <td>52</td>\n",
              "    </tr>\n",
              "    <tr>\n",
              "      <th>110</th>\n",
              "      <td>secondary</td>\n",
              "      <td>21</td>\n",
              "    </tr>\n",
              "    <tr>\n",
              "      <th>...</th>\n",
              "      <td>...</td>\n",
              "      <td>...</td>\n",
              "    </tr>\n",
              "    <tr>\n",
              "      <th>4433</th>\n",
              "      <td>tertiary</td>\n",
              "      <td>40</td>\n",
              "    </tr>\n",
              "    <tr>\n",
              "      <th>4447</th>\n",
              "      <td>primary</td>\n",
              "      <td>49</td>\n",
              "    </tr>\n",
              "    <tr>\n",
              "      <th>4458</th>\n",
              "      <td>tertiary</td>\n",
              "      <td>29</td>\n",
              "    </tr>\n",
              "    <tr>\n",
              "      <th>4465</th>\n",
              "      <td>tertiary</td>\n",
              "      <td>38</td>\n",
              "    </tr>\n",
              "    <tr>\n",
              "      <th>4504</th>\n",
              "      <td>secondary</td>\n",
              "      <td>42</td>\n",
              "    </tr>\n",
              "  </tbody>\n",
              "</table>\n",
              "<p>171 rows × 2 columns</p>\n",
              "</div>"
            ],
            "text/plain": [
              "      education  Age\n",
              "38    secondary   33\n",
              "53     tertiary   34\n",
              "70     tertiary   37\n",
              "83    secondary   52\n",
              "110   secondary   21\n",
              "...         ...  ...\n",
              "4433   tertiary   40\n",
              "4447    primary   49\n",
              "4458   tertiary   29\n",
              "4465   tertiary   38\n",
              "4504  secondary   42\n",
              "\n",
              "[171 rows x 2 columns]"
            ]
          },
          "metadata": {
            "tags": []
          },
          "execution_count": 108
        }
      ]
    },
    {
      "cell_type": "code",
      "metadata": {
        "id": "74x_v9KadqwH",
        "colab_type": "code",
        "colab": {
          "base_uri": "https://localhost:8080/",
          "height": 84
        },
        "outputId": "facaacad-1bcc-418f-a0db-9e3cfe0c39b4"
      },
      "source": [
        "pivot=df1.pivot_table(index='Loan_status',values='Age',columns='marital')\n",
        "print(pivot)"
      ],
      "execution_count": 110,
      "outputs": [
        {
          "output_type": "stream",
          "text": [
            "marital       divorced    married     single\n",
            "Loan_status                                 \n",
            "no           45.423729  43.416667  33.982759\n",
            "yes          47.809524  46.447917  34.259259\n"
          ],
          "name": "stdout"
        }
      ]
    },
    {
      "cell_type": "code",
      "metadata": {
        "id": "SroqkKsVeQhg",
        "colab_type": "code",
        "colab": {
          "base_uri": "https://localhost:8080/",
          "height": 101
        },
        "outputId": "b26e3bd6-1b40-416d-a27f-df0ae56ac131"
      },
      "source": [
        "pivot=df1.pivot_table(index='marital',values='Age',columns='Loan_status',aggfunc=np.min)\n",
        "print(pivot)"
      ],
      "execution_count": 116,
      "outputs": [
        {
          "output_type": "stream",
          "text": [
            "Loan_status  no  yes\n",
            "marital             \n",
            "divorced     31   31\n",
            "married      24   25\n",
            "single       20   21\n"
          ],
          "name": "stdout"
        }
      ]
    },
    {
      "cell_type": "code",
      "metadata": {
        "id": "Ei0LQ6uDgSen",
        "colab_type": "code",
        "colab": {
          "base_uri": "https://localhost:8080/",
          "height": 101
        },
        "outputId": "fd5f338a-0411-4ecf-a726-b51587d38496"
      },
      "source": [
        "pivot=df1.pivot_table(index='marital',values='Age',columns='Loan_status',aggfunc=np.mean)\n",
        "print(pivot)"
      ],
      "execution_count": 117,
      "outputs": [
        {
          "output_type": "stream",
          "text": [
            "Loan_status         no        yes\n",
            "marital                          \n",
            "divorced     45.423729  47.809524\n",
            "married      43.416667  46.447917\n",
            "single       33.982759  34.259259\n"
          ],
          "name": "stdout"
        }
      ]
    },
    {
      "cell_type": "code",
      "metadata": {
        "id": "v5ROohXyg3zA",
        "colab_type": "code",
        "colab": {}
      },
      "source": [
        ""
      ],
      "execution_count": 0,
      "outputs": []
    }
  ]
}