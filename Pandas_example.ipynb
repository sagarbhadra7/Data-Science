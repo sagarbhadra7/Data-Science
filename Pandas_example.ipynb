{
  "nbformat": 4,
  "nbformat_minor": 0,
  "metadata": {
    "colab": {
      "name": "Pandas_example.ipynb",
      "provenance": [],
      "authorship_tag": "ABX9TyPGXyssM2dW6Mw4QufIOFkF",
      "include_colab_link": true
    },
    "kernelspec": {
      "name": "python3",
      "display_name": "Python 3"
    }
  },
  "cells": [
    {
      "cell_type": "markdown",
      "metadata": {
        "id": "view-in-github",
        "colab_type": "text"
      },
      "source": [
        "<a href=\"https://colab.research.google.com/github/sagarbhadra7/Python-Programs/blob/master/Pandas_example.ipynb\" target=\"_parent\"><img src=\"https://colab.research.google.com/assets/colab-badge.svg\" alt=\"Open In Colab\"/></a>"
      ]
    },
    {
      "cell_type": "code",
      "metadata": {
        "id": "qCYeITOy-zof",
        "colab_type": "code",
        "colab": {
          "base_uri": "https://localhost:8080/",
          "height": 205
        },
        "outputId": "9b196363-4427-4e1d-eba1-dd89fbfb681c"
      },
      "source": [
        "pip show pandas"
      ],
      "execution_count": 1,
      "outputs": [
        {
          "output_type": "stream",
          "text": [
            "Name: pandas\n",
            "Version: 0.25.3\n",
            "Summary: Powerful data structures for data analysis, time series, and statistics\n",
            "Home-page: http://pandas.pydata.org\n",
            "Author: None\n",
            "Author-email: None\n",
            "License: BSD\n",
            "Location: /usr/local/lib/python3.6/dist-packages\n",
            "Requires: pytz, numpy, python-dateutil\n",
            "Required-by: xarray, vega-datasets, statsmodels, stable-baselines, sklearn-pandas, seaborn, pymc3, plotnine, pandas-profiling, pandas-gbq, pandas-datareader, mlxtend, mizani, magenta, gspread-dataframe, google-colab, fix-yahoo-finance, featuretools, fbprophet, fastai, cufflinks, altair\n"
          ],
          "name": "stdout"
        }
      ]
    },
    {
      "cell_type": "code",
      "metadata": {
        "id": "8Ljn3ZFw-4D2",
        "colab_type": "code",
        "colab": {}
      },
      "source": [
        "import pandas as pd "
      ],
      "execution_count": 0,
      "outputs": []
    },
    {
      "cell_type": "code",
      "metadata": {
        "id": "bHSI4u5CAE8H",
        "colab_type": "code",
        "colab": {}
      },
      "source": [
        "list1=[1,2,3,4,5,6,7,8,9]\n",
        "index=['a','b','c','d','e','f','g','h','i']"
      ],
      "execution_count": 0,
      "outputs": []
    },
    {
      "cell_type": "code",
      "metadata": {
        "id": "KsOIvdVtAlUm",
        "colab_type": "code",
        "colab": {
          "base_uri": "https://localhost:8080/",
          "height": 185
        },
        "outputId": "c27e8cc3-afb5-42a3-fbc8-b349a24265ff"
      },
      "source": [
        "pd.Series(list1,index,dtype='float',name='ser1')"
      ],
      "execution_count": 17,
      "outputs": [
        {
          "output_type": "execute_result",
          "data": {
            "text/plain": [
              "a    1.0\n",
              "b    2.0\n",
              "c    3.0\n",
              "d    4.0\n",
              "e    5.0\n",
              "f    6.0\n",
              "g    7.0\n",
              "h    8.0\n",
              "i    9.0\n",
              "Name: ser1, dtype: float64"
            ]
          },
          "metadata": {
            "tags": []
          },
          "execution_count": 17
        }
      ]
    },
    {
      "cell_type": "code",
      "metadata": {
        "id": "YlS_VfSCBD7d",
        "colab_type": "code",
        "colab": {
          "base_uri": "https://localhost:8080/",
          "height": 185
        },
        "outputId": "c61d9c90-8c86-4244-b96b-ad739ab29876"
      },
      "source": [
        "print(ser1)"
      ],
      "execution_count": 11,
      "outputs": [
        {
          "output_type": "stream",
          "text": [
            "a    1\n",
            "b    2\n",
            "c    3\n",
            "d    4\n",
            "e    5\n",
            "f    6\n",
            "g    7\n",
            "h    8\n",
            "i    9\n",
            "dtype: int64\n"
          ],
          "name": "stdout"
        }
      ]
    },
    {
      "cell_type": "code",
      "metadata": {
        "id": "pjA4i1w1BGVO",
        "colab_type": "code",
        "colab": {
          "base_uri": "https://localhost:8080/",
          "height": 34
        },
        "outputId": "bf595d5b-09b8-4d65-b879-ae24c2d7b5ef"
      },
      "source": [
        "print(ser1.values,ser1.index)"
      ],
      "execution_count": 15,
      "outputs": [
        {
          "output_type": "stream",
          "text": [
            "[1 2 3 4 5 6 7 8 9] Index(['a', 'b', 'c', 'd', 'e', 'f', 'g', 'h', 'i'], dtype='object')\n"
          ],
          "name": "stdout"
        }
      ]
    },
    {
      "cell_type": "code",
      "metadata": {
        "id": "t3_xFpJABqHs",
        "colab_type": "code",
        "colab": {
          "base_uri": "https://localhost:8080/",
          "height": 84
        },
        "outputId": "bb2170e8-6da9-4897-f6e6-650384f9b694"
      },
      "source": [
        "print(ser1[2:5])"
      ],
      "execution_count": 16,
      "outputs": [
        {
          "output_type": "execute_result",
          "data": {
            "text/plain": [
              "c    3\n",
              "d    4\n",
              "e    5\n",
              "dtype: int64"
            ]
          },
          "metadata": {
            "tags": []
          },
          "execution_count": 16
        }
      ]
    },
    {
      "cell_type": "code",
      "metadata": {
        "id": "pSR9irXbB8tE",
        "colab_type": "code",
        "colab": {
          "base_uri": "https://localhost:8080/",
          "height": 84
        },
        "outputId": "c45f8ddf-21f2-408c-b91a-f2a4acb7ccf6"
      },
      "source": [
        "print(ser1[['a','c','e']])"
      ],
      "execution_count": 20,
      "outputs": [
        {
          "output_type": "stream",
          "text": [
            "a    1\n",
            "c    3\n",
            "e    5\n",
            "dtype: int64\n"
          ],
          "name": "stdout"
        }
      ]
    },
    {
      "cell_type": "code",
      "metadata": {
        "id": "lEvtZCzOCcKY",
        "colab_type": "code",
        "colab": {}
      },
      "source": [
        "df=pd.DataFrame(dict1,dtype=float,index=['rank1','rank2','rank3','rank4','rank5','rank6','rank7','rank8','rank9'])"
      ],
      "execution_count": 0,
      "outputs": []
    },
    {
      "cell_type": "code",
      "metadata": {
        "id": "pMsnIxcmDYJY",
        "colab_type": "code",
        "colab": {
          "base_uri": "https://localhost:8080/",
          "height": 185
        },
        "outputId": "6adf3f3a-cbc3-43a0-ddee-2043f9091975"
      },
      "source": [
        "print(df)"
      ],
      "execution_count": 33,
      "outputs": [
        {
          "output_type": "stream",
          "text": [
            "      name  Age\n",
            "rank1    a  1.0\n",
            "rank2    b  2.0\n",
            "rank3    c  3.0\n",
            "rank4    d  4.0\n",
            "rank5    e  5.0\n",
            "rank6    f  6.0\n",
            "rank7    g  7.0\n",
            "rank8    h  8.0\n",
            "rank9    i  9.0\n"
          ],
          "name": "stdout"
        }
      ]
    },
    {
      "cell_type": "code",
      "metadata": {
        "id": "4gJZMaDtDnKO",
        "colab_type": "code",
        "colab": {}
      },
      "source": [
        "dict1={'name':index,'Age':list1}"
      ],
      "execution_count": 0,
      "outputs": []
    },
    {
      "cell_type": "code",
      "metadata": {
        "id": "L49pDNI6D8VC",
        "colab_type": "code",
        "colab": {
          "base_uri": "https://localhost:8080/",
          "height": 34
        },
        "outputId": "fbe95e35-025b-4ea6-8eb1-714514c3983b"
      },
      "source": [
        "print(dict1)"
      ],
      "execution_count": 35,
      "outputs": [
        {
          "output_type": "stream",
          "text": [
            "{'name': ['a', 'b', 'c', 'd', 'e', 'f', 'g', 'h', 'i'], 'Age': [1, 2, 3, 4, 5, 6, 7, 8, 9]}\n"
          ],
          "name": "stdout"
        }
      ]
    },
    {
      "cell_type": "code",
      "metadata": {
        "id": "ppCyRE2qD_9R",
        "colab_type": "code",
        "colab": {}
      },
      "source": [
        "d = {'one' : pd.Series([1, 2, 3], index=['a', 'b', 'c']),\n",
        "   'two' : pd.Series([1, 2, 3, 4], index=['a', 'b', 'c', 'd'])}\n",
        "\n",
        "df1 = pd.DataFrame(d)"
      ],
      "execution_count": 0,
      "outputs": []
    },
    {
      "cell_type": "code",
      "metadata": {
        "id": "yzcQMZ5EFSgl",
        "colab_type": "code",
        "colab": {
          "base_uri": "https://localhost:8080/",
          "height": 101
        },
        "outputId": "d503eaa3-7161-4b44-a1e0-c932d2628638"
      },
      "source": [
        "print(df1)"
      ],
      "execution_count": 37,
      "outputs": [
        {
          "output_type": "stream",
          "text": [
            "   one  two\n",
            "a  1.0    1\n",
            "b  2.0    2\n",
            "c  3.0    3\n",
            "d  NaN    4\n"
          ],
          "name": "stdout"
        }
      ]
    },
    {
      "cell_type": "code",
      "metadata": {
        "id": "AEumP9S4Fb6a",
        "colab_type": "code",
        "colab": {
          "base_uri": "https://localhost:8080/",
          "height": 106
        },
        "outputId": "06651a8d-016e-4e9d-b702-e069de3c2dcf"
      },
      "source": [
        "df[1:3]"
      ],
      "execution_count": 38,
      "outputs": [
        {
          "output_type": "execute_result",
          "data": {
            "text/html": [
              "<div>\n",
              "<style scoped>\n",
              "    .dataframe tbody tr th:only-of-type {\n",
              "        vertical-align: middle;\n",
              "    }\n",
              "\n",
              "    .dataframe tbody tr th {\n",
              "        vertical-align: top;\n",
              "    }\n",
              "\n",
              "    .dataframe thead th {\n",
              "        text-align: right;\n",
              "    }\n",
              "</style>\n",
              "<table border=\"1\" class=\"dataframe\">\n",
              "  <thead>\n",
              "    <tr style=\"text-align: right;\">\n",
              "      <th></th>\n",
              "      <th>name</th>\n",
              "      <th>Age</th>\n",
              "    </tr>\n",
              "  </thead>\n",
              "  <tbody>\n",
              "    <tr>\n",
              "      <th>rank2</th>\n",
              "      <td>b</td>\n",
              "      <td>2.0</td>\n",
              "    </tr>\n",
              "    <tr>\n",
              "      <th>rank3</th>\n",
              "      <td>c</td>\n",
              "      <td>3.0</td>\n",
              "    </tr>\n",
              "  </tbody>\n",
              "</table>\n",
              "</div>"
            ],
            "text/plain": [
              "      name  Age\n",
              "rank2    b  2.0\n",
              "rank3    c  3.0"
            ]
          },
          "metadata": {
            "tags": []
          },
          "execution_count": 38
        }
      ]
    },
    {
      "cell_type": "code",
      "metadata": {
        "id": "SQrIMobBF-mW",
        "colab_type": "code",
        "colab": {}
      },
      "source": [
        "df['Concate']=df['name']+str(df['Age'])"
      ],
      "execution_count": 0,
      "outputs": []
    },
    {
      "cell_type": "code",
      "metadata": {
        "id": "CASqTdkHGxSc",
        "colab_type": "code",
        "colab": {
          "base_uri": "https://localhost:8080/",
          "height": 336
        },
        "outputId": "414221bf-8492-4d37-9f35-cd52cc3befc7"
      },
      "source": [
        "print(df['name'],df['Age'])"
      ],
      "execution_count": 46,
      "outputs": [
        {
          "output_type": "stream",
          "text": [
            "rank1    a\n",
            "rank2    b\n",
            "rank3    c\n",
            "rank4    d\n",
            "rank5    e\n",
            "rank6    f\n",
            "rank7    g\n",
            "rank8    h\n",
            "rank9    i\n",
            "Name: name, dtype: object rank1    1.0\n",
            "rank2    2.0\n",
            "rank3    3.0\n",
            "rank4    4.0\n",
            "rank5    5.0\n",
            "rank6    6.0\n",
            "rank7    7.0\n",
            "rank8    8.0\n",
            "rank9    9.0\n",
            "Name: Age, dtype: float64\n"
          ],
          "name": "stdout"
        }
      ]
    },
    {
      "cell_type": "code",
      "metadata": {
        "id": "BdU0ovDnG3Lg",
        "colab_type": "code",
        "colab": {
          "base_uri": "https://localhost:8080/",
          "height": 218
        },
        "outputId": "f484b3b6-5cdf-445c-eb97-23a750a86541"
      },
      "source": [
        "d = {'one' : pd.Series([1, 2, 3], index=['a', 'b', 'c']),\n",
        "   'two' : pd.Series([1, 2, 3, 4], index=['a', 'b', 'c', 'd'])}\n",
        "\n",
        "df2 = pd.DataFrame(d)\n",
        "\n",
        "# Adding a new column to an existing DataFrame object with column label by passing new series\n",
        "\n",
        "print (\"Adding a new column by passing as Series:\")\n",
        "df2['three']=pd.Series([10,20,30],index=['a','b','c'])\n",
        "print(df2)\n",
        "\n",
        "print (\"Adding a new column using the existing columns in DataFrame:\")\n",
        "df2['four']=df2['one']+df2['three']\n",
        "\n",
        "print(df2)"
      ],
      "execution_count": 48,
      "outputs": [
        {
          "output_type": "stream",
          "text": [
            "Adding a new column by passing as Series:\n",
            "   one  two  three\n",
            "a  1.0    1   10.0\n",
            "b  2.0    2   20.0\n",
            "c  3.0    3   30.0\n",
            "d  NaN    4    NaN\n",
            "Adding a new column using the existing columns in DataFrame:\n",
            "   one  two  three  four\n",
            "a  1.0    1   10.0  11.0\n",
            "b  2.0    2   20.0  22.0\n",
            "c  3.0    3   30.0  33.0\n",
            "d  NaN    4    NaN   NaN\n"
          ],
          "name": "stdout"
        }
      ]
    },
    {
      "cell_type": "code",
      "metadata": {
        "id": "ce5WC9oKHY12",
        "colab_type": "code",
        "colab": {}
      },
      "source": [
        "# creating an empty panel\n",
        "import pandas as pd\n",
        "import numpy as np\n",
        "\n",
        "data = np.random.rand(2,4,5)\n",
        "print(data)\n",
        "p = pd.Panel(data)\n",
        "print(p)"
      ],
      "execution_count": 0,
      "outputs": []
    },
    {
      "cell_type": "code",
      "metadata": {
        "id": "Oy_nr6ujLzPi",
        "colab_type": "code",
        "colab": {}
      },
      "source": [
        "#creating an empty panel\n",
        "import pandas as pd\n",
        "import numpy as np\n",
        "\n",
        "data = {'Item1' : pd.DataFrame(np.random.randn(4, 3)), \n",
        "   'Item2' : pd.DataFrame(np.random.randn(4, 2))}\n",
        "p = pd.Panel(data)\n",
        "print(p)"
      ],
      "execution_count": 0,
      "outputs": []
    },
    {
      "cell_type": "code",
      "metadata": {
        "id": "-i2LGXOdMRA_",
        "colab_type": "code",
        "colab": {
          "base_uri": "https://localhost:8080/",
          "height": 118
        },
        "outputId": "e1c3469f-e840-4337-d096-e49cef121f28"
      },
      "source": [
        "import pandas as pd\n",
        "import numpy as np\n",
        "\n",
        "#Create a series with 100 random numbers\n",
        "s = pd.Series(np.random.randn(4))\n",
        "print (\"The axes are:\",s)\n",
        "print (s.axes)"
      ],
      "execution_count": 54,
      "outputs": [
        {
          "output_type": "stream",
          "text": [
            "The axes are: 0   -1.983455\n",
            "1    1.197606\n",
            "2   -0.318376\n",
            "3   -0.596832\n",
            "dtype: float64\n",
            "[RangeIndex(start=0, stop=4, step=1)]\n"
          ],
          "name": "stdout"
        }
      ]
    },
    {
      "cell_type": "code",
      "metadata": {
        "id": "46QDoY4dQP_w",
        "colab_type": "code",
        "colab": {
          "base_uri": "https://localhost:8080/",
          "height": 67
        },
        "outputId": "f09f32a9-98ae-4ddf-8786-174f28d498c4"
      },
      "source": [
        "print(df.T)"
      ],
      "execution_count": 58,
      "outputs": [
        {
          "output_type": "stream",
          "text": [
            "     rank1 rank2 rank3 rank4 rank5 rank6 rank7 rank8 rank9\n",
            "name     a     b     c     d     e     f     g     h     i\n",
            "Age      1     2     3     4     5     6     7     8     9\n"
          ],
          "name": "stdout"
        }
      ]
    },
    {
      "cell_type": "code",
      "metadata": {
        "id": "WPGSW-FDStJO",
        "colab_type": "code",
        "colab": {
          "base_uri": "https://localhost:8080/",
          "height": 67
        },
        "outputId": "5e4cc613-b6b5-44d3-8889-79c4601881ac"
      },
      "source": [
        "print(df.axes)"
      ],
      "execution_count": 59,
      "outputs": [
        {
          "output_type": "stream",
          "text": [
            "[Index(['rank1', 'rank2', 'rank3', 'rank4', 'rank5', 'rank6', 'rank7', 'rank8',\n",
            "       'rank9'],\n",
            "      dtype='object'), Index(['name', 'Age'], dtype='object')]\n"
          ],
          "name": "stdout"
        }
      ]
    },
    {
      "cell_type": "code",
      "metadata": {
        "id": "NUcF1tWFS9tL",
        "colab_type": "code",
        "colab": {
          "base_uri": "https://localhost:8080/",
          "height": 168
        },
        "outputId": "bf7ea410-ace6-4d56-f148-57cfc8bd7965"
      },
      "source": [
        "print(df.values)"
      ],
      "execution_count": 60,
      "outputs": [
        {
          "output_type": "stream",
          "text": [
            "[['a' 1.0]\n",
            " ['b' 2.0]\n",
            " ['c' 3.0]\n",
            " ['d' 4.0]\n",
            " ['e' 5.0]\n",
            " ['f' 6.0]\n",
            " ['g' 7.0]\n",
            " ['h' 8.0]\n",
            " ['i' 9.0]]\n"
          ],
          "name": "stdout"
        }
      ]
    },
    {
      "cell_type": "code",
      "metadata": {
        "id": "WxcDS2QFTH7F",
        "colab_type": "code",
        "colab": {
          "base_uri": "https://localhost:8080/",
          "height": 67
        },
        "outputId": "67f925d3-3ba3-4fc3-ca19-b3c6ce3dea3c"
      },
      "source": [
        "print('Sum of age :'+str(df.sum()))"
      ],
      "execution_count": 62,
      "outputs": [
        {
          "output_type": "stream",
          "text": [
            "Sum of age :name    abcdefghi\n",
            "Age            45\n",
            "dtype: object\n"
          ],
          "name": "stdout"
        }
      ]
    },
    {
      "cell_type": "code",
      "metadata": {
        "id": "KVb7RVciT03R",
        "colab_type": "code",
        "colab": {
          "base_uri": "https://localhost:8080/",
          "height": 168
        },
        "outputId": "f1afd7cf-7194-4201-bd84-88f12b380dcd"
      },
      "source": [
        "print(df.describe())"
      ],
      "execution_count": 63,
      "outputs": [
        {
          "output_type": "stream",
          "text": [
            "            Age\n",
            "count  9.000000\n",
            "mean   5.000000\n",
            "std    2.738613\n",
            "min    1.000000\n",
            "25%    3.000000\n",
            "50%    5.000000\n",
            "75%    7.000000\n",
            "max    9.000000\n"
          ],
          "name": "stdout"
        }
      ]
    },
    {
      "cell_type": "code",
      "metadata": {
        "id": "MZ7TvD3dU4H9",
        "colab_type": "code",
        "colab": {}
      },
      "source": [
        ""
      ],
      "execution_count": 0,
      "outputs": []
    }
  ]
}