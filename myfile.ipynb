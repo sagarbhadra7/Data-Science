{
  "nbformat": 4,
  "nbformat_minor": 0,
  "metadata": {
    "colab": {
      "name": "myfile.ipynb",
      "provenance": [],
      "include_colab_link": true
    },
    "kernelspec": {
      "name": "python3",
      "display_name": "Python 3"
    },
    "accelerator": "GPU"
  },
  "cells": [
    {
      "cell_type": "markdown",
      "metadata": {
        "id": "view-in-github",
        "colab_type": "text"
      },
      "source": [
        "<a href=\"https://colab.research.google.com/github/sagarbhadra7/Data-Science/blob/master/myfile.ipynb\" target=\"_parent\"><img src=\"https://colab.research.google.com/assets/colab-badge.svg\" alt=\"Open In Colab\"/></a>"
      ]
    },
    {
      "cell_type": "code",
      "metadata": {
        "id": "eIdUZjloqVd9",
        "colab_type": "code",
        "colab": {}
      },
      "source": [
        ""
      ],
      "execution_count": 0,
      "outputs": []
    },
    {
      "cell_type": "code",
      "metadata": {
        "id": "xHq0Kmg_q_Hf",
        "colab_type": "code",
        "outputId": "382df9a0-c84f-4862-c543-52bac71874f1",
        "colab": {
          "base_uri": "https://localhost:8080/",
          "height": 121
        }
      },
      "source": [
        "from google.colab import drive\n",
        "drive.mount('/content/gdrive')"
      ],
      "execution_count": 0,
      "outputs": [
        {
          "output_type": "stream",
          "text": [
            "Go to this URL in a browser: https://accounts.google.com/o/oauth2/auth?client_id=947318989803-6bn6qk8qdgf4n4g3pfee6491hc0brc4i.apps.googleusercontent.com&redirect_uri=urn%3aietf%3awg%3aoauth%3a2.0%3aoob&response_type=code&scope=email%20https%3a%2f%2fwww.googleapis.com%2fauth%2fdocs.test%20https%3a%2f%2fwww.googleapis.com%2fauth%2fdrive%20https%3a%2f%2fwww.googleapis.com%2fauth%2fdrive.photos.readonly%20https%3a%2f%2fwww.googleapis.com%2fauth%2fpeopleapi.readonly\n",
            "\n",
            "Enter your authorization code:\n",
            "··········\n",
            "Mounted at /content/gdrive\n"
          ],
          "name": "stdout"
        }
      ]
    },
    {
      "cell_type": "code",
      "metadata": {
        "id": "PhsFviOUrlxO",
        "colab_type": "code",
        "colab": {}
      },
      "source": [
        "!wget -cq https://s3.amazonaws.com/content.udacity-data.com/courses/nd188/flower_data.zip"
      ],
      "execution_count": 0,
      "outputs": []
    },
    {
      "cell_type": "code",
      "metadata": {
        "id": "vUGU5q5ar0Qm",
        "colab_type": "code",
        "colab": {}
      },
      "source": [
        ""
      ],
      "execution_count": 0,
      "outputs": []
    },
    {
      "cell_type": "code",
      "metadata": {
        "id": "7gxgSG4cs9Hl",
        "colab_type": "code",
        "outputId": "6d88f0a5-2efd-4c00-d819-14a70864b9e0",
        "colab": {
          "base_uri": "https://localhost:8080/",
          "height": 296
        }
      },
      "source": [
        "import sklear_crfsuite"
      ],
      "execution_count": 0,
      "outputs": [
        {
          "output_type": "error",
          "ename": "ModuleNotFoundError",
          "evalue": "ignored",
          "traceback": [
            "\u001b[0;31m---------------------------------------------------------------------------\u001b[0m",
            "\u001b[0;31mModuleNotFoundError\u001b[0m                       Traceback (most recent call last)",
            "\u001b[0;32m<ipython-input-2-f3e49b5a635b>\u001b[0m in \u001b[0;36m<module>\u001b[0;34m()\u001b[0m\n\u001b[0;32m----> 1\u001b[0;31m \u001b[0;32mimport\u001b[0m \u001b[0msklear_crfsuite\u001b[0m\u001b[0;34m\u001b[0m\u001b[0;34m\u001b[0m\u001b[0m\n\u001b[0m",
            "\u001b[0;31mModuleNotFoundError\u001b[0m: No module named 'sklear_crfsuite'",
            "",
            "\u001b[0;31m---------------------------------------------------------------------------\u001b[0;32m\nNOTE: If your import is failing due to a missing package, you can\nmanually install dependencies using either !pip or !apt.\n\nTo view examples of installing some common dependencies, click the\n\"Open Examples\" button below.\n\u001b[0;31m---------------------------------------------------------------------------\u001b[0m\n"
          ]
        }
      ]
    },
    {
      "cell_type": "code",
      "metadata": {
        "id": "pwrjtEfltSt3",
        "colab_type": "code",
        "outputId": "b22486e4-e726-4195-ea38-34f5520899b5",
        "colab": {
          "base_uri": "https://localhost:8080/",
          "height": 205
        }
      },
      "source": [
        "!pip install sklearn_crfsuite"
      ],
      "execution_count": 0,
      "outputs": [
        {
          "output_type": "stream",
          "text": [
            "Collecting sklearn_crfsuite\n",
            "  Downloading https://files.pythonhosted.org/packages/25/74/5b7befa513482e6dee1f3dd68171a6c9dfc14c0eaa00f885ffeba54fe9b0/sklearn_crfsuite-0.3.6-py2.py3-none-any.whl\n",
            "Collecting python-crfsuite>=0.8.3\n",
            "\u001b[?25l  Downloading https://files.pythonhosted.org/packages/2f/86/cfcd71edca9d25d3d331209a20f6314b6f3f134c29478f90559cee9ce091/python_crfsuite-0.9.6-cp36-cp36m-manylinux1_x86_64.whl (754kB)\n",
            "\r\u001b[K     |▍                               | 10kB 21.7MB/s eta 0:00:01\r\u001b[K     |▉                               | 20kB 19.9MB/s eta 0:00:01\r\u001b[K     |█▎                              | 30kB 5.7MB/s eta 0:00:01\r\u001b[K     |█▊                              | 40kB 7.2MB/s eta 0:00:01\r\u001b[K     |██▏                             | 51kB 8.7MB/s eta 0:00:01\r\u001b[K     |██▋                             | 61kB 10.0MB/s eta 0:00:01\r\u001b[K     |███                             | 71kB 11.2MB/s eta 0:00:01\r\u001b[K     |███▌                            | 81kB 12.3MB/s eta 0:00:01\r\u001b[K     |████                            | 92kB 9.0MB/s eta 0:00:01\r\u001b[K     |████▍                           | 102kB 9.8MB/s eta 0:00:01\r\u001b[K     |████▉                           | 112kB 9.8MB/s eta 0:00:01\r\u001b[K     |█████▏                          | 122kB 9.8MB/s eta 0:00:01\r\u001b[K     |█████▋                          | 133kB 9.8MB/s eta 0:00:01\r\u001b[K     |██████                          | 143kB 9.8MB/s eta 0:00:01\r\u001b[K     |██████▌                         | 153kB 9.8MB/s eta 0:00:01\r\u001b[K     |███████                         | 163kB 9.8MB/s eta 0:00:01\r\u001b[K     |███████▍                        | 174kB 9.8MB/s eta 0:00:01\r\u001b[K     |███████▉                        | 184kB 9.8MB/s eta 0:00:01\r\u001b[K     |████████▎                       | 194kB 9.8MB/s eta 0:00:01\r\u001b[K     |████████▊                       | 204kB 9.8MB/s eta 0:00:01\r\u001b[K     |█████████▏                      | 215kB 9.8MB/s eta 0:00:01\r\u001b[K     |█████████▋                      | 225kB 9.8MB/s eta 0:00:01\r\u001b[K     |██████████                      | 235kB 9.8MB/s eta 0:00:01\r\u001b[K     |██████████▍                     | 245kB 9.8MB/s eta 0:00:01\r\u001b[K     |██████████▉                     | 256kB 9.8MB/s eta 0:00:01\r\u001b[K     |███████████▎                    | 266kB 9.8MB/s eta 0:00:01\r\u001b[K     |███████████▊                    | 276kB 9.8MB/s eta 0:00:01\r\u001b[K     |████████████▏                   | 286kB 9.8MB/s eta 0:00:01\r\u001b[K     |████████████▋                   | 296kB 9.8MB/s eta 0:00:01\r\u001b[K     |█████████████                   | 307kB 9.8MB/s eta 0:00:01\r\u001b[K     |█████████████▌                  | 317kB 9.8MB/s eta 0:00:01\r\u001b[K     |██████████████                  | 327kB 9.8MB/s eta 0:00:01\r\u001b[K     |██████████████▍                 | 337kB 9.8MB/s eta 0:00:01\r\u001b[K     |██████████████▊                 | 348kB 9.8MB/s eta 0:00:01\r\u001b[K     |███████████████▏                | 358kB 9.8MB/s eta 0:00:01\r\u001b[K     |███████████████▋                | 368kB 9.8MB/s eta 0:00:01\r\u001b[K     |████████████████                | 378kB 9.8MB/s eta 0:00:01\r\u001b[K     |████████████████▌               | 389kB 9.8MB/s eta 0:00:01\r\u001b[K     |█████████████████               | 399kB 9.8MB/s eta 0:00:01\r\u001b[K     |█████████████████▍              | 409kB 9.8MB/s eta 0:00:01\r\u001b[K     |█████████████████▉              | 419kB 9.8MB/s eta 0:00:01\r\u001b[K     |██████████████████▎             | 430kB 9.8MB/s eta 0:00:01\r\u001b[K     |██████████████████▊             | 440kB 9.8MB/s eta 0:00:01\r\u001b[K     |███████████████████▏            | 450kB 9.8MB/s eta 0:00:01\r\u001b[K     |███████████████████▌            | 460kB 9.8MB/s eta 0:00:01\r\u001b[K     |████████████████████            | 471kB 9.8MB/s eta 0:00:01\r\u001b[K     |████████████████████▍           | 481kB 9.8MB/s eta 0:00:01\r\u001b[K     |████████████████████▉           | 491kB 9.8MB/s eta 0:00:01\r\u001b[K     |█████████████████████▎          | 501kB 9.8MB/s eta 0:00:01\r\u001b[K     |█████████████████████▊          | 512kB 9.8MB/s eta 0:00:01\r\u001b[K     |██████████████████████▏         | 522kB 9.8MB/s eta 0:00:01\r\u001b[K     |██████████████████████▋         | 532kB 9.8MB/s eta 0:00:01\r\u001b[K     |███████████████████████         | 542kB 9.8MB/s eta 0:00:01\r\u001b[K     |███████████████████████▌        | 552kB 9.8MB/s eta 0:00:01\r\u001b[K     |████████████████████████        | 563kB 9.8MB/s eta 0:00:01\r\u001b[K     |████████████████████████▎       | 573kB 9.8MB/s eta 0:00:01\r\u001b[K     |████████████████████████▊       | 583kB 9.8MB/s eta 0:00:01\r\u001b[K     |█████████████████████████▏      | 593kB 9.8MB/s eta 0:00:01\r\u001b[K     |█████████████████████████▋      | 604kB 9.8MB/s eta 0:00:01\r\u001b[K     |██████████████████████████      | 614kB 9.8MB/s eta 0:00:01\r\u001b[K     |██████████████████████████▌     | 624kB 9.8MB/s eta 0:00:01\r\u001b[K     |███████████████████████████     | 634kB 9.8MB/s eta 0:00:01\r\u001b[K     |███████████████████████████▍    | 645kB 9.8MB/s eta 0:00:01\r\u001b[K     |███████████████████████████▉    | 655kB 9.8MB/s eta 0:00:01\r\u001b[K     |████████████████████████████▎   | 665kB 9.8MB/s eta 0:00:01\r\u001b[K     |████████████████████████████▊   | 675kB 9.8MB/s eta 0:00:01\r\u001b[K     |█████████████████████████████▏  | 686kB 9.8MB/s eta 0:00:01\r\u001b[K     |█████████████████████████████▌  | 696kB 9.8MB/s eta 0:00:01\r\u001b[K     |██████████████████████████████  | 706kB 9.8MB/s eta 0:00:01\r\u001b[K     |██████████████████████████████▍ | 716kB 9.8MB/s eta 0:00:01\r\u001b[K     |██████████████████████████████▉ | 727kB 9.8MB/s eta 0:00:01\r\u001b[K     |███████████████████████████████▎| 737kB 9.8MB/s eta 0:00:01\r\u001b[K     |███████████████████████████████▊| 747kB 9.8MB/s eta 0:00:01\r\u001b[K     |████████████████████████████████| 757kB 9.8MB/s \n",
            "\u001b[?25hRequirement already satisfied: tqdm>=2.0 in /usr/local/lib/python3.6/dist-packages (from sklearn_crfsuite) (4.28.1)\n",
            "Requirement already satisfied: six in /usr/local/lib/python3.6/dist-packages (from sklearn_crfsuite) (1.12.0)\n",
            "Requirement already satisfied: tabulate in /usr/local/lib/python3.6/dist-packages (from sklearn_crfsuite) (0.8.5)\n",
            "Installing collected packages: python-crfsuite, sklearn-crfsuite\n",
            "Successfully installed python-crfsuite-0.9.6 sklearn-crfsuite-0.3.6\n"
          ],
          "name": "stdout"
        }
      ]
    },
    {
      "cell_type": "code",
      "metadata": {
        "id": "qtWU2GQqr0jH",
        "colab_type": "code",
        "outputId": "a02211e8-740a-4463-f085-50e6e8582378",
        "colab": {
          "base_uri": "https://localhost:8080/",
          "height": 178
        }
      },
      "source": [
        "a='hello'\n"
      ],
      "execution_count": 0,
      "outputs": [
        {
          "output_type": "error",
          "ename": "NameError",
          "evalue": "ignored",
          "traceback": [
            "\u001b[0;31m---------------------------------------------------------------------------\u001b[0m",
            "\u001b[0;31mNameError\u001b[0m                                 Traceback (most recent call last)",
            "\u001b[0;32m<ipython-input-1-1d5a4bfe8055>\u001b[0m in \u001b[0;36m<module>\u001b[0;34m()\u001b[0m\n\u001b[1;32m      1\u001b[0m \u001b[0ma\u001b[0m\u001b[0;34m=\u001b[0m\u001b[0;34m'hello'\u001b[0m\u001b[0;34m\u001b[0m\u001b[0;34m\u001b[0m\u001b[0m\n\u001b[0;32m----> 2\u001b[0;31m \u001b[0mh\u001b[0m \u001b[0;32min\u001b[0m \u001b[0ma\u001b[0m\u001b[0;34m\u001b[0m\u001b[0;34m\u001b[0m\u001b[0m\n\u001b[0m",
            "\u001b[0;31mNameError\u001b[0m: name 'h' is not defined"
          ]
        }
      ]
    },
    {
      "cell_type": "code",
      "metadata": {
        "id": "OfzyOHix7O_d",
        "colab_type": "code",
        "colab": {}
      },
      "source": [
        "import sys\n",
        "def Next_smallest_Palindrome(num):\n",
        "    numstr = str(num)\n",
        "    for i in range(num+1,sys.maxsize):\n",
        "        if str(i) == str(i)[::-1]:\n",
        "            return i"
      ],
      "execution_count": 0,
      "outputs": []
    },
    {
      "cell_type": "code",
      "metadata": {
        "id": "TOwoIu8MvThA",
        "colab_type": "code",
        "outputId": "41d4bbd5-d6b5-436c-b368-91fb71bbaff0",
        "colab": {
          "base_uri": "https://localhost:8080/",
          "height": 134
        }
      },
      "source": [
        "a='New York'\n",
        "print(a)\n",
        "print(type(a))\n",
        "print(len(a))\n",
        "b='I Love'\n",
        "c= b+' '+a\n",
        "print(c)\n",
        "print(c[0])\n",
        "d=c.upper()\n",
        "print(d)\n",
        "list1=[range(10)]\n",
        "print(list1)"
      ],
      "execution_count": 0,
      "outputs": [
        {
          "output_type": "stream",
          "text": [
            "New York\n",
            "<class 'str'>\n",
            "8\n",
            "I Love New York\n",
            "I\n",
            "I LOVE NEW YORK\n",
            "[range(0, 10)]\n"
          ],
          "name": "stdout"
        }
      ]
    },
    {
      "cell_type": "code",
      "metadata": {
        "id": "zSu0GKfDzBry",
        "colab_type": "code",
        "outputId": "272bf44e-32a9-4569-bd60-01adfef22a33",
        "colab": {
          "base_uri": "https://localhost:8080/",
          "height": 50
        }
      },
      "source": [
        "list1=[1,4,6,9,12,15,17,19,80,99]\n",
        "print(list1)\n",
        "print(3 not in list1)"
      ],
      "execution_count": 0,
      "outputs": [
        {
          "output_type": "stream",
          "text": [
            "[1, 4, 6, 9, 12, 15, 17, 19, 80, 99]\n",
            "True\n"
          ],
          "name": "stdout"
        }
      ]
    },
    {
      "cell_type": "code",
      "metadata": {
        "id": "Qc5Nzgvuzvq-",
        "colab_type": "code",
        "outputId": "cbfc942a-8e83-42a7-99b5-d48a407cfb28",
        "colab": {
          "base_uri": "https://localhost:8080/",
          "height": 34
        }
      },
      "source": [
        "l=list(range(1,100,5))\n",
        "print(l)"
      ],
      "execution_count": 0,
      "outputs": [
        {
          "output_type": "stream",
          "text": [
            "[1, 6, 11, 16, 21, 26, 31, 36, 41, 46, 51, 56, 61, 66, 71, 76, 81, 86, 91, 96]\n"
          ],
          "name": "stdout"
        }
      ]
    },
    {
      "cell_type": "code",
      "metadata": {
        "id": "xo3uPUzS1MI2",
        "colab_type": "code",
        "outputId": "2e4c09d1-6182-465c-f8ca-5a630b65baee",
        "colab": {
          "base_uri": "https://localhost:8080/",
          "height": 34
        }
      },
      "source": [
        "print(id(c))"
      ],
      "execution_count": 0,
      "outputs": [
        {
          "output_type": "stream",
          "text": [
            "139691383957168\n"
          ],
          "name": "stdout"
        }
      ]
    },
    {
      "cell_type": "code",
      "metadata": {
        "id": "IWkkwU8apr1O",
        "colab_type": "code",
        "outputId": "5b27605b-6552-440e-d690-b6f48e5b507e",
        "colab": {
          "base_uri": "https://localhost:8080/",
          "height": 128
        }
      },
      "source": [
        "class A: \n",
        "\tdef __init__(self, a, b=0): \n",
        "\t\tself.a = a\n",
        "\n",
        "\n",
        "\tdef __add__(self, o): \n",
        "\t\treturn self.a + o.a \n",
        "    \n",
        "ob1 = A(1) \n",
        "ob2 = A(2) \n",
        "ob3 = A(\"Geeks\") \n",
        "ob4 = A(\"For\") \n",
        "\n",
        "print(ob1 + ob2) \n",
        "print(ob3 + ob4) \n"
      ],
      "execution_count": 0,
      "outputs": [
        {
          "output_type": "error",
          "ename": "IndentationError",
          "evalue": "ignored",
          "traceback": [
            "\u001b[0;36m  File \u001b[0;32m\"<ipython-input-6-a782a31ffeaf>\"\u001b[0;36m, line \u001b[0;32m4\u001b[0m\n\u001b[0;31m    self.b = b\u001b[0m\n\u001b[0m              ^\u001b[0m\n\u001b[0;31mIndentationError\u001b[0m\u001b[0;31m:\u001b[0m unindent does not match any outer indentation level\n"
          ]
        }
      ]
    },
    {
      "cell_type": "code",
      "metadata": {
        "id": "gbFGV84e-h-U",
        "colab_type": "code",
        "outputId": "b87f407e-86f6-41f6-fe9f-c89576b2ae0b",
        "colab": {
          "base_uri": "https://localhost:8080/",
          "height": 252
        }
      },
      "source": [
        "import pandas as pd\n",
        "import numpy as np\n",
        "data = {'name': ['A', 'B', 'C', 'D', 'E'], \n",
        "        'age': [12, 66, 22, 80, 7], \n",
        "        'gender': ['M', 'F', 'F', 'M', 'M'],\n",
        "        }\n",
        "df = pd.DataFrame(data, columns = ['name', 'age', 'gender'])\n",
        "\n",
        "print(\"dataframe before: \\n\",df)\n",
        "\n",
        "\"\"\"\n",
        "Creating a new column called senior_citizen where the value is yes \n",
        "if df.age is greater than 60 and no if not\n",
        "\"\"\"\n",
        "df['senior_citizen'] = np.where(df['age']>=60, 'yes', 'no')\n",
        "print(\"dataframe after:\\n\",df)"
      ],
      "execution_count": 0,
      "outputs": [
        {
          "output_type": "stream",
          "text": [
            "dataframe before: \n",
            "   name  age gender\n",
            "0    A   12      M\n",
            "1    B   66      F\n",
            "2    C   22      F\n",
            "3    D   80      M\n",
            "4    E    7      M\n",
            "dataframe after:\n",
            "   name  age gender senior_citizen\n",
            "0    A   12      M             no\n",
            "1    B   66      F            yes\n",
            "2    C   22      F             no\n",
            "3    D   80      M            yes\n",
            "4    E    7      M             no\n"
          ],
          "name": "stdout"
        }
      ]
    },
    {
      "cell_type": "code",
      "metadata": {
        "id": "ZyJnI_AS5Swt",
        "colab_type": "code",
        "colab": {}
      },
      "source": [
        ""
      ],
      "execution_count": 0,
      "outputs": []
    },
    {
      "cell_type": "code",
      "metadata": {
        "id": "DQ8Gp4sQHvgm",
        "colab_type": "code",
        "outputId": "c0495359-f1bd-4bf3-cb07-80205dc6a00a",
        "colab": {
          "base_uri": "https://localhost:8080/",
          "height": 289
        }
      },
      "source": [
        "\n",
        "from matplotlib import pyplot as plt\n",
        "\n",
        "plt.style.use(\"fivethirtyeight\")\n",
        "\n",
        "\n",
        "minutes = [1, 2, 3, 4, 5, 6, 7, 8, 9]\n",
        "\n",
        "player1 = [8, 6, 5, 5, 4, 2, 1, 1, 0]\n",
        "player2 = [0, 1, 2, 2, 2, 4, 4, 4, 4]\n",
        "player3 = [0, 1, 1, 1, 2, 2, 3, 3, 4]\n",
        "\n",
        "labels = ['player1', 'player2', 'player3']\n",
        "colors = ['#6d904f', '#fc4f30', '#008fd5']\n",
        "\n",
        "plt.stackplot(minutes, player1, player2, player3, labels=labels, colors=colors)\n",
        "\n",
        "plt.legend(loc=(0.07, 0.05))\n",
        "\n",
        "plt.title(\"My Awesome Stack Plot\")\n",
        "plt.tight_layout()\n",
        "plt.show()"
      ],
      "execution_count": 0,
      "outputs": [
        {
          "output_type": "display_data",
          "data": {
            "image/png": "[encoded data removed]",
            "text/plain": [
              "<Figure size 432x288 with 1 Axes>"
            ]
          },
          "metadata": {
            "tags": []
          }
        }
      ]
    },
    {
      "cell_type": "code",
      "metadata": {
        "id": "Y21K6Xt686Xg",
        "colab_type": "code",
        "outputId": "73f5ec7b-f434-4883-a69d-a92a03df3d8e",
        "colab": {
          "base_uri": "https://localhost:8080/",
          "height": 101
        }
      },
      "source": [
        "import pandas as pd\n",
        "import numpy as np\n",
        "data = {'a' : 0., 'b' : 1., 'c' : 2.}\n",
        "s = pd.Series(data,index=['b','c','d','a'])\n",
        "print(s)"
      ],
      "execution_count": 0,
      "outputs": [
        {
          "output_type": "stream",
          "text": [
            "b    1.0\n",
            "c    2.0\n",
            "d    NaN\n",
            "a    0.0\n",
            "dtype: float64\n"
          ],
          "name": "stdout"
        }
      ]
    },
    {
      "cell_type": "code",
      "metadata": {
        "id": "KUfUKTJy_cV5",
        "colab_type": "code",
        "outputId": "8e4dbabe-1fc6-4e26-e5ad-6e436a88e5a3",
        "colab": {
          "base_uri": "https://localhost:8080/",
          "height": 34
        }
      },
      "source": [
        "import pandas as pd\n",
        "s = pd.Series([1,2,3,4,5],index = ['a','b','c','d','e'])\n",
        "\n",
        "#retrieve the first element\n",
        "print(s[['a','c','e']].values)"
      ],
      "execution_count": 0,
      "outputs": [
        {
          "output_type": "stream",
          "text": [
            "[1 3 5]\n"
          ],
          "name": "stdout"
        }
      ]
    },
    {
      "cell_type": "code",
      "metadata": {
        "id": "1bOOTXg7BEFw",
        "colab_type": "code",
        "outputId": "f2916319-3a3b-4827-f340-a73f359403ad",
        "colab": {
          "base_uri": "https://localhost:8080/",
          "height": 101
        }
      },
      "source": [
        "import pandas as pd\n",
        "d = {'one' : pd.Series([1, 2, 3,'l'], index=['a', 'b', 'c','d']),\n",
        "   'two' : pd.Series([1, 2, 3, 4], index=['a', 'b', 'c', 'd'])}\n",
        "\n",
        "df = pd.DataFrame(d)\n",
        "#print(df)\n",
        "#print(d)\n",
        "print(df['one'])"
      ],
      "execution_count": 0,
      "outputs": [
        {
          "output_type": "stream",
          "text": [
            "a    1\n",
            "b    2\n",
            "c    3\n",
            "d    l\n",
            "Name: one, dtype: object\n"
          ],
          "name": "stdout"
        }
      ]
    },
    {
      "cell_type": "code",
      "metadata": {
        "id": "gwK3lB8pNCMM",
        "colab_type": "code",
        "outputId": "eff642a4-873f-4b48-8dbd-264e22bc505d",
        "colab": {
          "base_uri": "https://localhost:8080/",
          "height": 50
        }
      },
      "source": [
        "\n",
        "import numpy as np\n",
        "a = np.arange(9).reshape(3,3)\n",
        "print(a[1,1])\n",
        "np.arange(5)"
      ],
      "execution_count": 0,
      "outputs": [
        {
          "output_type": "stream",
          "text": [
            "4\n"
          ],
          "name": "stdout"
        },
        {
          "output_type": "execute_result",
          "data": {
            "text/plain": [
              "array([0, 1, 2, 3, 4])"
            ]
          },
          "metadata": {
            "tags": []
          },
          "execution_count": 2
        }
      ]
    },
    {
      "cell_type": "code",
      "metadata": {
        "id": "DezLgaSqWWc-",
        "colab_type": "code",
        "outputId": "f412a179-8ec7-4bc7-e343-dca39ef0a85b",
        "colab": {
          "base_uri": "https://localhost:8080/",
          "height": 246
        }
      },
      "source": [
        "# Code starts here\n",
        "import numpy as np\n",
        "# initialize array\n",
        "a=np.array([3,4.5,3+5j,0])\n",
        "print(a)\n",
        "real=np.isreal(a)\n",
        "print(real)\n",
        "real_array=a[real]\n",
        "print(real_array)"
      ],
      "execution_count": 0,
      "outputs": [
        {
          "output_type": "stream",
          "text": [
            "[3. +0.j 4.5+0.j 3. +5.j 0. +0.j]\n",
            "[ True  True False  True]\n"
          ],
          "name": "stdout"
        },
        {
          "output_type": "error",
          "ename": "NameError",
          "evalue": "ignored",
          "traceback": [
            "\u001b[0;31m---------------------------------------------------------------------------\u001b[0m",
            "\u001b[0;31mNameError\u001b[0m                                 Traceback (most recent call last)",
            "\u001b[0;32m<ipython-input-1-09716b2f81da>\u001b[0m in \u001b[0;36m<module>\u001b[0;34m()\u001b[0m\n\u001b[1;32m      5\u001b[0m \u001b[0mreal\u001b[0m\u001b[0;34m=\u001b[0m\u001b[0mnp\u001b[0m\u001b[0;34m.\u001b[0m\u001b[0misreal\u001b[0m\u001b[0;34m(\u001b[0m\u001b[0ma\u001b[0m\u001b[0;34m)\u001b[0m\u001b[0;34m\u001b[0m\u001b[0;34m\u001b[0m\u001b[0m\n\u001b[1;32m      6\u001b[0m \u001b[0mprint\u001b[0m\u001b[0;34m(\u001b[0m\u001b[0mreal\u001b[0m\u001b[0;34m)\u001b[0m\u001b[0;34m\u001b[0m\u001b[0;34m\u001b[0m\u001b[0m\n\u001b[0;32m----> 7\u001b[0;31m \u001b[0mreal_array\u001b[0m\u001b[0;34m=\u001b[0m\u001b[0marray\u001b[0m\u001b[0;34m[\u001b[0m\u001b[0mreal\u001b[0m\u001b[0;34m]\u001b[0m\u001b[0;34m\u001b[0m\u001b[0;34m\u001b[0m\u001b[0m\n\u001b[0m\u001b[1;32m      8\u001b[0m \u001b[0mprint\u001b[0m\u001b[0;34m(\u001b[0m\u001b[0mreal_array\u001b[0m\u001b[0;34m)\u001b[0m\u001b[0;34m\u001b[0m\u001b[0;34m\u001b[0m\u001b[0m\n",
            "\u001b[0;31mNameError\u001b[0m: name 'array' is not defined"
          ]
        }
      ]
    },
    {
      "cell_type": "code",
      "metadata": {
        "id": "MePo9McYM90e",
        "colab_type": "code",
        "outputId": "bd08adf9-0d83-4b80-9e2c-d90e3d8b701a",
        "colab": {
          "base_uri": "https://localhost:8080/",
          "height": 50
        }
      },
      "source": [
        "import numpy as np\n",
        "y = np.array([[2,3], [4,5]])\n",
        "y.flatten()\n",
        "print(y)"
      ],
      "execution_count": 0,
      "outputs": [
        {
          "output_type": "stream",
          "text": [
            "[[2 3]\n",
            " [4 5]]\n"
          ],
          "name": "stdout"
        }
      ]
    },
    {
      "cell_type": "code",
      "metadata": {
        "id": "vrR4pCKzN-IX",
        "colab_type": "code",
        "outputId": "60edfdfd-9260-4b3a-d4ee-3651ef5066a9",
        "colab": {
          "base_uri": "https://localhost:8080/",
          "height": 346
        }
      },
      "source": [
        "import numpy as np\n",
        "# initialize array for prices\n",
        "prices=np.array([[40,35,20],[21,48,70]])\n",
        "print(prices[1,2])\n",
        "print(prices)\n",
        "# Code starts here\n",
        "\n",
        "# flatten the array\n",
        "prices.flatten()\n",
        "print(prices)\n",
        "\n",
        "# minimum price\n",
        "buying_price=np.min(prices)\n",
        "print(buying_price)\n",
        "# index of buying price\n",
        "list_array=list(prices)\n",
        "print(list_array)\n",
        "index=list_array.index(buying_price)\n",
        "print(index)\n",
        "# create subset\n",
        "subset=np.asarray([prices(index,)])\n",
        "print(subset)\n",
        "selling_price=np.max(subset)\n",
        "print(selling_price)\n",
        "# selling price\n",
        "\n",
        "\n",
        "# profit\n",
        "profit=selling_price-buying_price\n",
        "# display\n",
        "print(profit)\n",
        "\n",
        "# Code ends here"
      ],
      "execution_count": 0,
      "outputs": [
        {
          "output_type": "stream",
          "text": [
            "70\n",
            "[[40 35 20]\n",
            " [21 48 70]]\n",
            "[[40 35 20]\n",
            " [21 48 70]]\n",
            "20\n",
            "[array([40, 35, 20]), array([21, 48, 70])]\n"
          ],
          "name": "stdout"
        },
        {
          "output_type": "error",
          "ename": "ValueError",
          "evalue": "ignored",
          "traceback": [
            "\u001b[0;31m---------------------------------------------------------------------------\u001b[0m",
            "\u001b[0;31mValueError\u001b[0m                                Traceback (most recent call last)",
            "\u001b[0;32m<ipython-input-3-27b478c055eb>\u001b[0m in \u001b[0;36m<module>\u001b[0;34m()\u001b[0m\n\u001b[1;32m     16\u001b[0m \u001b[0mlist_array\u001b[0m\u001b[0;34m=\u001b[0m\u001b[0mlist\u001b[0m\u001b[0;34m(\u001b[0m\u001b[0mprices\u001b[0m\u001b[0;34m)\u001b[0m\u001b[0;34m\u001b[0m\u001b[0;34m\u001b[0m\u001b[0m\n\u001b[1;32m     17\u001b[0m \u001b[0mprint\u001b[0m\u001b[0;34m(\u001b[0m\u001b[0mlist_array\u001b[0m\u001b[0;34m)\u001b[0m\u001b[0;34m\u001b[0m\u001b[0;34m\u001b[0m\u001b[0m\n\u001b[0;32m---> 18\u001b[0;31m \u001b[0mindex\u001b[0m\u001b[0;34m=\u001b[0m\u001b[0mlist_array\u001b[0m\u001b[0;34m.\u001b[0m\u001b[0mindex\u001b[0m\u001b[0;34m(\u001b[0m\u001b[0mbuying_price\u001b[0m\u001b[0;34m)\u001b[0m\u001b[0;34m\u001b[0m\u001b[0;34m\u001b[0m\u001b[0m\n\u001b[0m\u001b[1;32m     19\u001b[0m \u001b[0mprint\u001b[0m\u001b[0;34m(\u001b[0m\u001b[0mindex\u001b[0m\u001b[0;34m)\u001b[0m\u001b[0;34m\u001b[0m\u001b[0;34m\u001b[0m\u001b[0m\n\u001b[1;32m     20\u001b[0m \u001b[0;31m# create subset\u001b[0m\u001b[0;34m\u001b[0m\u001b[0;34m\u001b[0m\u001b[0;34m\u001b[0m\u001b[0m\n",
            "\u001b[0;31mValueError\u001b[0m: The truth value of an array with more than one element is ambiguous. Use a.any() or a.all()"
          ]
        }
      ]
    },
    {
      "cell_type": "code",
      "metadata": {
        "id": "Bepl-U6gbElo",
        "colab_type": "code",
        "outputId": "04ee9c73-f325-423a-a0b0-41c5d9a3e88b",
        "colab": {
          "base_uri": "https://localhost:8080/",
          "height": 34
        }
      },
      "source": [
        "import numpy as np\n",
        "\n",
        "ary = np.array([1,2,3,5,8])\n",
        "\n",
        "ary = ary + 1\n",
        "\n",
        "print (ary[1])"
      ],
      "execution_count": 0,
      "outputs": [
        {
          "output_type": "stream",
          "text": [
            "3\n"
          ],
          "name": "stdout"
        }
      ]
    },
    {
      "cell_type": "code",
      "metadata": {
        "id": "tHQ686E_NL3k",
        "colab_type": "code",
        "outputId": "d7034f3a-46ca-444f-ad7e-4c38ffb87e76",
        "colab": {
          "base_uri": "https://localhost:8080/",
          "height": 34
        }
      },
      "source": [
        "import numpy as np\n",
        "a = np.array([[0, 1, 2], [3, 4, 5]])\n",
        "b = a.sum(axis=1)\n",
        "print (b)"
      ],
      "execution_count": 0,
      "outputs": [
        {
          "output_type": "stream",
          "text": [
            "[ 3 12]\n"
          ],
          "name": "stdout"
        }
      ]
    },
    {
      "cell_type": "code",
      "metadata": {
        "id": "1HC6f9NlNr2W",
        "colab_type": "code",
        "outputId": "d0221b46-15d8-4525-8b45-6a7c109b8c7b",
        "colab": {
          "base_uri": "https://localhost:8080/",
          "height": 50
        }
      },
      "source": [
        "import numpy as np\n",
        "\n",
        "a = np.array([1,2,3,4,5])\n",
        "b = np.arange(0,10,2)\n",
        "print(b)\n",
        "c = a + b\n",
        "print (c[4])"
      ],
      "execution_count": 0,
      "outputs": [
        {
          "output_type": "stream",
          "text": [
            "[0 2 4 6 8]\n",
            "13\n"
          ],
          "name": "stdout"
        }
      ]
    },
    {
      "cell_type": "code",
      "metadata": {
        "id": "BBrByw--OKuq",
        "colab_type": "code",
        "outputId": "09563f00-b46b-4cbf-dd41-f7bb6ec2861f",
        "colab": {
          "base_uri": "https://localhost:8080/",
          "height": 101
        }
      },
      "source": [
        "import numpy as np\n",
        "\n",
        "a = np.array([[0, 1, 0], [1, 0, 1]])\n",
        "a += 3\n",
        "print(a)\n",
        "b = a + 3\n",
        "print(b)\n",
        "print (a[1,2] + b[1,2])"
      ],
      "execution_count": 0,
      "outputs": [
        {
          "output_type": "stream",
          "text": [
            "[[3 4 3]\n",
            " [4 3 4]]\n",
            "[[6 7 6]\n",
            " [7 6 7]]\n",
            "11\n"
          ],
          "name": "stdout"
        }
      ]
    },
    {
      "cell_type": "code",
      "metadata": {
        "id": "ucANSkvGOjpP",
        "colab_type": "code",
        "outputId": "a83d8154-249a-4f00-82ec-986a4d07bf2c",
        "colab": {
          "base_uri": "https://localhost:8080/",
          "height": 34
        }
      },
      "source": [
        "import numpy as np\n",
        "\n",
        "a = np.array([1,2,3,5,8])\n",
        "b = np.array([0,3,4,2,1])\n",
        "c = a + b\n",
        "c = c*a\n",
        "\n",
        "print (c[2])"
      ],
      "execution_count": 0,
      "outputs": [
        {
          "output_type": "stream",
          "text": [
            "21\n"
          ],
          "name": "stdout"
        }
      ]
    },
    {
      "cell_type": "code",
      "metadata": {
        "id": "vFJUk9ACOt0K",
        "colab_type": "code",
        "outputId": "60464671-a580-4f5c-f20b-c690c4da8938",
        "colab": {
          "base_uri": "https://localhost:8080/",
          "height": 34
        }
      },
      "source": [
        "import numpy as np\n",
        "\n",
        "a = np.array([[1,2,3],[0,1,4]])\n",
        "b = np.zeros((2,3), dtype=np.int16)\n",
        "c = np.ones((2,3), dtype=np.int16)\n",
        "d = a + b + c\n",
        "print(d[1,2])"
      ],
      "execution_count": 0,
      "outputs": [
        {
          "output_type": "stream",
          "text": [
            "5\n"
          ],
          "name": "stdout"
        }
      ]
    },
    {
      "cell_type": "code",
      "metadata": {
        "id": "3cFNaGWUO1Yv",
        "colab_type": "code",
        "colab": {}
      },
      "source": [
        ""
      ],
      "execution_count": 0,
      "outputs": []
    },
    {
      "cell_type": "code",
      "metadata": {
        "id": "tf8c3jJNO72G",
        "colab_type": "code",
        "outputId": "9ff5dd2e-5f23-4d6c-9d83-8a30a1a2acb4",
        "colab": {
          "base_uri": "https://localhost:8080/",
          "height": 34
        }
      },
      "source": [
        "import numpy as np\n",
        "\n",
        "a = np.array([[0, 1, 2], [3, 4, 5]])\n",
        "b = a.sum(axis=1)\n",
        "print (b)"
      ],
      "execution_count": 0,
      "outputs": [
        {
          "output_type": "stream",
          "text": [
            "[ 3 12]\n"
          ],
          "name": "stdout"
        }
      ]
    },
    {
      "cell_type": "code",
      "metadata": {
        "id": "RhPXhjFhupIp",
        "colab_type": "code",
        "outputId": "e735f96d-1b4c-4c19-9ad0-dadc23d00594",
        "colab": {
          "base_uri": "https://localhost:8080/",
          "height": 481
        }
      },
      "source": [
        "import numpy as np\n",
        "data = np.matrix(\n",
        "      \"5 3 1;\"\n",
        "      \"4 4 1;\"\n",
        "      \"6 4 1;\"\n",
        "      \"8 2 1;\"\n",
        "      \"3 5 1;\"\n",
        "      \"1 7 1;\"\n",
        "      \"5 4 1;\"\n",
        "      \"0 1 0;\"\n",
        "      \"2 0 0\")\n",
        "print(data)\n",
        "a=data[data[:,2]>0]\n",
        "print(a)"
      ],
      "execution_count": 0,
      "outputs": [
        {
          "output_type": "stream",
          "text": [
            "[[5 3 1]\n",
            " [4 4 1]\n",
            " [6 4 1]\n",
            " [8 2 1]\n",
            " [3 5 1]\n",
            " [1 7 1]\n",
            " [5 4 1]\n",
            " [0 1 0]\n",
            " [2 0 0]]\n"
          ],
          "name": "stdout"
        },
        {
          "output_type": "error",
          "ename": "IndexError",
          "evalue": "ignored",
          "traceback": [
            "\u001b[0;31m---------------------------------------------------------------------------\u001b[0m",
            "\u001b[0;31mIndexError\u001b[0m                                Traceback (most recent call last)",
            "\u001b[0;32m<ipython-input-3-6c38a84e53ac>\u001b[0m in \u001b[0;36m<module>\u001b[0;34m()\u001b[0m\n\u001b[1;32m     11\u001b[0m       \"2 0 0\")\n\u001b[1;32m     12\u001b[0m \u001b[0mprint\u001b[0m\u001b[0;34m(\u001b[0m\u001b[0mdata\u001b[0m\u001b[0;34m)\u001b[0m\u001b[0;34m\u001b[0m\u001b[0;34m\u001b[0m\u001b[0m\n\u001b[0;32m---> 13\u001b[0;31m \u001b[0ma\u001b[0m\u001b[0;34m=\u001b[0m\u001b[0mdata\u001b[0m\u001b[0;34m[\u001b[0m\u001b[0mdata\u001b[0m\u001b[0;34m[\u001b[0m\u001b[0;34m:\u001b[0m\u001b[0;34m,\u001b[0m\u001b[0;36m2\u001b[0m\u001b[0;34m]\u001b[0m\u001b[0;34m>\u001b[0m\u001b[0;36m0\u001b[0m\u001b[0;34m]\u001b[0m\u001b[0;34m\u001b[0m\u001b[0;34m\u001b[0m\u001b[0m\n\u001b[0m\u001b[1;32m     14\u001b[0m \u001b[0mprint\u001b[0m\u001b[0;34m(\u001b[0m\u001b[0ma\u001b[0m\u001b[0;34m)\u001b[0m\u001b[0;34m\u001b[0m\u001b[0;34m\u001b[0m\u001b[0m\n",
            "\u001b[0;32m/usr/local/lib/python3.6/dist-packages/numpy/matrixlib/defmatrix.py\u001b[0m in \u001b[0;36m__getitem__\u001b[0;34m(self, index)\u001b[0m\n\u001b[1;32m    193\u001b[0m \u001b[0;34m\u001b[0m\u001b[0m\n\u001b[1;32m    194\u001b[0m         \u001b[0;32mtry\u001b[0m\u001b[0;34m:\u001b[0m\u001b[0;34m\u001b[0m\u001b[0;34m\u001b[0m\u001b[0m\n\u001b[0;32m--> 195\u001b[0;31m             \u001b[0mout\u001b[0m \u001b[0;34m=\u001b[0m \u001b[0mN\u001b[0m\u001b[0;34m.\u001b[0m\u001b[0mndarray\u001b[0m\u001b[0;34m.\u001b[0m\u001b[0m__getitem__\u001b[0m\u001b[0;34m(\u001b[0m\u001b[0mself\u001b[0m\u001b[0;34m,\u001b[0m \u001b[0mindex\u001b[0m\u001b[0;34m)\u001b[0m\u001b[0;34m\u001b[0m\u001b[0;34m\u001b[0m\u001b[0m\n\u001b[0m\u001b[1;32m    196\u001b[0m         \u001b[0;32mfinally\u001b[0m\u001b[0;34m:\u001b[0m\u001b[0;34m\u001b[0m\u001b[0;34m\u001b[0m\u001b[0m\n\u001b[1;32m    197\u001b[0m             \u001b[0mself\u001b[0m\u001b[0;34m.\u001b[0m\u001b[0m_getitem\u001b[0m \u001b[0;34m=\u001b[0m \u001b[0;32mFalse\u001b[0m\u001b[0;34m\u001b[0m\u001b[0;34m\u001b[0m\u001b[0m\n",
            "\u001b[0;31mIndexError\u001b[0m: boolean index did not match indexed array along dimension 1; dimension is 3 but corresponding boolean dimension is 1"
          ]
        }
      ]
    },
    {
      "cell_type": "code",
      "metadata": {
        "id": "yKeOI9ymy7gA",
        "colab_type": "code",
        "outputId": "39ca3797-f15e-40d8-dbbe-ee721855e1f9",
        "colab": {
          "base_uri": "https://localhost:8080/",
          "height": 101
        }
      },
      "source": [
        "import numpy as np\n",
        "a = np.array([1,2,3,4])               # creates a 1-dimensional array\n",
        "b = np.array([[1,2,3,4], [5,6,7,8]])    # creates a 2-dimensional array\n",
        "print(a)\n",
        "print('----')\n",
        "print(b)\n",
        "print(np.size(b))"
      ],
      "execution_count": 0,
      "outputs": [
        {
          "output_type": "stream",
          "text": [
            "[1 2 3 4]\n",
            "----\n",
            "[[1 2 3 4]\n",
            " [5 6 7 8]]\n",
            "8\n"
          ],
          "name": "stdout"
        }
      ]
    },
    {
      "cell_type": "code",
      "metadata": {
        "id": "ZeL-kP_I10qF",
        "colab_type": "code",
        "outputId": "4ab8da6d-4a3a-41b4-9ed7-4f468eca0449",
        "colab": {
          "base_uri": "https://localhost:8080/",
          "height": 67
        }
      },
      "source": [
        "import numpy as np\n",
        "a=np.empty((3,4),dtype='int8')\n",
        "print(a)"
      ],
      "execution_count": 0,
      "outputs": [
        {
          "output_type": "stream",
          "text": [
            "[[1 1 1 1]\n",
            " [1 1 1 1]\n",
            " [1 1 1 1]]\n"
          ],
          "name": "stdout"
        }
      ]
    },
    {
      "cell_type": "code",
      "metadata": {
        "id": "yEMwzQP9cTPk",
        "colab_type": "code",
        "outputId": "d2be5a87-c5f3-447d-cd58-6c0c87aa5f35",
        "colab": {
          "base_uri": "https://localhost:8080/",
          "height": 34
        }
      },
      "source": [
        "import numpy as np\n",
        "\n",
        "# Function to find derivative\n",
        "def der1(x=None):\n",
        "    res = np.exp(x) + x*np.exp(x)\n",
        "    return res\n",
        "\n",
        "# Calling the function for x=1\n",
        "print(der1(5))"
      ],
      "execution_count": 0,
      "outputs": [
        {
          "output_type": "stream",
          "text": [
            "5.43656365691809\n"
          ],
          "name": "stdout"
        }
      ]
    },
    {
      "cell_type": "code",
      "metadata": {
        "id": "P2Dv173hj1Mo",
        "colab_type": "code",
        "outputId": "0f1c5fde-5b09-46c0-a1cd-656dd801cf71",
        "colab": {
          "base_uri": "https://localhost:8080/",
          "height": 101
        }
      },
      "source": [
        "import sympy\n",
        "import math\n",
        "\n",
        "# Approximate value of a is stored in a using math package in python\n",
        "a = math.sqrt(8)\n",
        "print(a)\n",
        "print(a*a)\n",
        "\n",
        "\n",
        "# Exact value of square root of 8 is stored in a using sympy package\n",
        "# That is you can do mathematics using symbols with this package\n",
        "a = sympy.sqrt(8)\n",
        "print(sympy.sqrt(9))\n",
        "print(a)\n",
        "print(a*a)"
      ],
      "execution_count": 0,
      "outputs": [
        {
          "output_type": "stream",
          "text": [
            "2.8284271247461903\n",
            "8.000000000000002\n",
            "3\n",
            "2*sqrt(2)\n",
            "8\n"
          ],
          "name": "stdout"
        }
      ]
    },
    {
      "cell_type": "code",
      "metadata": {
        "id": "4EWUbTjFk4nT",
        "colab_type": "code",
        "outputId": "ddb88cfd-6208-480e-d078-d4eadec3f11e",
        "colab": {
          "base_uri": "https://localhost:8080/",
          "height": 67
        }
      },
      "source": [
        "from sympy import symbols\n",
        "\n",
        "# We can do algebra with symbols and variables as we do on a notebook\n",
        "x, y = symbols('x y')\n",
        "expr = x + 2*y\n",
        "print(expr)\n",
        "\n",
        "print(expr + 5)\n",
        "print(expr - x)"
      ],
      "execution_count": 0,
      "outputs": [
        {
          "output_type": "stream",
          "text": [
            "x + 2*y\n",
            "x + 2*y + 5\n",
            "2*y\n"
          ],
          "name": "stdout"
        }
      ]
    },
    {
      "cell_type": "code",
      "metadata": {
        "id": "SBMNk4LimNNM",
        "colab_type": "code",
        "outputId": "99d3e2f7-9344-4f1d-9754-8eb470aaa4c5",
        "colab": {
          "base_uri": "https://localhost:8080/",
          "height": 128
        }
      },
      "source": [
        "import sympy\n",
        "from sympy import *\n",
        "from IPython.display import display\n",
        "\n",
        "# Defining symbols\n",
        "x= symbols('x')\n",
        "\n",
        "# Solving the derivative\n",
        "a = diff(, x)\n",
        "display(a)"
      ],
      "execution_count": 0,
      "outputs": [
        {
          "output_type": "error",
          "ename": "SyntaxError",
          "evalue": "ignored",
          "traceback": [
            "\u001b[0;36m  File \u001b[0;32m\"<ipython-input-17-67a425e2eb78>\"\u001b[0;36m, line \u001b[0;32m9\u001b[0m\n\u001b[0;31m    a = diff(3x**2-2, x)\u001b[0m\n\u001b[0m              ^\u001b[0m\n\u001b[0;31mSyntaxError\u001b[0m\u001b[0;31m:\u001b[0m invalid syntax\n"
          ]
        }
      ]
    },
    {
      "cell_type": "code",
      "metadata": {
        "id": "IAi16KiTAPhZ",
        "colab_type": "code",
        "outputId": "29829db6-cd09-438c-e2e7-517cecbfc46d",
        "colab": {
          "base_uri": "https://localhost:8080/",
          "height": 34
        }
      },
      "source": [
        "from sympy import *\n",
        "\n",
        "x, y= symbols('x y')\n",
        "\n",
        "# Partial derivative at x\n",
        "a = diff(x-y, y)\n",
        "display(a)"
      ],
      "execution_count": 0,
      "outputs": [
        {
          "output_type": "display_data",
          "data": {
            "text/plain": [
              "-1"
            ]
          },
          "metadata": {
            "tags": []
          }
        }
      ]
    },
    {
      "cell_type": "code",
      "metadata": {
        "id": "JqxtYrmxmOCX",
        "colab_type": "code",
        "colab": {}
      },
      "source": [
        ""
      ],
      "execution_count": 0,
      "outputs": []
    },
    {
      "cell_type": "code",
      "metadata": {
        "id": "WjV6EAj9ttSk",
        "colab_type": "code",
        "outputId": "5e4a9659-6a38-4bb7-e64a-c17866e9523b",
        "colab": {
          "base_uri": "https://localhost:8080/",
          "height": 34
        }
      },
      "source": [
        "a=input()"
      ],
      "execution_count": 0,
      "outputs": [
        {
          "output_type": "stream",
          "text": [
            "hello\n"
          ],
          "name": "stdout"
        }
      ]
    },
    {
      "cell_type": "code",
      "metadata": {
        "id": "0BlN6xdOt6l2",
        "colab_type": "code",
        "outputId": "1713a2bb-935c-4a9e-98a1-e25d57906b74",
        "colab": {
          "base_uri": "https://localhost:8080/",
          "height": 34
        }
      },
      "source": [
        "print(a)"
      ],
      "execution_count": 0,
      "outputs": [
        {
          "output_type": "stream",
          "text": [
            "hello\n"
          ],
          "name": "stdout"
        }
      ]
    },
    {
      "cell_type": "code",
      "metadata": {
        "id": "7BvzLNrQ24Hc",
        "colab_type": "code",
        "outputId": "590f02ee-a121-4e9b-ed42-731cc4f6bd7a",
        "colab": {
          "base_uri": "https://localhost:8080/",
          "height": 34
        }
      },
      "source": [
        "print(\"abra\",\"kadabra\" ,sep='**')"
      ],
      "execution_count": 0,
      "outputs": [
        {
          "output_type": "stream",
          "text": [
            "abra**kadabra\n"
          ],
          "name": "stdout"
        }
      ]
    },
    {
      "cell_type": "code",
      "metadata": {
        "id": "5My0TMFy69z8",
        "colab_type": "code",
        "outputId": "75aaaf07-0385-4b25-8086-2e1df5f2d895",
        "colab": {
          "base_uri": "https://localhost:8080/",
          "height": 246
        }
      },
      "source": [
        "# custom input\n",
        "num = int(input())\n",
        "\n",
        "# raise exception if input is negative\n",
        "if num < 0:\n",
        "    raise Exception('{} is negative, please enter a positive number'.format(num))\n",
        "\n",
        "# print input number if it is not negative\n",
        "print('Your number is accepted!')"
      ],
      "execution_count": 0,
      "outputs": [
        {
          "output_type": "stream",
          "text": [
            "-7\n"
          ],
          "name": "stdout"
        },
        {
          "output_type": "error",
          "ename": "Exception",
          "evalue": "ignored",
          "traceback": [
            "\u001b[0;31m---------------------------------------------------------------------------\u001b[0m",
            "\u001b[0;31mException\u001b[0m                                 Traceback (most recent call last)",
            "\u001b[0;32m<ipython-input-4-74d94aa70423>\u001b[0m in \u001b[0;36m<module>\u001b[0;34m()\u001b[0m\n\u001b[1;32m      3\u001b[0m \u001b[0;31m# raise exception if input is negative\u001b[0m\u001b[0;34m\u001b[0m\u001b[0;34m\u001b[0m\u001b[0;34m\u001b[0m\u001b[0m\n\u001b[1;32m      4\u001b[0m \u001b[0;32mif\u001b[0m \u001b[0mnum\u001b[0m \u001b[0;34m<\u001b[0m \u001b[0;36m0\u001b[0m\u001b[0;34m:\u001b[0m\u001b[0;34m\u001b[0m\u001b[0;34m\u001b[0m\u001b[0m\n\u001b[0;32m----> 5\u001b[0;31m     \u001b[0;32mraise\u001b[0m \u001b[0mException\u001b[0m\u001b[0;34m(\u001b[0m\u001b[0;34m'{} is negative, please enter a positive number'\u001b[0m\u001b[0;34m.\u001b[0m\u001b[0mformat\u001b[0m\u001b[0;34m(\u001b[0m\u001b[0mnum\u001b[0m\u001b[0;34m)\u001b[0m\u001b[0;34m)\u001b[0m\u001b[0;34m\u001b[0m\u001b[0;34m\u001b[0m\u001b[0m\n\u001b[0m\u001b[1;32m      6\u001b[0m \u001b[0;34m\u001b[0m\u001b[0m\n\u001b[1;32m      7\u001b[0m \u001b[0;31m# print input number if it is not negative\u001b[0m\u001b[0;34m\u001b[0m\u001b[0;34m\u001b[0m\u001b[0;34m\u001b[0m\u001b[0m\n",
            "\u001b[0;31mException\u001b[0m: -7 is negative, please enter a positive number"
          ]
        }
      ]
    },
    {
      "cell_type": "code",
      "metadata": {
        "id": "pXygBAkZTcKw",
        "colab_type": "code",
        "outputId": "502345cd-4ce9-433a-d1f3-90030060c092",
        "colab": {
          "base_uri": "https://localhost:8080/",
          "height": 246
        }
      },
      "source": [
        "# Code starts here\n",
        "\n",
        "\n",
        "# lambda function to calculate square\n",
        "square_lambda= lambda n: n*n\n",
        "# natural numbers list\n",
        "nums=range(1,11)\n",
        "print(nums)\n",
        "# empty list\n",
        "square_nums=[]\n",
        "# loop through every element in list\n",
        "for i in range(1,10):\n",
        "    square_nums.append(square_lambda(nums(i)))\n",
        "  \n",
        "# display new list\n",
        "print(square_lambda)\n"
      ],
      "execution_count": 0,
      "outputs": [
        {
          "output_type": "stream",
          "text": [
            "range(1, 11)\n"
          ],
          "name": "stdout"
        },
        {
          "output_type": "error",
          "ename": "TypeError",
          "evalue": "ignored",
          "traceback": [
            "\u001b[0;31m---------------------------------------------------------------------------\u001b[0m",
            "\u001b[0;31mTypeError\u001b[0m                                 Traceback (most recent call last)",
            "\u001b[0;32m<ipython-input-5-51dc86ab42e6>\u001b[0m in \u001b[0;36m<module>\u001b[0;34m()\u001b[0m\n\u001b[1;32m      7\u001b[0m \u001b[0;31m# loop through every element in list\u001b[0m\u001b[0;34m\u001b[0m\u001b[0;34m\u001b[0m\u001b[0;34m\u001b[0m\u001b[0m\n\u001b[1;32m      8\u001b[0m \u001b[0;32mfor\u001b[0m \u001b[0mi\u001b[0m \u001b[0;32min\u001b[0m \u001b[0mrange\u001b[0m\u001b[0;34m(\u001b[0m\u001b[0;36m1\u001b[0m\u001b[0;34m,\u001b[0m\u001b[0;36m10\u001b[0m\u001b[0;34m)\u001b[0m\u001b[0;34m:\u001b[0m\u001b[0;34m\u001b[0m\u001b[0;34m\u001b[0m\u001b[0m\n\u001b[0;32m----> 9\u001b[0;31m     \u001b[0msquare_nums\u001b[0m\u001b[0;34m.\u001b[0m\u001b[0mappend\u001b[0m\u001b[0;34m(\u001b[0m\u001b[0msquare_lambda\u001b[0m\u001b[0;34m(\u001b[0m\u001b[0mnums\u001b[0m\u001b[0;34m(\u001b[0m\u001b[0mi\u001b[0m\u001b[0;34m)\u001b[0m\u001b[0;34m)\u001b[0m\u001b[0;34m)\u001b[0m\u001b[0;34m\u001b[0m\u001b[0;34m\u001b[0m\u001b[0m\n\u001b[0m\u001b[1;32m     10\u001b[0m \u001b[0;34m\u001b[0m\u001b[0m\n\u001b[1;32m     11\u001b[0m \u001b[0;31m# display new list\u001b[0m\u001b[0;34m\u001b[0m\u001b[0;34m\u001b[0m\u001b[0;34m\u001b[0m\u001b[0m\n",
            "\u001b[0;31mTypeError\u001b[0m: 'range' object is not callable"
          ]
        }
      ]
    },
    {
      "cell_type": "code",
      "metadata": {
        "id": "gVMRp9kex6qe",
        "colab_type": "code",
        "outputId": "ab6e1b50-5afb-4a84-d21b-bc342cdfcdb3",
        "colab": {
          "base_uri": "https://localhost:8080/",
          "height": 34
        }
      },
      "source": [
        "nums = [1,2,3,4,5]\n",
        "func = lambda x: (x*2)\n",
        "output = list(map(func, nums))\n",
        "print(output)"
      ],
      "execution_count": 0,
      "outputs": [
        {
          "output_type": "stream",
          "text": [
            "[2, 4, 6, 8, 10]\n"
          ],
          "name": "stdout"
        }
      ]
    },
    {
      "cell_type": "code",
      "metadata": {
        "id": "-LFBpHLryGkV",
        "colab_type": "code",
        "outputId": "7b16426d-93e7-4d16-c161-d51c87fce4fd",
        "colab": {
          "base_uri": "https://localhost:8080/",
          "height": 34
        }
      },
      "source": [
        "global a\n",
        "\n",
        "a=2\n",
        "\n",
        "def func():\n",
        "    a=1\n",
        "    b=2\n",
        "    return (a+b)\n",
        "\n",
        "print(func())"
      ],
      "execution_count": 0,
      "outputs": [
        {
          "output_type": "stream",
          "text": [
            "3\n"
          ],
          "name": "stdout"
        }
      ]
    },
    {
      "cell_type": "code",
      "metadata": {
        "id": "vYYlzBmKyODF",
        "colab_type": "code",
        "outputId": "d3f75aed-e637-47b2-d7f6-26e1d9305756",
        "colab": {
          "base_uri": "https://localhost:8080/",
          "height": 34
        }
      },
      "source": [
        "def func():\n",
        "\n",
        "    return(\"12\")\n",
        "\n",
        "def func():\n",
        "\n",
        "    return(\"13\")\n",
        "\n",
        "print(func()) "
      ],
      "execution_count": 0,
      "outputs": [
        {
          "output_type": "stream",
          "text": [
            "13\n"
          ],
          "name": "stdout"
        }
      ]
    },
    {
      "cell_type": "code",
      "metadata": {
        "id": "7EUw2BF_-5nq",
        "colab_type": "code",
        "colab": {}
      },
      "source": [
        "class Person(object):\n",
        "  def __init__():\n",
        "    pass"
      ],
      "execution_count": 0,
      "outputs": []
    },
    {
      "cell_type": "code",
      "metadata": {
        "id": "ckh1P-grU6Kb",
        "colab_type": "code",
        "outputId": "8dcf5d18-e843-4583-c99b-77abc43dc6b8",
        "colab": {
          "base_uri": "https://localhost:8080/",
          "height": 195
        }
      },
      "source": [
        "x = \"abcdef\"\n",
        "while i in x:\n",
        "        print(i, end=\" \")"
      ],
      "execution_count": 0,
      "outputs": [
        {
          "output_type": "error",
          "ename": "NameError",
          "evalue": "ignored",
          "traceback": [
            "\u001b[0;31m---------------------------------------------------------------------------\u001b[0m",
            "\u001b[0;31mNameError\u001b[0m                                 Traceback (most recent call last)",
            "\u001b[0;32m<ipython-input-1-52e56221e999>\u001b[0m in \u001b[0;36m<module>\u001b[0;34m()\u001b[0m\n\u001b[1;32m      1\u001b[0m \u001b[0mx\u001b[0m \u001b[0;34m=\u001b[0m \u001b[0;34m\"abcdef\"\u001b[0m\u001b[0;34m\u001b[0m\u001b[0;34m\u001b[0m\u001b[0m\n\u001b[0;32m----> 2\u001b[0;31m \u001b[0;32mwhile\u001b[0m \u001b[0mi\u001b[0m \u001b[0;32min\u001b[0m \u001b[0mx\u001b[0m\u001b[0;34m:\u001b[0m\u001b[0;34m\u001b[0m\u001b[0;34m\u001b[0m\u001b[0m\n\u001b[0m\u001b[1;32m      3\u001b[0m         \u001b[0mprint\u001b[0m\u001b[0;34m(\u001b[0m\u001b[0mi\u001b[0m\u001b[0;34m,\u001b[0m \u001b[0mend\u001b[0m\u001b[0;34m=\u001b[0m\u001b[0;34m\" \"\u001b[0m\u001b[0;34m)\u001b[0m\u001b[0;34m\u001b[0m\u001b[0;34m\u001b[0m\u001b[0m\n",
            "\u001b[0;31mNameError\u001b[0m: name 'i' is not defined"
          ]
        }
      ]
    },
    {
      "cell_type": "code",
      "metadata": {
        "id": "YAKgSPM2VLVk",
        "colab_type": "code",
        "outputId": "23aa94d3-5ef6-4589-a139-be3a92579187",
        "colab": {
          "base_uri": "https://localhost:8080/",
          "height": 67
        }
      },
      "source": [
        "d = {0: 'a', 1: 'b', 2: 'c'}\n",
        "for x, y in d.items():\n",
        "   print(x, y)"
      ],
      "execution_count": 0,
      "outputs": [
        {
          "output_type": "stream",
          "text": [
            "0 a\n",
            "1 b\n",
            "2 c\n"
          ],
          "name": "stdout"
        }
      ]
    },
    {
      "cell_type": "code",
      "metadata": {
        "id": "T1jm5bljVbu9",
        "colab_type": "code",
        "outputId": "0cf3fffc-b96e-4605-c5bb-1457917f2422",
        "colab": {
          "base_uri": "https://localhost:8080/",
          "height": 212
        }
      },
      "source": [
        "class test:\n",
        "   def __init__(self,a):\n",
        "       self.a=a\n",
        "\n",
        "   def display(self):\n",
        "       print(self.a)\n",
        "obj=test()\n",
        "obj.display()"
      ],
      "execution_count": 0,
      "outputs": [
        {
          "output_type": "error",
          "ename": "TypeError",
          "evalue": "ignored",
          "traceback": [
            "\u001b[0;31m---------------------------------------------------------------------------\u001b[0m",
            "\u001b[0;31mTypeError\u001b[0m                                 Traceback (most recent call last)",
            "\u001b[0;32m<ipython-input-3-0d87ba21a81d>\u001b[0m in \u001b[0;36m<module>\u001b[0;34m()\u001b[0m\n\u001b[1;32m      5\u001b[0m    \u001b[0;32mdef\u001b[0m \u001b[0mdisplay\u001b[0m\u001b[0;34m(\u001b[0m\u001b[0mself\u001b[0m\u001b[0;34m)\u001b[0m\u001b[0;34m:\u001b[0m\u001b[0;34m\u001b[0m\u001b[0;34m\u001b[0m\u001b[0m\n\u001b[1;32m      6\u001b[0m        \u001b[0mprint\u001b[0m\u001b[0;34m(\u001b[0m\u001b[0mself\u001b[0m\u001b[0;34m.\u001b[0m\u001b[0ma\u001b[0m\u001b[0;34m)\u001b[0m\u001b[0;34m\u001b[0m\u001b[0;34m\u001b[0m\u001b[0m\n\u001b[0;32m----> 7\u001b[0;31m \u001b[0mobj\u001b[0m\u001b[0;34m=\u001b[0m\u001b[0mtest\u001b[0m\u001b[0;34m(\u001b[0m\u001b[0;34m)\u001b[0m\u001b[0;34m\u001b[0m\u001b[0;34m\u001b[0m\u001b[0m\n\u001b[0m\u001b[1;32m      8\u001b[0m \u001b[0mobj\u001b[0m\u001b[0;34m.\u001b[0m\u001b[0mdisplay\u001b[0m\u001b[0;34m(\u001b[0m\u001b[0;34m)\u001b[0m\u001b[0;34m\u001b[0m\u001b[0;34m\u001b[0m\u001b[0m\n",
            "\u001b[0;31mTypeError\u001b[0m: __init__() missing 1 required positional argument: 'a'"
          ]
        }
      ]
    },
    {
      "cell_type": "code",
      "metadata": {
        "id": "HnM0b_vwVlrl",
        "colab_type": "code",
        "outputId": "5be12f57-be19-488c-ee1c-8734ea486681",
        "colab": {
          "base_uri": "https://localhost:8080/",
          "height": 229
        }
      },
      "source": [
        "fo = open(\"foo.txt\", \"read+\")\n",
        "print(\"Name of the file: \", fo.name)\n",
        "\n",
        "# Assuming file has following 5 lines\n",
        "# This is 1st line\n",
        "# This is 2nd line\n",
        "# This is 3rd line\n",
        "# This is 4th line\n",
        "# This is 5th line\n",
        "\n",
        "for index in range(5):\n",
        "    line = fo.readline()\n",
        "    print(\"Line No {} - {}\".format(index, line))\n",
        " #Close opened file\n",
        "fo.close()"
      ],
      "execution_count": 0,
      "outputs": [
        {
          "output_type": "error",
          "ename": "ValueError",
          "evalue": "ignored",
          "traceback": [
            "\u001b[0;31m---------------------------------------------------------------------------\u001b[0m",
            "\u001b[0;31mValueError\u001b[0m                                Traceback (most recent call last)",
            "\u001b[0;32m<ipython-input-4-081910952910>\u001b[0m in \u001b[0;36m<module>\u001b[0;34m()\u001b[0m\n\u001b[0;32m----> 1\u001b[0;31m \u001b[0mfo\u001b[0m \u001b[0;34m=\u001b[0m \u001b[0mopen\u001b[0m\u001b[0;34m(\u001b[0m\u001b[0;34m\"foo.txt\"\u001b[0m\u001b[0;34m,\u001b[0m \u001b[0;34m\"read+\"\u001b[0m\u001b[0;34m)\u001b[0m\u001b[0;34m\u001b[0m\u001b[0;34m\u001b[0m\u001b[0m\n\u001b[0m\u001b[1;32m      2\u001b[0m \u001b[0mprint\u001b[0m\u001b[0;34m(\u001b[0m\u001b[0;34m\"Name of the file: \"\u001b[0m\u001b[0;34m,\u001b[0m \u001b[0mfo\u001b[0m\u001b[0;34m.\u001b[0m\u001b[0mname\u001b[0m\u001b[0;34m)\u001b[0m\u001b[0;34m\u001b[0m\u001b[0;34m\u001b[0m\u001b[0m\n\u001b[1;32m      3\u001b[0m \u001b[0;34m\u001b[0m\u001b[0m\n\u001b[1;32m      4\u001b[0m \u001b[0;31m# Assuming file has following 5 lines\u001b[0m\u001b[0;34m\u001b[0m\u001b[0;34m\u001b[0m\u001b[0;34m\u001b[0m\u001b[0m\n\u001b[1;32m      5\u001b[0m \u001b[0;31m# This is 1st line\u001b[0m\u001b[0;34m\u001b[0m\u001b[0;34m\u001b[0m\u001b[0;34m\u001b[0m\u001b[0m\n",
            "\u001b[0;31mValueError\u001b[0m: invalid mode: 'read+'"
          ]
        }
      ]
    },
    {
      "cell_type": "code",
      "metadata": {
        "id": "k8tB4DLuVw-m",
        "colab_type": "code",
        "outputId": "11baec58-7d94-419f-fef9-df39d2a5bc80",
        "colab": {
          "base_uri": "https://localhost:8080/",
          "height": 34
        }
      },
      "source": [
        "def f1():\n",
        "    x=100\n",
        "    print(x)\n",
        "x=+1\n",
        "f1()"
      ],
      "execution_count": 0,
      "outputs": [
        {
          "output_type": "stream",
          "text": [
            "100\n"
          ],
          "name": "stdout"
        }
      ]
    },
    {
      "cell_type": "code",
      "metadata": {
        "id": "DMFlzC8eWBJM",
        "colab_type": "code",
        "outputId": "b555be9d-7ca1-4052-96d8-0e179d199555",
        "colab": {
          "base_uri": "https://localhost:8080/",
          "height": 34
        }
      },
      "source": [
        "my_string = \"hello world\"\n",
        "k = [(i.upper(), len(i)) for i in my_string]\n",
        "print(k)"
      ],
      "execution_count": 0,
      "outputs": [
        {
          "output_type": "stream",
          "text": [
            "[('H', 1), ('E', 1), ('L', 1), ('L', 1), ('O', 1), (' ', 1), ('W', 1), ('O', 1), ('R', 1), ('L', 1), ('D', 1)]\n"
          ],
          "name": "stdout"
        }
      ]
    },
    {
      "cell_type": "code",
      "metadata": {
        "id": "ESHvjdM9WM0r",
        "colab_type": "code",
        "outputId": "e65b702d-37bb-4abe-f368-1a1bdb7607c8",
        "colab": {
          "base_uri": "https://localhost:8080/",
          "height": 34
        }
      },
      "source": [
        "def to_upper(k):\n",
        "   return k.upper()\n",
        "x = ['ab', 'cd']\n",
        "print(list(map(to_upper, x)))"
      ],
      "execution_count": 0,
      "outputs": [
        {
          "output_type": "stream",
          "text": [
            "['AB', 'CD']\n"
          ],
          "name": "stdout"
        }
      ]
    },
    {
      "cell_type": "code",
      "metadata": {
        "id": "2ZlAbx9IFH4I",
        "colab_type": "code",
        "outputId": "4a1a492f-79a6-467a-cd5c-bbba7f0d4a86",
        "colab": {
          "base_uri": "https://localhost:8080/",
          "height": 67
        }
      },
      "source": [
        "class_1=['Geoffrey Hinton','Andrew Ng','Sebastian Raschka','Yoshua Bengio']\n",
        "class_2=['Hilary Mason','Carla Gentry','Corinna Cortes']\n",
        "print(class_1)\n",
        "print(class_2)\n",
        "new_class = class_1.extend(class_2)\n",
        "print(new_class)"
      ],
      "execution_count": 0,
      "outputs": [
        {
          "output_type": "stream",
          "text": [
            "['Geoffrey Hinton', 'Andrew Ng', 'Sebastian Raschka', 'Yoshua Bengio']\n",
            "['Hilary Mason', 'Carla Gentry', 'Corinna Cortes']\n",
            "None\n"
          ],
          "name": "stdout"
        }
      ]
    },
    {
      "cell_type": "code",
      "metadata": {
        "id": "1_VnOHCIktDq",
        "colab_type": "code",
        "outputId": "3a06eb3f-9660-4427-bb65-eee64d02f0b1",
        "colab": {
          "base_uri": "https://localhost:8080/",
          "height": 34
        }
      },
      "source": [
        "\n",
        "\n",
        "alist = [1, 3, 5, 7, 9, 11, 13, 15]\n",
        "blist = []\n",
        "for i in alist:\n",
        "    if i <= 10:\n",
        "        j = i - 1\n",
        "        blist.append(j)\n",
        "    else:\n",
        "        break\n",
        "print(blist)"
      ],
      "execution_count": 0,
      "outputs": [
        {
          "output_type": "stream",
          "text": [
            "[0, 2, 4, 6, 8]\n"
          ],
          "name": "stdout"
        }
      ]
    },
    {
      "cell_type": "code",
      "metadata": {
        "id": "w2gR03wTl2u2",
        "colab_type": "code",
        "outputId": "b6d21444-91e5-40e4-c859-f3d45422374f",
        "colab": {
          "base_uri": "https://localhost:8080/",
          "height": 84
        }
      },
      "source": [
        "for i in range(1,5):\n",
        "    print('Wow')"
      ],
      "execution_count": 0,
      "outputs": [
        {
          "output_type": "stream",
          "text": [
            "Wow\n",
            "Wow\n",
            "Wow\n",
            "Wow\n"
          ],
          "name": "stdout"
        }
      ]
    },
    {
      "cell_type": "code",
      "metadata": {
        "id": "EJ42INsamEHT",
        "colab_type": "code",
        "outputId": "885c5180-3473-4f29-8558-825340320b61",
        "colab": {
          "base_uri": "https://localhost:8080/",
          "height": 34
        }
      },
      "source": [
        "rating=4\n",
        "\n",
        "if rating>4:\n",
        "    print('Great movie')\n",
        "elif rating>2:\n",
        "    print('Good movie')\n",
        "else: \n",
        "    print('Bad movie')"
      ],
      "execution_count": 0,
      "outputs": [
        {
          "output_type": "stream",
          "text": [
            "Good movie\n"
          ],
          "name": "stdout"
        }
      ]
    },
    {
      "cell_type": "code",
      "metadata": {
        "id": "DZHEgMf9mK--",
        "colab_type": "code",
        "colab": {}
      },
      "source": [
        "i=1\n",
        "while(i!=10):\n",
        "   i=i+2"
      ],
      "execution_count": 0,
      "outputs": []
    }
  ]
}