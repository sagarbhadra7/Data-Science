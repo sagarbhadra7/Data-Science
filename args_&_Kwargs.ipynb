{
  "nbformat": 4,
  "nbformat_minor": 0,
  "metadata": {
    "colab": {
      "name": "args & Kwargs.ipynb",
      "provenance": [],
      "authorship_tag": "ABX9TyMcHIAWkJFIgvAT8mYGZVT8",
      "include_colab_link": true
    },
    "kernelspec": {
      "name": "python3",
      "display_name": "Python 3"
    }
  },
  "cells": [
    {
      "cell_type": "markdown",
      "metadata": {
        "id": "view-in-github",
        "colab_type": "text"
      },
      "source": [
        "<a href=\"https://colab.research.google.com/github/sagarbhadra7/Data-Science/blob/master/args_%26_Kwargs.ipynb\" target=\"_parent\"><img src=\"https://colab.research.google.com/assets/colab-badge.svg\" alt=\"Open In Colab\"/></a>"
      ]
    },
    {
      "cell_type": "code",
      "metadata": {
        "id": "Z2XV49vpIn3n",
        "colab_type": "code",
        "colab": {
          "base_uri": "https://localhost:8080/",
          "height": 151
        },
        "outputId": "82700e6a-fa58-4a7e-9b55-aa6d543b87b9"
      },
      "source": [
        "def myfunc(name,*args):\n",
        "  i=1\n",
        "  print('Name of Student '+ name)\n",
        "  print('Marks in subject')\n",
        "  for arg in args:\n",
        "    print('Marks in '+str(i)+' subject '+ str(arg))\n",
        "    i=i+1\n",
        "\n",
        "myfunc('Sagar',45,67,89,45,34,76)"
      ],
      "execution_count": 3,
      "outputs": [
        {
          "output_type": "stream",
          "text": [
            "Name of Student Sagar\n",
            "Marks in subject\n",
            "Marks in 1 subject 45\n",
            "Marks in 2 subject 67\n",
            "Marks in 3 subject 89\n",
            "Marks in 4 subject 45\n",
            "Marks in 5 subject 34\n",
            "Marks in 6 subject 76\n"
          ],
          "name": "stdout"
        }
      ]
    },
    {
      "cell_type": "code",
      "metadata": {
        "id": "rhcOKjoIJcox",
        "colab_type": "code",
        "colab": {}
      },
      "source": [
        "dict1={'A': 'Welcome', 'B': 'To', 'C': 'Geeks'}"
      ],
      "execution_count": 0,
      "outputs": []
    },
    {
      "cell_type": "code",
      "metadata": {
        "id": "VXzOOYl8Ktc7",
        "colab_type": "code",
        "colab": {
          "base_uri": "https://localhost:8080/",
          "height": 134
        },
        "outputId": "67cc9297-d43b-4ee3-8c18-e79386b8a5e4"
      },
      "source": [
        "def myfun(msg,**kwarg):\n",
        "  print(msg+' This is my function of Kwargs')\n",
        "  i=1\n",
        "  for key,value in kwarg.items():\n",
        "    print('Key '+str(i)+' '+ key)\n",
        "    print('Value '+str(i)+' '+ value)\n",
        "    i=i+1\n",
        "\n",
        "myfun(\"Hello\",A= 'Welcome', B= 'To', C= 'Geeks')"
      ],
      "execution_count": 12,
      "outputs": [
        {
          "output_type": "stream",
          "text": [
            "Hello This is my function of Kwargs\n",
            "Key 1 A\n",
            "Value 1 Welcome\n",
            "Key 2 B\n",
            "Value 2 To\n",
            "Key 3 C\n",
            "Value 3 Geeks\n"
          ],
          "name": "stdout"
        }
      ]
    },
    {
      "cell_type": "code",
      "metadata": {
        "id": "RqZ5dxwKLo75",
        "colab_type": "code",
        "colab": {
          "base_uri": "https://localhost:8080/",
          "height": 67
        },
        "outputId": "540f67d7-3a7a-47a0-bf4b-cfe5a0037519"
      },
      "source": [
        "def myFun(arg1, **kwargs):  \n",
        "    for key, value in kwargs.items(): \n",
        "        print (\"%s == %s\" %(key, value)) \n",
        "  \n",
        "# Driver code \n",
        "myFun(\"Hi\", first ='Geeks', mid ='for', last='Geeks')"
      ],
      "execution_count": 10,
      "outputs": [
        {
          "output_type": "stream",
          "text": [
            "first == Geeks\n",
            "mid == for\n",
            "last == Geeks\n"
          ],
          "name": "stdout"
        }
      ]
    },
    {
      "cell_type": "code",
      "metadata": {
        "id": "sWLOnFhiMEwy",
        "colab_type": "code",
        "colab": {}
      },
      "source": [
        ""
      ],
      "execution_count": 0,
      "outputs": []
    }
  ]
}