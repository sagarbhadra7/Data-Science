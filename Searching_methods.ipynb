{
  "nbformat": 4,
  "nbformat_minor": 0,
  "metadata": {
    "colab": {
      "name": "Searching_methods.ipynb",
      "provenance": [],
      "authorship_tag": "ABX9TyP6HctOpHq9Xq3eVAYjeF76",
      "include_colab_link": true
    },
    "kernelspec": {
      "name": "python3",
      "display_name": "Python 3"
    }
  },
  "cells": [
    {
      "cell_type": "markdown",
      "metadata": {
        "id": "view-in-github",
        "colab_type": "text"
      },
      "source": [
        "<a href=\"https://colab.research.google.com/github/sagarbhadra7/Python-Programs/blob/master/Searching_methods.ipynb\" target=\"_parent\"><img src=\"https://colab.research.google.com/assets/colab-badge.svg\" alt=\"Open In Colab\"/></a>"
      ]
    },
    {
      "cell_type": "markdown",
      "metadata": {
        "id": "KEOmBg454zge",
        "colab_type": "text"
      },
      "source": [
        "# Searching Techniques"
      ]
    },
    {
      "cell_type": "markdown",
      "metadata": {
        "id": "hoA05D1644_6",
        "colab_type": "text"
      },
      "source": [
        "# Unsorted Linear Search"
      ]
    },
    {
      "cell_type": "code",
      "metadata": {
        "id": "IoV3jREh43wi",
        "colab_type": "code",
        "colab": {}
      },
      "source": [
        "def UnOrderedLinearScareh (numberlist, value):\n",
        "  for i in range(len(numberlist)):\n",
        "    if numberlist[i]==value:\n",
        "      return i\n",
        "  return -1\n",
        "A= [534,246,933,127,277,321,454,565,220]"
      ],
      "execution_count": 0,
      "outputs": []
    },
    {
      "cell_type": "code",
      "metadata": {
        "id": "gaD3k4TD5L4W",
        "colab_type": "code",
        "colab": {
          "base_uri": "https://localhost:8080/",
          "height": 34
        },
        "outputId": "2c9eaa33-3e9a-4af7-cdd2-246d602267da"
      },
      "source": [
        "print(UnOrderedLinearScareh(A,277))"
      ],
      "execution_count": 7,
      "outputs": [
        {
          "output_type": "stream",
          "text": [
            "4\n"
          ],
          "name": "stdout"
        }
      ]
    },
    {
      "cell_type": "markdown",
      "metadata": {
        "id": "dWj1Y12wUP-m",
        "colab_type": "text"
      },
      "source": [
        "# Interpolation Search"
      ]
    },
    {
      "cell_type": "code",
      "metadata": {
        "id": "7rBkDF2p5ayf",
        "colab_type": "code",
        "colab": {
          "base_uri": "https://localhost:8080/",
          "height": 34
        },
        "outputId": "a97c1064-fb96-4720-af62-b71a053f6946"
      },
      "source": [
        "# Python program to implement interpolation search \n",
        "\n",
        "# If x is present in arr[0..n-1], then returns \n",
        "# index of it, else returns -1 \n",
        "def interpolationSearch(arr, n, x): \n",
        "\t# Find indexs of two corners \n",
        "\tlo = 0\n",
        "\thi = (n - 1) \n",
        "\n",
        "\t# Since array is sorted, an element present \n",
        "\t# in array must be in range defined by corner \n",
        "\twhile lo <= hi and x >= arr[lo] and x <= arr[hi]: \n",
        "\t\tif lo == hi: \n",
        "\t\t\tif arr[lo] == x: \n",
        "\t\t\t\treturn lo; \n",
        "\t\t\treturn -1; \n",
        "\t\t\n",
        "\t\t# Probing the position with keeping \n",
        "\t\t# uniform distribution in mind. \n",
        "\t\tpos = lo + int(((float(hi - lo) /\n",
        "\t\t\t( arr[hi] - arr[lo])) * ( x - arr[lo]))) \n",
        "\n",
        "\t\t# Condition of target found \n",
        "\t\tif arr[pos] == x: \n",
        "\t\t\treturn pos \n",
        "\n",
        "\t\t# If x is larger, x is in upper part \n",
        "\t\tif arr[pos] < x: \n",
        "\t\t\tlo = pos + 1; \n",
        "\n",
        "\t\t# If x is smaller, x is in lower part \n",
        "\t\telse: \n",
        "\t\t\thi = pos - 1; \n",
        "\t\n",
        "\treturn -1\n",
        "\n",
        "# Driver Code \n",
        "# Array of items oin which search will be conducted \n",
        "arr = [10, 12, 13, 16, 18, 19, 20, 21, 22, 23, 24, 33, 35, 42, 47] \n",
        "n = len(arr) \n",
        "\n",
        "x = 18 # Element to be searched \n",
        "index = interpolationSearch(arr, n, x) \n",
        "\n",
        "if index != -1: \n",
        "\tprint(\"Element found at index\",index )\n",
        "else: \n",
        "\tprint( \"Element not found\")\n"
      ],
      "execution_count": 11,
      "outputs": [
        {
          "output_type": "stream",
          "text": [
            "Element found at index 4\n"
          ],
          "name": "stdout"
        }
      ]
    },
    {
      "cell_type": "code",
      "metadata": {
        "id": "on1fvubEUUFB",
        "colab_type": "code",
        "colab": {}
      },
      "source": [
        ""
      ],
      "execution_count": 0,
      "outputs": []
    }
  ]
}