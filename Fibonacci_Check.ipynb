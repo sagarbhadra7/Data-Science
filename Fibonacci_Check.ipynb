{
  "nbformat": 4,
  "nbformat_minor": 0,
  "metadata": {
    "colab": {
      "name": "Fibonacci_Check.ipynb",
      "provenance": [],
      "authorship_tag": "ABX9TyOQKUDwXj9eRsmohpuA20gl",
      "include_colab_link": true
    },
    "kernelspec": {
      "name": "python3",
      "display_name": "Python 3"
    }
  },
  "cells": [
    {
      "cell_type": "markdown",
      "metadata": {
        "id": "view-in-github",
        "colab_type": "text"
      },
      "source": [
        "<a href=\"https://colab.research.google.com/github/sagarbhadra7/Python-Programs/blob/master/Fibonacci_Check.ipynb\" target=\"_parent\"><img src=\"https://colab.research.google.com/assets/colab-badge.svg\" alt=\"Open In Colab\"/></a>"
      ]
    },
    {
      "cell_type": "code",
      "metadata": {
        "id": "XxjRe76q6ykp",
        "colab_type": "code",
        "outputId": "aeb013d1-9abb-4e5a-d995-c54402023961",
        "colab": {
          "base_uri": "https://localhost:8080/",
          "height": 34
        }
      },
      "source": [
        "#Code starts here\n",
        "def check_fib(num):\n",
        "    num1=0\n",
        "    num2=1\n",
        "    num3=0\n",
        "    fibo=[num1,num2]\n",
        "    while(num>=num3):\n",
        "        num3=num1+num2\n",
        "        fibo.append(num3)\n",
        "        num1,num2=num2,num3\n",
        "    c= num in fibo\n",
        "    return c\n",
        "\n",
        "d=check_fib(377)\n",
        "print(d)\n"
      ],
      "execution_count": 0,
      "outputs": [
        {
          "output_type": "stream",
          "text": [
            "True\n"
          ],
          "name": "stdout"
        }
      ]
    },
    {
      "cell_type": "code",
      "metadata": {
        "id": "I3Frea-D65Xt",
        "colab_type": "code",
        "outputId": "49e5c1b6-3db3-4113-d4df-3a2f9f4bd49e",
        "colab": {
          "base_uri": "https://localhost:8080/",
          "height": 34
        }
      },
      "source": [
        "import math \n",
        "  \n",
        "# A utility function that returns true if x is perfect square \n",
        "def isPerfectSquare(x): \n",
        "    s = int(math.sqrt(x)) \n",
        "    return s*s == x \n",
        "  \n",
        "# Returns true if n is a Fibinacci Number, else false \n",
        "def isFibonacci(n): \n",
        "  \n",
        "    # n is Fibinacci if one of 5*n*n + 4 or 5*n*n - 4 or both \n",
        "    # is a perferct square \n",
        "    return isPerfectSquare(5*n*n + 4) or isPerfectSquare(5*n*n - 4)\n",
        "\n",
        "d=isFibonacci(377)\n",
        "print(d)"
      ],
      "execution_count": 0,
      "outputs": [
        {
          "output_type": "stream",
          "text": [
            "True\n"
          ],
          "name": "stdout"
        }
      ]
    },
    {
      "cell_type": "code",
      "metadata": {
        "id": "dHGXd6eb7E9Y",
        "colab_type": "code",
        "colab": {}
      },
      "source": [
        ""
      ],
      "execution_count": 0,
      "outputs": []
    }
  ]
}