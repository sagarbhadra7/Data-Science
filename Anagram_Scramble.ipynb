{
  "nbformat": 4,
  "nbformat_minor": 0,
  "metadata": {
    "colab": {
      "name": "Anagram_Scramble.ipynb",
      "provenance": [],
      "authorship_tag": "ABX9TyPFSDdSSyuBLjhyu5sXIcB0",
      "include_colab_link": true
    },
    "kernelspec": {
      "name": "python3",
      "display_name": "Python 3"
    }
  },
  "cells": [
    {
      "cell_type": "markdown",
      "metadata": {
        "id": "view-in-github",
        "colab_type": "text"
      },
      "source": [
        "<a href=\"https://colab.research.google.com/github/sagarbhadra7/Python-Programs/blob/master/Anagram_Scramble.ipynb\" target=\"_parent\"><img src=\"https://colab.research.google.com/assets/colab-badge.svg\" alt=\"Open In Colab\"/></a>"
      ]
    },
    {
      "cell_type": "code",
      "metadata": {
        "id": "-IWeEXOr6O0p",
        "colab_type": "code",
        "colab": {
          "base_uri": "https://localhost:8080/",
          "height": 34
        },
        "outputId": "2bc5cd91-c98d-4ad6-af2d-e5aa9b13d86f"
      },
      "source": [
        "#Code starts here\n",
        "def a_scramble(str_1, str_2):\n",
        "    list1=[]\n",
        "    list2=[]\n",
        "    for i in range(len(str_1)):\n",
        "        list1.append(str_1[i].lower())\n",
        "\n",
        "    for i in range(len(str_2)):\n",
        "        list2.append(str_2[i].lower())\n",
        "    \n",
        "    for i in range(len(list2)):\n",
        "        if(list2[i] in list1):\n",
        "            list1.remove(list2[i])\n",
        "            #print(list2[i]+'IF')\n",
        "            bol=True\n",
        "        else:\n",
        "            #print(list2[i]+'ELSE')\n",
        "            bol=False\n",
        "    return bol\n",
        "\n",
        "\n",
        "bol=a_scramble(\"baby shower\",\"shows\")\n",
        "print(bol)"
      ],
      "execution_count": 1,
      "outputs": [
        {
          "output_type": "stream",
          "text": [
            "False\n"
          ],
          "name": "stdout"
        }
      ]
    },
    {
      "cell_type": "code",
      "metadata": {
        "id": "Ew9sDsBx6SHv",
        "colab_type": "code",
        "colab": {}
      },
      "source": [
        ""
      ],
      "execution_count": 0,
      "outputs": []
    }
  ]
}