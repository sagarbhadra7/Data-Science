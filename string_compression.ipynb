{
  "nbformat": 4,
  "nbformat_minor": 0,
  "metadata": {
    "colab": {
      "name": "string_compression.ipynb",
      "provenance": [],
      "authorship_tag": "ABX9TyPkSPIrDzpgYoCYnLQvA5Wh",
      "include_colab_link": true
    },
    "kernelspec": {
      "name": "python3",
      "display_name": "Python 3"
    }
  },
  "cells": [
    {
      "cell_type": "markdown",
      "metadata": {
        "id": "view-in-github",
        "colab_type": "text"
      },
      "source": [
        "<a href=\"https://colab.research.google.com/github/sagarbhadra7/Data-Science/blob/master/string_compression.ipynb\" target=\"_parent\"><img src=\"https://colab.research.google.com/assets/colab-badge.svg\" alt=\"Open In Colab\"/></a>"
      ]
    },
    {
      "cell_type": "code",
      "metadata": {
        "id": "91hUsiRWEdZ5",
        "colab_type": "code",
        "colab": {
          "base_uri": "https://localhost:8080/",
          "height": 50
        },
        "outputId": "8c0178da-94b1-4dd7-9ce8-ac827393e0af"
      },
      "source": [
        "input_string = input(\"Enter string to be compressed: \")\n",
        "\n",
        "compressed_list = []\n",
        "\n",
        "compressed_list.append(input_string[0])\n",
        "\n",
        "compressed_list.append(1)\n",
        "\n",
        "for letter in input_string[1:]:\n",
        "\n",
        "    if(letter == compressed_list[-2]):\n",
        "\n",
        "        compressed_list[-1] = compressed_list[-1] + 1\n",
        "\n",
        "    else:\n",
        "\n",
        "        compressed_list.append(letter)\n",
        "\n",
        "        compressed_list.append(1)\n",
        "\n",
        " \n",
        "\n",
        "print(\"Compressed String is: \" + ''.join([str(c) for c in compressed_list]))"
      ],
      "execution_count": 1,
      "outputs": [
        {
          "output_type": "stream",
          "text": [
            "Enter string to be compressed: aaabbccaabdrtdd\n",
            "Compressed String is: a3b2c2a2b1d1r1t1d2\n"
          ],
          "name": "stdout"
        }
      ]
    },
    {
      "cell_type": "code",
      "metadata": {
        "id": "305AUAScEfgL",
        "colab_type": "code",
        "colab": {}
      },
      "source": [
        ""
      ],
      "execution_count": 0,
      "outputs": []
    }
  ]
}