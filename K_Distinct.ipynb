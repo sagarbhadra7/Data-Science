{
  "nbformat": 4,
  "nbformat_minor": 0,
  "metadata": {
    "colab": {
      "name": "K-Distinct.ipynb",
      "provenance": [],
      "authorship_tag": "ABX9TyNH6ObSdTjiMgUffMiQBWYk",
      "include_colab_link": true
    },
    "kernelspec": {
      "name": "python3",
      "display_name": "Python 3"
    }
  },
  "cells": [
    {
      "cell_type": "markdown",
      "metadata": {
        "id": "view-in-github",
        "colab_type": "text"
      },
      "source": [
        "<a href=\"https://colab.research.google.com/github/sagarbhadra7/Data-Science/blob/master/K_Distinct.ipynb\" target=\"_parent\"><img src=\"https://colab.research.google.com/assets/colab-badge.svg\" alt=\"Open In Colab\"/></a>"
      ]
    },
    {
      "cell_type": "code",
      "metadata": {
        "id": "DxqQQoy9G_sC",
        "colab_type": "code",
        "colab": {}
      },
      "source": [
        "# it checks whether the 'string' has 'k' distinct characters\n",
        "#Code starts here\n",
        "def k_distinct(string,k):\n",
        "    list1=[]\n",
        "    list2=[]\n",
        "    list1=[*string.lower()]\n",
        "#    for i in range(len(string)):\n",
        "#        list1.append(string[i].lower())\n",
        "    set1=set(list1)\n",
        "    list2=list(set1)\n",
        "    if(k==len(list2)):\n",
        "        return True\n",
        "    else:\n",
        "        return False\n",
        "\n",
        "value=k_distinct('banana',4)\n",
        "print(value)"
      ],
      "execution_count": 0,
      "outputs": []
    }
  ]
}