{
  "nbformat": 4,
  "nbformat_minor": 0,
  "metadata": {
    "colab": {
      "name": "11012020_json.ipynb",
      "provenance": [],
      "collapsed_sections": [],
      "authorship_tag": "ABX9TyPcIF8cOhPaC31DqAhBpxTM",
      "include_colab_link": true
    },
    "kernelspec": {
      "name": "python3",
      "display_name": "Python 3"
    }
  },
  "cells": [
    {
      "cell_type": "markdown",
      "metadata": {
        "id": "view-in-github",
        "colab_type": "text"
      },
      "source": [
        "<a href=\"https://colab.research.google.com/github/sagarbhadra7/Data-Science/blob/master/11012020_json.ipynb\" target=\"_parent\"><img src=\"https://colab.research.google.com/assets/colab-badge.svg\" alt=\"Open In Colab\"/></a>"
      ]
    },
    {
      "cell_type": "code",
      "metadata": {
        "id": "_yqSS7sPzb_r",
        "colab_type": "code",
        "colab": {}
      },
      "source": [
        "import json"
      ],
      "execution_count": 0,
      "outputs": []
    },
    {
      "cell_type": "code",
      "metadata": {
        "id": "TP7u69J8zubW",
        "colab_type": "code",
        "colab": {}
      },
      "source": [
        "file='./prize.json'"
      ],
      "execution_count": 0,
      "outputs": []
    },
    {
      "cell_type": "code",
      "metadata": {
        "id": "18ion2JPzziS",
        "colab_type": "code",
        "colab": {}
      },
      "source": [
        "with open(file) as f:\n",
        "  data=json.load(f)"
      ],
      "execution_count": 0,
      "outputs": []
    },
    {
      "cell_type": "code",
      "metadata": {
        "id": "FZhhiLq20N-x",
        "colab_type": "code",
        "colab": {
          "base_uri": "https://localhost:8080/",
          "height": 34
        },
        "outputId": "968f8c84-1d97-493b-9c4e-23ea1171b8d0"
      },
      "source": [
        "print(data[0]['Sex']=='Female')"
      ],
      "execution_count": 21,
      "outputs": [
        {
          "output_type": "stream",
          "text": [
            "False\n"
          ],
          "name": "stdout"
        }
      ]
    },
    {
      "cell_type": "code",
      "metadata": {
        "id": "d0CGI7GZ35p0",
        "colab_type": "code",
        "colab": {
          "base_uri": "https://localhost:8080/",
          "height": 339
        },
        "outputId": "de81b92a-d356-4e86-e2f7-c4903c0921cc"
      },
      "source": [
        "data[0]"
      ],
      "execution_count": 25,
      "outputs": [
        {
          "output_type": "execute_result",
          "data": {
            "text/plain": [
              "{'Birth City': 'Rotterdam',\n",
              " 'Birth Country': 'Netherlands',\n",
              " 'Birth Date': '1852-08-30',\n",
              " 'Category': 'Chemistry',\n",
              " 'Death City': 'Berlin',\n",
              " 'Death Country': 'Germany',\n",
              " 'Death Date': '1911-03-01',\n",
              " 'Full Name': \"Jacobus Henricus van 't Hoff\",\n",
              " 'Laureate ID': 160,\n",
              " 'Laureate Type': 'Individual',\n",
              " 'Motivation': '\"in recognition of the extraordinary services he has rendered by the discovery of the laws of chemical dynamics and osmotic pressure in solutions\"',\n",
              " 'Organization City': 'Berlin',\n",
              " 'Organization Country': 'Germany',\n",
              " 'Organization Name': 'Berlin University',\n",
              " 'Prize': 'The Nobel Prize in Chemistry 1901',\n",
              " 'Prize Share': '1/1',\n",
              " 'Sex': 'Male',\n",
              " 'Year': 1901}"
            ]
          },
          "metadata": {
            "tags": []
          },
          "execution_count": 25
        }
      ]
    },
    {
      "cell_type": "code",
      "metadata": {
        "id": "sGRqwNSg1hf0",
        "colab_type": "code",
        "colab": {
          "base_uri": "https://localhost:8080/",
          "height": 339
        },
        "outputId": "0456c1c0-e00f-4f3a-a332-6327d3fe3fea"
      },
      "source": [
        "for i in data[0].items():\n",
        "  print(i)"
      ],
      "execution_count": 27,
      "outputs": [
        {
          "output_type": "stream",
          "text": [
            "('Year', 1901)\n",
            "('Category', 'Chemistry')\n",
            "('Prize', 'The Nobel Prize in Chemistry 1901')\n",
            "('Motivation', '\"in recognition of the extraordinary services he has rendered by the discovery of the laws of chemical dynamics and osmotic pressure in solutions\"')\n",
            "('Prize Share', '1/1')\n",
            "('Laureate ID', 160)\n",
            "('Laureate Type', 'Individual')\n",
            "('Full Name', \"Jacobus Henricus van 't Hoff\")\n",
            "('Birth Date', '1852-08-30')\n",
            "('Birth City', 'Rotterdam')\n",
            "('Birth Country', 'Netherlands')\n",
            "('Sex', 'Male')\n",
            "('Organization Name', 'Berlin University')\n",
            "('Organization City', 'Berlin')\n",
            "('Organization Country', 'Germany')\n",
            "('Death Date', '1911-03-01')\n",
            "('Death City', 'Berlin')\n",
            "('Death Country', 'Germany')\n"
          ],
          "name": "stdout"
        }
      ]
    },
    {
      "cell_type": "code",
      "metadata": {
        "id": "jteSYwTK3b9B",
        "colab_type": "code",
        "colab": {}
      },
      "source": [
        "for i in range(len(data)):\n",
        "    print(data[i]['Sex'])"
      ],
      "execution_count": 0,
      "outputs": []
    },
    {
      "cell_type": "code",
      "metadata": {
        "id": "m7pcsyNb_xVd",
        "colab_type": "code",
        "colab": {}
      },
      "source": [
        "malecounter=0\n",
        "femalecounter=0\n",
        "misscount=0\n",
        "for i in data:\n",
        "    if(i['Sex']=='Male'):\n",
        "      malecounter=malecounter+1\n",
        "    elif(i['Sex']=='Female'):\n",
        "      femalecounter=femalecounter+1\n",
        "    else:\n",
        "        misscount=misscount+1\n",
        "print(femalecounter)\n",
        "print(malecounter)\n",
        "print(misscount)\n"
      ],
      "execution_count": 0,
      "outputs": []
    },
    {
      "cell_type": "code",
      "metadata": {
        "id": "gs-IlJN6B_LI",
        "colab_type": "code",
        "colab": {}
      },
      "source": [
        ""
      ],
      "execution_count": 0,
      "outputs": []
    }
  ]
}