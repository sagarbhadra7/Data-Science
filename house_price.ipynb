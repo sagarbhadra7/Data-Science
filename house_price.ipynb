{
  "nbformat": 4,
  "nbformat_minor": 0,
  "metadata": {
    "colab": {
      "name": "house_price.ipynb",
      "provenance": [],
      "authorship_tag": "ABX9TyPYDLoMGRm3/KJ1eMZppTfe",
      "include_colab_link": true
    },
    "kernelspec": {
      "name": "python3",
      "display_name": "Python 3"
    }
  },
  "cells": [
    {
      "cell_type": "markdown",
      "metadata": {
        "id": "view-in-github",
        "colab_type": "text"
      },
      "source": [
        "<a href=\"https://colab.research.google.com/github/sagarbhadra7/Python-Programs/blob/master/house_price.ipynb\" target=\"_parent\"><img src=\"https://colab.research.google.com/assets/colab-badge.svg\" alt=\"Open In Colab\"/></a>"
      ]
    },
    {
      "cell_type": "code",
      "metadata": {
        "id": "7_MHpqnLUvj8",
        "colab_type": "code",
        "colab": {
          "base_uri": "https://localhost:8080/",
          "height": 252
        },
        "outputId": "e29fcd50-3161-4250-de51-08777c8038cf"
      },
      "source": [
        "# import packages\n",
        "import os\n",
        "import pandas as pd\n",
        "import numpy as np\n",
        "from sklearn.model_selection import train_test_split\n",
        "\n",
        "# Code starts here\n",
        "path='file.csv'\n",
        "# read data\n",
        "data = pd.read_csv(path)\n",
        "\n",
        "# split into features and target\n",
        "X = data.iloc[:,:7]\n",
        "y = data.iloc[:,7:]\n",
        "\n",
        "# Train and Test data\n",
        "X_train,X_test,y_train,y_test = train_test_split(X,y,test_size = 0.3)\n",
        "\n",
        "# display first five rows of training features and target\n",
        "print(X_train.head())\n",
        "print(y_train.head())\n",
        "\n",
        "# Code ends here"
      ],
      "execution_count": 1,
      "outputs": [
        {
          "output_type": "stream",
          "text": [
            "     ExterQual  AllFlrsSF  GrLivArea  ...  GarageArea  TotRmsAbvGrd  LotFrontage\n",
            "75           3        928        928  ...         252             4         70.0\n",
            "701          3       1367       1367  ...         560             6         52.0\n",
            "32           3       1378       1378  ...         360             7         60.0\n",
            "484          3       1320       1320  ...         564             6         96.0\n",
            "387          4       1530       1530  ...         430             7        124.0\n",
            "\n",
            "[5 rows x 7 columns]\n",
            "     SalePrice\n",
            "75      132000\n",
            "701     127500\n",
            "32      161000\n",
            "484     164500\n",
            "387     260000\n"
          ],
          "name": "stdout"
        }
      ]
    },
    {
      "cell_type": "code",
      "metadata": {
        "id": "JgZrLeyGVR2Z",
        "colab_type": "code",
        "colab": {
          "base_uri": "https://localhost:8080/",
          "height": 314
        },
        "outputId": "3a665792-df35-4935-c2ba-cbf93aacc37f"
      },
      "source": [
        "# Plot the distribution of the target variable 'SalePrice'\n",
        "\n",
        "\n",
        "import matplotlib.pyplot as plt\n",
        "\n",
        "data.hist('SalePrice')"
      ],
      "execution_count": 2,
      "outputs": [
        {
          "output_type": "execute_result",
          "data": {
            "text/plain": [
              "array([[<matplotlib.axes._subplots.AxesSubplot object at 0x7f5c3bc523c8>]],\n",
              "      dtype=object)"
            ]
          },
          "metadata": {
            "tags": []
          },
          "execution_count": 2
        },
        {
          "output_type": "display_data",
          "data": {
            "image/png": "[encoded data removed]",
            "text/plain": [
              "<Figure size 432x288 with 1 Axes>"
            ]
          },
          "metadata": {
            "tags": []
          }
        }
      ]
    },
    {
      "cell_type": "code",
      "metadata": {
        "id": "1vnXamQVVXT5",
        "colab_type": "code",
        "colab": {}
      },
      "source": [
        ""
      ],
      "execution_count": 0,
      "outputs": []
    },
    {
      "cell_type": "code",
      "metadata": {
        "id": "rLHUQWhPWUd0",
        "colab_type": "code",
        "colab": {
          "base_uri": "https://localhost:8080/",
          "height": 279
        },
        "outputId": "091c8871-cee6-47f3-e170-81b5c9c6d20a"
      },
      "source": [
        "    ## Code for plotting the line on 2d data\n",
        "\n",
        "    # import packages\n",
        "    import matplotlib.pyplot as plt\n",
        "\n",
        "\n",
        "    # Code starts here\n",
        "\n",
        "    def estimate_coef(x, y):\n",
        "        # number of observations/points\n",
        "        n = np.size(x)\n",
        "\n",
        "        # mean of x and y vector\n",
        "        m_x, m_y = np.mean(x), np.mean(y)\n",
        "\n",
        "        # calculating cross-deviation and deviation about x\n",
        "        SS_xy = np.sum(y*x)- n*m_y*m_x\n",
        "        SS_xx = np.sum(x*x) - n*m_x*m_x\n",
        "\n",
        "        # calculating regression coefficients\n",
        "        b_1 = SS_xy / SS_xx\n",
        "        b_0 = m_y - b_1*m_x\n",
        "\n",
        "        return(b_0, b_1)\n",
        "\n",
        "    def plot_regression_line(x, y, b):\n",
        "        # plotting the actual points as scatter plot\n",
        "        plt.scatter(x, y, color = \"b\",\n",
        "                   marker = \"o\", s = 30)\n",
        "\n",
        "        # predicted response vector\n",
        "        y_pred = b[0] + b[1]*x\n",
        "\n",
        "        # plotting the regression line\n",
        "        plt.plot(x, y_pred, color = \"r\")\n",
        "\n",
        "        # putting labels\n",
        "        plt.xlabel('x')\n",
        "        plt.ylabel('y')\n",
        "\n",
        "        # function to show plot\n",
        "        plt.show()\n",
        "\n",
        "    # Visualize your results\n",
        "    values = estimate_coef(X_train['GarageArea'], y_train['SalePrice'])\n",
        "    plot_regression_line(X_train['GarageArea'], y_train,values)\n",
        "    # Code ends here\n"
      ],
      "execution_count": 3,
      "outputs": [
        {
          "output_type": "display_data",
          "data": {
            "image/png": "[encoded data removed]",
            "text/plain": [
              "<Figure size 432x288 with 1 Axes>"
            ]
          },
          "metadata": {
            "tags": []
          }
        }
      ]
    },
    {
      "cell_type": "markdown",
      "metadata": {
        "id": "tGw-rbcjV9Yv",
        "colab_type": "text"
      },
      "source": [
        "What is the problem?\n",
        "\n",
        "SafeLiving Housing corporation is a leading real estate agency in the United States. They are primarily located in Arizona and wish to expand to different cities starting with Ames, Iowa. But there is a problem - the existing local competition is well versed with the house rates. As a new player they are at a disadvantage since they don't know the housing rates properly to negotiate with both buyers and sellers. They had a survey done on the pricing trends of houses with different types of features in Ames, Iowa. Now they have come to you - a data scientist to see if you can help them. If we are able to use the existing data to predict the prices of new houses, this new information would definitely help SafeLiving to level the playing field.\n",
        "\n",
        "So why wait!! Let’s get started to make a prediction on our first machine learning algorithm with a rich dataset on housing prices from Ames, Iowa. Each row in the dataset describes the properties of a single house as well as the amount it was sold for. In this concept, we'll build models that predict the final sale price of a house based on its other attributes. The original data set contains 82 features and 2930 data points. You can read more about this dataset here.\n",
        "\n",
        "However, for the purpose of this exercise, we will specifically, work on the following features of the house\n",
        "\n",
        "ExterQual\n",
        "AllFlrsSF\n",
        "GrLivArea\n",
        "SimplOverallCond\n",
        "GarageArea\n",
        "TotRmsAbvGrd\n",
        "LotFrontage\n",
        "Brief explanation of the dataset & features\n",
        "\n",
        "ExterQual (Ordinal): Evaluates the quality of the material on the exterior 5: Excellent 4: Good 3: Average/Typical 2: Fair 1: Poor\n",
        "\n",
        "AllFlrsSF(Continuous): Total square feet for 1st and 2nd floor combined\n",
        "\n",
        "GrLivArea (Continuous): Above grade (ground) living area square feet\n",
        "\n",
        "SimplOverallCond (Ordinal): Rates the overall condition of the house 1: Bad 2: Average 3: Good\n",
        "\n",
        "Garage Area (Continuous): Size of garage in square feet\n",
        "\n",
        "TotRmsAbvGrd (Nominal): Total rooms above grade (does not include bathrooms)\n",
        "\n",
        "LotFrontage (Continuous): Linear feet of street connected to property\n",
        "\n",
        "What we want as outcome?\n",
        "\n",
        "Using these features that describe the various facets of a house, predict the sale price for a new house using Linear Regression."
      ]
    }
  ]
}