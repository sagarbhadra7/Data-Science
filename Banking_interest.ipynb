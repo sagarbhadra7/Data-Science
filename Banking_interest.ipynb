{
  "nbformat": 4,
  "nbformat_minor": 0,
  "metadata": {
    "kernelspec": {
      "display_name": "Python 3",
      "language": "python",
      "name": "python3"
    },
    "language_info": {
      "codemirror_mode": {
        "name": "ipython",
        "version": 3
      },
      "file_extension": ".py",
      "mimetype": "text/x-python",
      "name": "python",
      "nbconvert_exporter": "python",
      "pygments_lexer": "ipython3",
      "version": "3.7.6"
    },
    "colab": {
      "name": "Banking_interest.ipynb",
      "provenance": [],
      "collapsed_sections": [],
      "include_colab_link": true
    }
  },
  "cells": [
    {
      "cell_type": "markdown",
      "metadata": {
        "id": "view-in-github",
        "colab_type": "text"
      },
      "source": [
        "<a href=\"https://colab.research.google.com/github/sagarbhadra7/Python-Programs/blob/master/Banking_interest.ipynb\" target=\"_parent\"><img src=\"https://colab.research.google.com/assets/colab-badge.svg\" alt=\"Open In Colab\"/></a>"
      ]
    },
    {
      "cell_type": "code",
      "metadata": {
        "id": "Z8H8WYxJZS2F",
        "colab_type": "code",
        "colab": {}
      },
      "source": [
        "import numpy as np\n",
        "import pandas as pd\n",
        "import matplotlib.pyplot as plt\n",
        "import seaborn as sns\n",
        "import math\n",
        "from sklearn.impute import SimpleImputer\n",
        "%matplotlib inline"
      ],
      "execution_count": 0,
      "outputs": []
    },
    {
      "cell_type": "markdown",
      "metadata": {
        "id": "FnIZR7cWadgJ",
        "colab_type": "text"
      },
      "source": [
        "# Data Read"
      ]
    },
    {
      "cell_type": "code",
      "metadata": {
        "id": "EeI7QVQpZS2S",
        "colab_type": "code",
        "colab": {}
      },
      "source": [
        "path=\"/content\""
      ],
      "execution_count": 0,
      "outputs": []
    },
    {
      "cell_type": "code",
      "metadata": {
        "id": "11VsfL6FZS2b",
        "colab_type": "code",
        "colab": {}
      },
      "source": [
        "train=pd.read_csv(path+'/train.csv')\n",
        "test=pd.read_csv(path+'/test.csv')"
      ],
      "execution_count": 0,
      "outputs": []
    },
    {
      "cell_type": "code",
      "metadata": {
        "id": "cU3Iy9ZQZS2k",
        "colab_type": "code",
        "outputId": "98586f40-4110-4070-d8a8-e81e8bb100af",
        "colab": {
          "base_uri": "https://localhost:8080/",
          "height": 282
        }
      },
      "source": [
        "train.head()"
      ],
      "execution_count": 6,
      "outputs": [
        {
          "output_type": "execute_result",
          "data": {
            "text/html": [
              "<div>\n",
              "<style scoped>\n",
              "    .dataframe tbody tr th:only-of-type {\n",
              "        vertical-align: middle;\n",
              "    }\n",
              "\n",
              "    .dataframe tbody tr th {\n",
              "        vertical-align: top;\n",
              "    }\n",
              "\n",
              "    .dataframe thead th {\n",
              "        text-align: right;\n",
              "    }\n",
              "</style>\n",
              "<table border=\"1\" class=\"dataframe\">\n",
              "  <thead>\n",
              "    <tr style=\"text-align: right;\">\n",
              "      <th></th>\n",
              "      <th>Loan_ID</th>\n",
              "      <th>Loan_Amount_Requested</th>\n",
              "      <th>Length_Employed</th>\n",
              "      <th>Home_Owner</th>\n",
              "      <th>Annual_Income</th>\n",
              "      <th>Income_Verified</th>\n",
              "      <th>Purpose_Of_Loan</th>\n",
              "      <th>Debt_To_Income</th>\n",
              "      <th>Inquiries_Last_6Mo</th>\n",
              "      <th>Months_Since_Deliquency</th>\n",
              "      <th>Number_Open_Accounts</th>\n",
              "      <th>Total_Accounts</th>\n",
              "      <th>Gender</th>\n",
              "      <th>Interest_Rate</th>\n",
              "    </tr>\n",
              "  </thead>\n",
              "  <tbody>\n",
              "    <tr>\n",
              "      <th>0</th>\n",
              "      <td>10000001</td>\n",
              "      <td>7,000</td>\n",
              "      <td>&lt; 1 year</td>\n",
              "      <td>Rent</td>\n",
              "      <td>68000.0</td>\n",
              "      <td>not verified</td>\n",
              "      <td>car</td>\n",
              "      <td>18.37</td>\n",
              "      <td>0</td>\n",
              "      <td>NaN</td>\n",
              "      <td>9</td>\n",
              "      <td>14</td>\n",
              "      <td>Female</td>\n",
              "      <td>1</td>\n",
              "    </tr>\n",
              "    <tr>\n",
              "      <th>1</th>\n",
              "      <td>10000002</td>\n",
              "      <td>30,000</td>\n",
              "      <td>4 years</td>\n",
              "      <td>Mortgage</td>\n",
              "      <td>NaN</td>\n",
              "      <td>VERIFIED - income</td>\n",
              "      <td>debt_consolidation</td>\n",
              "      <td>14.93</td>\n",
              "      <td>0</td>\n",
              "      <td>17.0</td>\n",
              "      <td>12</td>\n",
              "      <td>24</td>\n",
              "      <td>Female</td>\n",
              "      <td>3</td>\n",
              "    </tr>\n",
              "    <tr>\n",
              "      <th>2</th>\n",
              "      <td>10000003</td>\n",
              "      <td>24,725</td>\n",
              "      <td>7 years</td>\n",
              "      <td>Mortgage</td>\n",
              "      <td>75566.4</td>\n",
              "      <td>VERIFIED - income source</td>\n",
              "      <td>debt_consolidation</td>\n",
              "      <td>15.88</td>\n",
              "      <td>0</td>\n",
              "      <td>NaN</td>\n",
              "      <td>12</td>\n",
              "      <td>16</td>\n",
              "      <td>Male</td>\n",
              "      <td>3</td>\n",
              "    </tr>\n",
              "    <tr>\n",
              "      <th>3</th>\n",
              "      <td>10000004</td>\n",
              "      <td>16,000</td>\n",
              "      <td>&lt; 1 year</td>\n",
              "      <td>NaN</td>\n",
              "      <td>56160.0</td>\n",
              "      <td>VERIFIED - income source</td>\n",
              "      <td>debt_consolidation</td>\n",
              "      <td>14.34</td>\n",
              "      <td>3</td>\n",
              "      <td>NaN</td>\n",
              "      <td>16</td>\n",
              "      <td>22</td>\n",
              "      <td>Male</td>\n",
              "      <td>3</td>\n",
              "    </tr>\n",
              "    <tr>\n",
              "      <th>4</th>\n",
              "      <td>10000005</td>\n",
              "      <td>17,000</td>\n",
              "      <td>8 years</td>\n",
              "      <td>Own</td>\n",
              "      <td>96000.0</td>\n",
              "      <td>VERIFIED - income source</td>\n",
              "      <td>debt_consolidation</td>\n",
              "      <td>22.17</td>\n",
              "      <td>1</td>\n",
              "      <td>NaN</td>\n",
              "      <td>19</td>\n",
              "      <td>30</td>\n",
              "      <td>Female</td>\n",
              "      <td>1</td>\n",
              "    </tr>\n",
              "  </tbody>\n",
              "</table>\n",
              "</div>"
            ],
            "text/plain": [
              "    Loan_ID Loan_Amount_Requested  ...  Gender Interest_Rate\n",
              "0  10000001                 7,000  ...  Female             1\n",
              "1  10000002                30,000  ...  Female             3\n",
              "2  10000003                24,725  ...    Male             3\n",
              "3  10000004                16,000  ...    Male             3\n",
              "4  10000005                17,000  ...  Female             1\n",
              "\n",
              "[5 rows x 14 columns]"
            ]
          },
          "metadata": {
            "tags": []
          },
          "execution_count": 6
        }
      ]
    },
    {
      "cell_type": "code",
      "metadata": {
        "id": "j05sghRDZS2y",
        "colab_type": "code",
        "outputId": "b9707b81-f248-4f9f-e0b2-509659da2e0b",
        "colab": {
          "base_uri": "https://localhost:8080/",
          "height": 266
        }
      },
      "source": [
        "test.head()"
      ],
      "execution_count": 7,
      "outputs": [
        {
          "output_type": "execute_result",
          "data": {
            "text/html": [
              "<div>\n",
              "<style scoped>\n",
              "    .dataframe tbody tr th:only-of-type {\n",
              "        vertical-align: middle;\n",
              "    }\n",
              "\n",
              "    .dataframe tbody tr th {\n",
              "        vertical-align: top;\n",
              "    }\n",
              "\n",
              "    .dataframe thead th {\n",
              "        text-align: right;\n",
              "    }\n",
              "</style>\n",
              "<table border=\"1\" class=\"dataframe\">\n",
              "  <thead>\n",
              "    <tr style=\"text-align: right;\">\n",
              "      <th></th>\n",
              "      <th>Loan_ID</th>\n",
              "      <th>Loan_Amount_Requested</th>\n",
              "      <th>Length_Employed</th>\n",
              "      <th>Home_Owner</th>\n",
              "      <th>Annual_Income</th>\n",
              "      <th>Income_Verified</th>\n",
              "      <th>Purpose_Of_Loan</th>\n",
              "      <th>Debt_To_Income</th>\n",
              "      <th>Inquiries_Last_6Mo</th>\n",
              "      <th>Months_Since_Deliquency</th>\n",
              "      <th>Number_Open_Accounts</th>\n",
              "      <th>Total_Accounts</th>\n",
              "      <th>Gender</th>\n",
              "    </tr>\n",
              "  </thead>\n",
              "  <tbody>\n",
              "    <tr>\n",
              "      <th>0</th>\n",
              "      <td>10164310</td>\n",
              "      <td>27,500</td>\n",
              "      <td>10+ years</td>\n",
              "      <td>Mortgage</td>\n",
              "      <td>129000.0</td>\n",
              "      <td>VERIFIED - income</td>\n",
              "      <td>debt_consolidation</td>\n",
              "      <td>12.87</td>\n",
              "      <td>0</td>\n",
              "      <td>68.0</td>\n",
              "      <td>10</td>\n",
              "      <td>37</td>\n",
              "      <td>Male</td>\n",
              "    </tr>\n",
              "    <tr>\n",
              "      <th>1</th>\n",
              "      <td>10164311</td>\n",
              "      <td>26,000</td>\n",
              "      <td>10+ years</td>\n",
              "      <td>NaN</td>\n",
              "      <td>110000.0</td>\n",
              "      <td>not verified</td>\n",
              "      <td>credit_card</td>\n",
              "      <td>11.37</td>\n",
              "      <td>0</td>\n",
              "      <td>NaN</td>\n",
              "      <td>6</td>\n",
              "      <td>23</td>\n",
              "      <td>Male</td>\n",
              "    </tr>\n",
              "    <tr>\n",
              "      <th>2</th>\n",
              "      <td>10164312</td>\n",
              "      <td>6,075</td>\n",
              "      <td>&lt; 1 year</td>\n",
              "      <td>Rent</td>\n",
              "      <td>75000.0</td>\n",
              "      <td>VERIFIED - income</td>\n",
              "      <td>debt_consolidation</td>\n",
              "      <td>6.83</td>\n",
              "      <td>2</td>\n",
              "      <td>NaN</td>\n",
              "      <td>5</td>\n",
              "      <td>20</td>\n",
              "      <td>Male</td>\n",
              "    </tr>\n",
              "    <tr>\n",
              "      <th>3</th>\n",
              "      <td>10164313</td>\n",
              "      <td>12,000</td>\n",
              "      <td>10+ years</td>\n",
              "      <td>Mortgage</td>\n",
              "      <td>73000.0</td>\n",
              "      <td>VERIFIED - income source</td>\n",
              "      <td>debt_consolidation</td>\n",
              "      <td>7.76</td>\n",
              "      <td>0</td>\n",
              "      <td>NaN</td>\n",
              "      <td>6</td>\n",
              "      <td>8</td>\n",
              "      <td>Male</td>\n",
              "    </tr>\n",
              "    <tr>\n",
              "      <th>4</th>\n",
              "      <td>10164314</td>\n",
              "      <td>35,000</td>\n",
              "      <td>&lt; 1 year</td>\n",
              "      <td>Mortgage</td>\n",
              "      <td>156000.0</td>\n",
              "      <td>not verified</td>\n",
              "      <td>debt_consolidation</td>\n",
              "      <td>9.62</td>\n",
              "      <td>0</td>\n",
              "      <td>26.0</td>\n",
              "      <td>9</td>\n",
              "      <td>21</td>\n",
              "      <td>Male</td>\n",
              "    </tr>\n",
              "  </tbody>\n",
              "</table>\n",
              "</div>"
            ],
            "text/plain": [
              "    Loan_ID Loan_Amount_Requested  ... Total_Accounts Gender\n",
              "0  10164310                27,500  ...             37   Male\n",
              "1  10164311                26,000  ...             23   Male\n",
              "2  10164312                 6,075  ...             20   Male\n",
              "3  10164313                12,000  ...              8   Male\n",
              "4  10164314                35,000  ...             21   Male\n",
              "\n",
              "[5 rows x 13 columns]"
            ]
          },
          "metadata": {
            "tags": []
          },
          "execution_count": 7
        }
      ]
    },
    {
      "cell_type": "code",
      "metadata": {
        "id": "pP5LvrbdZS2_",
        "colab_type": "code",
        "outputId": "2c5fb25c-5996-4e45-d9e9-09ff9314ecba",
        "colab": {
          "base_uri": "https://localhost:8080/",
          "height": 34
        }
      },
      "source": [
        "train.shape"
      ],
      "execution_count": 8,
      "outputs": [
        {
          "output_type": "execute_result",
          "data": {
            "text/plain": [
              "(164309, 14)"
            ]
          },
          "metadata": {
            "tags": []
          },
          "execution_count": 8
        }
      ]
    },
    {
      "cell_type": "code",
      "metadata": {
        "id": "86oy55DpZS3F",
        "colab_type": "code",
        "outputId": "92267397-a57e-4197-88a7-b4835b0b7520",
        "colab": {
          "base_uri": "https://localhost:8080/",
          "height": 34
        }
      },
      "source": [
        "test.shape"
      ],
      "execution_count": 9,
      "outputs": [
        {
          "output_type": "execute_result",
          "data": {
            "text/plain": [
              "(109541, 13)"
            ]
          },
          "metadata": {
            "tags": []
          },
          "execution_count": 9
        }
      ]
    },
    {
      "cell_type": "markdown",
      "metadata": {
        "id": "ztahNIYtagiw",
        "colab_type": "text"
      },
      "source": [
        "# To check how much data is null"
      ]
    },
    {
      "cell_type": "code",
      "metadata": {
        "id": "Y4LJMy6-ZS3N",
        "colab_type": "code",
        "outputId": "c8778b9f-582f-49e0-cca4-d670a8c8492c",
        "colab": {
          "base_uri": "https://localhost:8080/",
          "height": 269
        }
      },
      "source": [
        "train.isnull().sum()*100/train.shape[0]"
      ],
      "execution_count": 10,
      "outputs": [
        {
          "output_type": "execute_result",
          "data": {
            "text/plain": [
              "Loan_ID                     0.000000\n",
              "Loan_Amount_Requested       0.000000\n",
              "Length_Employed             4.486060\n",
              "Home_Owner                 15.427639\n",
              "Annual_Income              15.277313\n",
              "Income_Verified             0.000000\n",
              "Purpose_Of_Loan             0.000000\n",
              "Debt_To_Income              0.000000\n",
              "Inquiries_Last_6Mo          0.000000\n",
              "Months_Since_Deliquency    53.788289\n",
              "Number_Open_Accounts        0.000000\n",
              "Total_Accounts              0.000000\n",
              "Gender                      0.000000\n",
              "Interest_Rate               0.000000\n",
              "dtype: float64"
            ]
          },
          "metadata": {
            "tags": []
          },
          "execution_count": 10
        }
      ]
    },
    {
      "cell_type": "code",
      "metadata": {
        "id": "viKtl4oZZS3T",
        "colab_type": "code",
        "outputId": "13dbf4ae-eb01-423b-aeaa-c21b7134e3ff",
        "colab": {
          "base_uri": "https://localhost:8080/",
          "height": 252
        }
      },
      "source": [
        "test.isnull().sum()*100/test.shape[0]"
      ],
      "execution_count": 11,
      "outputs": [
        {
          "output_type": "execute_result",
          "data": {
            "text/plain": [
              "Loan_ID                     0.000000\n",
              "Loan_Amount_Requested       0.000000\n",
              "Length_Employed             4.506075\n",
              "Home_Owner                 15.255475\n",
              "Annual_Income              15.426187\n",
              "Income_Verified             0.000000\n",
              "Purpose_Of_Loan             0.000000\n",
              "Debt_To_Income              0.000000\n",
              "Inquiries_Last_6Mo          0.000000\n",
              "Months_Since_Deliquency    53.732392\n",
              "Number_Open_Accounts        0.000000\n",
              "Total_Accounts              0.000000\n",
              "Gender                      0.000000\n",
              "dtype: float64"
            ]
          },
          "metadata": {
            "tags": []
          },
          "execution_count": 11
        }
      ]
    },
    {
      "cell_type": "code",
      "metadata": {
        "id": "SgXuilS7ZS3Y",
        "colab_type": "code",
        "colab": {}
      },
      "source": [
        "data=pd.concat([train,test],axis='rows')"
      ],
      "execution_count": 0,
      "outputs": []
    },
    {
      "cell_type": "code",
      "metadata": {
        "id": "1FlruXRJZS3d",
        "colab_type": "code",
        "outputId": "d97cc288-5137-40b1-e8a8-2f0a382b2c53",
        "colab": {
          "base_uri": "https://localhost:8080/",
          "height": 269
        }
      },
      "source": [
        "data.isnull().sum()*100/data.shape[0]"
      ],
      "execution_count": 13,
      "outputs": [
        {
          "output_type": "execute_result",
          "data": {
            "text/plain": [
              "Loan_ID                     0.000000\n",
              "Loan_Amount_Requested       0.000000\n",
              "Length_Employed             4.494066\n",
              "Home_Owner                 15.358773\n",
              "Annual_Income              15.336863\n",
              "Income_Verified             0.000000\n",
              "Purpose_Of_Loan             0.000000\n",
              "Debt_To_Income              0.000000\n",
              "Inquiries_Last_6Mo          0.000000\n",
              "Months_Since_Deliquency    53.765930\n",
              "Number_Open_Accounts        0.000000\n",
              "Total_Accounts              0.000000\n",
              "Gender                      0.000000\n",
              "Interest_Rate              40.000365\n",
              "dtype: float64"
            ]
          },
          "metadata": {
            "tags": []
          },
          "execution_count": 13
        }
      ]
    },
    {
      "cell_type": "code",
      "metadata": {
        "id": "6lSLnFduZS3i",
        "colab_type": "code",
        "outputId": "dc9e1362-c732-4df6-f31d-4e33f49dc226",
        "colab": {
          "base_uri": "https://localhost:8080/",
          "height": 282
        }
      },
      "source": [
        "data.head()"
      ],
      "execution_count": 14,
      "outputs": [
        {
          "output_type": "execute_result",
          "data": {
            "text/html": [
              "<div>\n",
              "<style scoped>\n",
              "    .dataframe tbody tr th:only-of-type {\n",
              "        vertical-align: middle;\n",
              "    }\n",
              "\n",
              "    .dataframe tbody tr th {\n",
              "        vertical-align: top;\n",
              "    }\n",
              "\n",
              "    .dataframe thead th {\n",
              "        text-align: right;\n",
              "    }\n",
              "</style>\n",
              "<table border=\"1\" class=\"dataframe\">\n",
              "  <thead>\n",
              "    <tr style=\"text-align: right;\">\n",
              "      <th></th>\n",
              "      <th>Loan_ID</th>\n",
              "      <th>Loan_Amount_Requested</th>\n",
              "      <th>Length_Employed</th>\n",
              "      <th>Home_Owner</th>\n",
              "      <th>Annual_Income</th>\n",
              "      <th>Income_Verified</th>\n",
              "      <th>Purpose_Of_Loan</th>\n",
              "      <th>Debt_To_Income</th>\n",
              "      <th>Inquiries_Last_6Mo</th>\n",
              "      <th>Months_Since_Deliquency</th>\n",
              "      <th>Number_Open_Accounts</th>\n",
              "      <th>Total_Accounts</th>\n",
              "      <th>Gender</th>\n",
              "      <th>Interest_Rate</th>\n",
              "    </tr>\n",
              "  </thead>\n",
              "  <tbody>\n",
              "    <tr>\n",
              "      <th>0</th>\n",
              "      <td>10000001</td>\n",
              "      <td>7,000</td>\n",
              "      <td>&lt; 1 year</td>\n",
              "      <td>Rent</td>\n",
              "      <td>68000.0</td>\n",
              "      <td>not verified</td>\n",
              "      <td>car</td>\n",
              "      <td>18.37</td>\n",
              "      <td>0</td>\n",
              "      <td>NaN</td>\n",
              "      <td>9</td>\n",
              "      <td>14</td>\n",
              "      <td>Female</td>\n",
              "      <td>1.0</td>\n",
              "    </tr>\n",
              "    <tr>\n",
              "      <th>1</th>\n",
              "      <td>10000002</td>\n",
              "      <td>30,000</td>\n",
              "      <td>4 years</td>\n",
              "      <td>Mortgage</td>\n",
              "      <td>NaN</td>\n",
              "      <td>VERIFIED - income</td>\n",
              "      <td>debt_consolidation</td>\n",
              "      <td>14.93</td>\n",
              "      <td>0</td>\n",
              "      <td>17.0</td>\n",
              "      <td>12</td>\n",
              "      <td>24</td>\n",
              "      <td>Female</td>\n",
              "      <td>3.0</td>\n",
              "    </tr>\n",
              "    <tr>\n",
              "      <th>2</th>\n",
              "      <td>10000003</td>\n",
              "      <td>24,725</td>\n",
              "      <td>7 years</td>\n",
              "      <td>Mortgage</td>\n",
              "      <td>75566.4</td>\n",
              "      <td>VERIFIED - income source</td>\n",
              "      <td>debt_consolidation</td>\n",
              "      <td>15.88</td>\n",
              "      <td>0</td>\n",
              "      <td>NaN</td>\n",
              "      <td>12</td>\n",
              "      <td>16</td>\n",
              "      <td>Male</td>\n",
              "      <td>3.0</td>\n",
              "    </tr>\n",
              "    <tr>\n",
              "      <th>3</th>\n",
              "      <td>10000004</td>\n",
              "      <td>16,000</td>\n",
              "      <td>&lt; 1 year</td>\n",
              "      <td>NaN</td>\n",
              "      <td>56160.0</td>\n",
              "      <td>VERIFIED - income source</td>\n",
              "      <td>debt_consolidation</td>\n",
              "      <td>14.34</td>\n",
              "      <td>3</td>\n",
              "      <td>NaN</td>\n",
              "      <td>16</td>\n",
              "      <td>22</td>\n",
              "      <td>Male</td>\n",
              "      <td>3.0</td>\n",
              "    </tr>\n",
              "    <tr>\n",
              "      <th>4</th>\n",
              "      <td>10000005</td>\n",
              "      <td>17,000</td>\n",
              "      <td>8 years</td>\n",
              "      <td>Own</td>\n",
              "      <td>96000.0</td>\n",
              "      <td>VERIFIED - income source</td>\n",
              "      <td>debt_consolidation</td>\n",
              "      <td>22.17</td>\n",
              "      <td>1</td>\n",
              "      <td>NaN</td>\n",
              "      <td>19</td>\n",
              "      <td>30</td>\n",
              "      <td>Female</td>\n",
              "      <td>1.0</td>\n",
              "    </tr>\n",
              "  </tbody>\n",
              "</table>\n",
              "</div>"
            ],
            "text/plain": [
              "    Loan_ID Loan_Amount_Requested  ...  Gender Interest_Rate\n",
              "0  10000001                 7,000  ...  Female           1.0\n",
              "1  10000002                30,000  ...  Female           3.0\n",
              "2  10000003                24,725  ...    Male           3.0\n",
              "3  10000004                16,000  ...    Male           3.0\n",
              "4  10000005                17,000  ...  Female           1.0\n",
              "\n",
              "[5 rows x 14 columns]"
            ]
          },
          "metadata": {
            "tags": []
          },
          "execution_count": 14
        }
      ]
    },
    {
      "cell_type": "code",
      "metadata": {
        "id": "hsb_8v0wZS3m",
        "colab_type": "code",
        "outputId": "3b5cac33-42ee-4c7e-a544-ba57c9d1fe21",
        "colab": {
          "base_uri": "https://localhost:8080/",
          "height": 269
        }
      },
      "source": [
        "data.dtypes"
      ],
      "execution_count": 15,
      "outputs": [
        {
          "output_type": "execute_result",
          "data": {
            "text/plain": [
              "Loan_ID                      int64\n",
              "Loan_Amount_Requested       object\n",
              "Length_Employed             object\n",
              "Home_Owner                  object\n",
              "Annual_Income              float64\n",
              "Income_Verified             object\n",
              "Purpose_Of_Loan             object\n",
              "Debt_To_Income             float64\n",
              "Inquiries_Last_6Mo           int64\n",
              "Months_Since_Deliquency    float64\n",
              "Number_Open_Accounts         int64\n",
              "Total_Accounts               int64\n",
              "Gender                      object\n",
              "Interest_Rate              float64\n",
              "dtype: object"
            ]
          },
          "metadata": {
            "tags": []
          },
          "execution_count": 15
        }
      ]
    },
    {
      "cell_type": "code",
      "metadata": {
        "id": "i1D9O8N-ZS3r",
        "colab_type": "code",
        "colab": {}
      },
      "source": [
        "columns=data.columns"
      ],
      "execution_count": 0,
      "outputs": []
    },
    {
      "cell_type": "code",
      "metadata": {
        "id": "Px6RiqDTZS3y",
        "colab_type": "code",
        "colab": {}
      },
      "source": [
        "categorical=list()\n",
        "numeric=list()"
      ],
      "execution_count": 0,
      "outputs": []
    },
    {
      "cell_type": "code",
      "metadata": {
        "id": "CIugE4OyZS32",
        "colab_type": "code",
        "colab": {}
      },
      "source": [
        "for i in columns:\n",
        "    if(data[i].dtypes=='object'):\n",
        "        categorical.append(i)\n",
        "    else:\n",
        "        numeric.append(i)"
      ],
      "execution_count": 0,
      "outputs": []
    },
    {
      "cell_type": "code",
      "metadata": {
        "id": "PhaPjJFfZS4B",
        "colab_type": "code",
        "outputId": "2d78be75-d46e-41ea-cc15-710529583a1a",
        "colab": {
          "base_uri": "https://localhost:8080/",
          "height": 34
        }
      },
      "source": [
        "print(\"Categorical values in data :\"+ str(categorical))"
      ],
      "execution_count": 19,
      "outputs": [
        {
          "output_type": "stream",
          "text": [
            "Categorical values in data :['Loan_Amount_Requested', 'Length_Employed', 'Home_Owner', 'Income_Verified', 'Purpose_Of_Loan', 'Gender']\n"
          ],
          "name": "stdout"
        }
      ]
    },
    {
      "cell_type": "code",
      "metadata": {
        "id": "vuMeKFnDZS4G",
        "colab_type": "code",
        "outputId": "18b38a66-f182-4f77-9a88-6b0632d5f9dd",
        "colab": {
          "base_uri": "https://localhost:8080/",
          "height": 54
        }
      },
      "source": [
        "print(\"Numerical values in data :\"+ str(numeric))"
      ],
      "execution_count": 20,
      "outputs": [
        {
          "output_type": "stream",
          "text": [
            "Numerical values in data :['Loan_ID', 'Annual_Income', 'Debt_To_Income', 'Inquiries_Last_6Mo', 'Months_Since_Deliquency', 'Number_Open_Accounts', 'Total_Accounts', 'Interest_Rate']\n"
          ],
          "name": "stdout"
        }
      ]
    },
    {
      "cell_type": "code",
      "metadata": {
        "id": "3QtHFtcmZS4O",
        "colab_type": "code",
        "outputId": "a25073b4-7760-4405-dde1-71a73b8bda7f",
        "colab": {
          "base_uri": "https://localhost:8080/",
          "height": 1000
        }
      },
      "source": [
        "for i in columns:\n",
        "    print(\"***********************************************************************************\")\n",
        "    print(data[i].value_counts())\n",
        "    print(data[i].unique())\n",
        "    print(\"***********************************************************************************\")"
      ],
      "execution_count": 21,
      "outputs": [
        {
          "output_type": "stream",
          "text": [
            "***********************************************************************************\n",
            "10000365    1\n",
            "10154763    1\n",
            "10117913    1\n",
            "10119960    1\n",
            "10097431    1\n",
            "           ..\n",
            "10173901    1\n",
            "10171852    1\n",
            "10161611    1\n",
            "10159562    1\n",
            "10000403    1\n",
            "Name: Loan_ID, Length: 273850, dtype: int64\n",
            "[10000001 10000002 10000003 ... 10273848 10273849 10273850]\n",
            "***********************************************************************************\n",
            "***********************************************************************************\n",
            "10,000    19442\n",
            "12,000    15020\n",
            "15,000    13848\n",
            "20,000    13399\n",
            "35,000     9811\n",
            "          ...  \n",
            "22,625        1\n",
            "28,300        1\n",
            "31,750        1\n",
            "30,050        1\n",
            "34,900        1\n",
            "Name: Loan_Amount_Requested, Length: 1320, dtype: int64\n",
            "['7,000' '30,000' '24,725' ... '32,700' '33,450' '34,425']\n",
            "***********************************************************************************\n",
            "***********************************************************************************\n",
            "10+ years    88328\n",
            "2 years      24420\n",
            "3 years      21478\n",
            "< 1 year     21133\n",
            "5 years      18042\n",
            "1 year       17336\n",
            "4 years      16393\n",
            "7 years      15444\n",
            "6 years      15351\n",
            "8 years      13115\n",
            "9 years      10503\n",
            "Name: Length_Employed, dtype: int64\n",
            "['< 1 year' '4 years' '7 years' '8 years' '2 years' '10+ years' '1 year'\n",
            " nan '6 years' '9 years' '3 years' '5 years']\n",
            "***********************************************************************************\n",
            "***********************************************************************************\n",
            "Mortgage    117270\n",
            "Rent         93542\n",
            "Own          20879\n",
            "Other           79\n",
            "None            20\n",
            "Name: Home_Owner, dtype: int64\n",
            "['Rent' 'Mortgage' nan 'Own' 'Other' 'None']\n",
            "***********************************************************************************\n",
            "***********************************************************************************\n",
            "60000.00    8975\n",
            "50000.00    7962\n",
            "65000.00    6631\n",
            "40000.00    6386\n",
            "70000.00    6146\n",
            "            ... \n",
            "25590.00       1\n",
            "51179.00       1\n",
            "35750.00       1\n",
            "46326.16       1\n",
            "32769.00       1\n",
            "Name: Annual_Income, Length: 18573, dtype: int64\n",
            "[ 68000.       nan  75566.4 ...  65988.  204600.   74760. ]\n",
            "***********************************************************************************\n",
            "***********************************************************************************\n",
            "VERIFIED - income           99076\n",
            "VERIFIED - income source    88253\n",
            "not verified                86521\n",
            "Name: Income_Verified, dtype: int64\n",
            "['not verified' 'VERIFIED - income' 'VERIFIED - income source']\n",
            "***********************************************************************************\n",
            "***********************************************************************************\n",
            "debt_consolidation    161403\n",
            "credit_card            61394\n",
            "home_improvement       15455\n",
            "other                  13846\n",
            "major_purchase          5712\n",
            "small_business          4064\n",
            "car                     3149\n",
            "medical                 2633\n",
            "moving                  1675\n",
            "vacation                1453\n",
            "wedding                 1345\n",
            "house                   1316\n",
            "renewable_energy         206\n",
            "educational              199\n",
            "Name: Purpose_Of_Loan, dtype: int64\n",
            "['car' 'debt_consolidation' 'credit_card' 'home_improvement'\n",
            " 'major_purchase' 'other' 'medical' 'small_business' 'moving' 'wedding'\n",
            " 'vacation' 'house' 'educational' 'renewable_energy']\n",
            "***********************************************************************************\n",
            "***********************************************************************************\n",
            "14.40    240\n",
            "19.20    234\n",
            "18.00    234\n",
            "12.00    225\n",
            "13.20    224\n",
            "        ... \n",
            "37.55      1\n",
            "39.96      1\n",
            "37.69      1\n",
            "38.78      1\n",
            "38.62      1\n",
            "Name: Debt_To_Income, Length: 3987, dtype: int64\n",
            "[18.37 14.93 15.88 ... 38.34 39.56 38.78]\n",
            "***********************************************************************************\n",
            "***********************************************************************************\n",
            "0    142486\n",
            "1     76791\n",
            "2     34006\n",
            "3     14829\n",
            "4      3779\n",
            "5      1363\n",
            "6       556\n",
            "7        30\n",
            "8        10\n",
            "Name: Inquiries_Last_6Mo, dtype: int64\n",
            "[0 3 1 2 4 5 6 7 8]\n",
            "***********************************************************************************\n",
            "***********************************************************************************\n",
            "9.0      2585\n",
            "8.0      2515\n",
            "13.0     2496\n",
            "12.0     2473\n",
            "10.0     2463\n",
            "         ... \n",
            "149.0       1\n",
            "143.0       1\n",
            "140.0       1\n",
            "141.0       1\n",
            "127.0       1\n",
            "Name: Months_Since_Deliquency, Length: 132, dtype: int64\n",
            "[ nan  17.  16.  68.  13.   6.  64.  10.  63.  33.  22.  28.   8.  26.\n",
            "  41.  46.  62.  21.  12.  52.   3.  65.  43.  53.  44.   1.  11.  71.\n",
            "  23.  15.  48.  39.  30.  32.  18.  24.  47.  66.  19.  76.   4.  29.\n",
            "  45.  38.  56.  37.  20.  35.   2.   9.  34.  14.  59.  36.  50.  81.\n",
            "  72.  69.  57.  25.   7.  49.  31.  78.  70.  27.   5.  51.  58.  75.\n",
            "  42.  74.  40.  67.  61.  55.  77.  54.   0.  60.  73.  79.  82.  80.\n",
            "  83.  88. 127. 106.  99.  97. 139.  96. 119. 116.  94. 141.  86.  91.\n",
            "  84.  85.  95.  90.  87. 103. 101. 121. 148.  93. 122.  92. 180. 105.\n",
            " 110. 129. 130. 135. 114. 102. 111.  98. 131. 107. 170. 143. 109. 118.\n",
            " 115. 126. 149. 124. 133.  89. 140.]\n",
            "***********************************************************************************\n",
            "***********************************************************************************\n",
            "9     26050\n",
            "10    25080\n",
            "8     24581\n",
            "11    22922\n",
            "7     21972\n",
            "      ...  \n",
            "54        1\n",
            "55        1\n",
            "61        1\n",
            "62        1\n",
            "84        1\n",
            "Name: Number_Open_Accounts, Length: 61, dtype: int64\n",
            "[ 9 12 16 19 25  8 24  7  5 20 10 15  6 14 11 29  4 13 21  3 22 18 26 17\n",
            "  2 27 23 31 32 33 35 28 36 30 34 44 37 39  1 40  0 38 62 42 43 41 49 47\n",
            " 50 45 48 58 53 76 46 54 51 52 55 61 84]\n",
            "***********************************************************************************\n",
            "***********************************************************************************\n",
            "21     10100\n",
            "22     10055\n",
            "20      9967\n",
            "23      9838\n",
            "19      9832\n",
            "       ...  \n",
            "124        1\n",
            "102        1\n",
            "99         1\n",
            "98         1\n",
            "156        1\n",
            "Name: Total_Accounts, Length: 103, dtype: int64\n",
            "[ 14  24  16  22  30  15  12  31   9  43  13  17  28  26  21  20  34  27\n",
            "  10  44  25   8   7  19  41  18  11  65   6  29  23  37  32  45  38  36\n",
            "  71  40  42  51  53  35  47  39  54  46  33  58  49  59  62   4  69  60\n",
            "  52  56  48   5  63   3  50  55  61  57  64  76   2  75  67  66  70  77\n",
            "  86  68  72  90  89  81  98  73 105  74  79  85  82  80  93  78  87  88\n",
            "  91  84  83  94 156 102 116  97  92  99 119  95 124]\n",
            "***********************************************************************************\n",
            "***********************************************************************************\n",
            "Male      194993\n",
            "Female     78857\n",
            "Name: Gender, dtype: int64\n",
            "['Female' 'Male']\n",
            "***********************************************************************************\n",
            "***********************************************************************************\n",
            "2.0    70580\n",
            "3.0    59923\n",
            "1.0    33806\n",
            "Name: Interest_Rate, dtype: int64\n",
            "[ 1.  3.  2. nan]\n",
            "***********************************************************************************\n"
          ],
          "name": "stdout"
        }
      ]
    },
    {
      "cell_type": "code",
      "metadata": {
        "id": "iclvUR_6hV8y",
        "colab_type": "code",
        "outputId": "8ab59660-f47c-4c2c-a66c-3e37eedb8c3d",
        "colab": {
          "base_uri": "https://localhost:8080/",
          "height": 50
        }
      },
      "source": [
        "print(data['Length_Employed'].unique())"
      ],
      "execution_count": 22,
      "outputs": [
        {
          "output_type": "stream",
          "text": [
            "['< 1 year' '4 years' '7 years' '8 years' '2 years' '10+ years' '1 year'\n",
            " nan '6 years' '9 years' '3 years' '5 years']\n"
          ],
          "name": "stdout"
        }
      ]
    },
    {
      "cell_type": "code",
      "metadata": {
        "id": "N_iUMrNpZS4S",
        "colab_type": "code",
        "colab": {}
      },
      "source": [
        "#Missing Values for Length_Employed Parameter\n",
        "\n",
        "data['Length_Employed'] = data['Length_Employed'].map(lambda x: str(x).rstrip(' years'))\n",
        "data['Length_Employed'] = data['Length_Employed'].replace(['< 1'],'0.5')\n",
        "data['Length_Employed'] = data['Length_Employed'].replace(['10+'],'10')\n",
        "data['Length_Employed'] = data['Length_Employed'].replace(['nan'],'0')"
      ],
      "execution_count": 0,
      "outputs": []
    },
    {
      "cell_type": "code",
      "metadata": {
        "id": "uIRDuO9jZS4Y",
        "colab_type": "code",
        "outputId": "d1c6707e-cf07-4765-9277-fa35744332ad",
        "colab": {
          "base_uri": "https://localhost:8080/",
          "height": 235
        }
      },
      "source": [
        "data['Length_Employed'].value_counts()"
      ],
      "execution_count": 24,
      "outputs": [
        {
          "output_type": "execute_result",
          "data": {
            "text/plain": [
              "10     88328\n",
              "2      24420\n",
              "3      21478\n",
              "0.5    21133\n",
              "5      18042\n",
              "1      17336\n",
              "4      16393\n",
              "7      15444\n",
              "6      15351\n",
              "8      13115\n",
              "0      12307\n",
              "9      10503\n",
              "Name: Length_Employed, dtype: int64"
            ]
          },
          "metadata": {
            "tags": []
          },
          "execution_count": 24
        }
      ]
    },
    {
      "cell_type": "code",
      "metadata": {
        "id": "bInRpbbPZS4f",
        "colab_type": "code",
        "colab": {}
      },
      "source": [
        "data['Income_Verified']=data['Income_Verified'].replace(['VERIFIED - income','VERIFIED - income source'],'VERIFIED')\n",
        "data['Income_Verified']=data['Income_Verified'].replace('not verified','NOT VERIFIED')"
      ],
      "execution_count": 0,
      "outputs": []
    },
    {
      "cell_type": "code",
      "metadata": {
        "id": "fh_p7yaCZS4i",
        "colab_type": "code",
        "outputId": "ec0e36af-c368-4989-eb6d-c6a834183551",
        "colab": {
          "base_uri": "https://localhost:8080/",
          "height": 34
        }
      },
      "source": [
        "data['Income_Verified'].unique()"
      ],
      "execution_count": 26,
      "outputs": [
        {
          "output_type": "execute_result",
          "data": {
            "text/plain": [
              "array(['NOT VERIFIED', 'VERIFIED'], dtype=object)"
            ]
          },
          "metadata": {
            "tags": []
          },
          "execution_count": 26
        }
      ]
    },
    {
      "cell_type": "code",
      "metadata": {
        "id": "FP6kySa-ZS4n",
        "colab_type": "code",
        "colab": {}
      },
      "source": [
        "data['Loan_Amount_Requested']=data['Loan_Amount_Requested'].replace(',','',regex=True).astype(float)"
      ],
      "execution_count": 0,
      "outputs": []
    },
    {
      "cell_type": "code",
      "metadata": {
        "id": "r_ZW_jvAZS40",
        "colab_type": "code",
        "outputId": "c9192137-bfb2-4c73-d55b-99590b6aa8cb",
        "colab": {
          "base_uri": "https://localhost:8080/",
          "height": 327
        }
      },
      "source": [
        "sns.scatterplot(data['Annual_Income'],data['Interest_Rate'])\n",
        "plt.xticks(rotation=90)"
      ],
      "execution_count": 28,
      "outputs": [
        {
          "output_type": "execute_result",
          "data": {
            "text/plain": [
              "(array([-1000000.,        0.,  1000000.,  2000000.,  3000000.,  4000000.,\n",
              "         5000000.,  6000000.,  7000000.,  8000000.]),\n",
              " <a list of 10 Text major ticklabel objects>)"
            ]
          },
          "metadata": {
            "tags": []
          },
          "execution_count": 28
        },
        {
          "output_type": "display_data",
          "data": {
            "image/png": "[encoded data removed]",
            "text/plain": [
              "<Figure size 432x288 with 1 Axes>"
            ]
          },
          "metadata": {
            "tags": [],
            "needs_background": "light"
          }
        }
      ]
    },
    {
      "cell_type": "code",
      "metadata": {
        "id": "LQr9buB_Y8_h",
        "colab_type": "code",
        "outputId": "7c38e421-061c-491f-f8a3-ebc4fd510da9",
        "colab": {
          "base_uri": "https://localhost:8080/",
          "height": 118
        }
      },
      "source": [
        "data['Home_Owner'].value_counts()"
      ],
      "execution_count": 29,
      "outputs": [
        {
          "output_type": "execute_result",
          "data": {
            "text/plain": [
              "Mortgage    117270\n",
              "Rent         93542\n",
              "Own          20879\n",
              "Other           79\n",
              "None            20\n",
              "Name: Home_Owner, dtype: int64"
            ]
          },
          "metadata": {
            "tags": []
          },
          "execution_count": 29
        }
      ]
    },
    {
      "cell_type": "code",
      "metadata": {
        "id": "9SXiKWZUZL9p",
        "colab_type": "code",
        "outputId": "cc413265-f099-4078-8638-355e0f59a939",
        "colab": {
          "base_uri": "https://localhost:8080/",
          "height": 34
        }
      },
      "source": [
        "data['Home_Owner'].unique()"
      ],
      "execution_count": 30,
      "outputs": [
        {
          "output_type": "execute_result",
          "data": {
            "text/plain": [
              "array(['Rent', 'Mortgage', nan, 'Own', 'Other', 'None'], dtype=object)"
            ]
          },
          "metadata": {
            "tags": []
          },
          "execution_count": 30
        }
      ]
    },
    {
      "cell_type": "code",
      "metadata": {
        "id": "TQJY9IGNZSRe",
        "colab_type": "code",
        "outputId": "c2de2904-ae39-4831-a251-10dee9f08751",
        "colab": {
          "base_uri": "https://localhost:8080/",
          "height": 34
        }
      },
      "source": [
        "len(data['Home_Owner'].isnull())"
      ],
      "execution_count": 31,
      "outputs": [
        {
          "output_type": "execute_result",
          "data": {
            "text/plain": [
              "273850"
            ]
          },
          "metadata": {
            "tags": []
          },
          "execution_count": 31
        }
      ]
    },
    {
      "cell_type": "code",
      "metadata": {
        "id": "WCwS9mWyjPM-",
        "colab_type": "code",
        "outputId": "16622bca-644e-4f07-b6ed-4662000411b6",
        "colab": {
          "base_uri": "https://localhost:8080/",
          "height": 218
        }
      },
      "source": [
        "#data['Annual_Income'].sort_values()\n",
        "data['Annual_Income'].value_counts()"
      ],
      "execution_count": 32,
      "outputs": [
        {
          "output_type": "execute_result",
          "data": {
            "text/plain": [
              "60000.00    8975\n",
              "50000.00    7962\n",
              "65000.00    6631\n",
              "40000.00    6386\n",
              "70000.00    6146\n",
              "            ... \n",
              "25590.00       1\n",
              "51179.00       1\n",
              "35750.00       1\n",
              "46326.16       1\n",
              "32769.00       1\n",
              "Name: Annual_Income, Length: 18573, dtype: int64"
            ]
          },
          "metadata": {
            "tags": []
          },
          "execution_count": 32
        }
      ]
    },
    {
      "cell_type": "code",
      "metadata": {
        "id": "LT2ozbLrkbK0",
        "colab_type": "code",
        "outputId": "bf263a21-02a0-4797-eeed-496605e119b7",
        "colab": {
          "base_uri": "https://localhost:8080/",
          "height": 34
        }
      },
      "source": [
        "#Missing Values for Home_Owner Parameter\n",
        "\n",
        "data['Home_Owner'] = data['Home_Owner'].fillna('None')\n",
        "data['Home_Owner'].unique()"
      ],
      "execution_count": 33,
      "outputs": [
        {
          "output_type": "execute_result",
          "data": {
            "text/plain": [
              "array(['Rent', 'Mortgage', 'None', 'Own', 'Other'], dtype=object)"
            ]
          },
          "metadata": {
            "tags": []
          },
          "execution_count": 33
        }
      ]
    },
    {
      "cell_type": "code",
      "metadata": {
        "id": "PF37GiFQ6oh8",
        "colab_type": "code",
        "outputId": "1df4432e-c6a9-47d8-cb1d-f0f7c53e9a0f",
        "colab": {
          "base_uri": "https://localhost:8080/",
          "height": 34
        }
      },
      "source": [
        "#Missing Values for Annual_Income Parameter\n",
        "data['Annual_Income'].unique()\n",
        "\n",
        "median_imputer = SimpleImputer(strategy='mean')\n",
        "median_imputer =median_imputer.fit(data[['Annual_Income']])\n",
        "data[['Annual_Income']]= median_imputer.transform(data[['Annual_Income']])\n",
        "\n",
        "data['Annual_Income'].unique()\n",
        "data['Annual_Income'].isnull().sum()"
      ],
      "execution_count": 34,
      "outputs": [
        {
          "output_type": "execute_result",
          "data": {
            "text/plain": [
              "0"
            ]
          },
          "metadata": {
            "tags": []
          },
          "execution_count": 34
        }
      ]
    },
    {
      "cell_type": "code",
      "metadata": {
        "id": "kr9H-xEiB3cx",
        "colab_type": "code",
        "colab": {}
      },
      "source": [
        "#Deleting the Column Months_Since_Deliquency 53% data is null\n",
        "\n",
        "data.drop(['Months_Since_Deliquency'], axis=1, inplace = True)"
      ],
      "execution_count": 0,
      "outputs": []
    },
    {
      "cell_type": "code",
      "metadata": {
        "id": "wqun0pEqDr74",
        "colab_type": "code",
        "outputId": "6ff4dfa6-a1ce-4363-e28d-5686bcdf1c2e",
        "colab": {
          "base_uri": "https://localhost:8080/",
          "height": 252
        }
      },
      "source": [
        "data.isnull().sum()*100/data.shape[0]"
      ],
      "execution_count": 36,
      "outputs": [
        {
          "output_type": "execute_result",
          "data": {
            "text/plain": [
              "Loan_ID                   0.000000\n",
              "Loan_Amount_Requested     0.000000\n",
              "Length_Employed           0.000000\n",
              "Home_Owner                0.000000\n",
              "Annual_Income             0.000000\n",
              "Income_Verified           0.000000\n",
              "Purpose_Of_Loan           0.000000\n",
              "Debt_To_Income            0.000000\n",
              "Inquiries_Last_6Mo        0.000000\n",
              "Number_Open_Accounts      0.000000\n",
              "Total_Accounts            0.000000\n",
              "Gender                    0.000000\n",
              "Interest_Rate            40.000365\n",
              "dtype: float64"
            ]
          },
          "metadata": {
            "tags": []
          },
          "execution_count": 36
        }
      ]
    },
    {
      "cell_type": "code",
      "metadata": {
        "id": "9zBbnoxoE79O",
        "colab_type": "code",
        "outputId": "37f449a2-7833-45a0-b243-a368fe322842",
        "colab": {
          "base_uri": "https://localhost:8080/",
          "height": 195
        }
      },
      "source": [
        "data[categorical].head()"
      ],
      "execution_count": 37,
      "outputs": [
        {
          "output_type": "execute_result",
          "data": {
            "text/html": [
              "<div>\n",
              "<style scoped>\n",
              "    .dataframe tbody tr th:only-of-type {\n",
              "        vertical-align: middle;\n",
              "    }\n",
              "\n",
              "    .dataframe tbody tr th {\n",
              "        vertical-align: top;\n",
              "    }\n",
              "\n",
              "    .dataframe thead th {\n",
              "        text-align: right;\n",
              "    }\n",
              "</style>\n",
              "<table border=\"1\" class=\"dataframe\">\n",
              "  <thead>\n",
              "    <tr style=\"text-align: right;\">\n",
              "      <th></th>\n",
              "      <th>Loan_Amount_Requested</th>\n",
              "      <th>Length_Employed</th>\n",
              "      <th>Home_Owner</th>\n",
              "      <th>Income_Verified</th>\n",
              "      <th>Purpose_Of_Loan</th>\n",
              "      <th>Gender</th>\n",
              "    </tr>\n",
              "  </thead>\n",
              "  <tbody>\n",
              "    <tr>\n",
              "      <th>0</th>\n",
              "      <td>7000.0</td>\n",
              "      <td>0.5</td>\n",
              "      <td>Rent</td>\n",
              "      <td>NOT VERIFIED</td>\n",
              "      <td>car</td>\n",
              "      <td>Female</td>\n",
              "    </tr>\n",
              "    <tr>\n",
              "      <th>1</th>\n",
              "      <td>30000.0</td>\n",
              "      <td>4</td>\n",
              "      <td>Mortgage</td>\n",
              "      <td>VERIFIED</td>\n",
              "      <td>debt_consolidation</td>\n",
              "      <td>Female</td>\n",
              "    </tr>\n",
              "    <tr>\n",
              "      <th>2</th>\n",
              "      <td>24725.0</td>\n",
              "      <td>7</td>\n",
              "      <td>Mortgage</td>\n",
              "      <td>VERIFIED</td>\n",
              "      <td>debt_consolidation</td>\n",
              "      <td>Male</td>\n",
              "    </tr>\n",
              "    <tr>\n",
              "      <th>3</th>\n",
              "      <td>16000.0</td>\n",
              "      <td>0.5</td>\n",
              "      <td>None</td>\n",
              "      <td>VERIFIED</td>\n",
              "      <td>debt_consolidation</td>\n",
              "      <td>Male</td>\n",
              "    </tr>\n",
              "    <tr>\n",
              "      <th>4</th>\n",
              "      <td>17000.0</td>\n",
              "      <td>8</td>\n",
              "      <td>Own</td>\n",
              "      <td>VERIFIED</td>\n",
              "      <td>debt_consolidation</td>\n",
              "      <td>Female</td>\n",
              "    </tr>\n",
              "  </tbody>\n",
              "</table>\n",
              "</div>"
            ],
            "text/plain": [
              "   Loan_Amount_Requested Length_Employed  ...     Purpose_Of_Loan  Gender\n",
              "0                 7000.0             0.5  ...                 car  Female\n",
              "1                30000.0               4  ...  debt_consolidation  Female\n",
              "2                24725.0               7  ...  debt_consolidation    Male\n",
              "3                16000.0             0.5  ...  debt_consolidation    Male\n",
              "4                17000.0               8  ...  debt_consolidation  Female\n",
              "\n",
              "[5 rows x 6 columns]"
            ]
          },
          "metadata": {
            "tags": []
          },
          "execution_count": 37
        }
      ]
    },
    {
      "cell_type": "code",
      "metadata": {
        "id": "g873rQYUG6wO",
        "colab_type": "code",
        "outputId": "1d37069c-fd9c-48a8-c98b-29f1eac26f5e",
        "colab": {
          "base_uri": "https://localhost:8080/",
          "height": 118
        }
      },
      "source": [
        "data['Home_Owner'].value_counts()"
      ],
      "execution_count": 38,
      "outputs": [
        {
          "output_type": "execute_result",
          "data": {
            "text/plain": [
              "Mortgage    117270\n",
              "Rent         93542\n",
              "None         42080\n",
              "Own          20879\n",
              "Other           79\n",
              "Name: Home_Owner, dtype: int64"
            ]
          },
          "metadata": {
            "tags": []
          },
          "execution_count": 38
        }
      ]
    },
    {
      "cell_type": "code",
      "metadata": {
        "id": "JoJP3DEAHbVh",
        "colab_type": "code",
        "outputId": "69b05145-0cf5-444b-de06-c6f56f143e90",
        "colab": {
          "base_uri": "https://localhost:8080/",
          "height": 34
        }
      },
      "source": [
        "data['Home_Owner'].unique()"
      ],
      "execution_count": 39,
      "outputs": [
        {
          "output_type": "execute_result",
          "data": {
            "text/plain": [
              "array(['Rent', 'Mortgage', 'None', 'Own', 'Other'], dtype=object)"
            ]
          },
          "metadata": {
            "tags": []
          },
          "execution_count": 39
        }
      ]
    },
    {
      "cell_type": "code",
      "metadata": {
        "id": "cAp-HXdeG9sI",
        "colab_type": "code",
        "colab": {}
      },
      "source": [
        "data['Home_Owner']=data['Home_Owner'].replace('Own','e')\n",
        "data['Home_Owner']=data['Home_Owner'].replace('Mortgage','d')\n",
        "data['Home_Owner']=data['Home_Owner'].replace('Rent','c')\n",
        "data['Home_Owner']=data['Home_Owner'].replace('Other','b')\n",
        "data['Home_Owner']=data['Home_Owner'].replace('None','a')"
      ],
      "execution_count": 0,
      "outputs": []
    },
    {
      "cell_type": "code",
      "metadata": {
        "id": "XYOyg6WzHBex",
        "colab_type": "code",
        "colab": {}
      },
      "source": [
        "from sklearn.preprocessing import LabelEncoder"
      ],
      "execution_count": 0,
      "outputs": []
    },
    {
      "cell_type": "code",
      "metadata": {
        "id": "8_wGi5ndHFeO",
        "colab_type": "code",
        "colab": {}
      },
      "source": [
        "le=LabelEncoder()"
      ],
      "execution_count": 0,
      "outputs": []
    },
    {
      "cell_type": "code",
      "metadata": {
        "id": "2lgOhB48HG7E",
        "colab_type": "code",
        "colab": {}
      },
      "source": [
        "le.fit(data['Home_Owner'])\n",
        "data['Home_Owner']=le.transform(data['Home_Owner'])"
      ],
      "execution_count": 0,
      "outputs": []
    },
    {
      "cell_type": "code",
      "metadata": {
        "id": "792m7PFAHJGI",
        "colab_type": "code",
        "outputId": "a33fd2dc-40b3-4fa9-dcc5-d0fc75242c75",
        "colab": {
          "base_uri": "https://localhost:8080/",
          "height": 118
        }
      },
      "source": [
        "data['Home_Owner'].value_counts()  "
      ],
      "execution_count": 44,
      "outputs": [
        {
          "output_type": "execute_result",
          "data": {
            "text/plain": [
              "3    117270\n",
              "2     93542\n",
              "0     42080\n",
              "4     20879\n",
              "1        79\n",
              "Name: Home_Owner, dtype: int64"
            ]
          },
          "metadata": {
            "tags": []
          },
          "execution_count": 44
        }
      ]
    },
    {
      "cell_type": "code",
      "metadata": {
        "id": "BVagwVHrHu9M",
        "colab_type": "code",
        "outputId": "d4ca0e30-0c33-415c-d443-18b7d4e4529f",
        "colab": {
          "base_uri": "https://localhost:8080/",
          "height": 67
        }
      },
      "source": [
        "data['Income_Verified'].value_counts()"
      ],
      "execution_count": 45,
      "outputs": [
        {
          "output_type": "execute_result",
          "data": {
            "text/plain": [
              "VERIFIED        187329\n",
              "NOT VERIFIED     86521\n",
              "Name: Income_Verified, dtype: int64"
            ]
          },
          "metadata": {
            "tags": []
          },
          "execution_count": 45
        }
      ]
    },
    {
      "cell_type": "code",
      "metadata": {
        "id": "sWZSEiJ-HxbK",
        "colab_type": "code",
        "colab": {}
      },
      "source": [
        "data['Income_Verified']=data['Income_Verified'].replace('VERIFIED','b')\n",
        "data['Income_Verified']=data['Income_Verified'].replace('NOT VERIFIED','a')"
      ],
      "execution_count": 0,
      "outputs": []
    },
    {
      "cell_type": "code",
      "metadata": {
        "id": "_1Ih_NTSHy9Q",
        "colab_type": "code",
        "colab": {}
      },
      "source": [
        "le.fit(data['Income_Verified'])\n",
        "data['Income_Verified']=le.transform(data['Income_Verified'])"
      ],
      "execution_count": 0,
      "outputs": []
    },
    {
      "cell_type": "code",
      "metadata": {
        "id": "8228Yq24H0db",
        "colab_type": "code",
        "outputId": "854a4220-4cde-4026-8dbe-f05a575a9b7d",
        "colab": {
          "base_uri": "https://localhost:8080/",
          "height": 67
        }
      },
      "source": [
        "data['Income_Verified'].value_counts()"
      ],
      "execution_count": 48,
      "outputs": [
        {
          "output_type": "execute_result",
          "data": {
            "text/plain": [
              "1    187329\n",
              "0     86521\n",
              "Name: Income_Verified, dtype: int64"
            ]
          },
          "metadata": {
            "tags": []
          },
          "execution_count": 48
        }
      ]
    },
    {
      "cell_type": "code",
      "metadata": {
        "id": "euItY449H4Xc",
        "colab_type": "code",
        "colab": {}
      },
      "source": [
        "df_Purpose_Of_Loan=pd.get_dummies(data['Purpose_Of_Loan'])\n",
        "df_Gender=pd.get_dummies(data['Gender'])"
      ],
      "execution_count": 0,
      "outputs": []
    },
    {
      "cell_type": "code",
      "metadata": {
        "id": "Mv-lLUQKH6ro",
        "colab_type": "code",
        "colab": {}
      },
      "source": [
        "df=pd.concat([data,df_Purpose_Of_Loan,df_Gender],axis='columns')"
      ],
      "execution_count": 0,
      "outputs": []
    },
    {
      "cell_type": "code",
      "metadata": {
        "id": "Uzn_wvlRH8tC",
        "colab_type": "code",
        "outputId": "17e941f0-7465-4453-e717-c50db48860dc",
        "colab": {
          "base_uri": "https://localhost:8080/",
          "height": 215
        }
      },
      "source": [
        "df.head()"
      ],
      "execution_count": 51,
      "outputs": [
        {
          "output_type": "execute_result",
          "data": {
            "text/html": [
              "<div>\n",
              "<style scoped>\n",
              "    .dataframe tbody tr th:only-of-type {\n",
              "        vertical-align: middle;\n",
              "    }\n",
              "\n",
              "    .dataframe tbody tr th {\n",
              "        vertical-align: top;\n",
              "    }\n",
              "\n",
              "    .dataframe thead th {\n",
              "        text-align: right;\n",
              "    }\n",
              "</style>\n",
              "<table border=\"1\" class=\"dataframe\">\n",
              "  <thead>\n",
              "    <tr style=\"text-align: right;\">\n",
              "      <th></th>\n",
              "      <th>Loan_ID</th>\n",
              "      <th>Loan_Amount_Requested</th>\n",
              "      <th>Length_Employed</th>\n",
              "      <th>Home_Owner</th>\n",
              "      <th>Annual_Income</th>\n",
              "      <th>Income_Verified</th>\n",
              "      <th>Purpose_Of_Loan</th>\n",
              "      <th>Debt_To_Income</th>\n",
              "      <th>Inquiries_Last_6Mo</th>\n",
              "      <th>Number_Open_Accounts</th>\n",
              "      <th>Total_Accounts</th>\n",
              "      <th>Gender</th>\n",
              "      <th>Interest_Rate</th>\n",
              "      <th>car</th>\n",
              "      <th>credit_card</th>\n",
              "      <th>debt_consolidation</th>\n",
              "      <th>educational</th>\n",
              "      <th>home_improvement</th>\n",
              "      <th>house</th>\n",
              "      <th>major_purchase</th>\n",
              "      <th>medical</th>\n",
              "      <th>moving</th>\n",
              "      <th>other</th>\n",
              "      <th>renewable_energy</th>\n",
              "      <th>small_business</th>\n",
              "      <th>vacation</th>\n",
              "      <th>wedding</th>\n",
              "      <th>Female</th>\n",
              "      <th>Male</th>\n",
              "    </tr>\n",
              "  </thead>\n",
              "  <tbody>\n",
              "    <tr>\n",
              "      <th>0</th>\n",
              "      <td>10000001</td>\n",
              "      <td>7000.0</td>\n",
              "      <td>0.5</td>\n",
              "      <td>2</td>\n",
              "      <td>68000.000000</td>\n",
              "      <td>0</td>\n",
              "      <td>car</td>\n",
              "      <td>18.37</td>\n",
              "      <td>0</td>\n",
              "      <td>9</td>\n",
              "      <td>14</td>\n",
              "      <td>Female</td>\n",
              "      <td>1.0</td>\n",
              "      <td>1</td>\n",
              "      <td>0</td>\n",
              "      <td>0</td>\n",
              "      <td>0</td>\n",
              "      <td>0</td>\n",
              "      <td>0</td>\n",
              "      <td>0</td>\n",
              "      <td>0</td>\n",
              "      <td>0</td>\n",
              "      <td>0</td>\n",
              "      <td>0</td>\n",
              "      <td>0</td>\n",
              "      <td>0</td>\n",
              "      <td>0</td>\n",
              "      <td>1</td>\n",
              "      <td>0</td>\n",
              "    </tr>\n",
              "    <tr>\n",
              "      <th>1</th>\n",
              "      <td>10000002</td>\n",
              "      <td>30000.0</td>\n",
              "      <td>4</td>\n",
              "      <td>3</td>\n",
              "      <td>73392.793977</td>\n",
              "      <td>1</td>\n",
              "      <td>debt_consolidation</td>\n",
              "      <td>14.93</td>\n",
              "      <td>0</td>\n",
              "      <td>12</td>\n",
              "      <td>24</td>\n",
              "      <td>Female</td>\n",
              "      <td>3.0</td>\n",
              "      <td>0</td>\n",
              "      <td>0</td>\n",
              "      <td>1</td>\n",
              "      <td>0</td>\n",
              "      <td>0</td>\n",
              "      <td>0</td>\n",
              "      <td>0</td>\n",
              "      <td>0</td>\n",
              "      <td>0</td>\n",
              "      <td>0</td>\n",
              "      <td>0</td>\n",
              "      <td>0</td>\n",
              "      <td>0</td>\n",
              "      <td>0</td>\n",
              "      <td>1</td>\n",
              "      <td>0</td>\n",
              "    </tr>\n",
              "    <tr>\n",
              "      <th>2</th>\n",
              "      <td>10000003</td>\n",
              "      <td>24725.0</td>\n",
              "      <td>7</td>\n",
              "      <td>3</td>\n",
              "      <td>75566.400000</td>\n",
              "      <td>1</td>\n",
              "      <td>debt_consolidation</td>\n",
              "      <td>15.88</td>\n",
              "      <td>0</td>\n",
              "      <td>12</td>\n",
              "      <td>16</td>\n",
              "      <td>Male</td>\n",
              "      <td>3.0</td>\n",
              "      <td>0</td>\n",
              "      <td>0</td>\n",
              "      <td>1</td>\n",
              "      <td>0</td>\n",
              "      <td>0</td>\n",
              "      <td>0</td>\n",
              "      <td>0</td>\n",
              "      <td>0</td>\n",
              "      <td>0</td>\n",
              "      <td>0</td>\n",
              "      <td>0</td>\n",
              "      <td>0</td>\n",
              "      <td>0</td>\n",
              "      <td>0</td>\n",
              "      <td>0</td>\n",
              "      <td>1</td>\n",
              "    </tr>\n",
              "    <tr>\n",
              "      <th>3</th>\n",
              "      <td>10000004</td>\n",
              "      <td>16000.0</td>\n",
              "      <td>0.5</td>\n",
              "      <td>0</td>\n",
              "      <td>56160.000000</td>\n",
              "      <td>1</td>\n",
              "      <td>debt_consolidation</td>\n",
              "      <td>14.34</td>\n",
              "      <td>3</td>\n",
              "      <td>16</td>\n",
              "      <td>22</td>\n",
              "      <td>Male</td>\n",
              "      <td>3.0</td>\n",
              "      <td>0</td>\n",
              "      <td>0</td>\n",
              "      <td>1</td>\n",
              "      <td>0</td>\n",
              "      <td>0</td>\n",
              "      <td>0</td>\n",
              "      <td>0</td>\n",
              "      <td>0</td>\n",
              "      <td>0</td>\n",
              "      <td>0</td>\n",
              "      <td>0</td>\n",
              "      <td>0</td>\n",
              "      <td>0</td>\n",
              "      <td>0</td>\n",
              "      <td>0</td>\n",
              "      <td>1</td>\n",
              "    </tr>\n",
              "    <tr>\n",
              "      <th>4</th>\n",
              "      <td>10000005</td>\n",
              "      <td>17000.0</td>\n",
              "      <td>8</td>\n",
              "      <td>4</td>\n",
              "      <td>96000.000000</td>\n",
              "      <td>1</td>\n",
              "      <td>debt_consolidation</td>\n",
              "      <td>22.17</td>\n",
              "      <td>1</td>\n",
              "      <td>19</td>\n",
              "      <td>30</td>\n",
              "      <td>Female</td>\n",
              "      <td>1.0</td>\n",
              "      <td>0</td>\n",
              "      <td>0</td>\n",
              "      <td>1</td>\n",
              "      <td>0</td>\n",
              "      <td>0</td>\n",
              "      <td>0</td>\n",
              "      <td>0</td>\n",
              "      <td>0</td>\n",
              "      <td>0</td>\n",
              "      <td>0</td>\n",
              "      <td>0</td>\n",
              "      <td>0</td>\n",
              "      <td>0</td>\n",
              "      <td>0</td>\n",
              "      <td>1</td>\n",
              "      <td>0</td>\n",
              "    </tr>\n",
              "  </tbody>\n",
              "</table>\n",
              "</div>"
            ],
            "text/plain": [
              "    Loan_ID  Loan_Amount_Requested Length_Employed  ...  wedding  Female  Male\n",
              "0  10000001                 7000.0             0.5  ...        0       1     0\n",
              "1  10000002                30000.0               4  ...        0       1     0\n",
              "2  10000003                24725.0               7  ...        0       0     1\n",
              "3  10000004                16000.0             0.5  ...        0       0     1\n",
              "4  10000005                17000.0               8  ...        0       1     0\n",
              "\n",
              "[5 rows x 29 columns]"
            ]
          },
          "metadata": {
            "tags": []
          },
          "execution_count": 51
        }
      ]
    },
    {
      "cell_type": "code",
      "metadata": {
        "id": "oI4mk76CH-D7",
        "colab_type": "code",
        "outputId": "8855c21c-e71d-4e74-e83c-109cc7a6f74f",
        "colab": {
          "base_uri": "https://localhost:8080/",
          "height": 521
        }
      },
      "source": [
        "df.dtypes"
      ],
      "execution_count": 52,
      "outputs": [
        {
          "output_type": "execute_result",
          "data": {
            "text/plain": [
              "Loan_ID                    int64\n",
              "Loan_Amount_Requested    float64\n",
              "Length_Employed           object\n",
              "Home_Owner                 int64\n",
              "Annual_Income            float64\n",
              "Income_Verified            int64\n",
              "Purpose_Of_Loan           object\n",
              "Debt_To_Income           float64\n",
              "Inquiries_Last_6Mo         int64\n",
              "Number_Open_Accounts       int64\n",
              "Total_Accounts             int64\n",
              "Gender                    object\n",
              "Interest_Rate            float64\n",
              "car                        uint8\n",
              "credit_card                uint8\n",
              "debt_consolidation         uint8\n",
              "educational                uint8\n",
              "home_improvement           uint8\n",
              "house                      uint8\n",
              "major_purchase             uint8\n",
              "medical                    uint8\n",
              "moving                     uint8\n",
              "other                      uint8\n",
              "renewable_energy           uint8\n",
              "small_business             uint8\n",
              "vacation                   uint8\n",
              "wedding                    uint8\n",
              "Female                     uint8\n",
              "Male                       uint8\n",
              "dtype: object"
            ]
          },
          "metadata": {
            "tags": []
          },
          "execution_count": 52
        }
      ]
    },
    {
      "cell_type": "code",
      "metadata": {
        "id": "rDuVjDthH_RP",
        "colab_type": "code",
        "colab": {}
      },
      "source": [
        "df['Length_Employed']=df['Length_Employed'].astype('float')"
      ],
      "execution_count": 0,
      "outputs": []
    },
    {
      "cell_type": "code",
      "metadata": {
        "id": "gL5BGRypIIoV",
        "colab_type": "code",
        "outputId": "01580528-f282-4a66-8ffd-38bda77320d2",
        "colab": {
          "base_uri": "https://localhost:8080/",
          "height": 402
        }
      },
      "source": [
        "correlation = data.corr()\n",
        "\n",
        "sns.heatmap(correlation)"
      ],
      "execution_count": 54,
      "outputs": [
        {
          "output_type": "execute_result",
          "data": {
            "text/plain": [
              "<matplotlib.axes._subplots.AxesSubplot at 0x7f70d7e84c88>"
            ]
          },
          "metadata": {
            "tags": []
          },
          "execution_count": 54
        },
        {
          "output_type": "display_data",
          "data": {
            "image/png": "[encoded data removed]",
            "text/plain": [
              "<Figure size 432x288 with 2 Axes>"
            ]
          },
          "metadata": {
            "tags": [],
            "needs_background": "light"
          }
        }
      ]
    },
    {
      "cell_type": "code",
      "metadata": {
        "id": "5ggd1OmQI2fb",
        "colab_type": "code",
        "colab": {}
      },
      "source": [
        "#Dropping one of the highly correlated parameters\n",
        "\n",
        "df.drop(['Number_Open_Accounts','Gender','Purpose_Of_Loan','Loan_ID','Female','wedding'], axis=1, inplace = True)"
      ],
      "execution_count": 0,
      "outputs": []
    },
    {
      "cell_type": "code",
      "metadata": {
        "id": "Hm2p_14YJn0x",
        "colab_type": "code",
        "outputId": "ff8cd782-eef6-420e-e753-59818922a719",
        "colab": {
          "base_uri": "https://localhost:8080/",
          "height": 134
        }
      },
      "source": [
        "df.columns"
      ],
      "execution_count": 56,
      "outputs": [
        {
          "output_type": "execute_result",
          "data": {
            "text/plain": [
              "Index(['Loan_Amount_Requested', 'Length_Employed', 'Home_Owner',\n",
              "       'Annual_Income', 'Income_Verified', 'Debt_To_Income',\n",
              "       'Inquiries_Last_6Mo', 'Total_Accounts', 'Interest_Rate', 'car',\n",
              "       'credit_card', 'debt_consolidation', 'educational', 'home_improvement',\n",
              "       'house', 'major_purchase', 'medical', 'moving', 'other',\n",
              "       'renewable_energy', 'small_business', 'vacation', 'Male'],\n",
              "      dtype='object')"
            ]
          },
          "metadata": {
            "tags": []
          },
          "execution_count": 56
        }
      ]
    },
    {
      "cell_type": "code",
      "metadata": {
        "id": "q2MaaQsRMM_A",
        "colab_type": "code",
        "outputId": "2d51074e-9ed3-419b-c1d0-4091f63125a7",
        "colab": {
          "base_uri": "https://localhost:8080/",
          "height": 297
        }
      },
      "source": [
        "sns.distplot(np.log(df['Annual_Income']))"
      ],
      "execution_count": 57,
      "outputs": [
        {
          "output_type": "execute_result",
          "data": {
            "text/plain": [
              "<matplotlib.axes._subplots.AxesSubplot at 0x7f70d792fb00>"
            ]
          },
          "metadata": {
            "tags": []
          },
          "execution_count": 57
        },
        {
          "output_type": "display_data",
          "data": {
            "image/png": "[encoded data removed]",
            "text/plain": [
              "<Figure size 432x288 with 1 Axes>"
            ]
          },
          "metadata": {
            "tags": [],
            "needs_background": "light"
          }
        }
      ]
    },
    {
      "cell_type": "code",
      "metadata": {
        "id": "S7dMuOY_Mf0c",
        "colab_type": "code",
        "colab": {}
      },
      "source": [
        "df['log_Annual_Income'] = np.log(df['Annual_Income'])\n",
        "df['log_Loan_Amount_Requested'] = np.log(df['Loan_Amount_Requested'])"
      ],
      "execution_count": 0,
      "outputs": []
    },
    {
      "cell_type": "code",
      "metadata": {
        "id": "lONV3OSbbTdl",
        "colab_type": "code",
        "colab": {}
      },
      "source": [
        "df.drop(['Annual_Income','log_Loan_Amount_Requested'],axis=1,inplace=True)"
      ],
      "execution_count": 0,
      "outputs": []
    },
    {
      "cell_type": "code",
      "metadata": {
        "id": "_K8PC-EgN_ab",
        "colab_type": "code",
        "outputId": "8f5a3a26-aad5-4204-c71e-f5f8dbb30a56",
        "colab": {
          "base_uri": "https://localhost:8080/",
          "height": 218
        }
      },
      "source": [
        "df['Loan_Amount_Requested'].value_counts()"
      ],
      "execution_count": 60,
      "outputs": [
        {
          "output_type": "execute_result",
          "data": {
            "text/plain": [
              "10000.0    19442\n",
              "12000.0    15020\n",
              "15000.0    13848\n",
              "20000.0    13399\n",
              "35000.0     9811\n",
              "           ...  \n",
              "30450.0        1\n",
              "30775.0        1\n",
              "30725.0        1\n",
              "31650.0        1\n",
              "32775.0        1\n",
              "Name: Loan_Amount_Requested, Length: 1320, dtype: int64"
            ]
          },
          "metadata": {
            "tags": []
          },
          "execution_count": 60
        }
      ]
    },
    {
      "cell_type": "code",
      "metadata": {
        "id": "17tHtF-3Ohng",
        "colab_type": "code",
        "outputId": "e9cb6f0c-9697-42c0-e5e3-17f9ae47a6ec",
        "colab": {
          "base_uri": "https://localhost:8080/",
          "height": 297
        }
      },
      "source": [
        "sns.distplot(df['Loan_Amount_Requested'])"
      ],
      "execution_count": 61,
      "outputs": [
        {
          "output_type": "execute_result",
          "data": {
            "text/plain": [
              "<matplotlib.axes._subplots.AxesSubplot at 0x7f70d781f550>"
            ]
          },
          "metadata": {
            "tags": []
          },
          "execution_count": 61
        },
        {
          "output_type": "display_data",
          "data": {
            "image/png": "[encoded data removed]",
            "text/plain": [
              "<Figure size 432x288 with 1 Axes>"
            ]
          },
          "metadata": {
            "tags": [],
            "needs_background": "light"
          }
        }
      ]
    },
    {
      "cell_type": "code",
      "metadata": {
        "id": "xyD9U1S8TwVw",
        "colab_type": "code",
        "outputId": "5294cc0a-96f5-479b-9c82-a7b7aa4b0af9",
        "colab": {
          "base_uri": "https://localhost:8080/",
          "height": 134
        }
      },
      "source": [
        "train_data = df.iloc[:164309,:]\n",
        "test_data = df.iloc[164309:,:]\n",
        "\n",
        "test_data.columns"
      ],
      "execution_count": 62,
      "outputs": [
        {
          "output_type": "execute_result",
          "data": {
            "text/plain": [
              "Index(['Loan_Amount_Requested', 'Length_Employed', 'Home_Owner',\n",
              "       'Income_Verified', 'Debt_To_Income', 'Inquiries_Last_6Mo',\n",
              "       'Total_Accounts', 'Interest_Rate', 'car', 'credit_card',\n",
              "       'debt_consolidation', 'educational', 'home_improvement', 'house',\n",
              "       'major_purchase', 'medical', 'moving', 'other', 'renewable_energy',\n",
              "       'small_business', 'vacation', 'Male', 'log_Annual_Income'],\n",
              "      dtype='object')"
            ]
          },
          "metadata": {
            "tags": []
          },
          "execution_count": 62
        }
      ]
    },
    {
      "cell_type": "code",
      "metadata": {
        "id": "FAjCIZFlUIKX",
        "colab_type": "code",
        "colab": {}
      },
      "source": [
        "X = train_data.drop(['Interest_Rate'], axis=1)\n",
        "y = train_data['Interest_Rate']"
      ],
      "execution_count": 0,
      "outputs": []
    },
    {
      "cell_type": "code",
      "metadata": {
        "id": "AcreirWSaImH",
        "colab_type": "code",
        "colab": {}
      },
      "source": [
        "X_train = X\n",
        "y_train = y\n",
        "\n",
        "X_test = test_data.drop(['Interest_Rate'], axis=1)\n"
      ],
      "execution_count": 0,
      "outputs": []
    },
    {
      "cell_type": "code",
      "metadata": {
        "id": "2pLEmCFuWaWI",
        "colab_type": "code",
        "outputId": "11303247-ba35-41f0-82f8-ee6b2f6bb7ee",
        "colab": {
          "base_uri": "https://localhost:8080/",
          "height": 403
        }
      },
      "source": [
        "X_train.dtypes"
      ],
      "execution_count": 65,
      "outputs": [
        {
          "output_type": "execute_result",
          "data": {
            "text/plain": [
              "Loan_Amount_Requested    float64\n",
              "Length_Employed          float64\n",
              "Home_Owner                 int64\n",
              "Income_Verified            int64\n",
              "Debt_To_Income           float64\n",
              "Inquiries_Last_6Mo         int64\n",
              "Total_Accounts             int64\n",
              "car                        uint8\n",
              "credit_card                uint8\n",
              "debt_consolidation         uint8\n",
              "educational                uint8\n",
              "home_improvement           uint8\n",
              "house                      uint8\n",
              "major_purchase             uint8\n",
              "medical                    uint8\n",
              "moving                     uint8\n",
              "other                      uint8\n",
              "renewable_energy           uint8\n",
              "small_business             uint8\n",
              "vacation                   uint8\n",
              "Male                       uint8\n",
              "log_Annual_Income        float64\n",
              "dtype: object"
            ]
          },
          "metadata": {
            "tags": []
          },
          "execution_count": 65
        }
      ]
    },
    {
      "cell_type": "code",
      "metadata": {
        "id": "oBQlLgg6W93R",
        "colab_type": "code",
        "outputId": "282c7cd0-6a35-41e5-b698-8cb175af9aea",
        "colab": {
          "base_uri": "https://localhost:8080/",
          "height": 215
        }
      },
      "source": [
        "X_train.head()"
      ],
      "execution_count": 66,
      "outputs": [
        {
          "output_type": "execute_result",
          "data": {
            "text/html": [
              "<div>\n",
              "<style scoped>\n",
              "    .dataframe tbody tr th:only-of-type {\n",
              "        vertical-align: middle;\n",
              "    }\n",
              "\n",
              "    .dataframe tbody tr th {\n",
              "        vertical-align: top;\n",
              "    }\n",
              "\n",
              "    .dataframe thead th {\n",
              "        text-align: right;\n",
              "    }\n",
              "</style>\n",
              "<table border=\"1\" class=\"dataframe\">\n",
              "  <thead>\n",
              "    <tr style=\"text-align: right;\">\n",
              "      <th></th>\n",
              "      <th>Loan_Amount_Requested</th>\n",
              "      <th>Length_Employed</th>\n",
              "      <th>Home_Owner</th>\n",
              "      <th>Income_Verified</th>\n",
              "      <th>Debt_To_Income</th>\n",
              "      <th>Inquiries_Last_6Mo</th>\n",
              "      <th>Total_Accounts</th>\n",
              "      <th>car</th>\n",
              "      <th>credit_card</th>\n",
              "      <th>debt_consolidation</th>\n",
              "      <th>educational</th>\n",
              "      <th>home_improvement</th>\n",
              "      <th>house</th>\n",
              "      <th>major_purchase</th>\n",
              "      <th>medical</th>\n",
              "      <th>moving</th>\n",
              "      <th>other</th>\n",
              "      <th>renewable_energy</th>\n",
              "      <th>small_business</th>\n",
              "      <th>vacation</th>\n",
              "      <th>Male</th>\n",
              "      <th>log_Annual_Income</th>\n",
              "    </tr>\n",
              "  </thead>\n",
              "  <tbody>\n",
              "    <tr>\n",
              "      <th>0</th>\n",
              "      <td>7000.0</td>\n",
              "      <td>0.5</td>\n",
              "      <td>2</td>\n",
              "      <td>0</td>\n",
              "      <td>18.37</td>\n",
              "      <td>0</td>\n",
              "      <td>14</td>\n",
              "      <td>1</td>\n",
              "      <td>0</td>\n",
              "      <td>0</td>\n",
              "      <td>0</td>\n",
              "      <td>0</td>\n",
              "      <td>0</td>\n",
              "      <td>0</td>\n",
              "      <td>0</td>\n",
              "      <td>0</td>\n",
              "      <td>0</td>\n",
              "      <td>0</td>\n",
              "      <td>0</td>\n",
              "      <td>0</td>\n",
              "      <td>0</td>\n",
              "      <td>11.127263</td>\n",
              "    </tr>\n",
              "    <tr>\n",
              "      <th>1</th>\n",
              "      <td>30000.0</td>\n",
              "      <td>4.0</td>\n",
              "      <td>3</td>\n",
              "      <td>1</td>\n",
              "      <td>14.93</td>\n",
              "      <td>0</td>\n",
              "      <td>24</td>\n",
              "      <td>0</td>\n",
              "      <td>0</td>\n",
              "      <td>1</td>\n",
              "      <td>0</td>\n",
              "      <td>0</td>\n",
              "      <td>0</td>\n",
              "      <td>0</td>\n",
              "      <td>0</td>\n",
              "      <td>0</td>\n",
              "      <td>0</td>\n",
              "      <td>0</td>\n",
              "      <td>0</td>\n",
              "      <td>0</td>\n",
              "      <td>0</td>\n",
              "      <td>11.203581</td>\n",
              "    </tr>\n",
              "    <tr>\n",
              "      <th>2</th>\n",
              "      <td>24725.0</td>\n",
              "      <td>7.0</td>\n",
              "      <td>3</td>\n",
              "      <td>1</td>\n",
              "      <td>15.88</td>\n",
              "      <td>0</td>\n",
              "      <td>16</td>\n",
              "      <td>0</td>\n",
              "      <td>0</td>\n",
              "      <td>1</td>\n",
              "      <td>0</td>\n",
              "      <td>0</td>\n",
              "      <td>0</td>\n",
              "      <td>0</td>\n",
              "      <td>0</td>\n",
              "      <td>0</td>\n",
              "      <td>0</td>\n",
              "      <td>0</td>\n",
              "      <td>0</td>\n",
              "      <td>0</td>\n",
              "      <td>1</td>\n",
              "      <td>11.232767</td>\n",
              "    </tr>\n",
              "    <tr>\n",
              "      <th>3</th>\n",
              "      <td>16000.0</td>\n",
              "      <td>0.5</td>\n",
              "      <td>0</td>\n",
              "      <td>1</td>\n",
              "      <td>14.34</td>\n",
              "      <td>3</td>\n",
              "      <td>22</td>\n",
              "      <td>0</td>\n",
              "      <td>0</td>\n",
              "      <td>1</td>\n",
              "      <td>0</td>\n",
              "      <td>0</td>\n",
              "      <td>0</td>\n",
              "      <td>0</td>\n",
              "      <td>0</td>\n",
              "      <td>0</td>\n",
              "      <td>0</td>\n",
              "      <td>0</td>\n",
              "      <td>0</td>\n",
              "      <td>0</td>\n",
              "      <td>1</td>\n",
              "      <td>10.935960</td>\n",
              "    </tr>\n",
              "    <tr>\n",
              "      <th>4</th>\n",
              "      <td>17000.0</td>\n",
              "      <td>8.0</td>\n",
              "      <td>4</td>\n",
              "      <td>1</td>\n",
              "      <td>22.17</td>\n",
              "      <td>1</td>\n",
              "      <td>30</td>\n",
              "      <td>0</td>\n",
              "      <td>0</td>\n",
              "      <td>1</td>\n",
              "      <td>0</td>\n",
              "      <td>0</td>\n",
              "      <td>0</td>\n",
              "      <td>0</td>\n",
              "      <td>0</td>\n",
              "      <td>0</td>\n",
              "      <td>0</td>\n",
              "      <td>0</td>\n",
              "      <td>0</td>\n",
              "      <td>0</td>\n",
              "      <td>0</td>\n",
              "      <td>11.472103</td>\n",
              "    </tr>\n",
              "  </tbody>\n",
              "</table>\n",
              "</div>"
            ],
            "text/plain": [
              "   Loan_Amount_Requested  Length_Employed  ...  Male  log_Annual_Income\n",
              "0                 7000.0              0.5  ...     0          11.127263\n",
              "1                30000.0              4.0  ...     0          11.203581\n",
              "2                24725.0              7.0  ...     1          11.232767\n",
              "3                16000.0              0.5  ...     1          10.935960\n",
              "4                17000.0              8.0  ...     0          11.472103\n",
              "\n",
              "[5 rows x 22 columns]"
            ]
          },
          "metadata": {
            "tags": []
          },
          "execution_count": 66
        }
      ]
    },
    {
      "cell_type": "code",
      "metadata": {
        "id": "s0LbjDLkXgdn",
        "colab_type": "code",
        "outputId": "ddeaa921-9823-4901-df3b-c1db26e5f7c9",
        "colab": {
          "base_uri": "https://localhost:8080/",
          "height": 118
        }
      },
      "source": [
        "y_train.head()"
      ],
      "execution_count": 67,
      "outputs": [
        {
          "output_type": "execute_result",
          "data": {
            "text/plain": [
              "0    1.0\n",
              "1    3.0\n",
              "2    3.0\n",
              "3    3.0\n",
              "4    1.0\n",
              "Name: Interest_Rate, dtype: float64"
            ]
          },
          "metadata": {
            "tags": []
          },
          "execution_count": 67
        }
      ]
    },
    {
      "cell_type": "code",
      "metadata": {
        "id": "gnQktbI0lm-P",
        "colab_type": "code",
        "colab": {}
      },
      "source": [
        "sample_submission=pd.read_csv('/content/sample_submission.csv')"
      ],
      "execution_count": 0,
      "outputs": []
    },
    {
      "cell_type": "code",
      "metadata": {
        "id": "29PoJhSHl0eu",
        "colab_type": "code",
        "outputId": "1c8f6487-21cb-4f75-e6e3-f370fc540f0e",
        "colab": {
          "base_uri": "https://localhost:8080/",
          "height": 195
        }
      },
      "source": [
        "sample_submission.head()"
      ],
      "execution_count": 69,
      "outputs": [
        {
          "output_type": "execute_result",
          "data": {
            "text/html": [
              "<div>\n",
              "<style scoped>\n",
              "    .dataframe tbody tr th:only-of-type {\n",
              "        vertical-align: middle;\n",
              "    }\n",
              "\n",
              "    .dataframe tbody tr th {\n",
              "        vertical-align: top;\n",
              "    }\n",
              "\n",
              "    .dataframe thead th {\n",
              "        text-align: right;\n",
              "    }\n",
              "</style>\n",
              "<table border=\"1\" class=\"dataframe\">\n",
              "  <thead>\n",
              "    <tr style=\"text-align: right;\">\n",
              "      <th></th>\n",
              "      <th>Loan_ID</th>\n",
              "      <th>Interest_Rate</th>\n",
              "    </tr>\n",
              "  </thead>\n",
              "  <tbody>\n",
              "    <tr>\n",
              "      <th>0</th>\n",
              "      <td>10164310</td>\n",
              "      <td>1</td>\n",
              "    </tr>\n",
              "    <tr>\n",
              "      <th>1</th>\n",
              "      <td>10164311</td>\n",
              "      <td>1</td>\n",
              "    </tr>\n",
              "    <tr>\n",
              "      <th>2</th>\n",
              "      <td>10164312</td>\n",
              "      <td>1</td>\n",
              "    </tr>\n",
              "    <tr>\n",
              "      <th>3</th>\n",
              "      <td>10164313</td>\n",
              "      <td>1</td>\n",
              "    </tr>\n",
              "    <tr>\n",
              "      <th>4</th>\n",
              "      <td>10164314</td>\n",
              "      <td>1</td>\n",
              "    </tr>\n",
              "  </tbody>\n",
              "</table>\n",
              "</div>"
            ],
            "text/plain": [
              "    Loan_ID  Interest_Rate\n",
              "0  10164310              1\n",
              "1  10164311              1\n",
              "2  10164312              1\n",
              "3  10164313              1\n",
              "4  10164314              1"
            ]
          },
          "metadata": {
            "tags": []
          },
          "execution_count": 69
        }
      ]
    },
    {
      "cell_type": "markdown",
      "metadata": {
        "id": "nAL7LRw7cBGR",
        "colab_type": "text"
      },
      "source": [
        "# DecisionTreeClassifier"
      ]
    },
    {
      "cell_type": "code",
      "metadata": {
        "id": "WuT5MH0RYN0K",
        "colab_type": "code",
        "colab": {}
      },
      "source": [
        "from sklearn.tree import DecisionTreeClassifier"
      ],
      "execution_count": 0,
      "outputs": []
    },
    {
      "cell_type": "code",
      "metadata": {
        "id": "lC8GR_R8Y7IW",
        "colab_type": "code",
        "colab": {}
      },
      "source": [
        "DTC_model=DecisionTreeClassifier()"
      ],
      "execution_count": 0,
      "outputs": []
    },
    {
      "cell_type": "code",
      "metadata": {
        "id": "ltg-zH2TZrfm",
        "colab_type": "code",
        "colab": {}
      },
      "source": [
        "DTC_model.fit(X_train,y_train)\n",
        "y_pred=DTC_model.predict(X_test)"
      ],
      "execution_count": 0,
      "outputs": []
    },
    {
      "cell_type": "code",
      "metadata": {
        "id": "nY6WTq6OfSdM",
        "colab_type": "code",
        "outputId": "26b24f78-3311-4654-ae20-7d7ea34d3eaf",
        "colab": {
          "base_uri": "https://localhost:8080/",
          "height": 34
        }
      },
      "source": [
        "y_pred"
      ],
      "execution_count": 0,
      "outputs": [
        {
          "output_type": "execute_result",
          "data": {
            "text/plain": [
              "array([3., 1., 3., ..., 3., 3., 3.])"
            ]
          },
          "metadata": {
            "tags": []
          },
          "execution_count": 99
        }
      ]
    },
    {
      "cell_type": "code",
      "metadata": {
        "id": "zaGRnBUGhCH_",
        "colab_type": "code",
        "colab": {}
      },
      "source": [
        "df_ypred=pd.DataFrame(y_pred)"
      ],
      "execution_count": 0,
      "outputs": []
    },
    {
      "cell_type": "code",
      "metadata": {
        "id": "A2t3p8pvnSlv",
        "colab_type": "code",
        "outputId": "a5677af6-f30d-4e7e-d145-09ca5d24fe01",
        "colab": {
          "base_uri": "https://localhost:8080/",
          "height": 195
        }
      },
      "source": [
        "df_ypred.head()"
      ],
      "execution_count": 0,
      "outputs": [
        {
          "output_type": "execute_result",
          "data": {
            "text/html": [
              "<div>\n",
              "<style scoped>\n",
              "    .dataframe tbody tr th:only-of-type {\n",
              "        vertical-align: middle;\n",
              "    }\n",
              "\n",
              "    .dataframe tbody tr th {\n",
              "        vertical-align: top;\n",
              "    }\n",
              "\n",
              "    .dataframe thead th {\n",
              "        text-align: right;\n",
              "    }\n",
              "</style>\n",
              "<table border=\"1\" class=\"dataframe\">\n",
              "  <thead>\n",
              "    <tr style=\"text-align: right;\">\n",
              "      <th></th>\n",
              "      <th>0</th>\n",
              "    </tr>\n",
              "  </thead>\n",
              "  <tbody>\n",
              "    <tr>\n",
              "      <th>0</th>\n",
              "      <td>3.0</td>\n",
              "    </tr>\n",
              "    <tr>\n",
              "      <th>1</th>\n",
              "      <td>1.0</td>\n",
              "    </tr>\n",
              "    <tr>\n",
              "      <th>2</th>\n",
              "      <td>3.0</td>\n",
              "    </tr>\n",
              "    <tr>\n",
              "      <th>3</th>\n",
              "      <td>3.0</td>\n",
              "    </tr>\n",
              "    <tr>\n",
              "      <th>4</th>\n",
              "      <td>3.0</td>\n",
              "    </tr>\n",
              "  </tbody>\n",
              "</table>\n",
              "</div>"
            ],
            "text/plain": [
              "     0\n",
              "0  3.0\n",
              "1  1.0\n",
              "2  3.0\n",
              "3  3.0\n",
              "4  3.0"
            ]
          },
          "metadata": {
            "tags": []
          },
          "execution_count": 101
        }
      ]
    },
    {
      "cell_type": "code",
      "metadata": {
        "id": "HWXqbwNTnXm_",
        "colab_type": "code",
        "colab": {}
      },
      "source": [
        "sample=pd.concat([sample_submission,df_ypred],axis='columns')"
      ],
      "execution_count": 0,
      "outputs": []
    },
    {
      "cell_type": "code",
      "metadata": {
        "id": "O1BSCi_FniOE",
        "colab_type": "code",
        "outputId": "18864844-66b3-4345-b38b-8e94e1cbeb19",
        "colab": {
          "base_uri": "https://localhost:8080/",
          "height": 195
        }
      },
      "source": [
        "sample.head()"
      ],
      "execution_count": 0,
      "outputs": [
        {
          "output_type": "execute_result",
          "data": {
            "text/html": [
              "<div>\n",
              "<style scoped>\n",
              "    .dataframe tbody tr th:only-of-type {\n",
              "        vertical-align: middle;\n",
              "    }\n",
              "\n",
              "    .dataframe tbody tr th {\n",
              "        vertical-align: top;\n",
              "    }\n",
              "\n",
              "    .dataframe thead th {\n",
              "        text-align: right;\n",
              "    }\n",
              "</style>\n",
              "<table border=\"1\" class=\"dataframe\">\n",
              "  <thead>\n",
              "    <tr style=\"text-align: right;\">\n",
              "      <th></th>\n",
              "      <th>Loan_ID</th>\n",
              "      <th>Interest_Rate</th>\n",
              "      <th>0</th>\n",
              "    </tr>\n",
              "  </thead>\n",
              "  <tbody>\n",
              "    <tr>\n",
              "      <th>0</th>\n",
              "      <td>10164310</td>\n",
              "      <td>1</td>\n",
              "      <td>3.0</td>\n",
              "    </tr>\n",
              "    <tr>\n",
              "      <th>1</th>\n",
              "      <td>10164311</td>\n",
              "      <td>1</td>\n",
              "      <td>1.0</td>\n",
              "    </tr>\n",
              "    <tr>\n",
              "      <th>2</th>\n",
              "      <td>10164312</td>\n",
              "      <td>1</td>\n",
              "      <td>3.0</td>\n",
              "    </tr>\n",
              "    <tr>\n",
              "      <th>3</th>\n",
              "      <td>10164313</td>\n",
              "      <td>1</td>\n",
              "      <td>3.0</td>\n",
              "    </tr>\n",
              "    <tr>\n",
              "      <th>4</th>\n",
              "      <td>10164314</td>\n",
              "      <td>1</td>\n",
              "      <td>3.0</td>\n",
              "    </tr>\n",
              "  </tbody>\n",
              "</table>\n",
              "</div>"
            ],
            "text/plain": [
              "    Loan_ID  Interest_Rate    0\n",
              "0  10164310              1  3.0\n",
              "1  10164311              1  1.0\n",
              "2  10164312              1  3.0\n",
              "3  10164313              1  3.0\n",
              "4  10164314              1  3.0"
            ]
          },
          "metadata": {
            "tags": []
          },
          "execution_count": 103
        }
      ]
    },
    {
      "cell_type": "code",
      "metadata": {
        "id": "U5ONDE_CoVQp",
        "colab_type": "code",
        "outputId": "72843f31-038a-4b41-9f22-332e20cf5619",
        "colab": {
          "base_uri": "https://localhost:8080/",
          "height": 34
        }
      },
      "source": [
        "sample.columns"
      ],
      "execution_count": 0,
      "outputs": [
        {
          "output_type": "execute_result",
          "data": {
            "text/plain": [
              "Index(['Loan_ID', 'Interest_Rate', 0], dtype='object')"
            ]
          },
          "metadata": {
            "tags": []
          },
          "execution_count": 104
        }
      ]
    },
    {
      "cell_type": "code",
      "metadata": {
        "id": "A2wcw5zonlp9",
        "colab_type": "code",
        "colab": {}
      },
      "source": [
        "sample.drop(['Interest_Rate'],axis=1,inplace=True)\n",
        "sample.rename(columns={0:'Interest_Rate'},inplace=True)"
      ],
      "execution_count": 0,
      "outputs": []
    },
    {
      "cell_type": "code",
      "metadata": {
        "id": "B8ESytkXoeQq",
        "colab_type": "code",
        "colab": {}
      },
      "source": [
        "sample.to_csv('Sample_submission.csv',index=False)"
      ],
      "execution_count": 0,
      "outputs": []
    },
    {
      "cell_type": "code",
      "metadata": {
        "id": "oEhja0dJZ2on",
        "colab_type": "code",
        "outputId": "99e34a74-e7c1-4c7c-b25f-80f40ba37e6e",
        "colab": {
          "base_uri": "https://localhost:8080/",
          "height": 185
        }
      },
      "source": [
        "from sklearn import metrics\n",
        "print(metrics.classification_report(y_pred, y_test))"
      ],
      "execution_count": 0,
      "outputs": [
        {
          "output_type": "stream",
          "text": [
            "              precision    recall  f1-score   support\n",
            "\n",
            "         1.0       0.31      0.29      0.30     10669\n",
            "         2.0       0.44      0.45      0.45     20705\n",
            "         3.0       0.46      0.46      0.46     17919\n",
            "\n",
            "    accuracy                           0.42     49293\n",
            "   macro avg       0.40      0.40      0.40     49293\n",
            "weighted avg       0.42      0.42      0.42     49293\n",
            "\n"
          ],
          "name": "stdout"
        }
      ]
    },
    {
      "cell_type": "code",
      "metadata": {
        "id": "swwzUrqdbACG",
        "colab_type": "code",
        "outputId": "752e8c97-b735-4750-a0a9-5aaf4dec1e24",
        "colab": {
          "base_uri": "https://localhost:8080/",
          "height": 279
        }
      },
      "source": [
        "from sklearn.metrics import confusion_matrix\n",
        "mat = confusion_matrix(y_test, y_pred)\n",
        "sns.heatmap(mat.T, square=True, annot=True, fmt='d', cbar=False)\n",
        "plt.xlabel('true label')\n",
        "plt.ylabel('predicted label');"
      ],
      "execution_count": 0,
      "outputs": [
        {
          "output_type": "display_data",
          "data": {
            "image/png": "[encoded data removed]",
            "text/plain": [
              "<Figure size 432x288 with 1 Axes>"
            ]
          },
          "metadata": {
            "tags": [],
            "needs_background": "light"
          }
        }
      ]
    },
    {
      "cell_type": "code",
      "metadata": {
        "id": "CmWcckyUbIl-",
        "colab_type": "code",
        "outputId": "bcdd96ae-f9be-476c-d323-6e5772849c78",
        "colab": {
          "base_uri": "https://localhost:8080/",
          "height": 34
        }
      },
      "source": [
        "from sklearn.metrics import r2_score\n",
        "r2_score_dt=-r2_score(y_test, y_pred)\n",
        "print(r2_score_dt)"
      ],
      "execution_count": 0,
      "outputs": [
        {
          "output_type": "stream",
          "text": [
            "0.6585826124102079\n"
          ],
          "name": "stdout"
        }
      ]
    },
    {
      "cell_type": "markdown",
      "metadata": {
        "id": "D_A-5tPscF3p",
        "colab_type": "text"
      },
      "source": [
        "# BaggingClassifier"
      ]
    },
    {
      "cell_type": "code",
      "metadata": {
        "id": "FC5dOlvtbLwh",
        "colab_type": "code",
        "colab": {}
      },
      "source": [
        "from sklearn.tree import DecisionTreeClassifier\n",
        "from sklearn.ensemble import BaggingClassifier\n",
        "tree = DecisionTreeClassifier()\n",
        "bag = BaggingClassifier(tree, n_estimators=100, max_samples=0.80,bootstrap=True,random_state=1)\n",
        "bag.fit(X_train,y_train)\n",
        "y_pred_bag=bag.predict(X_test)"
      ],
      "execution_count": 0,
      "outputs": []
    },
    {
      "cell_type": "markdown",
      "metadata": {
        "id": "PfIxuQ-3kLBO",
        "colab_type": "text"
      },
      "source": [
        "# 0.489596082933506"
      ]
    },
    {
      "cell_type": "code",
      "metadata": {
        "id": "qku8mO0aj4Fx",
        "colab_type": "code",
        "colab": {}
      },
      "source": [
        "tree = DecisionTreeClassifier()\n",
        "bag = BaggingClassifier(tree, n_estimators=500, max_samples=0.80,bootstrap=True,oob_score=True,random_state=1)\n",
        "bag.fit(X_train,y_train)\n",
        "y_pred_bag=bag.predict(X_test)"
      ],
      "execution_count": 0,
      "outputs": []
    },
    {
      "cell_type": "markdown",
      "metadata": {
        "id": "_jQ7p1-CoaL-",
        "colab_type": "text"
      },
      "source": [
        "# 0.491067493848396"
      ]
    },
    {
      "cell_type": "code",
      "metadata": {
        "id": "BmPxv-sUco6G",
        "colab_type": "code",
        "colab": {}
      },
      "source": [
        "df_ypred_bag=pd.DataFrame(y_pred_bag)\n",
        "sample=pd.concat([sample_submission,df_ypred_bag],axis='columns')\n",
        "sample.drop(['Interest_Rate'],axis=1,inplace=True)\n",
        "sample.rename(columns={0:'Interest_Rate'},inplace=True)\n",
        "sample.to_csv('Sample_submission.csv',index=False)"
      ],
      "execution_count": 0,
      "outputs": []
    },
    {
      "cell_type": "code",
      "metadata": {
        "id": "QUE_ZPDWcjmw",
        "colab_type": "code",
        "outputId": "3a8694b7-aecf-409f-feb4-1225672c0a25",
        "colab": {
          "base_uri": "https://localhost:8080/",
          "height": 185
        }
      },
      "source": [
        "print(metrics.classification_report(y_pred_bag, y_test))"
      ],
      "execution_count": 0,
      "outputs": [
        {
          "output_type": "stream",
          "text": [
            "              precision    recall  f1-score   support\n",
            "\n",
            "         1.0       0.24      0.41      0.30      5851\n",
            "         2.0       0.58      0.49      0.53     25231\n",
            "         3.0       0.55      0.54      0.54     18211\n",
            "\n",
            "    accuracy                           0.50     49293\n",
            "   macro avg       0.45      0.48      0.46     49293\n",
            "weighted avg       0.53      0.50      0.51     49293\n",
            "\n"
          ],
          "name": "stdout"
        }
      ]
    },
    {
      "cell_type": "code",
      "metadata": {
        "id": "ZkxYfo0Ocprn",
        "colab_type": "code",
        "outputId": "e1fc1272-35c7-4d4d-bc6a-cc54e4080aa3",
        "colab": {
          "base_uri": "https://localhost:8080/",
          "height": 279
        }
      },
      "source": [
        "mat = confusion_matrix(y_test, y_pred_bag)\n",
        "sns.heatmap(mat.T, square=True, annot=True, fmt='d', cbar=False)\n",
        "plt.xlabel('true label')\n",
        "plt.ylabel('predicted label');"
      ],
      "execution_count": 0,
      "outputs": [
        {
          "output_type": "display_data",
          "data": {
            "image/png": "[encoded data removed]",
            "text/plain": [
              "<Figure size 432x288 with 1 Axes>"
            ]
          },
          "metadata": {
            "tags": [],
            "needs_background": "light"
          }
        }
      ]
    },
    {
      "cell_type": "code",
      "metadata": {
        "id": "hSFjV0uncugP",
        "colab_type": "code",
        "outputId": "fffaa590-3423-4219-9d0b-62031358860e",
        "colab": {
          "base_uri": "https://localhost:8080/",
          "height": 34
        }
      },
      "source": [
        "r2_score_bag=-r2_score(y_test, y_pred)\n",
        "print(r2_score_bag)"
      ],
      "execution_count": 0,
      "outputs": [
        {
          "output_type": "stream",
          "text": [
            "0.6585826124102079\n"
          ],
          "name": "stdout"
        }
      ]
    },
    {
      "cell_type": "markdown",
      "metadata": {
        "id": "120eaZ-hpe2S",
        "colab_type": "text"
      },
      "source": [
        "# Adaboost"
      ]
    },
    {
      "cell_type": "code",
      "metadata": {
        "id": "xnsUOyarpd20",
        "colab_type": "code",
        "colab": {}
      },
      "source": [
        "from sklearn.ensemble import AdaBoostClassifier\n",
        "ada_clf = AdaBoostClassifier(DecisionTreeClassifier(), n_estimators=500,algorithm=\"SAMME.R\", learning_rate=0.5)\n",
        "ada_clf.fit(X_train, y_train)\n",
        "y_pred_adb=ada_clf.predict(X_test)"
      ],
      "execution_count": 0,
      "outputs": []
    },
    {
      "cell_type": "markdown",
      "metadata": {
        "id": "qhCrrSG_qpTk",
        "colab_type": "text"
      },
      "source": [
        "#0.479313489964949"
      ]
    },
    {
      "cell_type": "code",
      "metadata": {
        "id": "i5mBjVoppvfh",
        "colab_type": "code",
        "colab": {}
      },
      "source": [
        "df_ypred_adb=pd.DataFrame(y_pred_adb)\n",
        "sample=pd.concat([sample_submission,df_ypred_adb],axis='columns')\n",
        "sample.drop(['Interest_Rate'],axis=1,inplace=True)\n",
        "sample.rename(columns={0:'Interest_Rate'},inplace=True)\n",
        "sample.to_csv('Sample_submission.csv',index=False)"
      ],
      "execution_count": 0,
      "outputs": []
    },
    {
      "cell_type": "markdown",
      "metadata": {
        "id": "RaPgYI3yqEpH",
        "colab_type": "text"
      },
      "source": [
        "# Gradient Boosting"
      ]
    },
    {
      "cell_type": "code",
      "metadata": {
        "id": "yP9vpvmoqIlv",
        "colab_type": "code",
        "colab": {}
      },
      "source": [
        "from sklearn.ensemble import GradientBoostingRegressor\n",
        "gbrt = GradientBoostingRegressor(n_estimators=500, warm_start=True,subsample=0.25,learning_rate=0.5)\n",
        "gbrt.fit(X_train, y_train)\n",
        "y_pred_gdb=gbrt.predict(X_test)"
      ],
      "execution_count": 0,
      "outputs": []
    },
    {
      "cell_type": "code",
      "metadata": {
        "id": "3Zo8V89xqs1r",
        "colab_type": "code",
        "colab": {}
      },
      "source": [
        "df_ypred_gdb=pd.DataFrame(y_pred_gdb)\n",
        "sample=pd.concat([sample_submission,df_ypred_gdb],axis='columns')\n",
        "sample.drop(['Interest_Rate'],axis=1,inplace=True)\n",
        "sample.rename(columns={0:'Interest_Rate'},inplace=True)\n",
        "sample.to_csv('Sample_submission.csv',index=False)"
      ],
      "execution_count": 0,
      "outputs": []
    },
    {
      "cell_type": "markdown",
      "metadata": {
        "id": "Vtt9Px8MdTec",
        "colab_type": "text"
      },
      "source": [
        "# RandomForest"
      ]
    },
    {
      "cell_type": "code",
      "metadata": {
        "id": "J64IFMi_c7WC",
        "colab_type": "code",
        "colab": {}
      },
      "source": [
        "from sklearn.ensemble import RandomForestClassifier\n",
        "model = RandomForestClassifier(n_estimators=100, random_state=0)\n",
        "model.fit(X_train,y_train)\n",
        "y_pred_RF=model.predict(X_test)"
      ],
      "execution_count": 0,
      "outputs": []
    },
    {
      "cell_type": "markdown",
      "metadata": {
        "id": "pjwll9I1o8ha",
        "colab_type": "text"
      },
      "source": [
        "# 0.487559411351662\t"
      ]
    },
    {
      "cell_type": "code",
      "metadata": {
        "id": "7HtoWCwNoyy5",
        "colab_type": "code",
        "colab": {}
      },
      "source": [
        "model = RandomForestClassifier(n_estimators=500, n_jobs=-1)\n",
        "model.fit(X_train,y_train)\n",
        "y_pred_RF=model.predict(X_test)"
      ],
      "execution_count": 0,
      "outputs": []
    },
    {
      "cell_type": "markdown",
      "metadata": {
        "id": "N3fYA6oR4QkA",
        "colab_type": "text"
      },
      "source": [
        "# 0.490332481275929"
      ]
    },
    {
      "cell_type": "code",
      "metadata": {
        "id": "sV3vIMPN4M1e",
        "colab_type": "code",
        "colab": {
          "base_uri": "https://localhost:8080/",
          "height": 354
        },
        "outputId": "86ff3968-c204-4a8a-e3e6-b0f79609d8a6"
      },
      "source": [
        "from sklearn.ensemble import RandomForestClassifier\n",
        "model = RandomForestClassifier(n_estimators=1000, n_jobs=-1)\n",
        "model.fit(X_train,y_train)\n",
        "y_pred_RF=model.predict(X_test)"
      ],
      "execution_count": 70,
      "outputs": [
        {
          "output_type": "error",
          "ename": "KeyboardInterrupt",
          "evalue": "ignored",
          "traceback": [
            "\u001b[0;31m---------------------------------------------------------------------------\u001b[0m",
            "\u001b[0;31mKeyboardInterrupt\u001b[0m                         Traceback (most recent call last)",
            "\u001b[0;32m<ipython-input-70-e993900c7fb8>\u001b[0m in \u001b[0;36m<module>\u001b[0;34m()\u001b[0m\n\u001b[1;32m      1\u001b[0m \u001b[0;32mfrom\u001b[0m \u001b[0msklearn\u001b[0m\u001b[0;34m.\u001b[0m\u001b[0mensemble\u001b[0m \u001b[0;32mimport\u001b[0m \u001b[0mRandomForestClassifier\u001b[0m\u001b[0;34m\u001b[0m\u001b[0;34m\u001b[0m\u001b[0m\n\u001b[1;32m      2\u001b[0m \u001b[0mmodel\u001b[0m \u001b[0;34m=\u001b[0m \u001b[0mRandomForestClassifier\u001b[0m\u001b[0;34m(\u001b[0m\u001b[0mn_estimators\u001b[0m\u001b[0;34m=\u001b[0m\u001b[0;36m1000\u001b[0m\u001b[0;34m,\u001b[0m \u001b[0mn_jobs\u001b[0m\u001b[0;34m=\u001b[0m\u001b[0;34m-\u001b[0m\u001b[0;36m1\u001b[0m\u001b[0;34m)\u001b[0m\u001b[0;34m\u001b[0m\u001b[0;34m\u001b[0m\u001b[0m\n\u001b[0;32m----> 3\u001b[0;31m \u001b[0mmodel\u001b[0m\u001b[0;34m.\u001b[0m\u001b[0mfit\u001b[0m\u001b[0;34m(\u001b[0m\u001b[0mX_train\u001b[0m\u001b[0;34m,\u001b[0m\u001b[0my_train\u001b[0m\u001b[0;34m)\u001b[0m\u001b[0;34m\u001b[0m\u001b[0;34m\u001b[0m\u001b[0m\n\u001b[0m\u001b[1;32m      4\u001b[0m \u001b[0my_pred_RF\u001b[0m\u001b[0;34m=\u001b[0m\u001b[0mmodel\u001b[0m\u001b[0;34m.\u001b[0m\u001b[0mpredict\u001b[0m\u001b[0;34m(\u001b[0m\u001b[0mX_test\u001b[0m\u001b[0;34m)\u001b[0m\u001b[0;34m\u001b[0m\u001b[0;34m\u001b[0m\u001b[0m\n",
            "\u001b[0;32m/usr/local/lib/python3.6/dist-packages/sklearn/ensemble/_forest.py\u001b[0m in \u001b[0;36mfit\u001b[0;34m(self, X, y, sample_weight)\u001b[0m\n\u001b[1;32m    381\u001b[0m                     \u001b[0mverbose\u001b[0m\u001b[0;34m=\u001b[0m\u001b[0mself\u001b[0m\u001b[0;34m.\u001b[0m\u001b[0mverbose\u001b[0m\u001b[0;34m,\u001b[0m \u001b[0mclass_weight\u001b[0m\u001b[0;34m=\u001b[0m\u001b[0mself\u001b[0m\u001b[0;34m.\u001b[0m\u001b[0mclass_weight\u001b[0m\u001b[0;34m,\u001b[0m\u001b[0;34m\u001b[0m\u001b[0;34m\u001b[0m\u001b[0m\n\u001b[1;32m    382\u001b[0m                     n_samples_bootstrap=n_samples_bootstrap)\n\u001b[0;32m--> 383\u001b[0;31m                 for i, t in enumerate(trees))\n\u001b[0m\u001b[1;32m    384\u001b[0m \u001b[0;34m\u001b[0m\u001b[0m\n\u001b[1;32m    385\u001b[0m             \u001b[0;31m# Collect newly grown trees\u001b[0m\u001b[0;34m\u001b[0m\u001b[0;34m\u001b[0m\u001b[0;34m\u001b[0m\u001b[0m\n",
            "\u001b[0;32m/usr/local/lib/python3.6/dist-packages/joblib/parallel.py\u001b[0m in \u001b[0;36m__call__\u001b[0;34m(self, iterable)\u001b[0m\n\u001b[1;32m   1040\u001b[0m \u001b[0;34m\u001b[0m\u001b[0m\n\u001b[1;32m   1041\u001b[0m             \u001b[0;32mwith\u001b[0m \u001b[0mself\u001b[0m\u001b[0;34m.\u001b[0m\u001b[0m_backend\u001b[0m\u001b[0;34m.\u001b[0m\u001b[0mretrieval_context\u001b[0m\u001b[0;34m(\u001b[0m\u001b[0;34m)\u001b[0m\u001b[0;34m:\u001b[0m\u001b[0;34m\u001b[0m\u001b[0;34m\u001b[0m\u001b[0m\n\u001b[0;32m-> 1042\u001b[0;31m                 \u001b[0mself\u001b[0m\u001b[0;34m.\u001b[0m\u001b[0mretrieve\u001b[0m\u001b[0;34m(\u001b[0m\u001b[0;34m)\u001b[0m\u001b[0;34m\u001b[0m\u001b[0;34m\u001b[0m\u001b[0m\n\u001b[0m\u001b[1;32m   1043\u001b[0m             \u001b[0;31m# Make sure that we get a last message telling us we are done\u001b[0m\u001b[0;34m\u001b[0m\u001b[0;34m\u001b[0m\u001b[0;34m\u001b[0m\u001b[0m\n\u001b[1;32m   1044\u001b[0m             \u001b[0melapsed_time\u001b[0m \u001b[0;34m=\u001b[0m \u001b[0mtime\u001b[0m\u001b[0;34m.\u001b[0m\u001b[0mtime\u001b[0m\u001b[0;34m(\u001b[0m\u001b[0;34m)\u001b[0m \u001b[0;34m-\u001b[0m \u001b[0mself\u001b[0m\u001b[0;34m.\u001b[0m\u001b[0m_start_time\u001b[0m\u001b[0;34m\u001b[0m\u001b[0;34m\u001b[0m\u001b[0m\n",
            "\u001b[0;32m/usr/local/lib/python3.6/dist-packages/joblib/parallel.py\u001b[0m in \u001b[0;36mretrieve\u001b[0;34m(self)\u001b[0m\n\u001b[1;32m    919\u001b[0m             \u001b[0;32mtry\u001b[0m\u001b[0;34m:\u001b[0m\u001b[0;34m\u001b[0m\u001b[0;34m\u001b[0m\u001b[0m\n\u001b[1;32m    920\u001b[0m                 \u001b[0;32mif\u001b[0m \u001b[0mgetattr\u001b[0m\u001b[0;34m(\u001b[0m\u001b[0mself\u001b[0m\u001b[0;34m.\u001b[0m\u001b[0m_backend\u001b[0m\u001b[0;34m,\u001b[0m \u001b[0;34m'supports_timeout'\u001b[0m\u001b[0;34m,\u001b[0m \u001b[0;32mFalse\u001b[0m\u001b[0;34m)\u001b[0m\u001b[0;34m:\u001b[0m\u001b[0;34m\u001b[0m\u001b[0;34m\u001b[0m\u001b[0m\n\u001b[0;32m--> 921\u001b[0;31m                     \u001b[0mself\u001b[0m\u001b[0;34m.\u001b[0m\u001b[0m_output\u001b[0m\u001b[0;34m.\u001b[0m\u001b[0mextend\u001b[0m\u001b[0;34m(\u001b[0m\u001b[0mjob\u001b[0m\u001b[0;34m.\u001b[0m\u001b[0mget\u001b[0m\u001b[0;34m(\u001b[0m\u001b[0mtimeout\u001b[0m\u001b[0;34m=\u001b[0m\u001b[0mself\u001b[0m\u001b[0;34m.\u001b[0m\u001b[0mtimeout\u001b[0m\u001b[0;34m)\u001b[0m\u001b[0;34m)\u001b[0m\u001b[0;34m\u001b[0m\u001b[0;34m\u001b[0m\u001b[0m\n\u001b[0m\u001b[1;32m    922\u001b[0m                 \u001b[0;32melse\u001b[0m\u001b[0;34m:\u001b[0m\u001b[0;34m\u001b[0m\u001b[0;34m\u001b[0m\u001b[0m\n\u001b[1;32m    923\u001b[0m                     \u001b[0mself\u001b[0m\u001b[0;34m.\u001b[0m\u001b[0m_output\u001b[0m\u001b[0;34m.\u001b[0m\u001b[0mextend\u001b[0m\u001b[0;34m(\u001b[0m\u001b[0mjob\u001b[0m\u001b[0;34m.\u001b[0m\u001b[0mget\u001b[0m\u001b[0;34m(\u001b[0m\u001b[0;34m)\u001b[0m\u001b[0;34m)\u001b[0m\u001b[0;34m\u001b[0m\u001b[0;34m\u001b[0m\u001b[0m\n",
            "\u001b[0;32m/usr/lib/python3.6/multiprocessing/pool.py\u001b[0m in \u001b[0;36mget\u001b[0;34m(self, timeout)\u001b[0m\n\u001b[1;32m    636\u001b[0m \u001b[0;34m\u001b[0m\u001b[0m\n\u001b[1;32m    637\u001b[0m     \u001b[0;32mdef\u001b[0m \u001b[0mget\u001b[0m\u001b[0;34m(\u001b[0m\u001b[0mself\u001b[0m\u001b[0;34m,\u001b[0m \u001b[0mtimeout\u001b[0m\u001b[0;34m=\u001b[0m\u001b[0;32mNone\u001b[0m\u001b[0;34m)\u001b[0m\u001b[0;34m:\u001b[0m\u001b[0;34m\u001b[0m\u001b[0;34m\u001b[0m\u001b[0m\n\u001b[0;32m--> 638\u001b[0;31m         \u001b[0mself\u001b[0m\u001b[0;34m.\u001b[0m\u001b[0mwait\u001b[0m\u001b[0;34m(\u001b[0m\u001b[0mtimeout\u001b[0m\u001b[0;34m)\u001b[0m\u001b[0;34m\u001b[0m\u001b[0;34m\u001b[0m\u001b[0m\n\u001b[0m\u001b[1;32m    639\u001b[0m         \u001b[0;32mif\u001b[0m \u001b[0;32mnot\u001b[0m \u001b[0mself\u001b[0m\u001b[0;34m.\u001b[0m\u001b[0mready\u001b[0m\u001b[0;34m(\u001b[0m\u001b[0;34m)\u001b[0m\u001b[0;34m:\u001b[0m\u001b[0;34m\u001b[0m\u001b[0;34m\u001b[0m\u001b[0m\n\u001b[1;32m    640\u001b[0m             \u001b[0;32mraise\u001b[0m \u001b[0mTimeoutError\u001b[0m\u001b[0;34m\u001b[0m\u001b[0;34m\u001b[0m\u001b[0m\n",
            "\u001b[0;32m/usr/lib/python3.6/multiprocessing/pool.py\u001b[0m in \u001b[0;36mwait\u001b[0;34m(self, timeout)\u001b[0m\n\u001b[1;32m    633\u001b[0m \u001b[0;34m\u001b[0m\u001b[0m\n\u001b[1;32m    634\u001b[0m     \u001b[0;32mdef\u001b[0m \u001b[0mwait\u001b[0m\u001b[0;34m(\u001b[0m\u001b[0mself\u001b[0m\u001b[0;34m,\u001b[0m \u001b[0mtimeout\u001b[0m\u001b[0;34m=\u001b[0m\u001b[0;32mNone\u001b[0m\u001b[0;34m)\u001b[0m\u001b[0;34m:\u001b[0m\u001b[0;34m\u001b[0m\u001b[0;34m\u001b[0m\u001b[0m\n\u001b[0;32m--> 635\u001b[0;31m         \u001b[0mself\u001b[0m\u001b[0;34m.\u001b[0m\u001b[0m_event\u001b[0m\u001b[0;34m.\u001b[0m\u001b[0mwait\u001b[0m\u001b[0;34m(\u001b[0m\u001b[0mtimeout\u001b[0m\u001b[0;34m)\u001b[0m\u001b[0;34m\u001b[0m\u001b[0;34m\u001b[0m\u001b[0m\n\u001b[0m\u001b[1;32m    636\u001b[0m \u001b[0;34m\u001b[0m\u001b[0m\n\u001b[1;32m    637\u001b[0m     \u001b[0;32mdef\u001b[0m \u001b[0mget\u001b[0m\u001b[0;34m(\u001b[0m\u001b[0mself\u001b[0m\u001b[0;34m,\u001b[0m \u001b[0mtimeout\u001b[0m\u001b[0;34m=\u001b[0m\u001b[0;32mNone\u001b[0m\u001b[0;34m)\u001b[0m\u001b[0;34m:\u001b[0m\u001b[0;34m\u001b[0m\u001b[0;34m\u001b[0m\u001b[0m\n",
            "\u001b[0;32m/usr/lib/python3.6/threading.py\u001b[0m in \u001b[0;36mwait\u001b[0;34m(self, timeout)\u001b[0m\n\u001b[1;32m    549\u001b[0m             \u001b[0msignaled\u001b[0m \u001b[0;34m=\u001b[0m \u001b[0mself\u001b[0m\u001b[0;34m.\u001b[0m\u001b[0m_flag\u001b[0m\u001b[0;34m\u001b[0m\u001b[0;34m\u001b[0m\u001b[0m\n\u001b[1;32m    550\u001b[0m             \u001b[0;32mif\u001b[0m \u001b[0;32mnot\u001b[0m \u001b[0msignaled\u001b[0m\u001b[0;34m:\u001b[0m\u001b[0;34m\u001b[0m\u001b[0;34m\u001b[0m\u001b[0m\n\u001b[0;32m--> 551\u001b[0;31m                 \u001b[0msignaled\u001b[0m \u001b[0;34m=\u001b[0m \u001b[0mself\u001b[0m\u001b[0;34m.\u001b[0m\u001b[0m_cond\u001b[0m\u001b[0;34m.\u001b[0m\u001b[0mwait\u001b[0m\u001b[0;34m(\u001b[0m\u001b[0mtimeout\u001b[0m\u001b[0;34m)\u001b[0m\u001b[0;34m\u001b[0m\u001b[0;34m\u001b[0m\u001b[0m\n\u001b[0m\u001b[1;32m    552\u001b[0m             \u001b[0;32mreturn\u001b[0m \u001b[0msignaled\u001b[0m\u001b[0;34m\u001b[0m\u001b[0;34m\u001b[0m\u001b[0m\n\u001b[1;32m    553\u001b[0m \u001b[0;34m\u001b[0m\u001b[0m\n",
            "\u001b[0;32m/usr/lib/python3.6/threading.py\u001b[0m in \u001b[0;36mwait\u001b[0;34m(self, timeout)\u001b[0m\n\u001b[1;32m    293\u001b[0m         \u001b[0;32mtry\u001b[0m\u001b[0;34m:\u001b[0m    \u001b[0;31m# restore state no matter what (e.g., KeyboardInterrupt)\u001b[0m\u001b[0;34m\u001b[0m\u001b[0;34m\u001b[0m\u001b[0m\n\u001b[1;32m    294\u001b[0m             \u001b[0;32mif\u001b[0m \u001b[0mtimeout\u001b[0m \u001b[0;32mis\u001b[0m \u001b[0;32mNone\u001b[0m\u001b[0;34m:\u001b[0m\u001b[0;34m\u001b[0m\u001b[0;34m\u001b[0m\u001b[0m\n\u001b[0;32m--> 295\u001b[0;31m                 \u001b[0mwaiter\u001b[0m\u001b[0;34m.\u001b[0m\u001b[0macquire\u001b[0m\u001b[0;34m(\u001b[0m\u001b[0;34m)\u001b[0m\u001b[0;34m\u001b[0m\u001b[0;34m\u001b[0m\u001b[0m\n\u001b[0m\u001b[1;32m    296\u001b[0m                 \u001b[0mgotit\u001b[0m \u001b[0;34m=\u001b[0m \u001b[0;32mTrue\u001b[0m\u001b[0;34m\u001b[0m\u001b[0;34m\u001b[0m\u001b[0m\n\u001b[1;32m    297\u001b[0m             \u001b[0;32melse\u001b[0m\u001b[0;34m:\u001b[0m\u001b[0;34m\u001b[0m\u001b[0;34m\u001b[0m\u001b[0m\n",
            "\u001b[0;31mKeyboardInterrupt\u001b[0m: "
          ]
        }
      ]
    },
    {
      "cell_type": "markdown",
      "metadata": {
        "id": "q8xwDO_P5xpr",
        "colab_type": "text"
      },
      "source": [
        "# 0.492685913022572"
      ]
    },
    {
      "cell_type": "code",
      "metadata": {
        "id": "hBShA4JA57Gp",
        "colab_type": "code",
        "colab": {}
      },
      "source": [
        "from sklearn.ensemble import RandomForestClassifier\n",
        "model = RandomForestClassifier(n_estimators=5000, n_jobs=-1)\n",
        "model.fit(X_train,y_train)\n",
        "y_pred_RF=model.predict(X_test)"
      ],
      "execution_count": 0,
      "outputs": []
    },
    {
      "cell_type": "code",
      "metadata": {
        "id": "uc7V75tUd2dC",
        "colab_type": "code",
        "colab": {}
      },
      "source": [
        "df_ypred_rf=pd.DataFrame(y_pred_RF)\n",
        "sample=pd.concat([sample_submission,df_ypred_rf],axis='columns')\n",
        "sample.drop(['Interest_Rate'],axis=1,inplace=True)\n",
        "sample.rename(columns={0:'Interest_Rate'},inplace=True)\n",
        "sample.to_csv('Sample_submission.csv',index=False)\n"
      ],
      "execution_count": 0,
      "outputs": []
    },
    {
      "cell_type": "markdown",
      "metadata": {
        "id": "ytpTggZ-9ZJI",
        "colab_type": "text"
      },
      "source": [
        "# Voting"
      ]
    },
    {
      "cell_type": "code",
      "metadata": {
        "id": "NzrTh9B0di3u",
        "colab_type": "code",
        "colab": {}
      },
      "source": [
        "from sklearn.ensemble import RandomForestClassifier\n",
        "from sklearn.ensemble import VotingClassifier\n",
        "from sklearn.linear_model import LogisticRegression\n",
        "from sklearn.svm import SVC\n",
        "from sklearn.ensemble import GradientBoostingRegressor\n",
        "from sklearn.ensemble import AdaBoostClassifier\n",
        "from sklearn.tree import DecisionTreeClassifier\n",
        "from sklearn.ensemble import BaggingClassifier\n",
        "\n",
        "\n",
        "tree = DecisionTreeClassifier()\n",
        "log_clf = LogisticRegression()\n",
        "rnd_clf = RandomForestClassifier(n_estimators=500, n_jobs=-1)\n",
        "svm_clf = SVC()\n",
        "bag_clf = BaggingClassifier(tree, n_estimators=500, max_samples=0.80,bootstrap=True,oob_score=True,random_state=1)\n",
        "ada_clf_new = AdaBoostClassifier(DecisionTreeClassifier(), n_estimators=500,algorithm=\"SAMME.R\", learning_rate=0.5)\n",
        "voting_clf = VotingClassifier(\n",
        "estimators=[('lr', log_clf), ('rf', rnd_clf), ('svc', svm_clf),('ada',ada_clf_new),('bag',bag_clf),('tree',tree)],\n",
        "voting='hard'\n",
        ")\n",
        "voting_clf.fit(X_train, y_train)\n",
        "y_pred_voting=voting_clf.predict(X_test)"
      ],
      "execution_count": 0,
      "outputs": []
    },
    {
      "cell_type": "code",
      "metadata": {
        "id": "8h7Pnsnh9gU4",
        "colab_type": "code",
        "colab": {}
      },
      "source": [
        "tree = DecisionTreeClassifier()\n",
        "log_clf = LogisticRegression()\n",
        "rnd_clf = RandomForestClassifier(n_estimators=500, n_jobs=-1)\n",
        "svm_clf = SVC()\n",
        "bag_clf = BaggingClassifier(tree, n_estimators=500, max_samples=0.80,bootstrap=True,oob_score=True,random_state=1)\n",
        "ada_clf_new = AdaBoostClassifier(DecisionTreeClassifier(), n_estimators=500,algorithm=\"SAMME.R\", learning_rate=0.5)\n",
        "voting_clf = VotingClassifier(\n",
        "estimators=[('lr', log_clf), ('rf', rnd_clf), ('svc', svm_clf),('ada',ada_clf_new),('bag',bag_clf),('tree',tree)],\n",
        "voting='soft'\n",
        ")\n",
        "voting_clf.fit(X_train, y_train)\n",
        "y_pred_voting=voting_clf.predict(X_test)"
      ],
      "execution_count": 0,
      "outputs": []
    },
    {
      "cell_type": "code",
      "metadata": {
        "id": "a2VKieK_9hL3",
        "colab_type": "code",
        "colab": {}
      },
      "source": [
        "df_ypred_voting=pd.DataFrame(y_pred_voting)\n",
        "sample=pd.concat([sample_submission,df_ypred_voting],axis='columns')\n",
        "sample.drop(['Interest_Rate'],axis=1,inplace=True)\n",
        "sample.rename(columns={0:'Interest_Rate'},inplace=True)\n",
        "sample.to_csv('Sample_submission.csv',index=False)"
      ],
      "execution_count": 0,
      "outputs": []
    }
  ]
}