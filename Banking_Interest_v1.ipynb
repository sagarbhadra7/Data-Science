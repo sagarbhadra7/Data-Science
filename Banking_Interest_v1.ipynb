{
  "nbformat": 4,
  "nbformat_minor": 0,
  "metadata": {
    "kernelspec": {
      "display_name": "Python 3",
      "language": "python",
      "name": "python3"
    },
    "language_info": {
      "codemirror_mode": {
        "name": "ipython",
        "version": 3
      },
      "file_extension": ".py",
      "mimetype": "text/x-python",
      "name": "python",
      "nbconvert_exporter": "python",
      "pygments_lexer": "ipython3",
      "version": "3.7.6"
    },
    "colab": {
      "name": "Banking_Interest_v1.ipynb",
      "provenance": [],
      "include_colab_link": true
    }
  },
  "cells": [
    {
      "cell_type": "markdown",
      "metadata": {
        "id": "view-in-github",
        "colab_type": "text"
      },
      "source": [
        "<a href=\"https://colab.research.google.com/github/sagarbhadra7/Python-Programs/blob/master/Banking_Interest_v1.ipynb\" target=\"_parent\"><img src=\"https://colab.research.google.com/assets/colab-badge.svg\" alt=\"Open In Colab\"/></a>"
      ]
    },
    {
      "cell_type": "code",
      "metadata": {
        "id": "W8wHy3Zs-Rcu",
        "colab_type": "code",
        "colab": {},
        "outputId": "bc08a274-107e-4a60-dcad-430ed11c3ed5"
      },
      "source": [
        "import pandas as pd\n",
        "import numpy as np\n",
        "from catboost import CatBoostClassifier\n",
        "from sklearn.preprocessing import LabelEncoder\n",
        "from sklearn.model_selection import train_test_split, KFold, StratifiedKFold\n",
        "from lightgbm import LGBMClassifier\n",
        "from sklearn.metrics import f1_score\n",
        "from imblearn.over_sampling import SMOTE\n",
        "from collections import Counter\n",
        "import warnings\n",
        "warnings.filterwarnings(\"ignore\")"
      ],
      "execution_count": 0,
      "outputs": [
        {
          "output_type": "stream",
          "text": [
            "Using TensorFlow backend.\n"
          ],
          "name": "stderr"
        }
      ]
    },
    {
      "cell_type": "code",
      "metadata": {
        "id": "pBTgAob3-Rc1",
        "colab_type": "code",
        "colab": {},
        "outputId": "371134cb-4b9f-44ed-f506-8691297f0b8e"
      },
      "source": [
        "df_train = pd.read_csv(\"C:\\\\Users\\\\sagar\\\\Downloads\\\\Hackathon\\\\BAnking\\\\train.csv\")\n",
        "df_test = pd.read_csv(\"C:\\\\Users\\\\sagar\\\\Downloads\\\\Hackathon\\\\BAnking\\\\test.csv\")\n",
        "\n",
        "# Convert to numeric\n",
        "df_train[\"Loan_Amount_Requested\"] = df_train[\"Loan_Amount_Requested\"].str.replace(\",\", \"\")\n",
        "df_train[\"Loan_Amount_Requested\"] = pd.to_numeric(df_train[\"Loan_Amount_Requested\"])\n",
        "df_test[\"Loan_Amount_Requested\"] = df_test[\"Loan_Amount_Requested\"].str.replace(\",\", \"\")\n",
        "df_test[\"Loan_Amount_Requested\"] = pd.to_numeric(df_test[\"Loan_Amount_Requested\"])\n",
        "\n",
        "# Fill NaN\n",
        "df_train[\"Length_Employed\"].fillna('NaN', inplace=True)\n",
        "df_test[\"Length_Employed\"].fillna('NaN', inplace=True)\n",
        "\n",
        "df_train[\"Home_Owner\"].fillna('NaN', inplace=True)\n",
        "df_test[\"Home_Owner\"].fillna('NaN', inplace=True)\n",
        "\n",
        "df_train[\"Income_Verified\"].fillna('NaN', inplace=True)\n",
        "df_test[\"Income_Verified\"].fillna('NaN', inplace=True)\n",
        "\n",
        "df_train[\"Purpose_Of_Loan\"].fillna('NaN', inplace=True)\n",
        "df_test[\"Purpose_Of_Loan\"].fillna('NaN', inplace=True)\n",
        "\n",
        "df_train[\"Gender\"].fillna('NaN', inplace=True)\n",
        "df_test[\"Gender\"].fillna('NaN', inplace=True)\n",
        "\n",
        "# Drop loan ids\n",
        "df_train = df_train.drop([\"Loan_ID\"], axis=1)\n",
        "loan_ids = df_test[\"Loan_ID\"].values\n",
        "df_test = df_test.drop([\"Loan_ID\"], axis=1)\n",
        "\n",
        "# Fill NaN with mean\n",
        "df_train[\"Annual_Income\"].fillna(df_train[\"Annual_Income\"].mean(), inplace=True)\n",
        "df_test[\"Annual_Income\"].fillna(df_test[\"Annual_Income\"].mean(), inplace=True)\n",
        "\n",
        "# Assumption: If it is NaN, then user has no deliquency, so set with 0\n",
        "df_train[\"Months_Since_Deliquency\"].fillna(0, inplace=True)\n",
        "df_test[\"Months_Since_Deliquency\"].fillna(0, inplace=True)\n",
        "\n",
        "# New feature\n",
        "df_train[\"Number_Invalid_Acc\"] = df_train[\"Total_Accounts\"] - df_train[\"Number_Open_Accounts\"]\n",
        "df_test[\"Number_Invalid_Acc\"] = df_test[\"Total_Accounts\"] - df_test[\"Number_Open_Accounts\"]\n",
        "\n",
        "# New feature\n",
        "df_train[\"Number_Years_To_Repay_Debt\"] = df_train[\"Loan_Amount_Requested\"]/df_train[\"Annual_Income\"]\n",
        "df_test[\"Number_Years_To_Repay_Debt\"] = df_test[\"Loan_Amount_Requested\"]/df_test[\"Annual_Income\"]\n",
        "\n",
        "df_train.head()"
      ],
      "execution_count": 0,
      "outputs": [
        {
          "output_type": "execute_result",
          "data": {
            "text/html": [
              "<div>\n",
              "<style scoped>\n",
              "    .dataframe tbody tr th:only-of-type {\n",
              "        vertical-align: middle;\n",
              "    }\n",
              "\n",
              "    .dataframe tbody tr th {\n",
              "        vertical-align: top;\n",
              "    }\n",
              "\n",
              "    .dataframe thead th {\n",
              "        text-align: right;\n",
              "    }\n",
              "</style>\n",
              "<table border=\"1\" class=\"dataframe\">\n",
              "  <thead>\n",
              "    <tr style=\"text-align: right;\">\n",
              "      <th></th>\n",
              "      <th>Loan_Amount_Requested</th>\n",
              "      <th>Length_Employed</th>\n",
              "      <th>Home_Owner</th>\n",
              "      <th>Annual_Income</th>\n",
              "      <th>Income_Verified</th>\n",
              "      <th>Purpose_Of_Loan</th>\n",
              "      <th>Debt_To_Income</th>\n",
              "      <th>Inquiries_Last_6Mo</th>\n",
              "      <th>Months_Since_Deliquency</th>\n",
              "      <th>Number_Open_Accounts</th>\n",
              "      <th>Total_Accounts</th>\n",
              "      <th>Gender</th>\n",
              "      <th>Interest_Rate</th>\n",
              "      <th>Number_Invalid_Acc</th>\n",
              "      <th>Number_Years_To_Repay_Debt</th>\n",
              "    </tr>\n",
              "  </thead>\n",
              "  <tbody>\n",
              "    <tr>\n",
              "      <th>0</th>\n",
              "      <td>7000</td>\n",
              "      <td>&lt; 1 year</td>\n",
              "      <td>Rent</td>\n",
              "      <td>68000.000000</td>\n",
              "      <td>not verified</td>\n",
              "      <td>car</td>\n",
              "      <td>18.37</td>\n",
              "      <td>0</td>\n",
              "      <td>0.0</td>\n",
              "      <td>9</td>\n",
              "      <td>14</td>\n",
              "      <td>Female</td>\n",
              "      <td>1</td>\n",
              "      <td>5</td>\n",
              "      <td>0.102941</td>\n",
              "    </tr>\n",
              "    <tr>\n",
              "      <th>1</th>\n",
              "      <td>30000</td>\n",
              "      <td>4 years</td>\n",
              "      <td>Mortgage</td>\n",
              "      <td>73331.159434</td>\n",
              "      <td>VERIFIED - income</td>\n",
              "      <td>debt_consolidation</td>\n",
              "      <td>14.93</td>\n",
              "      <td>0</td>\n",
              "      <td>17.0</td>\n",
              "      <td>12</td>\n",
              "      <td>24</td>\n",
              "      <td>Female</td>\n",
              "      <td>3</td>\n",
              "      <td>12</td>\n",
              "      <td>0.409103</td>\n",
              "    </tr>\n",
              "    <tr>\n",
              "      <th>2</th>\n",
              "      <td>24725</td>\n",
              "      <td>7 years</td>\n",
              "      <td>Mortgage</td>\n",
              "      <td>75566.400000</td>\n",
              "      <td>VERIFIED - income source</td>\n",
              "      <td>debt_consolidation</td>\n",
              "      <td>15.88</td>\n",
              "      <td>0</td>\n",
              "      <td>0.0</td>\n",
              "      <td>12</td>\n",
              "      <td>16</td>\n",
              "      <td>Male</td>\n",
              "      <td>3</td>\n",
              "      <td>4</td>\n",
              "      <td>0.327196</td>\n",
              "    </tr>\n",
              "    <tr>\n",
              "      <th>3</th>\n",
              "      <td>16000</td>\n",
              "      <td>&lt; 1 year</td>\n",
              "      <td>NaN</td>\n",
              "      <td>56160.000000</td>\n",
              "      <td>VERIFIED - income source</td>\n",
              "      <td>debt_consolidation</td>\n",
              "      <td>14.34</td>\n",
              "      <td>3</td>\n",
              "      <td>0.0</td>\n",
              "      <td>16</td>\n",
              "      <td>22</td>\n",
              "      <td>Male</td>\n",
              "      <td>3</td>\n",
              "      <td>6</td>\n",
              "      <td>0.284900</td>\n",
              "    </tr>\n",
              "    <tr>\n",
              "      <th>4</th>\n",
              "      <td>17000</td>\n",
              "      <td>8 years</td>\n",
              "      <td>Own</td>\n",
              "      <td>96000.000000</td>\n",
              "      <td>VERIFIED - income source</td>\n",
              "      <td>debt_consolidation</td>\n",
              "      <td>22.17</td>\n",
              "      <td>1</td>\n",
              "      <td>0.0</td>\n",
              "      <td>19</td>\n",
              "      <td>30</td>\n",
              "      <td>Female</td>\n",
              "      <td>1</td>\n",
              "      <td>11</td>\n",
              "      <td>0.177083</td>\n",
              "    </tr>\n",
              "  </tbody>\n",
              "</table>\n",
              "</div>"
            ],
            "text/plain": [
              "   Loan_Amount_Requested Length_Employed Home_Owner  Annual_Income  \\\n",
              "0                   7000        < 1 year       Rent   68000.000000   \n",
              "1                  30000         4 years   Mortgage   73331.159434   \n",
              "2                  24725         7 years   Mortgage   75566.400000   \n",
              "3                  16000        < 1 year        NaN   56160.000000   \n",
              "4                  17000         8 years        Own   96000.000000   \n",
              "\n",
              "            Income_Verified     Purpose_Of_Loan  Debt_To_Income  \\\n",
              "0              not verified                 car           18.37   \n",
              "1         VERIFIED - income  debt_consolidation           14.93   \n",
              "2  VERIFIED - income source  debt_consolidation           15.88   \n",
              "3  VERIFIED - income source  debt_consolidation           14.34   \n",
              "4  VERIFIED - income source  debt_consolidation           22.17   \n",
              "\n",
              "   Inquiries_Last_6Mo  Months_Since_Deliquency  Number_Open_Accounts  \\\n",
              "0                   0                      0.0                     9   \n",
              "1                   0                     17.0                    12   \n",
              "2                   0                      0.0                    12   \n",
              "3                   3                      0.0                    16   \n",
              "4                   1                      0.0                    19   \n",
              "\n",
              "   Total_Accounts  Gender  Interest_Rate  Number_Invalid_Acc  \\\n",
              "0              14  Female              1                   5   \n",
              "1              24  Female              3                  12   \n",
              "2              16    Male              3                   4   \n",
              "3              22    Male              3                   6   \n",
              "4              30  Female              1                  11   \n",
              "\n",
              "   Number_Years_To_Repay_Debt  \n",
              "0                    0.102941  \n",
              "1                    0.409103  \n",
              "2                    0.327196  \n",
              "3                    0.284900  \n",
              "4                    0.177083  "
            ]
          },
          "metadata": {
            "tags": []
          },
          "execution_count": 2
        }
      ]
    },
    {
      "cell_type": "code",
      "metadata": {
        "id": "MoyGv2z_-Rc5",
        "colab_type": "code",
        "colab": {},
        "outputId": "df1c20be-5150-4452-98aa-9571958e9ed7"
      },
      "source": [
        "X_train, Y = df_train.drop([\"Interest_Rate\"], axis=1).values, df_train[\"Interest_Rate\"].values\n",
        "X_test = df_test.values\n",
        "\n",
        "X_train.shape, Y.shape, X_test.shape"
      ],
      "execution_count": 0,
      "outputs": [
        {
          "output_type": "execute_result",
          "data": {
            "text/plain": [
              "((164309, 14), (164309,), (109541, 14))"
            ]
          },
          "metadata": {
            "tags": []
          },
          "execution_count": 3
        }
      ]
    },
    {
      "cell_type": "code",
      "metadata": {
        "id": "QDdd59Cj-Rc8",
        "colab_type": "code",
        "colab": {},
        "outputId": "6034894c-2564-465b-9a34-69fbb2d32cf6"
      },
      "source": [
        "\n",
        "model = CatBoostClassifier(random_state=27, task_type=\"GPU\", devices=\"0:1\", n_estimators=1000, max_depth=4, verbose=500)\n",
        "model.fit(X_train, Y, cat_features=[1, 2, 4, 5, 11])\n",
        "preds1 = model.predict_proba(X_test)"
      ],
      "execution_count": 0,
      "outputs": [
        {
          "output_type": "stream",
          "text": [
            "Learning rate set to 0.183772\n",
            "0:\tlearn: 1.0665953\ttotal: 55.6ms\tremaining: 55.6s\n",
            "500:\tlearn: 0.9030256\ttotal: 23.8s\tremaining: 23.7s\n",
            "999:\tlearn: 0.8909036\ttotal: 47.2s\tremaining: 0us\n"
          ],
          "name": "stdout"
        }
      ]
    },
    {
      "cell_type": "code",
      "metadata": {
        "id": "BM_23iNE-RdB",
        "colab_type": "code",
        "colab": {},
        "outputId": "3a9e0327-c20b-464e-e075-7b5a802a1e51"
      },
      "source": [
        "model = CatBoostClassifier(random_state=27, task_type=\"GPU\", devices=\"0:1\", n_estimators=4000, max_depth=4, verbose=500)\n",
        "model.fit(X_train, Y, cat_features=[1, 2, 4, 5, 11])\n",
        "preds3 = model.predict_proba(X_test)"
      ],
      "execution_count": 0,
      "outputs": [
        {
          "output_type": "stream",
          "text": [
            "Learning rate set to 0.057911\n",
            "0:\tlearn: 1.0878263\ttotal: 53.7ms\tremaining: 3m 34s\n",
            "500:\tlearn: 0.9159457\ttotal: 23.9s\tremaining: 2m 46s\n",
            "1000:\tlearn: 0.9087074\ttotal: 47.6s\tremaining: 2m 22s\n",
            "1500:\tlearn: 0.9034885\ttotal: 1m 10s\tremaining: 1m 58s\n",
            "2000:\tlearn: 0.8991805\ttotal: 1m 34s\tremaining: 1m 34s\n",
            "2500:\tlearn: 0.8951656\ttotal: 1m 58s\tremaining: 1m 10s\n",
            "3000:\tlearn: 0.8915029\ttotal: 2m 21s\tremaining: 47.2s\n",
            "3500:\tlearn: 0.8881186\ttotal: 2m 46s\tremaining: 23.7s\n",
            "3999:\tlearn: 0.8848156\ttotal: 3m 13s\tremaining: 0us\n"
          ],
          "name": "stdout"
        }
      ]
    },
    {
      "cell_type": "code",
      "metadata": {
        "id": "gW6XR1H5-RdF",
        "colab_type": "code",
        "colab": {},
        "outputId": "9486a4e4-398e-4319-a337-cad1255fc23c"
      },
      "source": [
        "print(preds1)"
      ],
      "execution_count": 0,
      "outputs": [
        {
          "output_type": "stream",
          "text": [
            "[[0.15754547 0.42092972 0.42152481]\n",
            " [0.55110534 0.36405615 0.08483852]\n",
            " [0.1345278  0.41153643 0.45393577]\n",
            " ...\n",
            " [0.26840052 0.51688356 0.21471592]\n",
            " [0.05789684 0.31358508 0.62851808]\n",
            " [0.18586446 0.4548043  0.35933124]]\n"
          ],
          "name": "stdout"
        }
      ]
    },
    {
      "cell_type": "code",
      "metadata": {
        "id": "y03dhOya-RdI",
        "colab_type": "code",
        "colab": {}
      },
      "source": [
        "sample=pd.read_csv('C:\\\\Users\\\\sagar\\\\Downloads\\\\Hackathon\\\\BAnking\\\\sample_submission.csv')\n",
        "sample.drop(['Interest_Rate'],axis=1,inplace=True)\n",
        "y_pred=pd.DataFrame(preds1)\n",
        "y_pred.rename(columns={0:\"Interest_Rate\"},inplace=True)\n",
        "sample=pd.concat([sample,y_pred],axis='columns')\n",
        "sample.head()\n",
        "sample.to_csv('C:\\\\Users\\\\sagar\\\\Downloads\\\\Hackathon\\\\BAnking\\\\sub1.csv',index=False)"
      ],
      "execution_count": 0,
      "outputs": []
    },
    {
      "cell_type": "code",
      "metadata": {
        "id": "ROaR68Gg-RdM",
        "colab_type": "code",
        "colab": {},
        "outputId": "a1a4e438-34d4-4c0d-90ff-61aba1b006ec"
      },
      "source": [
        "feat_imp = pd.Series(model.feature_importances_, index=df_train.drop([\"Interest_Rate\"], axis=1).columns)\n",
        "feat_imp.nlargest(30).plot(kind='barh', figsize=(8,10))"
      ],
      "execution_count": 0,
      "outputs": [
        {
          "output_type": "execute_result",
          "data": {
            "text/plain": [
              "<matplotlib.axes._subplots.AxesSubplot at 0x21c982902c8>"
            ]
          },
          "metadata": {
            "tags": []
          },
          "execution_count": 5
        },
        {
          "output_type": "display_data",
          "data": {
            "image/png": "[encoded data removed]",
            "text/plain": [
              "<Figure size 576x720 with 1 Axes>"
            ]
          },
          "metadata": {
            "tags": [],
            "needs_background": "light"
          }
        }
      ]
    },
    {
      "cell_type": "code",
      "metadata": {
        "id": "VRYVppFf-RdP",
        "colab_type": "code",
        "colab": {},
        "outputId": "c941d95f-c31e-4b93-ca2c-9143b98c69df"
      },
      "source": [
        "df_train = pd.read_csv(\"C:\\\\Users\\\\sagar\\\\Downloads\\\\Hackathon\\\\BAnking\\\\train.csv\")\n",
        "df_test = pd.read_csv(\"C:\\\\Users\\\\sagar\\\\Downloads\\\\Hackathon\\\\BAnking\\\\test.csv\")\n",
        "\n",
        "# Convert to numeric\n",
        "df_train[\"Loan_Amount_Requested\"] = df_train[\"Loan_Amount_Requested\"].str.replace(\",\", \"\")\n",
        "df_train[\"Loan_Amount_Requested\"] = pd.to_numeric(df_train[\"Loan_Amount_Requested\"])\n",
        "df_test[\"Loan_Amount_Requested\"] = df_test[\"Loan_Amount_Requested\"].str.replace(\",\", \"\")\n",
        "df_test[\"Loan_Amount_Requested\"] = pd.to_numeric(df_test[\"Loan_Amount_Requested\"])\n",
        "\n",
        "# Fill NaN\n",
        "df_train[\"Length_Employed\"].fillna('NaN', inplace=True)\n",
        "df_test[\"Length_Employed\"].fillna('NaN', inplace=True)\n",
        "\n",
        "df_train[\"Home_Owner\"].fillna('NaN', inplace=True)\n",
        "df_test[\"Home_Owner\"].fillna('NaN', inplace=True)\n",
        "\n",
        "df_train[\"Purpose_Of_Loan\"].fillna('NaN', inplace=True)\n",
        "df_test[\"Purpose_Of_Loan\"].fillna('NaN', inplace=True)\n",
        "\n",
        "df_train[\"Gender\"].fillna('NaN', inplace=True)\n",
        "df_test[\"Gender\"].fillna('NaN', inplace=True)\n",
        "\n",
        "# Drop loan ids\n",
        "df_train = df_train.drop([\"Loan_ID\"], axis=1)\n",
        "loan_ids = df_test[\"Loan_ID\"].values\n",
        "df_test = df_test.drop([\"Loan_ID\"], axis=1)\n",
        "\n",
        "# Label Encode\n",
        "le = LabelEncoder()\n",
        "df_train[\"Length_Employed\"] = le.fit_transform(df_train[\"Length_Employed\"])\n",
        "df_test[\"Length_Employed\"] = le.transform(df_test[\"Length_Employed\"])\n",
        "\n",
        "df_train[\"Home_Owner\"] = le.fit_transform(df_train[\"Home_Owner\"])\n",
        "df_test[\"Home_Owner\"] = le.transform(df_test[\"Home_Owner\"])\n",
        "\n",
        "df_train[\"Income_Verified\"] = le.fit_transform(df_train[\"Income_Verified\"])\n",
        "df_test[\"Income_Verified\"] = le.transform(df_test[\"Income_Verified\"])\n",
        "\n",
        "df_train[\"Purpose_Of_Loan\"] = le.fit_transform(df_train[\"Purpose_Of_Loan\"])\n",
        "df_test[\"Purpose_Of_Loan\"] = le.transform(df_test[\"Purpose_Of_Loan\"])\n",
        "\n",
        "df_train[\"Gender\"] = le.fit_transform(df_train[\"Gender\"])\n",
        "df_test[\"Gender\"] = le.transform(df_test[\"Gender\"])\n",
        "\n",
        "# Fill NaN with mean\n",
        "df_train[\"Annual_Income\"].fillna(df_train[\"Annual_Income\"].mean(), inplace=True)\n",
        "df_test[\"Annual_Income\"].fillna(df_test[\"Annual_Income\"].mean(), inplace=True)\n",
        "\n",
        "# Assumption: If it is NaN, then user has no deliquency, so set with 0\n",
        "df_train[\"Months_Since_Deliquency\"].fillna(0, inplace=True)\n",
        "df_test[\"Months_Since_Deliquency\"].fillna(0, inplace=True)\n",
        "\n",
        "# New feature\n",
        "df_train[\"Number_Invalid_Acc\"] = df_train[\"Total_Accounts\"] - df_train[\"Number_Open_Accounts\"]\n",
        "df_test[\"Number_Invalid_Acc\"] = df_test[\"Total_Accounts\"] - df_test[\"Number_Open_Accounts\"]\n",
        "\n",
        "# New feature\n",
        "df_train[\"Number_Years_To_Repay_Debt\"] = df_train[\"Loan_Amount_Requested\"]/df_train[\"Annual_Income\"]\n",
        "df_test[\"Number_Years_To_Repay_Debt\"] = df_test[\"Loan_Amount_Requested\"]/df_test[\"Annual_Income\"]\n",
        "\n",
        "df_train.head()"
      ],
      "execution_count": 0,
      "outputs": [
        {
          "output_type": "execute_result",
          "data": {
            "text/html": [
              "<div>\n",
              "<style scoped>\n",
              "    .dataframe tbody tr th:only-of-type {\n",
              "        vertical-align: middle;\n",
              "    }\n",
              "\n",
              "    .dataframe tbody tr th {\n",
              "        vertical-align: top;\n",
              "    }\n",
              "\n",
              "    .dataframe thead th {\n",
              "        text-align: right;\n",
              "    }\n",
              "</style>\n",
              "<table border=\"1\" class=\"dataframe\">\n",
              "  <thead>\n",
              "    <tr style=\"text-align: right;\">\n",
              "      <th></th>\n",
              "      <th>Loan_Amount_Requested</th>\n",
              "      <th>Length_Employed</th>\n",
              "      <th>Home_Owner</th>\n",
              "      <th>Annual_Income</th>\n",
              "      <th>Income_Verified</th>\n",
              "      <th>Purpose_Of_Loan</th>\n",
              "      <th>Debt_To_Income</th>\n",
              "      <th>Inquiries_Last_6Mo</th>\n",
              "      <th>Months_Since_Deliquency</th>\n",
              "      <th>Number_Open_Accounts</th>\n",
              "      <th>Total_Accounts</th>\n",
              "      <th>Gender</th>\n",
              "      <th>Interest_Rate</th>\n",
              "      <th>Number_Invalid_Acc</th>\n",
              "      <th>Number_Years_To_Repay_Debt</th>\n",
              "    </tr>\n",
              "  </thead>\n",
              "  <tbody>\n",
              "    <tr>\n",
              "      <th>0</th>\n",
              "      <td>7000</td>\n",
              "      <td>10</td>\n",
              "      <td>5</td>\n",
              "      <td>68000.000000</td>\n",
              "      <td>2</td>\n",
              "      <td>0</td>\n",
              "      <td>18.37</td>\n",
              "      <td>0</td>\n",
              "      <td>0.0</td>\n",
              "      <td>9</td>\n",
              "      <td>14</td>\n",
              "      <td>0</td>\n",
              "      <td>1</td>\n",
              "      <td>5</td>\n",
              "      <td>0.102941</td>\n",
              "    </tr>\n",
              "    <tr>\n",
              "      <th>1</th>\n",
              "      <td>30000</td>\n",
              "      <td>4</td>\n",
              "      <td>0</td>\n",
              "      <td>73331.159434</td>\n",
              "      <td>0</td>\n",
              "      <td>2</td>\n",
              "      <td>14.93</td>\n",
              "      <td>0</td>\n",
              "      <td>17.0</td>\n",
              "      <td>12</td>\n",
              "      <td>24</td>\n",
              "      <td>0</td>\n",
              "      <td>3</td>\n",
              "      <td>12</td>\n",
              "      <td>0.409103</td>\n",
              "    </tr>\n",
              "    <tr>\n",
              "      <th>2</th>\n",
              "      <td>24725</td>\n",
              "      <td>7</td>\n",
              "      <td>0</td>\n",
              "      <td>75566.400000</td>\n",
              "      <td>1</td>\n",
              "      <td>2</td>\n",
              "      <td>15.88</td>\n",
              "      <td>0</td>\n",
              "      <td>0.0</td>\n",
              "      <td>12</td>\n",
              "      <td>16</td>\n",
              "      <td>1</td>\n",
              "      <td>3</td>\n",
              "      <td>4</td>\n",
              "      <td>0.327196</td>\n",
              "    </tr>\n",
              "    <tr>\n",
              "      <th>3</th>\n",
              "      <td>16000</td>\n",
              "      <td>10</td>\n",
              "      <td>1</td>\n",
              "      <td>56160.000000</td>\n",
              "      <td>1</td>\n",
              "      <td>2</td>\n",
              "      <td>14.34</td>\n",
              "      <td>3</td>\n",
              "      <td>0.0</td>\n",
              "      <td>16</td>\n",
              "      <td>22</td>\n",
              "      <td>1</td>\n",
              "      <td>3</td>\n",
              "      <td>6</td>\n",
              "      <td>0.284900</td>\n",
              "    </tr>\n",
              "    <tr>\n",
              "      <th>4</th>\n",
              "      <td>17000</td>\n",
              "      <td>8</td>\n",
              "      <td>4</td>\n",
              "      <td>96000.000000</td>\n",
              "      <td>1</td>\n",
              "      <td>2</td>\n",
              "      <td>22.17</td>\n",
              "      <td>1</td>\n",
              "      <td>0.0</td>\n",
              "      <td>19</td>\n",
              "      <td>30</td>\n",
              "      <td>0</td>\n",
              "      <td>1</td>\n",
              "      <td>11</td>\n",
              "      <td>0.177083</td>\n",
              "    </tr>\n",
              "  </tbody>\n",
              "</table>\n",
              "</div>"
            ],
            "text/plain": [
              "   Loan_Amount_Requested  Length_Employed  Home_Owner  Annual_Income  \\\n",
              "0                   7000               10           5   68000.000000   \n",
              "1                  30000                4           0   73331.159434   \n",
              "2                  24725                7           0   75566.400000   \n",
              "3                  16000               10           1   56160.000000   \n",
              "4                  17000                8           4   96000.000000   \n",
              "\n",
              "   Income_Verified  Purpose_Of_Loan  Debt_To_Income  Inquiries_Last_6Mo  \\\n",
              "0                2                0           18.37                   0   \n",
              "1                0                2           14.93                   0   \n",
              "2                1                2           15.88                   0   \n",
              "3                1                2           14.34                   3   \n",
              "4                1                2           22.17                   1   \n",
              "\n",
              "   Months_Since_Deliquency  Number_Open_Accounts  Total_Accounts  Gender  \\\n",
              "0                      0.0                     9              14       0   \n",
              "1                     17.0                    12              24       0   \n",
              "2                      0.0                    12              16       1   \n",
              "3                      0.0                    16              22       1   \n",
              "4                      0.0                    19              30       0   \n",
              "\n",
              "   Interest_Rate  Number_Invalid_Acc  Number_Years_To_Repay_Debt  \n",
              "0              1                   5                    0.102941  \n",
              "1              3                  12                    0.409103  \n",
              "2              3                   4                    0.327196  \n",
              "3              3                   6                    0.284900  \n",
              "4              1                  11                    0.177083  "
            ]
          },
          "metadata": {
            "tags": []
          },
          "execution_count": 12
        }
      ]
    },
    {
      "cell_type": "code",
      "metadata": {
        "id": "6x6KrTY9-RdS",
        "colab_type": "code",
        "colab": {},
        "outputId": "a4d8ad7e-d893-44c2-aca1-c3210fc3a61a"
      },
      "source": [
        "X_train, Y = df_train.drop([\"Interest_Rate\"], axis=1).values, df_train[\"Interest_Rate\"].values\n",
        "X_test = df_test.values\n",
        "\n",
        "X_train.shape, Y.shape, X_test.shape"
      ],
      "execution_count": 0,
      "outputs": [
        {
          "output_type": "execute_result",
          "data": {
            "text/plain": [
              "((164309, 14), (164309,), (109541, 14))"
            ]
          },
          "metadata": {
            "tags": []
          },
          "execution_count": 14
        }
      ]
    },
    {
      "cell_type": "code",
      "metadata": {
        "id": "zT5gQDjM-RdV",
        "colab_type": "code",
        "colab": {}
      },
      "source": [
        "num_class1, num_class2, num_class3 = Counter(Y)[1], Counter(Y)[2], Counter(Y)[3]\n",
        "sm = SMOTE(random_state=27, sampling_strategy={1: int(2.0*num_class1), 2: int(1.6*num_class2), 3: int(1.6*num_class3)})\n",
        "X_train_, Y_ = sm.fit_resample(X_train, Y)\n",
        "\n",
        "model = LGBMClassifier(random_state=27, max_depth=6, n_estimators=400)\n",
        "model.fit(X_train_, Y_, categorical_feature=[1, 2, 4, 5, 11])\n",
        "preds2 = model.predict_proba(X_test)"
      ],
      "execution_count": 0,
      "outputs": []
    },
    {
      "cell_type": "code",
      "metadata": {
        "id": "0TResO1w-RdY",
        "colab_type": "code",
        "colab": {},
        "outputId": "eab6a3ee-c1a0-48e0-fb93-d826577bdd2a"
      },
      "source": [
        "feat_imp = pd.Series(model.feature_importances_, index=df_train.drop([\"Interest_Rate\"], axis=1).columns)\n",
        "feat_imp.nlargest(30).plot(kind='barh', figsize=(8,10))"
      ],
      "execution_count": 0,
      "outputs": [
        {
          "output_type": "execute_result",
          "data": {
            "text/plain": [
              "<matplotlib.axes._subplots.AxesSubplot at 0x21c87ae8d08>"
            ]
          },
          "metadata": {
            "tags": []
          },
          "execution_count": 16
        },
        {
          "output_type": "display_data",
          "data": {
            "image/png": "[encoded data removed]",
            "text/plain": [
              "<Figure size 576x720 with 1 Axes>"
            ]
          },
          "metadata": {
            "tags": [],
            "needs_background": "light"
          }
        }
      ]
    },
    {
      "cell_type": "code",
      "metadata": {
        "id": "w1zCBj1D-Rdb",
        "colab_type": "code",
        "colab": {},
        "outputId": "1c33631b-3594-40e2-9b3d-bd89c2261897"
      },
      "source": [
        "preds = list()\n",
        "cb_weight=0.4 # Catboost\n",
        "lb_weight=0.6 # LGBM\n",
        "for i, j in zip(preds3, preds2):\n",
        "    xx = [(cb_weight * i[0]) + (lb_weight * j[0]),\n",
        "          (cb_weight * i[1]) + (lb_weight * j[1]),\n",
        "          (cb_weight * i[2]) + (lb_weight * j[2])]\n",
        "    preds.append(xx)\n",
        "print(preds[:10])\n",
        "preds=np.argmax(preds,axis=1)+1"
      ],
      "execution_count": 0,
      "outputs": [
        {
          "output_type": "stream",
          "text": [
            "[[0.18358378744705117, 0.38321060024381626, 0.43320561230913257], [0.46397623756113326, 0.4626245038813324, 0.07339925855753435], [0.14751102565102645, 0.4250606019763549, 0.42742837237261866], [0.19818135555523908, 0.508165961715934, 0.29365268272882694], [0.11326572752167449, 0.4940329534021035, 0.39270131907622197], [0.09858622449867255, 0.41831583352303925, 0.48309794197828815], [0.07784398497296297, 0.32703945118543387, 0.5951165638416032], [0.027487003042196066, 0.12530822259075874, 0.8472047743670452], [0.06093929473128182, 0.2978484739729036, 0.6412122312958145], [0.06062982623686017, 0.31446767168816714, 0.6249025020749728]]\n"
          ],
          "name": "stdout"
        }
      ]
    },
    {
      "cell_type": "code",
      "metadata": {
        "id": "8pAWFekk-Rde",
        "colab_type": "code",
        "colab": {}
      },
      "source": [
        "df_submit = pd.DataFrame({'Loan_ID': loan_ids, 'Interest_Rate': preds}) # Ensemble submission\n",
        "df_submit.to_csv(\"submit1.csv\", index=False)"
      ],
      "execution_count": 0,
      "outputs": []
    },
    {
      "cell_type": "code",
      "metadata": {
        "id": "W_udrt1W-Rdj",
        "colab_type": "code",
        "colab": {}
      },
      "source": [
        ""
      ],
      "execution_count": 0,
      "outputs": []
    }
  ]
}