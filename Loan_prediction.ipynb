{
  "nbformat": 4,
  "nbformat_minor": 0,
  "metadata": {
    "kernelspec": {
      "display_name": "Python 3",
      "language": "python",
      "name": "python3"
    },
    "language_info": {
      "codemirror_mode": {
        "name": "ipython",
        "version": 3
      },
      "file_extension": ".py",
      "mimetype": "text/x-python",
      "name": "python",
      "nbconvert_exporter": "python",
      "pygments_lexer": "ipython3",
      "version": "3.7.6"
    },
    "colab": {
      "name": "Loan_prediction.ipynb",
      "provenance": [],
      "include_colab_link": true
    }
  },
  "cells": [
    {
      "cell_type": "markdown",
      "metadata": {
        "id": "view-in-github",
        "colab_type": "text"
      },
      "source": [
        "<a href=\"https://colab.research.google.com/github/sagarbhadra7/Python-Programs/blob/slave/Loan_prediction.ipynb\" target=\"_parent\"><img src=\"https://colab.research.google.com/assets/colab-badge.svg\" alt=\"Open In Colab\"/></a>"
      ]
    },
    {
      "cell_type": "code",
      "metadata": {
        "id": "xXNbSls-3A48",
        "colab_type": "code",
        "colab": {
          "base_uri": "https://localhost:8080/",
          "height": 70
        },
        "outputId": "b1a2c729-09ee-42cf-d5ed-79d3f56ba1c4"
      },
      "source": [
        "import pandas as pd\n",
        "import numpy as np\n",
        "import math\n",
        "import matplotlib.pyplot as plt\n",
        "import seaborn as sns\n",
        "import os\n",
        "from sklearn.preprocessing import LabelEncoder\n",
        "from sklearn.impute import SimpleImputer\n",
        "from sklearn.linear_model import LogisticRegression\n",
        "from sklearn.metrics import accuracy_score"
      ],
      "execution_count": 1,
      "outputs": [
        {
          "output_type": "stream",
          "text": [
            "/usr/local/lib/python3.6/dist-packages/statsmodels/tools/_testing.py:19: FutureWarning: pandas.util.testing is deprecated. Use the functions in the public API at pandas.testing instead.\n",
            "  import pandas.util.testing as tm\n"
          ],
          "name": "stderr"
        }
      ]
    },
    {
      "cell_type": "code",
      "metadata": {
        "id": "799pyjXh3A5I",
        "colab_type": "code",
        "colab": {}
      },
      "source": [
        "train_path=\"/content/train.csv\"\n",
        "test_path=\"/content/test.csv\"\n",
        "X_train=pd.read_csv(train_path)\n",
        "X_test=pd.read_csv(test_path)\n",
        "y_train=X_train['Loan_Status']\n",
        "#y_test=X_test['Loan_Status']\n",
        "X_train.drop(['Loan_Status'],axis=1,inplace=True)\n",
        "#X_test.drop(['Loan_Status'],axis=1,inplace=True)"
      ],
      "execution_count": 0,
      "outputs": []
    },
    {
      "cell_type": "code",
      "metadata": {
        "id": "WBZEI4eG3A5R",
        "colab_type": "code",
        "outputId": "5d00aa8f-b933-402a-c42c-b34e0bec0f9e",
        "colab": {
          "base_uri": "https://localhost:8080/",
          "height": 232
        }
      },
      "source": [
        "X_train.head()"
      ],
      "execution_count": 3,
      "outputs": [
        {
          "output_type": "execute_result",
          "data": {
            "text/html": [
              "<div>\n",
              "<style scoped>\n",
              "    .dataframe tbody tr th:only-of-type {\n",
              "        vertical-align: middle;\n",
              "    }\n",
              "\n",
              "    .dataframe tbody tr th {\n",
              "        vertical-align: top;\n",
              "    }\n",
              "\n",
              "    .dataframe thead th {\n",
              "        text-align: right;\n",
              "    }\n",
              "</style>\n",
              "<table border=\"1\" class=\"dataframe\">\n",
              "  <thead>\n",
              "    <tr style=\"text-align: right;\">\n",
              "      <th></th>\n",
              "      <th>Loan_ID</th>\n",
              "      <th>Gender</th>\n",
              "      <th>Married</th>\n",
              "      <th>Dependents</th>\n",
              "      <th>Education</th>\n",
              "      <th>Self_Employed</th>\n",
              "      <th>ApplicantIncome</th>\n",
              "      <th>CoapplicantIncome</th>\n",
              "      <th>LoanAmount</th>\n",
              "      <th>Loan_Amount_Term</th>\n",
              "      <th>Credit_History</th>\n",
              "      <th>Property_Area</th>\n",
              "    </tr>\n",
              "  </thead>\n",
              "  <tbody>\n",
              "    <tr>\n",
              "      <th>0</th>\n",
              "      <td>LP001002</td>\n",
              "      <td>Male</td>\n",
              "      <td>No</td>\n",
              "      <td>0</td>\n",
              "      <td>Graduate</td>\n",
              "      <td>No</td>\n",
              "      <td>5849</td>\n",
              "      <td>0.0</td>\n",
              "      <td>NaN</td>\n",
              "      <td>360.0</td>\n",
              "      <td>1.0</td>\n",
              "      <td>Urban</td>\n",
              "    </tr>\n",
              "    <tr>\n",
              "      <th>1</th>\n",
              "      <td>LP001003</td>\n",
              "      <td>Male</td>\n",
              "      <td>Yes</td>\n",
              "      <td>1</td>\n",
              "      <td>Graduate</td>\n",
              "      <td>No</td>\n",
              "      <td>4583</td>\n",
              "      <td>1508.0</td>\n",
              "      <td>128.0</td>\n",
              "      <td>360.0</td>\n",
              "      <td>1.0</td>\n",
              "      <td>Rural</td>\n",
              "    </tr>\n",
              "    <tr>\n",
              "      <th>2</th>\n",
              "      <td>LP001005</td>\n",
              "      <td>Male</td>\n",
              "      <td>Yes</td>\n",
              "      <td>0</td>\n",
              "      <td>Graduate</td>\n",
              "      <td>Yes</td>\n",
              "      <td>3000</td>\n",
              "      <td>0.0</td>\n",
              "      <td>66.0</td>\n",
              "      <td>360.0</td>\n",
              "      <td>1.0</td>\n",
              "      <td>Urban</td>\n",
              "    </tr>\n",
              "    <tr>\n",
              "      <th>3</th>\n",
              "      <td>LP001006</td>\n",
              "      <td>Male</td>\n",
              "      <td>Yes</td>\n",
              "      <td>0</td>\n",
              "      <td>Not Graduate</td>\n",
              "      <td>No</td>\n",
              "      <td>2583</td>\n",
              "      <td>2358.0</td>\n",
              "      <td>120.0</td>\n",
              "      <td>360.0</td>\n",
              "      <td>1.0</td>\n",
              "      <td>Urban</td>\n",
              "    </tr>\n",
              "    <tr>\n",
              "      <th>4</th>\n",
              "      <td>LP001008</td>\n",
              "      <td>Male</td>\n",
              "      <td>No</td>\n",
              "      <td>0</td>\n",
              "      <td>Graduate</td>\n",
              "      <td>No</td>\n",
              "      <td>6000</td>\n",
              "      <td>0.0</td>\n",
              "      <td>141.0</td>\n",
              "      <td>360.0</td>\n",
              "      <td>1.0</td>\n",
              "      <td>Urban</td>\n",
              "    </tr>\n",
              "  </tbody>\n",
              "</table>\n",
              "</div>"
            ],
            "text/plain": [
              "    Loan_ID Gender Married  ... Loan_Amount_Term Credit_History Property_Area\n",
              "0  LP001002   Male      No  ...            360.0            1.0         Urban\n",
              "1  LP001003   Male     Yes  ...            360.0            1.0         Rural\n",
              "2  LP001005   Male     Yes  ...            360.0            1.0         Urban\n",
              "3  LP001006   Male     Yes  ...            360.0            1.0         Urban\n",
              "4  LP001008   Male      No  ...            360.0            1.0         Urban\n",
              "\n",
              "[5 rows x 12 columns]"
            ]
          },
          "metadata": {
            "tags": []
          },
          "execution_count": 3
        }
      ]
    },
    {
      "cell_type": "code",
      "metadata": {
        "id": "ctj4GmZE3A5e",
        "colab_type": "code",
        "outputId": "8a5d19c1-b450-456e-f7c5-e0f1ff1016c7",
        "colab": {}
      },
      "source": [
        "X_test.shape"
      ],
      "execution_count": 0,
      "outputs": [
        {
          "output_type": "execute_result",
          "data": {
            "text/plain": [
              "(367, 12)"
            ]
          },
          "metadata": {
            "tags": []
          },
          "execution_count": 267
        }
      ]
    },
    {
      "cell_type": "code",
      "metadata": {
        "id": "CR4Cbx-U3A5n",
        "colab_type": "code",
        "outputId": "1bf033b9-8e37-4db9-962a-10e5e4b22238",
        "colab": {}
      },
      "source": [
        "X_train.describe()"
      ],
      "execution_count": 0,
      "outputs": [
        {
          "output_type": "execute_result",
          "data": {
            "text/html": [
              "<div>\n",
              "<style scoped>\n",
              "    .dataframe tbody tr th:only-of-type {\n",
              "        vertical-align: middle;\n",
              "    }\n",
              "\n",
              "    .dataframe tbody tr th {\n",
              "        vertical-align: top;\n",
              "    }\n",
              "\n",
              "    .dataframe thead th {\n",
              "        text-align: right;\n",
              "    }\n",
              "</style>\n",
              "<table border=\"1\" class=\"dataframe\">\n",
              "  <thead>\n",
              "    <tr style=\"text-align: right;\">\n",
              "      <th></th>\n",
              "      <th>ApplicantIncome</th>\n",
              "      <th>CoapplicantIncome</th>\n",
              "      <th>LoanAmount</th>\n",
              "      <th>Loan_Amount_Term</th>\n",
              "      <th>Credit_History</th>\n",
              "    </tr>\n",
              "  </thead>\n",
              "  <tbody>\n",
              "    <tr>\n",
              "      <th>count</th>\n",
              "      <td>614.000000</td>\n",
              "      <td>614.000000</td>\n",
              "      <td>592.000000</td>\n",
              "      <td>600.00000</td>\n",
              "      <td>564.000000</td>\n",
              "    </tr>\n",
              "    <tr>\n",
              "      <th>mean</th>\n",
              "      <td>5403.459283</td>\n",
              "      <td>1621.245798</td>\n",
              "      <td>146.412162</td>\n",
              "      <td>342.00000</td>\n",
              "      <td>0.842199</td>\n",
              "    </tr>\n",
              "    <tr>\n",
              "      <th>std</th>\n",
              "      <td>6109.041673</td>\n",
              "      <td>2926.248369</td>\n",
              "      <td>85.587325</td>\n",
              "      <td>65.12041</td>\n",
              "      <td>0.364878</td>\n",
              "    </tr>\n",
              "    <tr>\n",
              "      <th>min</th>\n",
              "      <td>150.000000</td>\n",
              "      <td>0.000000</td>\n",
              "      <td>9.000000</td>\n",
              "      <td>12.00000</td>\n",
              "      <td>0.000000</td>\n",
              "    </tr>\n",
              "    <tr>\n",
              "      <th>25%</th>\n",
              "      <td>2877.500000</td>\n",
              "      <td>0.000000</td>\n",
              "      <td>100.000000</td>\n",
              "      <td>360.00000</td>\n",
              "      <td>1.000000</td>\n",
              "    </tr>\n",
              "    <tr>\n",
              "      <th>50%</th>\n",
              "      <td>3812.500000</td>\n",
              "      <td>1188.500000</td>\n",
              "      <td>128.000000</td>\n",
              "      <td>360.00000</td>\n",
              "      <td>1.000000</td>\n",
              "    </tr>\n",
              "    <tr>\n",
              "      <th>75%</th>\n",
              "      <td>5795.000000</td>\n",
              "      <td>2297.250000</td>\n",
              "      <td>168.000000</td>\n",
              "      <td>360.00000</td>\n",
              "      <td>1.000000</td>\n",
              "    </tr>\n",
              "    <tr>\n",
              "      <th>max</th>\n",
              "      <td>81000.000000</td>\n",
              "      <td>41667.000000</td>\n",
              "      <td>700.000000</td>\n",
              "      <td>480.00000</td>\n",
              "      <td>1.000000</td>\n",
              "    </tr>\n",
              "  </tbody>\n",
              "</table>\n",
              "</div>"
            ],
            "text/plain": [
              "       ApplicantIncome  CoapplicantIncome  LoanAmount  Loan_Amount_Term  \\\n",
              "count       614.000000         614.000000  592.000000         600.00000   \n",
              "mean       5403.459283        1621.245798  146.412162         342.00000   \n",
              "std        6109.041673        2926.248369   85.587325          65.12041   \n",
              "min         150.000000           0.000000    9.000000          12.00000   \n",
              "25%        2877.500000           0.000000  100.000000         360.00000   \n",
              "50%        3812.500000        1188.500000  128.000000         360.00000   \n",
              "75%        5795.000000        2297.250000  168.000000         360.00000   \n",
              "max       81000.000000       41667.000000  700.000000         480.00000   \n",
              "\n",
              "       Credit_History  \n",
              "count      564.000000  \n",
              "mean         0.842199  \n",
              "std          0.364878  \n",
              "min          0.000000  \n",
              "25%          1.000000  \n",
              "50%          1.000000  \n",
              "75%          1.000000  \n",
              "max          1.000000  "
            ]
          },
          "metadata": {
            "tags": []
          },
          "execution_count": 233
        }
      ]
    },
    {
      "cell_type": "code",
      "metadata": {
        "id": "7gaQuWZX3A5x",
        "colab_type": "code",
        "outputId": "41c7f9d8-7ae3-48b5-ff25-40d3080104ff",
        "colab": {}
      },
      "source": [
        "X_train.isnull().sum()"
      ],
      "execution_count": 0,
      "outputs": [
        {
          "output_type": "execute_result",
          "data": {
            "text/plain": [
              "Loan_ID               0\n",
              "Gender               13\n",
              "Married               3\n",
              "Dependents           15\n",
              "Education             0\n",
              "Self_Employed        32\n",
              "ApplicantIncome       0\n",
              "CoapplicantIncome     0\n",
              "LoanAmount           22\n",
              "Loan_Amount_Term     14\n",
              "Credit_History       50\n",
              "Property_Area         0\n",
              "dtype: int64"
            ]
          },
          "metadata": {
            "tags": []
          },
          "execution_count": 234
        }
      ]
    },
    {
      "cell_type": "code",
      "metadata": {
        "id": "-DiGN5oC3A57",
        "colab_type": "code",
        "outputId": "84fada08-c47c-45b5-b85b-c79b55218d30",
        "colab": {}
      },
      "source": [
        "X_test.isnull().sum()"
      ],
      "execution_count": 0,
      "outputs": [
        {
          "output_type": "execute_result",
          "data": {
            "text/plain": [
              "Loan_ID               0\n",
              "Gender               11\n",
              "Married               0\n",
              "Dependents           10\n",
              "Education             0\n",
              "Self_Employed        23\n",
              "ApplicantIncome       0\n",
              "CoapplicantIncome     0\n",
              "LoanAmount            5\n",
              "Loan_Amount_Term      6\n",
              "Credit_History       29\n",
              "Property_Area         0\n",
              "dtype: int64"
            ]
          },
          "metadata": {
            "tags": []
          },
          "execution_count": 235
        }
      ]
    },
    {
      "cell_type": "code",
      "metadata": {
        "id": "C_FDhbu73A6D",
        "colab_type": "code",
        "outputId": "c1261148-0c6d-4404-d25b-75a2e38e0553",
        "colab": {}
      },
      "source": [
        "X_train.dtypes"
      ],
      "execution_count": 0,
      "outputs": [
        {
          "output_type": "execute_result",
          "data": {
            "text/plain": [
              "Loan_ID               object\n",
              "Gender                object\n",
              "Married               object\n",
              "Dependents            object\n",
              "Education             object\n",
              "Self_Employed         object\n",
              "ApplicantIncome        int64\n",
              "CoapplicantIncome    float64\n",
              "LoanAmount           float64\n",
              "Loan_Amount_Term     float64\n",
              "Credit_History       float64\n",
              "Property_Area         object\n",
              "dtype: object"
            ]
          },
          "metadata": {
            "tags": []
          },
          "execution_count": 236
        }
      ]
    },
    {
      "cell_type": "code",
      "metadata": {
        "id": "4GGRfeQk3A6M",
        "colab_type": "code",
        "outputId": "2fc0c3ce-86b4-442d-f463-8d0e499ed835",
        "colab": {}
      },
      "source": [
        "X_train.shape"
      ],
      "execution_count": 0,
      "outputs": [
        {
          "output_type": "execute_result",
          "data": {
            "text/plain": [
              "(614, 12)"
            ]
          },
          "metadata": {
            "tags": []
          },
          "execution_count": 237
        }
      ]
    },
    {
      "cell_type": "code",
      "metadata": {
        "id": "ud9bHIIR3A6U",
        "colab_type": "code",
        "colab": {}
      },
      "source": [
        "X_gender_train=pd.get_dummies(X_train['Gender'])\n",
        "X_married_train=pd.get_dummies(X_train['Married'])\n",
        "#X_education=pd.get_dummies(X_train['Education'])\n",
        "X_Self_Employed_train=pd.get_dummies(X_train['Self_Employed'])\n",
        "X_Property_Area_train=pd.get_dummies(X_train['Property_Area'])"
      ],
      "execution_count": 0,
      "outputs": []
    },
    {
      "cell_type": "code",
      "metadata": {
        "id": "3RcFa5oh3A6c",
        "colab_type": "code",
        "colab": {}
      },
      "source": [
        "X_gender_test=pd.get_dummies(X_test['Gender'])\n",
        "X_married_test=pd.get_dummies(X_test['Married'])\n",
        "#X_education=pd.get_dummies(X_train['Education'])\n",
        "X_Self_Employed_test=pd.get_dummies(X_test['Self_Employed'])\n",
        "X_Property_Area_test=pd.get_dummies(X_test['Property_Area'])"
      ],
      "execution_count": 0,
      "outputs": []
    },
    {
      "cell_type": "code",
      "metadata": {
        "id": "Io684nDY3A6l",
        "colab_type": "code",
        "colab": {}
      },
      "source": [
        "X_Self_Employed_train.rename(columns = {'No':'Self_Employed_No','Yes':'Self_Employed_yes'},inplace = True) \n",
        "X_married_train.rename(columns = {'No':'Married_No','Yes':'Married_yes'},inplace = True)"
      ],
      "execution_count": 0,
      "outputs": []
    },
    {
      "cell_type": "code",
      "metadata": {
        "id": "_GNGqwHv3A6t",
        "colab_type": "code",
        "colab": {}
      },
      "source": [
        "X_Self_Employed_test.rename(columns = {'No':'Self_Employed_No','Yes':'Self_Employed_yes'},inplace = True) \n",
        "X_married_test.rename(columns = {'No':'Married_No','Yes':'Married_yes'},inplace = True)"
      ],
      "execution_count": 0,
      "outputs": []
    },
    {
      "cell_type": "code",
      "metadata": {
        "id": "ZSexe3XF3A61",
        "colab_type": "code",
        "colab": {}
      },
      "source": [
        "frames=[X_train,X_gender_train,X_married_train,X_Self_Employed_train,X_Property_Area_train]\n",
        "X_new_train=pd.concat(frames,axis='columns')"
      ],
      "execution_count": 0,
      "outputs": []
    },
    {
      "cell_type": "code",
      "metadata": {
        "id": "EztnXBMU3A69",
        "colab_type": "code",
        "colab": {}
      },
      "source": [
        "frames=[X_test,X_gender_test,X_married_test,X_Self_Employed_test,X_Property_Area_test]\n",
        "X_new_test=pd.concat(frames,axis='columns')"
      ],
      "execution_count": 0,
      "outputs": []
    },
    {
      "cell_type": "code",
      "metadata": {
        "id": "RIQDEr7l3A7F",
        "colab_type": "code",
        "colab": {}
      },
      "source": [
        "X_new_train.drop(['Loan_ID','Gender','Married','Self_Employed','Property_Area','Married_No','Self_Employed_No','Female','Urban'],axis=1,inplace=True)\n",
        "X_new_test.drop(['Loan_ID','Gender','Married','Self_Employed','Property_Area','Married_No','Self_Employed_No','Female','Urban'],axis=1,inplace=True)"
      ],
      "execution_count": 0,
      "outputs": []
    },
    {
      "cell_type": "code",
      "metadata": {
        "id": "tTnWrb3K3A7O",
        "colab_type": "code",
        "outputId": "54bb4ec6-07c5-4822-8410-249f3d85a520",
        "colab": {}
      },
      "source": [
        "X_new_train['Dependents'].value_counts()"
      ],
      "execution_count": 0,
      "outputs": [
        {
          "output_type": "execute_result",
          "data": {
            "text/plain": [
              "0     345\n",
              "1     102\n",
              "2     101\n",
              "3+     51\n",
              "Name: Dependents, dtype: int64"
            ]
          },
          "metadata": {
            "tags": []
          },
          "execution_count": 245
        }
      ]
    },
    {
      "cell_type": "code",
      "metadata": {
        "id": "pdUeXjAK3A7W",
        "colab_type": "code",
        "colab": {}
      },
      "source": [
        "X_new_train['Dependents']=X_new['Dependents'].replace('3+','3')\n",
        "X_new_test['Dependents']=X_new['Dependents'].replace('3+','3')"
      ],
      "execution_count": 0,
      "outputs": []
    },
    {
      "cell_type": "code",
      "metadata": {
        "id": "PlnINvgb3A7h",
        "colab_type": "code",
        "colab": {}
      },
      "source": [
        "le=LabelEncoder()\n",
        "X_new_train['Education']=le.fit_transform(X_new_train.Education)\n",
        "X_new_train['Dependents']=X_new_train['Dependents'].apply(pd.to_numeric) \n",
        "\n",
        "X_new_test['Education']=le.fit_transform(X_new_test.Education)\n",
        "X_new_test['Dependents']=X_new_test['Dependents'].apply(pd.to_numeric) \n",
        "\n",
        "y_train=le.fit_transform(y_train)\n",
        "#X_new['Dependents']=le.fit_transform(X_new.Dependents)"
      ],
      "execution_count": 0,
      "outputs": []
    },
    {
      "cell_type": "code",
      "metadata": {
        "id": "PlyXOJ4w3A7p",
        "colab_type": "code",
        "outputId": "74ec383e-2054-4f23-e4f4-9cf2e27733ae",
        "colab": {}
      },
      "source": [
        "X_new_train.dtypes"
      ],
      "execution_count": 0,
      "outputs": [
        {
          "output_type": "execute_result",
          "data": {
            "text/plain": [
              "Dependents           float64\n",
              "Education              int32\n",
              "ApplicantIncome        int64\n",
              "CoapplicantIncome    float64\n",
              "LoanAmount           float64\n",
              "Loan_Amount_Term     float64\n",
              "Credit_History       float64\n",
              "Male                   uint8\n",
              "Married_yes            uint8\n",
              "Self_Employed_yes      uint8\n",
              "Rural                  uint8\n",
              "Semiurban              uint8\n",
              "dtype: object"
            ]
          },
          "metadata": {
            "tags": []
          },
          "execution_count": 248
        }
      ]
    },
    {
      "cell_type": "code",
      "metadata": {
        "id": "k85S-yMm3A7w",
        "colab_type": "code",
        "outputId": "c3a43533-50f1-40ab-c65b-14c7ecafa9b3",
        "colab": {}
      },
      "source": [
        "sns.heatmap(X_new_train.corr())"
      ],
      "execution_count": 0,
      "outputs": [
        {
          "output_type": "execute_result",
          "data": {
            "text/plain": [
              "<matplotlib.axes._subplots.AxesSubplot at 0x1aa3c942208>"
            ]
          },
          "metadata": {
            "tags": []
          },
          "execution_count": 269
        },
        {
          "output_type": "display_data",
          "data": {
            "image/png": "[encoded data removed]",
            "text/plain": [
              "<Figure size 432x288 with 2 Axes>"
            ]
          },
          "metadata": {
            "tags": [],
            "needs_background": "light"
          }
        }
      ]
    },
    {
      "cell_type": "code",
      "metadata": {
        "id": "VyBFHtg73A76",
        "colab_type": "code",
        "outputId": "4fa5f85f-e2e1-4141-a602-b13a91ec269e",
        "colab": {}
      },
      "source": [
        "X_new_train.corr()"
      ],
      "execution_count": 0,
      "outputs": [
        {
          "output_type": "execute_result",
          "data": {
            "text/html": [
              "<div>\n",
              "<style scoped>\n",
              "    .dataframe tbody tr th:only-of-type {\n",
              "        vertical-align: middle;\n",
              "    }\n",
              "\n",
              "    .dataframe tbody tr th {\n",
              "        vertical-align: top;\n",
              "    }\n",
              "\n",
              "    .dataframe thead th {\n",
              "        text-align: right;\n",
              "    }\n",
              "</style>\n",
              "<table border=\"1\" class=\"dataframe\">\n",
              "  <thead>\n",
              "    <tr style=\"text-align: right;\">\n",
              "      <th></th>\n",
              "      <th>Dependents</th>\n",
              "      <th>Education</th>\n",
              "      <th>ApplicantIncome</th>\n",
              "      <th>CoapplicantIncome</th>\n",
              "      <th>LoanAmount</th>\n",
              "      <th>Loan_Amount_Term</th>\n",
              "      <th>Credit_History</th>\n",
              "      <th>Male</th>\n",
              "      <th>Married_yes</th>\n",
              "      <th>Self_Employed_yes</th>\n",
              "      <th>Rural</th>\n",
              "      <th>Semiurban</th>\n",
              "    </tr>\n",
              "  </thead>\n",
              "  <tbody>\n",
              "    <tr>\n",
              "      <th>Dependents</th>\n",
              "      <td>1.000000</td>\n",
              "      <td>0.059161</td>\n",
              "      <td>0.118679</td>\n",
              "      <td>0.027259</td>\n",
              "      <td>0.163997</td>\n",
              "      <td>-0.100484</td>\n",
              "      <td>-0.050082</td>\n",
              "      <td>0.151526</td>\n",
              "      <td>0.343417</td>\n",
              "      <td>0.057888</td>\n",
              "      <td>-0.007359</td>\n",
              "      <td>0.002758</td>\n",
              "    </tr>\n",
              "    <tr>\n",
              "      <th>Education</th>\n",
              "      <td>0.059161</td>\n",
              "      <td>1.000000</td>\n",
              "      <td>-0.140760</td>\n",
              "      <td>-0.062290</td>\n",
              "      <td>-0.171133</td>\n",
              "      <td>-0.078784</td>\n",
              "      <td>-0.081822</td>\n",
              "      <td>0.061497</td>\n",
              "      <td>0.017671</td>\n",
              "      <td>-0.010383</td>\n",
              "      <td>0.077520</td>\n",
              "      <td>-0.039410</td>\n",
              "    </tr>\n",
              "    <tr>\n",
              "      <th>ApplicantIncome</th>\n",
              "      <td>0.118679</td>\n",
              "      <td>-0.140760</td>\n",
              "      <td>1.000000</td>\n",
              "      <td>-0.116605</td>\n",
              "      <td>0.570909</td>\n",
              "      <td>-0.045306</td>\n",
              "      <td>-0.014715</td>\n",
              "      <td>0.013933</td>\n",
              "      <td>0.050194</td>\n",
              "      <td>0.127180</td>\n",
              "      <td>0.015829</td>\n",
              "      <td>-0.014246</td>\n",
              "    </tr>\n",
              "    <tr>\n",
              "      <th>CoapplicantIncome</th>\n",
              "      <td>0.027259</td>\n",
              "      <td>-0.062290</td>\n",
              "      <td>-0.116605</td>\n",
              "      <td>1.000000</td>\n",
              "      <td>0.188619</td>\n",
              "      <td>-0.059878</td>\n",
              "      <td>-0.002056</td>\n",
              "      <td>0.082316</td>\n",
              "      <td>0.080496</td>\n",
              "      <td>-0.016100</td>\n",
              "      <td>0.005329</td>\n",
              "      <td>-0.027044</td>\n",
              "    </tr>\n",
              "    <tr>\n",
              "      <th>LoanAmount</th>\n",
              "      <td>0.163997</td>\n",
              "      <td>-0.171133</td>\n",
              "      <td>0.570909</td>\n",
              "      <td>0.188619</td>\n",
              "      <td>1.000000</td>\n",
              "      <td>0.039447</td>\n",
              "      <td>-0.008433</td>\n",
              "      <td>0.065501</td>\n",
              "      <td>0.148367</td>\n",
              "      <td>0.117421</td>\n",
              "      <td>0.043942</td>\n",
              "      <td>-0.008401</td>\n",
              "    </tr>\n",
              "    <tr>\n",
              "      <th>Loan_Amount_Term</th>\n",
              "      <td>-0.100484</td>\n",
              "      <td>-0.078784</td>\n",
              "      <td>-0.045306</td>\n",
              "      <td>-0.059878</td>\n",
              "      <td>0.039447</td>\n",
              "      <td>1.000000</td>\n",
              "      <td>0.001470</td>\n",
              "      <td>-0.071026</td>\n",
              "      <td>-0.104608</td>\n",
              "      <td>-0.034361</td>\n",
              "      <td>0.034827</td>\n",
              "      <td>0.061957</td>\n",
              "    </tr>\n",
              "    <tr>\n",
              "      <th>Credit_History</th>\n",
              "      <td>-0.050082</td>\n",
              "      <td>-0.081822</td>\n",
              "      <td>-0.014715</td>\n",
              "      <td>-0.002056</td>\n",
              "      <td>-0.008433</td>\n",
              "      <td>0.001470</td>\n",
              "      <td>1.000000</td>\n",
              "      <td>0.026349</td>\n",
              "      <td>0.001259</td>\n",
              "      <td>-0.002362</td>\n",
              "      <td>-0.020983</td>\n",
              "      <td>0.042414</td>\n",
              "    </tr>\n",
              "    <tr>\n",
              "      <th>Male</th>\n",
              "      <td>0.151526</td>\n",
              "      <td>0.061497</td>\n",
              "      <td>0.013933</td>\n",
              "      <td>0.082316</td>\n",
              "      <td>0.065501</td>\n",
              "      <td>-0.071026</td>\n",
              "      <td>0.026349</td>\n",
              "      <td>1.000000</td>\n",
              "      <td>0.339026</td>\n",
              "      <td>-0.027421</td>\n",
              "      <td>0.075128</td>\n",
              "      <td>-0.113069</td>\n",
              "    </tr>\n",
              "    <tr>\n",
              "      <th>Married_yes</th>\n",
              "      <td>0.343417</td>\n",
              "      <td>0.017671</td>\n",
              "      <td>0.050194</td>\n",
              "      <td>0.080496</td>\n",
              "      <td>0.148367</td>\n",
              "      <td>-0.104608</td>\n",
              "      <td>0.001259</td>\n",
              "      <td>0.339026</td>\n",
              "      <td>1.000000</td>\n",
              "      <td>0.008491</td>\n",
              "      <td>-0.000220</td>\n",
              "      <td>-0.000229</td>\n",
              "    </tr>\n",
              "    <tr>\n",
              "      <th>Self_Employed_yes</th>\n",
              "      <td>0.057888</td>\n",
              "      <td>-0.010383</td>\n",
              "      <td>0.127180</td>\n",
              "      <td>-0.016100</td>\n",
              "      <td>0.117421</td>\n",
              "      <td>-0.034361</td>\n",
              "      <td>-0.002362</td>\n",
              "      <td>-0.027421</td>\n",
              "      <td>0.008491</td>\n",
              "      <td>1.000000</td>\n",
              "      <td>0.022065</td>\n",
              "      <td>0.008710</td>\n",
              "    </tr>\n",
              "    <tr>\n",
              "      <th>Rural</th>\n",
              "      <td>-0.007359</td>\n",
              "      <td>0.077520</td>\n",
              "      <td>0.015829</td>\n",
              "      <td>0.005329</td>\n",
              "      <td>0.043942</td>\n",
              "      <td>0.034827</td>\n",
              "      <td>-0.020983</td>\n",
              "      <td>0.075128</td>\n",
              "      <td>-0.000220</td>\n",
              "      <td>0.022065</td>\n",
              "      <td>1.000000</td>\n",
              "      <td>-0.501646</td>\n",
              "    </tr>\n",
              "    <tr>\n",
              "      <th>Semiurban</th>\n",
              "      <td>0.002758</td>\n",
              "      <td>-0.039410</td>\n",
              "      <td>-0.014246</td>\n",
              "      <td>-0.027044</td>\n",
              "      <td>-0.008401</td>\n",
              "      <td>0.061957</td>\n",
              "      <td>0.042414</td>\n",
              "      <td>-0.113069</td>\n",
              "      <td>-0.000229</td>\n",
              "      <td>0.008710</td>\n",
              "      <td>-0.501646</td>\n",
              "      <td>1.000000</td>\n",
              "    </tr>\n",
              "  </tbody>\n",
              "</table>\n",
              "</div>"
            ],
            "text/plain": [
              "                   Dependents  Education  ApplicantIncome  CoapplicantIncome  \\\n",
              "Dependents           1.000000   0.059161         0.118679           0.027259   \n",
              "Education            0.059161   1.000000        -0.140760          -0.062290   \n",
              "ApplicantIncome      0.118679  -0.140760         1.000000          -0.116605   \n",
              "CoapplicantIncome    0.027259  -0.062290        -0.116605           1.000000   \n",
              "LoanAmount           0.163997  -0.171133         0.570909           0.188619   \n",
              "Loan_Amount_Term    -0.100484  -0.078784        -0.045306          -0.059878   \n",
              "Credit_History      -0.050082  -0.081822        -0.014715          -0.002056   \n",
              "Male                 0.151526   0.061497         0.013933           0.082316   \n",
              "Married_yes          0.343417   0.017671         0.050194           0.080496   \n",
              "Self_Employed_yes    0.057888  -0.010383         0.127180          -0.016100   \n",
              "Rural               -0.007359   0.077520         0.015829           0.005329   \n",
              "Semiurban            0.002758  -0.039410        -0.014246          -0.027044   \n",
              "\n",
              "                   LoanAmount  Loan_Amount_Term  Credit_History      Male  \\\n",
              "Dependents           0.163997         -0.100484       -0.050082  0.151526   \n",
              "Education           -0.171133         -0.078784       -0.081822  0.061497   \n",
              "ApplicantIncome      0.570909         -0.045306       -0.014715  0.013933   \n",
              "CoapplicantIncome    0.188619         -0.059878       -0.002056  0.082316   \n",
              "LoanAmount           1.000000          0.039447       -0.008433  0.065501   \n",
              "Loan_Amount_Term     0.039447          1.000000        0.001470 -0.071026   \n",
              "Credit_History      -0.008433          0.001470        1.000000  0.026349   \n",
              "Male                 0.065501         -0.071026        0.026349  1.000000   \n",
              "Married_yes          0.148367         -0.104608        0.001259  0.339026   \n",
              "Self_Employed_yes    0.117421         -0.034361       -0.002362 -0.027421   \n",
              "Rural                0.043942          0.034827       -0.020983  0.075128   \n",
              "Semiurban           -0.008401          0.061957        0.042414 -0.113069   \n",
              "\n",
              "                   Married_yes  Self_Employed_yes     Rural  Semiurban  \n",
              "Dependents            0.343417           0.057888 -0.007359   0.002758  \n",
              "Education             0.017671          -0.010383  0.077520  -0.039410  \n",
              "ApplicantIncome       0.050194           0.127180  0.015829  -0.014246  \n",
              "CoapplicantIncome     0.080496          -0.016100  0.005329  -0.027044  \n",
              "LoanAmount            0.148367           0.117421  0.043942  -0.008401  \n",
              "Loan_Amount_Term     -0.104608          -0.034361  0.034827   0.061957  \n",
              "Credit_History        0.001259          -0.002362 -0.020983   0.042414  \n",
              "Male                  0.339026          -0.027421  0.075128  -0.113069  \n",
              "Married_yes           1.000000           0.008491 -0.000220  -0.000229  \n",
              "Self_Employed_yes     0.008491           1.000000  0.022065   0.008710  \n",
              "Rural                -0.000220           0.022065  1.000000  -0.501646  \n",
              "Semiurban            -0.000229           0.008710 -0.501646   1.000000  "
            ]
          },
          "metadata": {
            "tags": []
          },
          "execution_count": 270
        }
      ]
    },
    {
      "cell_type": "code",
      "metadata": {
        "id": "4G524XNh3A8B",
        "colab_type": "code",
        "outputId": "239195ab-2700-4958-a4d9-38991ad72d0e",
        "colab": {}
      },
      "source": [
        "X_new_train.isnull().sum()"
      ],
      "execution_count": 0,
      "outputs": [
        {
          "output_type": "execute_result",
          "data": {
            "text/plain": [
              "Dependents           15\n",
              "Education             0\n",
              "ApplicantIncome       0\n",
              "CoapplicantIncome     0\n",
              "LoanAmount           22\n",
              "Loan_Amount_Term     14\n",
              "Credit_History       50\n",
              "Male                  0\n",
              "Married_yes           0\n",
              "Self_Employed_yes     0\n",
              "Rural                 0\n",
              "Semiurban             0\n",
              "dtype: int64"
            ]
          },
          "metadata": {
            "tags": []
          },
          "execution_count": 250
        }
      ]
    },
    {
      "cell_type": "code",
      "metadata": {
        "id": "w87MGuD93A8N",
        "colab_type": "code",
        "colab": {}
      },
      "source": [
        "imputer=SimpleImputer(missing_values=np.nan, strategy='mean')\n",
        "imputer.fit(X_new_train)\n",
        "X_train_imputed=imputer.transform(X_new_train.values)"
      ],
      "execution_count": 0,
      "outputs": []
    },
    {
      "cell_type": "code",
      "metadata": {
        "id": "8wlL-l3y3A8V",
        "colab_type": "code",
        "colab": {}
      },
      "source": [
        "imputer.fit(X_new_test)\n",
        "X_test_imputed=imputer.transform(X_new_test.values)"
      ],
      "execution_count": 0,
      "outputs": []
    },
    {
      "cell_type": "code",
      "metadata": {
        "id": "cLKPM7bw3A8d",
        "colab_type": "code",
        "outputId": "c6b38a8d-729b-408a-edf1-f2fc255792d1",
        "colab": {}
      },
      "source": [
        "X_train_imputed"
      ],
      "execution_count": 0,
      "outputs": [
        {
          "output_type": "execute_result",
          "data": {
            "text/plain": [
              "array([[0.000e+00, 0.000e+00, 5.849e+03, ..., 0.000e+00, 0.000e+00,\n",
              "        0.000e+00],\n",
              "       [1.000e+00, 0.000e+00, 4.583e+03, ..., 0.000e+00, 1.000e+00,\n",
              "        0.000e+00],\n",
              "       [0.000e+00, 0.000e+00, 3.000e+03, ..., 1.000e+00, 0.000e+00,\n",
              "        0.000e+00],\n",
              "       ...,\n",
              "       [1.000e+00, 0.000e+00, 8.072e+03, ..., 0.000e+00, 0.000e+00,\n",
              "        0.000e+00],\n",
              "       [2.000e+00, 0.000e+00, 7.583e+03, ..., 0.000e+00, 0.000e+00,\n",
              "        0.000e+00],\n",
              "       [0.000e+00, 0.000e+00, 4.583e+03, ..., 1.000e+00, 0.000e+00,\n",
              "        1.000e+00]])"
            ]
          },
          "metadata": {
            "tags": []
          },
          "execution_count": 253
        }
      ]
    },
    {
      "cell_type": "code",
      "metadata": {
        "id": "47MDC68S3A8l",
        "colab_type": "code",
        "outputId": "2b0992b7-6edb-49d7-da4c-c07469343333",
        "colab": {}
      },
      "source": [
        "X_new_train.isnull().sum()"
      ],
      "execution_count": 0,
      "outputs": [
        {
          "output_type": "execute_result",
          "data": {
            "text/plain": [
              "Dependents           15\n",
              "Education             0\n",
              "ApplicantIncome       0\n",
              "CoapplicantIncome     0\n",
              "LoanAmount           22\n",
              "Loan_Amount_Term     14\n",
              "Credit_History       50\n",
              "Male                  0\n",
              "Married_yes           0\n",
              "Self_Employed_yes     0\n",
              "Rural                 0\n",
              "Semiurban             0\n",
              "dtype: int64"
            ]
          },
          "metadata": {
            "tags": []
          },
          "execution_count": 254
        }
      ]
    },
    {
      "cell_type": "code",
      "metadata": {
        "id": "YeFk_YSH3A8s",
        "colab_type": "code",
        "outputId": "40c1f677-206b-41e1-ba56-ff8e76dd8220",
        "colab": {}
      },
      "source": [
        "y_train"
      ],
      "execution_count": 0,
      "outputs": [
        {
          "output_type": "execute_result",
          "data": {
            "text/plain": [
              "array([1, 0, 1, 1, 1, 1, 1, 0, 1, 0, 1, 1, 1, 0, 1, 1, 1, 0, 0, 1, 0, 1,\n",
              "       0, 0, 0, 1, 1, 1, 0, 1, 0, 0, 0, 1, 0, 1, 0, 1, 1, 1, 0, 1, 1, 1,\n",
              "       1, 1, 1, 1, 0, 1, 1, 1, 0, 0, 0, 1, 1, 0, 1, 1, 1, 1, 0, 0, 0, 0,\n",
              "       0, 1, 1, 0, 1, 1, 1, 0, 1, 0, 0, 0, 0, 1, 1, 1, 0, 0, 1, 1, 1, 1,\n",
              "       1, 1, 1, 1, 1, 1, 1, 0, 1, 1, 1, 1, 1, 1, 1, 1, 1, 1, 1, 0, 0, 1,\n",
              "       1, 1, 0, 1, 1, 1, 1, 1, 0, 1, 1, 1, 1, 1, 1, 1, 1, 1, 0, 0, 1, 1,\n",
              "       1, 1, 1, 0, 0, 1, 0, 0, 0, 1, 1, 1, 1, 1, 1, 1, 0, 1, 0, 1, 0, 0,\n",
              "       1, 1, 1, 1, 1, 1, 1, 0, 0, 1, 1, 1, 0, 1, 0, 1, 1, 1, 0, 1, 0, 1,\n",
              "       1, 0, 1, 0, 0, 0, 1, 0, 1, 1, 0, 1, 1, 1, 1, 0, 0, 1, 1, 0, 1, 1,\n",
              "       1, 0, 1, 1, 0, 1, 1, 1, 1, 1, 1, 0, 0, 0, 1, 1, 1, 1, 0, 1, 0, 1,\n",
              "       0, 1, 1, 1, 1, 0, 0, 1, 1, 1, 1, 1, 1, 1, 1, 1, 0, 1, 1, 1, 1, 0,\n",
              "       1, 1, 1, 0, 1, 1, 1, 1, 0, 0, 1, 1, 0, 1, 0, 0, 0, 0, 1, 1, 0, 1,\n",
              "       1, 1, 1, 1, 0, 1, 1, 1, 1, 1, 1, 1, 1, 1, 1, 1, 0, 1, 1, 1, 0, 1,\n",
              "       0, 1, 1, 1, 1, 0, 1, 0, 1, 1, 1, 1, 0, 0, 0, 1, 1, 1, 1, 0, 1, 0,\n",
              "       0, 1, 1, 1, 1, 1, 0, 1, 1, 1, 1, 0, 1, 1, 1, 1, 1, 0, 1, 1, 0, 1,\n",
              "       1, 1, 1, 1, 1, 1, 1, 1, 0, 1, 0, 0, 1, 1, 1, 1, 0, 1, 1, 1, 1, 0,\n",
              "       1, 0, 1, 1, 1, 0, 0, 1, 0, 1, 1, 1, 1, 0, 0, 0, 1, 0, 1, 1, 1, 0,\n",
              "       1, 1, 1, 1, 0, 1, 1, 1, 1, 1, 0, 1, 1, 0, 1, 1, 1, 1, 1, 1, 1, 1,\n",
              "       0, 1, 1, 0, 0, 0, 1, 1, 0, 1, 1, 1, 0, 0, 0, 1, 0, 1, 0, 1, 0, 0,\n",
              "       1, 1, 1, 0, 1, 0, 1, 1, 0, 1, 1, 1, 1, 0, 1, 1, 1, 1, 1, 1, 0, 1,\n",
              "       1, 1, 1, 1, 1, 1, 1, 0, 0, 0, 0, 1, 0, 1, 1, 1, 1, 0, 1, 0, 1, 1,\n",
              "       1, 1, 0, 1, 0, 1, 1, 0, 1, 0, 1, 1, 1, 1, 1, 0, 1, 0, 1, 1, 1, 1,\n",
              "       1, 1, 0, 0, 1, 0, 1, 1, 1, 1, 0, 1, 1, 1, 1, 0, 1, 1, 1, 0, 1, 1,\n",
              "       1, 0, 1, 1, 0, 1, 1, 0, 0, 1, 1, 0, 0, 0, 1, 1, 1, 1, 0, 1, 1, 1,\n",
              "       1, 1, 1, 1, 0, 0, 1, 1, 1, 1, 0, 1, 1, 0, 1, 1, 1, 1, 0, 1, 0, 1,\n",
              "       0, 1, 1, 0, 0, 1, 1, 1, 1, 1, 1, 1, 1, 1, 0, 1, 1, 0, 0, 0, 1, 0,\n",
              "       1, 0, 0, 1, 0, 1, 1, 1, 1, 0, 1, 0, 0, 0, 1, 1, 1, 0, 1, 0, 1, 1,\n",
              "       1, 1, 0, 0, 1, 1, 0, 1, 1, 1, 1, 0, 1, 1, 1, 1, 1, 1, 1, 0])"
            ]
          },
          "metadata": {
            "tags": []
          },
          "execution_count": 255
        }
      ]
    },
    {
      "cell_type": "code",
      "metadata": {
        "id": "ngSvETLU3A8y",
        "colab_type": "code",
        "outputId": "25996cb3-ecd2-4566-ceab-6b219c8ca75f",
        "colab": {}
      },
      "source": [
        "Logistic_model=LogisticRegression()\n",
        "Logistic_model.fit(X_train_imputed,y_train)"
      ],
      "execution_count": 0,
      "outputs": [
        {
          "output_type": "execute_result",
          "data": {
            "text/plain": [
              "LogisticRegression(C=1.0, class_weight=None, dual=False, fit_intercept=True,\n",
              "                   intercept_scaling=1, l1_ratio=None, max_iter=100,\n",
              "                   multi_class='auto', n_jobs=None, penalty='l2',\n",
              "                   random_state=None, solver='lbfgs', tol=0.0001, verbose=0,\n",
              "                   warm_start=False)"
            ]
          },
          "metadata": {
            "tags": []
          },
          "execution_count": 260
        }
      ]
    },
    {
      "cell_type": "code",
      "metadata": {
        "id": "ADhA7JeW3A84",
        "colab_type": "code",
        "colab": {}
      },
      "source": [
        "y_predict=Logistic_model.predict(X_test_imputed)"
      ],
      "execution_count": 0,
      "outputs": []
    },
    {
      "cell_type": "code",
      "metadata": {
        "id": "ISaRMa8Y3A8-",
        "colab_type": "code",
        "outputId": "f46d74ad-9439-409e-ad85-ae5885425d7a",
        "colab": {}
      },
      "source": [
        "type(y_predict)"
      ],
      "execution_count": 0,
      "outputs": [
        {
          "output_type": "execute_result",
          "data": {
            "text/plain": [
              "numpy.ndarray"
            ]
          },
          "metadata": {
            "tags": []
          },
          "execution_count": 288
        }
      ]
    },
    {
      "cell_type": "code",
      "metadata": {
        "id": "72z-w0zo3A9G",
        "colab_type": "code",
        "colab": {}
      },
      "source": [
        "y_predict=np.where(y_predict=='1', 'Y', y_predict)\n",
        "y_predict=np.where(y_predict==0, 'N', y_predict)"
      ],
      "execution_count": 0,
      "outputs": []
    },
    {
      "cell_type": "code",
      "metadata": {
        "id": "Ixnlc7N33A9M",
        "colab_type": "code",
        "outputId": "f4fdfe70-144d-4af0-f619-87e0b94914e2",
        "colab": {}
      },
      "source": [
        "y_predict"
      ],
      "execution_count": 0,
      "outputs": [
        {
          "output_type": "execute_result",
          "data": {
            "text/plain": [
              "array(['Y', 'Y', 'Y', 'Y', 'Y', 'Y', 'Y', 'N', 'Y', 'Y', 'Y', 'Y', 'Y',\n",
              "       'N', 'Y', 'Y', 'Y', 'Y', 'Y', 'Y', 'Y', 'Y', 'Y', 'Y', 'Y', 'N',\n",
              "       'Y', 'Y', 'Y', 'Y', 'Y', 'Y', 'Y', 'Y', 'Y', 'N', 'Y', 'Y', 'Y',\n",
              "       'Y', 'Y', 'Y', 'Y', 'Y', 'Y', 'Y', 'Y', 'Y', 'Y', 'Y', 'Y', 'Y',\n",
              "       'Y', 'Y', 'Y', 'N', 'Y', 'Y', 'N', 'Y', 'Y', 'Y', 'Y', 'N', 'Y',\n",
              "       'Y', 'N', 'N', 'Y', 'N', 'Y', 'Y', 'Y', 'Y', 'Y', 'Y', 'Y', 'Y',\n",
              "       'Y', 'Y', 'N', 'Y', 'N', 'Y', 'Y', 'Y', 'Y', 'Y', 'Y', 'Y', 'Y',\n",
              "       'Y', 'Y', 'Y', 'N', 'Y', 'Y', 'Y', 'Y', 'Y', 'Y', 'N', 'Y', 'Y',\n",
              "       'Y', 'Y', 'N', 'Y', 'Y', 'Y', 'Y', 'Y', 'Y', 'Y', 'Y', 'Y', 'Y',\n",
              "       'N', 'N', 'N', 'Y', 'Y', 'Y', 'N', 'N', 'Y', 'N', 'Y', 'Y', 'Y',\n",
              "       'Y', 'Y', 'Y', 'Y', 'Y', 'Y', 'Y', 'Y', 'Y', 'Y', 'N', 'Y', 'N',\n",
              "       'Y', 'Y', 'Y', 'Y', 'N', 'Y', 'Y', 'Y', 'Y', 'Y', 'N', 'Y', 'Y',\n",
              "       'Y', 'Y', 'Y', 'Y', 'Y', 'N', 'Y', 'Y', 'Y', 'N', 'N', 'Y', 'N',\n",
              "       'Y', 'Y', 'Y', 'Y', 'N', 'N', 'Y', 'Y', 'N', 'Y', 'Y', 'Y', 'Y',\n",
              "       'Y', 'Y', 'Y', 'Y', 'Y', 'Y', 'Y', 'Y', 'Y', 'Y', 'N', 'N', 'Y',\n",
              "       'Y', 'N', 'Y', 'N', 'Y', 'Y', 'Y', 'Y', 'Y', 'Y', 'Y', 'Y', 'Y',\n",
              "       'Y', 'N', 'Y', 'N', 'Y', 'Y', 'Y', 'Y', 'Y', 'Y', 'Y', 'Y', 'Y',\n",
              "       'Y', 'Y', 'Y', 'N', 'Y', 'Y', 'Y', 'Y', 'N', 'Y', 'Y', 'Y', 'Y',\n",
              "       'Y', 'N', 'N', 'Y', 'Y', 'Y', 'Y', 'N', 'Y', 'N', 'Y', 'Y', 'Y',\n",
              "       'Y', 'Y', 'Y', 'N', 'Y', 'Y', 'Y', 'Y', 'N', 'Y', 'Y', 'Y', 'N',\n",
              "       'Y', 'Y', 'Y', 'Y', 'Y', 'Y', 'N', 'N', 'N', 'Y', 'Y', 'Y', 'Y',\n",
              "       'N', 'N', 'Y', 'Y', 'Y', 'N', 'Y', 'Y', 'Y', 'Y', 'Y', 'Y', 'Y',\n",
              "       'Y', 'Y', 'Y', 'Y', 'Y', 'Y', 'Y', 'N', 'Y', 'Y', 'Y', 'Y', 'Y',\n",
              "       'Y', 'Y', 'N', 'Y', 'Y', 'Y', 'Y', 'Y', 'Y', 'Y', 'Y', 'Y', 'N',\n",
              "       'Y', 'Y', 'Y', 'Y', 'Y', 'N', 'N', 'Y', 'Y', 'Y', 'Y', 'Y', 'Y',\n",
              "       'Y', 'Y', 'Y', 'Y', 'Y', 'Y', 'Y', 'Y', 'Y', 'Y', 'Y', 'N', 'Y',\n",
              "       'Y', 'N', 'Y', 'Y', 'Y', 'Y', 'Y', 'Y', 'N', 'Y', 'Y', 'Y', 'Y',\n",
              "       'N', 'Y', 'Y', 'Y', 'Y', 'Y', 'Y', 'Y', 'Y', 'Y', 'Y', 'Y', 'Y',\n",
              "       'Y', 'Y', 'Y'], dtype='<U11')"
            ]
          },
          "metadata": {
            "tags": []
          },
          "execution_count": 294
        }
      ]
    },
    {
      "cell_type": "code",
      "metadata": {
        "id": "wwbmt47i3A9T",
        "colab_type": "code",
        "colab": {}
      },
      "source": [
        "y_predict=np.where(y_predict=='1', 'Y', y_predict)"
      ],
      "execution_count": 0,
      "outputs": []
    },
    {
      "cell_type": "code",
      "metadata": {
        "id": "TdUbXrNR3A9Z",
        "colab_type": "code",
        "outputId": "d5e06d44-5fc6-4ef4-c9dd-7e7c772be5cb",
        "colab": {}
      },
      "source": [
        "import xlwt \n",
        "from xlwt import Workbook \n",
        "  \n",
        "# Workbook is created \n",
        "wb = Workbook() \n",
        "  \n",
        "# add_sheet is used to create sheet. \n",
        "sheet1 = wb.add_sheet('Sheet 1') \n",
        "  \n",
        "for i in range(0,367):\n",
        "    #sheet1.write(1, i, y_predict[i]) \n",
        "    print(i,y_predict[i])\n",
        "\n"
      ],
      "execution_count": 0,
      "outputs": [
        {
          "output_type": "stream",
          "text": [
            "0 Y\n",
            "1 Y\n",
            "2 Y\n",
            "3 Y\n",
            "4 Y\n",
            "5 Y\n",
            "6 Y\n",
            "7 N\n",
            "8 Y\n",
            "9 Y\n",
            "10 Y\n",
            "11 Y\n",
            "12 Y\n",
            "13 N\n",
            "14 Y\n",
            "15 Y\n",
            "16 Y\n",
            "17 Y\n",
            "18 Y\n",
            "19 Y\n",
            "20 Y\n",
            "21 Y\n",
            "22 Y\n",
            "23 Y\n",
            "24 Y\n",
            "25 N\n",
            "26 Y\n",
            "27 Y\n",
            "28 Y\n",
            "29 Y\n",
            "30 Y\n",
            "31 Y\n",
            "32 Y\n",
            "33 Y\n",
            "34 Y\n",
            "35 N\n",
            "36 Y\n",
            "37 Y\n",
            "38 Y\n",
            "39 Y\n",
            "40 Y\n",
            "41 Y\n",
            "42 Y\n",
            "43 Y\n",
            "44 Y\n",
            "45 Y\n",
            "46 Y\n",
            "47 Y\n",
            "48 Y\n",
            "49 Y\n",
            "50 Y\n",
            "51 Y\n",
            "52 Y\n",
            "53 Y\n",
            "54 Y\n",
            "55 N\n",
            "56 Y\n",
            "57 Y\n",
            "58 N\n",
            "59 Y\n",
            "60 Y\n",
            "61 Y\n",
            "62 Y\n",
            "63 N\n",
            "64 Y\n",
            "65 Y\n",
            "66 N\n",
            "67 N\n",
            "68 Y\n",
            "69 N\n",
            "70 Y\n",
            "71 Y\n",
            "72 Y\n",
            "73 Y\n",
            "74 Y\n",
            "75 Y\n",
            "76 Y\n",
            "77 Y\n",
            "78 Y\n",
            "79 Y\n",
            "80 N\n",
            "81 Y\n",
            "82 N\n",
            "83 Y\n",
            "84 Y\n",
            "85 Y\n",
            "86 Y\n",
            "87 Y\n",
            "88 Y\n",
            "89 Y\n",
            "90 Y\n",
            "91 Y\n",
            "92 Y\n",
            "93 Y\n",
            "94 N\n",
            "95 Y\n",
            "96 Y\n",
            "97 Y\n",
            "98 Y\n",
            "99 Y\n",
            "100 Y\n",
            "101 N\n",
            "102 Y\n",
            "103 Y\n",
            "104 Y\n",
            "105 Y\n",
            "106 N\n",
            "107 Y\n",
            "108 Y\n",
            "109 Y\n",
            "110 Y\n",
            "111 Y\n",
            "112 Y\n",
            "113 Y\n",
            "114 Y\n",
            "115 Y\n",
            "116 Y\n",
            "117 N\n",
            "118 N\n",
            "119 N\n",
            "120 Y\n",
            "121 Y\n",
            "122 Y\n",
            "123 N\n",
            "124 N\n",
            "125 Y\n",
            "126 N\n",
            "127 Y\n",
            "128 Y\n",
            "129 Y\n",
            "130 Y\n",
            "131 Y\n",
            "132 Y\n",
            "133 Y\n",
            "134 Y\n",
            "135 Y\n",
            "136 Y\n",
            "137 Y\n",
            "138 Y\n",
            "139 Y\n",
            "140 N\n",
            "141 Y\n",
            "142 N\n",
            "143 Y\n",
            "144 Y\n",
            "145 Y\n",
            "146 Y\n",
            "147 N\n",
            "148 Y\n",
            "149 Y\n",
            "150 Y\n",
            "151 Y\n",
            "152 Y\n",
            "153 N\n",
            "154 Y\n",
            "155 Y\n",
            "156 Y\n",
            "157 Y\n",
            "158 Y\n",
            "159 Y\n",
            "160 Y\n",
            "161 N\n",
            "162 Y\n",
            "163 Y\n",
            "164 Y\n",
            "165 N\n",
            "166 N\n",
            "167 Y\n",
            "168 N\n",
            "169 Y\n",
            "170 Y\n",
            "171 Y\n",
            "172 Y\n",
            "173 N\n",
            "174 N\n",
            "175 Y\n",
            "176 Y\n",
            "177 N\n",
            "178 Y\n",
            "179 Y\n",
            "180 Y\n",
            "181 Y\n",
            "182 Y\n",
            "183 Y\n",
            "184 Y\n",
            "185 Y\n",
            "186 Y\n",
            "187 Y\n",
            "188 Y\n",
            "189 Y\n",
            "190 Y\n",
            "191 Y\n",
            "192 N\n",
            "193 N\n",
            "194 Y\n",
            "195 Y\n",
            "196 N\n",
            "197 Y\n",
            "198 N\n",
            "199 Y\n",
            "200 Y\n",
            "201 Y\n",
            "202 Y\n",
            "203 Y\n",
            "204 Y\n",
            "205 Y\n",
            "206 Y\n",
            "207 Y\n",
            "208 Y\n",
            "209 N\n",
            "210 Y\n",
            "211 N\n",
            "212 Y\n",
            "213 Y\n",
            "214 Y\n",
            "215 Y\n",
            "216 Y\n",
            "217 Y\n",
            "218 Y\n",
            "219 Y\n",
            "220 Y\n",
            "221 Y\n",
            "222 Y\n",
            "223 Y\n",
            "224 N\n",
            "225 Y\n",
            "226 Y\n",
            "227 Y\n",
            "228 Y\n",
            "229 N\n",
            "230 Y\n",
            "231 Y\n",
            "232 Y\n",
            "233 Y\n",
            "234 Y\n",
            "235 N\n",
            "236 N\n",
            "237 Y\n",
            "238 Y\n",
            "239 Y\n",
            "240 Y\n",
            "241 N\n",
            "242 Y\n",
            "243 N\n",
            "244 Y\n",
            "245 Y\n",
            "246 Y\n",
            "247 Y\n",
            "248 Y\n",
            "249 Y\n",
            "250 N\n",
            "251 Y\n",
            "252 Y\n",
            "253 Y\n",
            "254 Y\n",
            "255 N\n",
            "256 Y\n",
            "257 Y\n",
            "258 Y\n",
            "259 N\n",
            "260 Y\n",
            "261 Y\n",
            "262 Y\n",
            "263 Y\n",
            "264 Y\n",
            "265 Y\n",
            "266 N\n",
            "267 N\n",
            "268 N\n",
            "269 Y\n",
            "270 Y\n",
            "271 Y\n",
            "272 Y\n",
            "273 N\n",
            "274 N\n",
            "275 Y\n",
            "276 Y\n",
            "277 Y\n",
            "278 N\n",
            "279 Y\n",
            "280 Y\n",
            "281 Y\n",
            "282 Y\n",
            "283 Y\n",
            "284 Y\n",
            "285 Y\n",
            "286 Y\n",
            "287 Y\n",
            "288 Y\n",
            "289 Y\n",
            "290 Y\n",
            "291 Y\n",
            "292 Y\n",
            "293 N\n",
            "294 Y\n",
            "295 Y\n",
            "296 Y\n",
            "297 Y\n",
            "298 Y\n",
            "299 Y\n",
            "300 Y\n",
            "301 N\n",
            "302 Y\n",
            "303 Y\n",
            "304 Y\n",
            "305 Y\n",
            "306 Y\n",
            "307 Y\n",
            "308 Y\n",
            "309 Y\n",
            "310 Y\n",
            "311 N\n",
            "312 Y\n",
            "313 Y\n",
            "314 Y\n",
            "315 Y\n",
            "316 Y\n",
            "317 N\n",
            "318 N\n",
            "319 Y\n",
            "320 Y\n",
            "321 Y\n",
            "322 Y\n",
            "323 Y\n",
            "324 Y\n",
            "325 Y\n",
            "326 Y\n",
            "327 Y\n",
            "328 Y\n",
            "329 Y\n",
            "330 Y\n",
            "331 Y\n",
            "332 Y\n",
            "333 Y\n",
            "334 Y\n",
            "335 Y\n",
            "336 N\n",
            "337 Y\n",
            "338 Y\n",
            "339 N\n",
            "340 Y\n",
            "341 Y\n",
            "342 Y\n",
            "343 Y\n",
            "344 Y\n",
            "345 Y\n",
            "346 N\n",
            "347 Y\n",
            "348 Y\n",
            "349 Y\n",
            "350 Y\n",
            "351 N\n",
            "352 Y\n",
            "353 Y\n",
            "354 Y\n",
            "355 Y\n",
            "356 Y\n",
            "357 Y\n",
            "358 Y\n",
            "359 Y\n",
            "360 Y\n",
            "361 Y\n",
            "362 Y\n",
            "363 Y\n",
            "364 Y\n",
            "365 Y\n",
            "366 Y\n"
          ],
          "name": "stdout"
        }
      ]
    },
    {
      "cell_type": "code",
      "metadata": {
        "id": "jX3nVP_N3A9g",
        "colab_type": "code",
        "outputId": "d591b896-307f-4684-c26e-78dd312fe885",
        "colab": {}
      },
      "source": [
        "y_predict[1]"
      ],
      "execution_count": 0,
      "outputs": [
        {
          "output_type": "execute_result",
          "data": {
            "text/plain": [
              "'Y'"
            ]
          },
          "metadata": {
            "tags": []
          },
          "execution_count": 310
        }
      ]
    },
    {
      "cell_type": "code",
      "metadata": {
        "id": "_soda1np3A9m",
        "colab_type": "code",
        "outputId": "48eefac2-2ac4-4b6b-f8dc-3e2ee8267861",
        "colab": {}
      },
      "source": [
        "len(y_predict)"
      ],
      "execution_count": 0,
      "outputs": [
        {
          "output_type": "execute_result",
          "data": {
            "text/plain": [
              "367"
            ]
          },
          "metadata": {
            "tags": []
          },
          "execution_count": 304
        }
      ]
    },
    {
      "cell_type": "code",
      "metadata": {
        "id": "lkqvQrN63A9t",
        "colab_type": "code",
        "colab": {}
      },
      "source": [
        "from openpyxl import *"
      ],
      "execution_count": 0,
      "outputs": []
    },
    {
      "cell_type": "code",
      "metadata": {
        "id": "7V4HG31D3A9z",
        "colab_type": "code",
        "outputId": "4cb57fc3-f377-44d3-9ab6-574704ef184a",
        "colab": {}
      },
      "source": [
        "submission_path=\"C:\\\\Users\\\\sagar\\\\Downloads\\\\Hackathon\\\\Loan_prediction\\\\sample_submission.csv\"\n",
        "\n",
        "wb=load_workbook(submission_path)\n",
        "ws=wb['sample_submission']\n",
        "for i in range(1,368):\n",
        "    wcell=ws.cell(1,i)\n",
        "    wcell.value=y_predict[i]\n",
        "\n",
        "wb.save(submission_path)"
      ],
      "execution_count": 0,
      "outputs": [
        {
          "output_type": "error",
          "ename": "InvalidFileException",
          "evalue": "openpyxl does not support .csv file format, please check you can open it with Excel first. Supported formats are: .xlsx,.xlsm,.xltx,.xltm",
          "traceback": [
            "\u001b[1;31m---------------------------------------------------------------------------\u001b[0m",
            "\u001b[1;31mInvalidFileException\u001b[0m                      Traceback (most recent call last)",
            "\u001b[1;32m<ipython-input-316-f302b9915c5d>\u001b[0m in \u001b[0;36m<module>\u001b[1;34m\u001b[0m\n\u001b[0;32m      1\u001b[0m \u001b[0msubmission_path\u001b[0m\u001b[1;33m=\u001b[0m\u001b[1;34m\"C:\\\\Users\\\\sagar\\\\Downloads\\\\Hackathon\\\\Loan_prediction\\\\sample_submission.csv\"\u001b[0m\u001b[1;33m\u001b[0m\u001b[1;33m\u001b[0m\u001b[0m\n\u001b[0;32m      2\u001b[0m \u001b[1;33m\u001b[0m\u001b[0m\n\u001b[1;32m----> 3\u001b[1;33m \u001b[0mwb\u001b[0m\u001b[1;33m=\u001b[0m\u001b[0mload_workbook\u001b[0m\u001b[1;33m(\u001b[0m\u001b[0msubmission_path\u001b[0m\u001b[1;33m)\u001b[0m\u001b[1;33m\u001b[0m\u001b[1;33m\u001b[0m\u001b[0m\n\u001b[0m\u001b[0;32m      4\u001b[0m \u001b[0mws\u001b[0m\u001b[1;33m=\u001b[0m\u001b[0mwb\u001b[0m\u001b[1;33m[\u001b[0m\u001b[1;34m'sample_submission'\u001b[0m\u001b[1;33m]\u001b[0m\u001b[1;33m\u001b[0m\u001b[1;33m\u001b[0m\u001b[0m\n\u001b[0;32m      5\u001b[0m \u001b[1;32mfor\u001b[0m \u001b[0mi\u001b[0m \u001b[1;32min\u001b[0m \u001b[0mrange\u001b[0m\u001b[1;33m(\u001b[0m\u001b[1;36m1\u001b[0m\u001b[1;33m,\u001b[0m\u001b[1;36m368\u001b[0m\u001b[1;33m)\u001b[0m\u001b[1;33m:\u001b[0m\u001b[1;33m\u001b[0m\u001b[1;33m\u001b[0m\u001b[0m\n",
            "\u001b[1;32m~\\Anaconda3\\lib\\site-packages\\openpyxl\\reader\\excel.py\u001b[0m in \u001b[0;36mload_workbook\u001b[1;34m(filename, read_only, keep_vba, data_only, keep_links)\u001b[0m\n\u001b[0;32m    311\u001b[0m     \"\"\"\n\u001b[0;32m    312\u001b[0m     reader = ExcelReader(filename, read_only, keep_vba,\n\u001b[1;32m--> 313\u001b[1;33m                         data_only, keep_links)\n\u001b[0m\u001b[0;32m    314\u001b[0m     \u001b[0mreader\u001b[0m\u001b[1;33m.\u001b[0m\u001b[0mread\u001b[0m\u001b[1;33m(\u001b[0m\u001b[1;33m)\u001b[0m\u001b[1;33m\u001b[0m\u001b[1;33m\u001b[0m\u001b[0m\n\u001b[0;32m    315\u001b[0m     \u001b[1;32mreturn\u001b[0m \u001b[0mreader\u001b[0m\u001b[1;33m.\u001b[0m\u001b[0mwb\u001b[0m\u001b[1;33m\u001b[0m\u001b[1;33m\u001b[0m\u001b[0m\n",
            "\u001b[1;32m~\\Anaconda3\\lib\\site-packages\\openpyxl\\reader\\excel.py\u001b[0m in \u001b[0;36m__init__\u001b[1;34m(self, fn, read_only, keep_vba, data_only, keep_links)\u001b[0m\n\u001b[0;32m    122\u001b[0m     def __init__(self,  fn, read_only=False, keep_vba=KEEP_VBA,\n\u001b[0;32m    123\u001b[0m                   data_only=False, keep_links=True):\n\u001b[1;32m--> 124\u001b[1;33m         \u001b[0mself\u001b[0m\u001b[1;33m.\u001b[0m\u001b[0marchive\u001b[0m \u001b[1;33m=\u001b[0m \u001b[0m_validate_archive\u001b[0m\u001b[1;33m(\u001b[0m\u001b[0mfn\u001b[0m\u001b[1;33m)\u001b[0m\u001b[1;33m\u001b[0m\u001b[1;33m\u001b[0m\u001b[0m\n\u001b[0m\u001b[0;32m    125\u001b[0m         \u001b[0mself\u001b[0m\u001b[1;33m.\u001b[0m\u001b[0mvalid_files\u001b[0m \u001b[1;33m=\u001b[0m \u001b[0mself\u001b[0m\u001b[1;33m.\u001b[0m\u001b[0marchive\u001b[0m\u001b[1;33m.\u001b[0m\u001b[0mnamelist\u001b[0m\u001b[1;33m(\u001b[0m\u001b[1;33m)\u001b[0m\u001b[1;33m\u001b[0m\u001b[1;33m\u001b[0m\u001b[0m\n\u001b[0;32m    126\u001b[0m         \u001b[0mself\u001b[0m\u001b[1;33m.\u001b[0m\u001b[0mread_only\u001b[0m \u001b[1;33m=\u001b[0m \u001b[0mread_only\u001b[0m\u001b[1;33m\u001b[0m\u001b[1;33m\u001b[0m\u001b[0m\n",
            "\u001b[1;32m~\\Anaconda3\\lib\\site-packages\\openpyxl\\reader\\excel.py\u001b[0m in \u001b[0;36m_validate_archive\u001b[1;34m(filename)\u001b[0m\n\u001b[0;32m     92\u001b[0m                        \u001b[1;34m'Supported formats are: %s'\u001b[0m\u001b[1;33m)\u001b[0m \u001b[1;33m%\u001b[0m \u001b[1;33m(\u001b[0m\u001b[0mfile_format\u001b[0m\u001b[1;33m,\u001b[0m\u001b[1;33m\u001b[0m\u001b[1;33m\u001b[0m\u001b[0m\n\u001b[0;32m     93\u001b[0m                                                        ','.join(SUPPORTED_FORMATS))\n\u001b[1;32m---> 94\u001b[1;33m             \u001b[1;32mraise\u001b[0m \u001b[0mInvalidFileException\u001b[0m\u001b[1;33m(\u001b[0m\u001b[0mmsg\u001b[0m\u001b[1;33m)\u001b[0m\u001b[1;33m\u001b[0m\u001b[1;33m\u001b[0m\u001b[0m\n\u001b[0m\u001b[0;32m     95\u001b[0m \u001b[1;33m\u001b[0m\u001b[0m\n\u001b[0;32m     96\u001b[0m     \u001b[0marchive\u001b[0m \u001b[1;33m=\u001b[0m \u001b[0mZipFile\u001b[0m\u001b[1;33m(\u001b[0m\u001b[0mfilename\u001b[0m\u001b[1;33m,\u001b[0m \u001b[1;34m'r'\u001b[0m\u001b[1;33m)\u001b[0m\u001b[1;33m\u001b[0m\u001b[1;33m\u001b[0m\u001b[0m\n",
            "\u001b[1;31mInvalidFileException\u001b[0m: openpyxl does not support .csv file format, please check you can open it with Excel first. Supported formats are: .xlsx,.xlsm,.xltx,.xltm"
          ]
        }
      ]
    },
    {
      "cell_type": "code",
      "metadata": {
        "id": "JaeA9bo93A96",
        "colab_type": "code",
        "colab": {}
      },
      "source": [
        ""
      ],
      "execution_count": 0,
      "outputs": []
    }
  ]
}