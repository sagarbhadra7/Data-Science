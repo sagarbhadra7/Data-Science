{
  "nbformat": 4,
  "nbformat_minor": 0,
  "metadata": {
    "colab": {
      "name": "Exception.ipynb",
      "provenance": [],
      "authorship_tag": "ABX9TyPwW9zVTd80bXS63ROsw5N/",
      "include_colab_link": true
    },
    "kernelspec": {
      "name": "python3",
      "display_name": "Python 3"
    }
  },
  "cells": [
    {
      "cell_type": "markdown",
      "metadata": {
        "id": "view-in-github",
        "colab_type": "text"
      },
      "source": [
        "<a href=\"https://colab.research.google.com/github/sagarbhadra7/Data-Science/blob/master/Exception.ipynb\" target=\"_parent\"><img src=\"https://colab.research.google.com/assets/colab-badge.svg\" alt=\"Open In Colab\"/></a>"
      ]
    },
    {
      "cell_type": "code",
      "metadata": {
        "id": "JJYM4GCmiAVG",
        "colab_type": "code",
        "colab": {
          "base_uri": "https://localhost:8080/",
          "height": 50
        },
        "outputId": "61af9a14-9961-47fe-a766-f37426a03601"
      },
      "source": [
        "a = [1, 2, 3] \n",
        "try:  \n",
        "    print(\"Second element = %d\" %(a[1]))\n",
        "  \n",
        "    # Throws error since there are only 3 elements in array \n",
        "    print(\"Fourth element = %d\" %(a[3]))\n",
        "  \n",
        "except IndexError: \n",
        "    print(\"An error occurred\")"
      ],
      "execution_count": 9,
      "outputs": [
        {
          "output_type": "stream",
          "text": [
            "Second element = 2\n",
            "An error occurred\n"
          ],
          "name": "stdout"
        }
      ]
    },
    {
      "cell_type": "code",
      "metadata": {
        "id": "D-IVV9C0iIu2",
        "colab_type": "code",
        "colab": {
          "base_uri": "https://localhost:8080/",
          "height": 50
        },
        "outputId": "5ab922a8-7961-4e22-edc7-734bf4d9daca"
      },
      "source": [
        "# Program to handle multiple errors with one except statement \n",
        "try :  \n",
        "    a = 3\n",
        "    if a < 4 : \n",
        "  \n",
        "        # throws ZeroDivisionError for a = 3  \n",
        "        b = a/(a-3) \n",
        "      \n",
        "    # throws NameError if a >= 4 \n",
        "    print(\"Value of b = \", b) \n",
        "  \n",
        "# note that braces () are necessary here for multiple exceptions \n",
        "except(ZeroDivisionError, NameError): \n",
        "    print(\"\\nError Occurred and Handled\")"
      ],
      "execution_count": 6,
      "outputs": [
        {
          "output_type": "stream",
          "text": [
            "\n",
            "Error Occurred and Handled\n"
          ],
          "name": "stdout"
        }
      ]
    },
    {
      "cell_type": "code",
      "metadata": {
        "id": "HEt8ORzyiOuc",
        "colab_type": "code",
        "colab": {
          "base_uri": "https://localhost:8080/",
          "height": 50
        },
        "outputId": "beff8f35-af82-4948-fc26-98741a0ee7c9"
      },
      "source": [
        "# Program to depict else clause with try-except \n",
        "  \n",
        "# Function which returns a/b \n",
        "def AbyB(a , b): \n",
        "    try: \n",
        "        c = ((a+b) / (a-b)) \n",
        "    except ZeroDivisionError: \n",
        "        print(\"a/b result in 0\")\n",
        "    else: \n",
        "        print(c) \n",
        "  \n",
        "# Driver program to test above function \n",
        "AbyB(2.0, 3.0) \n",
        "AbyB(3.0, 3.0) "
      ],
      "execution_count": 4,
      "outputs": [
        {
          "output_type": "stream",
          "text": [
            "-5.0\n",
            "a/b result in 0\n"
          ],
          "name": "stdout"
        }
      ]
    },
    {
      "cell_type": "code",
      "metadata": {
        "id": "yEBPRbpsiS8_",
        "colab_type": "code",
        "colab": {
          "base_uri": "https://localhost:8080/",
          "height": 246
        },
        "outputId": "a2bfe5da-dc4c-4177-b21e-d5168050af5a"
      },
      "source": [
        "try:  \n",
        "    raise NameError (\"Hi there\")  # Raise Error \n",
        "except NameError: \n",
        "    print( \"An exception\")\n",
        "    raise  # To determine whether the exception was raised or not "
      ],
      "execution_count": 11,
      "outputs": [
        {
          "output_type": "stream",
          "text": [
            "An exception\n"
          ],
          "name": "stdout"
        },
        {
          "output_type": "error",
          "ename": "NameError",
          "evalue": "ignored",
          "traceback": [
            "\u001b[0;31m---------------------------------------------------------------------------\u001b[0m",
            "\u001b[0;31mNameError\u001b[0m                                 Traceback (most recent call last)",
            "\u001b[0;32m<ipython-input-11-3c1c22616747>\u001b[0m in \u001b[0;36m<module>\u001b[0;34m()\u001b[0m\n\u001b[1;32m      1\u001b[0m \u001b[0;32mtry\u001b[0m\u001b[0;34m:\u001b[0m\u001b[0;34m\u001b[0m\u001b[0;34m\u001b[0m\u001b[0m\n\u001b[0;32m----> 2\u001b[0;31m     \u001b[0;32mraise\u001b[0m \u001b[0mNameError\u001b[0m \u001b[0;34m(\u001b[0m\u001b[0;34m\"Hi there\"\u001b[0m\u001b[0;34m)\u001b[0m  \u001b[0;31m# Raise Error\u001b[0m\u001b[0;34m\u001b[0m\u001b[0;34m\u001b[0m\u001b[0m\n\u001b[0m\u001b[1;32m      3\u001b[0m \u001b[0;32mexcept\u001b[0m \u001b[0mNameError\u001b[0m\u001b[0;34m:\u001b[0m\u001b[0;34m\u001b[0m\u001b[0;34m\u001b[0m\u001b[0m\n\u001b[1;32m      4\u001b[0m     \u001b[0mprint\u001b[0m\u001b[0;34m(\u001b[0m \u001b[0;34m\"An exception\"\u001b[0m\u001b[0;34m)\u001b[0m\u001b[0;34m\u001b[0m\u001b[0;34m\u001b[0m\u001b[0m\n\u001b[1;32m      5\u001b[0m     \u001b[0;32mraise\u001b[0m  \u001b[0;31m# To determine whether the exception was raised or not\u001b[0m\u001b[0;34m\u001b[0m\u001b[0;34m\u001b[0m\u001b[0m\n",
            "\u001b[0;31mNameError\u001b[0m: Hi there"
          ]
        }
      ]
    },
    {
      "cell_type": "code",
      "metadata": {
        "id": "E34DhFQfizKu",
        "colab_type": "code",
        "colab": {}
      },
      "source": [
        ""
      ],
      "execution_count": 0,
      "outputs": []
    }
  ]
}