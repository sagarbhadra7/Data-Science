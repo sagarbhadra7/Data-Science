{
  "nbformat": 4,
  "nbformat_minor": 0,
  "metadata": {
    "colab": {
      "name": "Exception.ipynb",
      "provenance": [],
      "collapsed_sections": [],
      "authorship_tag": "ABX9TyMNYIYc4BxQbsx6+aXfnZL+",
      "include_colab_link": true
    },
    "kernelspec": {
      "name": "python3",
      "display_name": "Python 3"
    }
  },
  "cells": [
    {
      "cell_type": "markdown",
      "metadata": {
        "id": "view-in-github",
        "colab_type": "text"
      },
      "source": [
        "<a href=\"https://colab.research.google.com/github/sagarbhadra7/Data-Science/blob/master/Exception.ipynb\" target=\"_parent\"><img src=\"https://colab.research.google.com/assets/colab-badge.svg\" alt=\"Open In Colab\"/></a>"
      ]
    },
    {
      "cell_type": "code",
      "metadata": {
        "id": "JJYM4GCmiAVG",
        "colab_type": "code",
        "colab": {
          "base_uri": "https://localhost:8080/",
          "height": 50
        },
        "outputId": "61af9a14-9961-47fe-a766-f37426a03601"
      },
      "source": [
        "a = [1, 2, 3] \n",
        "try:  \n",
        "    print(\"Second element = %d\" %(a[1]))\n",
        "  \n",
        "    # Throws error since there are only 3 elements in array \n",
        "    print(\"Fourth element = %d\" %(a[3]))\n",
        "  \n",
        "except IndexError: \n",
        "    print(\"An error occurred\")"
      ],
      "execution_count": 9,
      "outputs": [
        {
          "output_type": "stream",
          "text": [
            "Second element = 2\n",
            "An error occurred\n"
          ],
          "name": "stdout"
        }
      ]
    },
    {
      "cell_type": "code",
      "metadata": {
        "id": "D-IVV9C0iIu2",
        "colab_type": "code",
        "colab": {
          "base_uri": "https://localhost:8080/",
          "height": 50
        },
        "outputId": "5ab922a8-7961-4e22-edc7-734bf4d9daca"
      },
      "source": [
        "# Program to handle multiple errors with one except statement \n",
        "try :  \n",
        "    a = 3\n",
        "    if a < 4 : \n",
        "  \n",
        "        # throws ZeroDivisionError for a = 3  \n",
        "        b = a/(a-3) \n",
        "      \n",
        "    # throws NameError if a >= 4 \n",
        "    print(\"Value of b = \", b) \n",
        "  \n",
        "# note that braces () are necessary here for multiple exceptions \n",
        "except(ZeroDivisionError, NameError): \n",
        "    print(\"\\nError Occurred and Handled\")"
      ],
      "execution_count": 6,
      "outputs": [
        {
          "output_type": "stream",
          "text": [
            "\n",
            "Error Occurred and Handled\n"
          ],
          "name": "stdout"
        }
      ]
    },
    {
      "cell_type": "code",
      "metadata": {
        "id": "HEt8ORzyiOuc",
        "colab_type": "code",
        "colab": {
          "base_uri": "https://localhost:8080/",
          "height": 50
        },
        "outputId": "beff8f35-af82-4948-fc26-98741a0ee7c9"
      },
      "source": [
        "# Program to depict else clause with try-except \n",
        "  \n",
        "# Function which returns a/b \n",
        "def AbyB(a , b): \n",
        "    try: \n",
        "        c = ((a+b) / (a-b)) \n",
        "    except ZeroDivisionError: \n",
        "        print(\"a/b result in 0\")\n",
        "    else: \n",
        "        print(c) \n",
        "  \n",
        "# Driver program to test above function \n",
        "AbyB(2.0, 3.0) \n",
        "AbyB(3.0, 3.0) "
      ],
      "execution_count": 4,
      "outputs": [
        {
          "output_type": "stream",
          "text": [
            "-5.0\n",
            "a/b result in 0\n"
          ],
          "name": "stdout"
        }
      ]
    },
    {
      "cell_type": "code",
      "metadata": {
        "id": "yEBPRbpsiS8_",
        "colab_type": "code",
        "colab": {
          "base_uri": "https://localhost:8080/",
          "height": 246
        },
        "outputId": "a2bfe5da-dc4c-4177-b21e-d5168050af5a"
      },
      "source": [
        "try:  \n",
        "    raise NameError (\"Hi there\")  # Raise Error \n",
        "except NameError: \n",
        "    print( \"An exception\")\n",
        "    raise  # To determine whether the exception was raised or not "
      ],
      "execution_count": 11,
      "outputs": [
        {
          "output_type": "stream",
          "text": [
            "An exception\n"
          ],
          "name": "stdout"
        },
        {
          "output_type": "error",
          "ename": "NameError",
          "evalue": "ignored",
          "traceback": [
            "\u001b[0;31m---------------------------------------------------------------------------\u001b[0m",
            "\u001b[0;31mNameError\u001b[0m                                 Traceback (most recent call last)",
            "\u001b[0;32m<ipython-input-11-3c1c22616747>\u001b[0m in \u001b[0;36m<module>\u001b[0;34m()\u001b[0m\n\u001b[1;32m      1\u001b[0m \u001b[0;32mtry\u001b[0m\u001b[0;34m:\u001b[0m\u001b[0;34m\u001b[0m\u001b[0;34m\u001b[0m\u001b[0m\n\u001b[0;32m----> 2\u001b[0;31m     \u001b[0;32mraise\u001b[0m \u001b[0mNameError\u001b[0m \u001b[0;34m(\u001b[0m\u001b[0;34m\"Hi there\"\u001b[0m\u001b[0;34m)\u001b[0m  \u001b[0;31m# Raise Error\u001b[0m\u001b[0;34m\u001b[0m\u001b[0;34m\u001b[0m\u001b[0m\n\u001b[0m\u001b[1;32m      3\u001b[0m \u001b[0;32mexcept\u001b[0m \u001b[0mNameError\u001b[0m\u001b[0;34m:\u001b[0m\u001b[0;34m\u001b[0m\u001b[0;34m\u001b[0m\u001b[0m\n\u001b[1;32m      4\u001b[0m     \u001b[0mprint\u001b[0m\u001b[0;34m(\u001b[0m \u001b[0;34m\"An exception\"\u001b[0m\u001b[0;34m)\u001b[0m\u001b[0;34m\u001b[0m\u001b[0;34m\u001b[0m\u001b[0m\n\u001b[1;32m      5\u001b[0m     \u001b[0;32mraise\u001b[0m  \u001b[0;31m# To determine whether the exception was raised or not\u001b[0m\u001b[0;34m\u001b[0m\u001b[0;34m\u001b[0m\u001b[0m\n",
            "\u001b[0;31mNameError\u001b[0m: Hi there"
          ]
        }
      ]
    },
    {
      "cell_type": "code",
      "metadata": {
        "id": "E34DhFQfizKu",
        "colab_type": "code",
        "colab": {
          "base_uri": "https://localhost:8080/",
          "height": 34
        },
        "outputId": "a42eb7e3-11a5-4a3c-e69e-6d5ca0dd5f7b"
      },
      "source": [
        "# A python program to create user-defined exception \n",
        "  \n",
        "# class MyError is derived from super class Exception \n",
        "class MyError(Exception): \n",
        "  \n",
        "    # Constructor or Initializer \n",
        "    def __init__(self, value): \n",
        "        self.value = value \n",
        "  \n",
        "    # __str__ is to print() the value \n",
        "    def __str__(self): \n",
        "        return(repr(self.value)) \n",
        "  \n",
        "try: \n",
        "    raise(MyError(3*2)) \n",
        "  \n",
        "# Value of Exception is stored in error \n",
        "except MyError as error: \n",
        "    print('A New Exception occured: ',error.value)"
      ],
      "execution_count": 12,
      "outputs": [
        {
          "output_type": "stream",
          "text": [
            "A New Exception occured:  6\n"
          ],
          "name": "stdout"
        }
      ]
    },
    {
      "cell_type": "code",
      "metadata": {
        "id": "4H7cLK98mQl9",
        "colab_type": "code",
        "colab": {
          "base_uri": "https://localhost:8080/",
          "height": 1000
        },
        "outputId": "54075810-d1bb-481b-f98b-f1d8966a30d0"
      },
      "source": [
        "help(Exception)"
      ],
      "execution_count": 13,
      "outputs": [
        {
          "output_type": "stream",
          "text": [
            "Help on class Exception in module builtins:\n",
            "\n",
            "class Exception(BaseException)\n",
            " |  Common base class for all non-exit exceptions.\n",
            " |  \n",
            " |  Method resolution order:\n",
            " |      Exception\n",
            " |      BaseException\n",
            " |      object\n",
            " |  \n",
            " |  Methods defined here:\n",
            " |  \n",
            " |  __init__(self, /, *args, **kwargs)\n",
            " |      Initialize self.  See help(type(self)) for accurate signature.\n",
            " |  \n",
            " |  __new__(*args, **kwargs) from builtins.type\n",
            " |      Create and return a new object.  See help(type) for accurate signature.\n",
            " |  \n",
            " |  ----------------------------------------------------------------------\n",
            " |  Methods inherited from BaseException:\n",
            " |  \n",
            " |  __delattr__(self, name, /)\n",
            " |      Implement delattr(self, name).\n",
            " |  \n",
            " |  __getattribute__(self, name, /)\n",
            " |      Return getattr(self, name).\n",
            " |  \n",
            " |  __reduce__(...)\n",
            " |      helper for pickle\n",
            " |  \n",
            " |  __repr__(self, /)\n",
            " |      Return repr(self).\n",
            " |  \n",
            " |  __setattr__(self, name, value, /)\n",
            " |      Implement setattr(self, name, value).\n",
            " |  \n",
            " |  __setstate__(...)\n",
            " |  \n",
            " |  __str__(self, /)\n",
            " |      Return str(self).\n",
            " |  \n",
            " |  with_traceback(...)\n",
            " |      Exception.with_traceback(tb) --\n",
            " |      set self.__traceback__ to tb and return self.\n",
            " |  \n",
            " |  ----------------------------------------------------------------------\n",
            " |  Data descriptors inherited from BaseException:\n",
            " |  \n",
            " |  __cause__\n",
            " |      exception cause\n",
            " |  \n",
            " |  __context__\n",
            " |      exception context\n",
            " |  \n",
            " |  __dict__\n",
            " |  \n",
            " |  __suppress_context__\n",
            " |  \n",
            " |  __traceback__\n",
            " |  \n",
            " |  args\n",
            "\n"
          ],
          "name": "stdout"
        }
      ]
    },
    {
      "cell_type": "code",
      "metadata": {
        "id": "VWtdIFkImzdr",
        "colab_type": "code",
        "colab": {
          "base_uri": "https://localhost:8080/",
          "height": 34
        },
        "outputId": "1aeb376b-0762-4f06-e1f0-fc426ad6d3f0"
      },
      "source": [
        "# class Error is derived from super class Exception \n",
        "class Error(Exception): \n",
        "  \n",
        "    # Error is derived class for Exception, but \n",
        "    # Base class for exceptions in this module \n",
        "    pass\n",
        "  \n",
        "class TransitionError(Error): \n",
        "  \n",
        "    # Raised when an operation attempts a state  \n",
        "    # transition that's not allowed. \n",
        "    def __init__(self, prev, nex, msg): \n",
        "        self.prev = prev \n",
        "        self.next = nex \n",
        "  \n",
        "        # Error message thrown is saved in msg \n",
        "        self.msg = msg \n",
        "try: \n",
        "    raise(TransitionError(2,3*2,\"Not Allowed\")) \n",
        "  \n",
        "# Value of Exception is stored in error \n",
        "except TransitionError as error: \n",
        "    print('Exception occured: ',error.msg) "
      ],
      "execution_count": 14,
      "outputs": [
        {
          "output_type": "stream",
          "text": [
            "Exception occured:  Not Allowed\n"
          ],
          "name": "stdout"
        }
      ]
    },
    {
      "cell_type": "code",
      "metadata": {
        "id": "zebUHvI4nc6u",
        "colab_type": "code",
        "colab": {}
      },
      "source": [
        ""
      ],
      "execution_count": 0,
      "outputs": []
    }
  ]
}