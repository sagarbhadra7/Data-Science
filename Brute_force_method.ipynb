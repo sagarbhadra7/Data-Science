{
  "nbformat": 4,
  "nbformat_minor": 0,
  "metadata": {
    "colab": {
      "name": "Brute_force_method.ipynb",
      "provenance": [],
      "authorship_tag": "ABX9TyOvbXYKeCtLJ3TCqQJnExkv",
      "include_colab_link": true
    },
    "kernelspec": {
      "name": "python3",
      "display_name": "Python 3"
    }
  },
  "cells": [
    {
      "cell_type": "markdown",
      "metadata": {
        "id": "view-in-github",
        "colab_type": "text"
      },
      "source": [
        "<a href=\"https://colab.research.google.com/github/sagarbhadra7/Python-Programs/blob/master/Brute_force_method.ipynb\" target=\"_parent\"><img src=\"https://colab.research.google.com/assets/colab-badge.svg\" alt=\"Open In Colab\"/></a>"
      ]
    },
    {
      "cell_type": "markdown",
      "metadata": {
        "id": "_BQUKmqyX6ka",
        "colab_type": "text"
      },
      "source": [
        "# Brute Force Method"
      ]
    },
    {
      "cell_type": "code",
      "metadata": {
        "id": "DlfzTBiPYAYq",
        "colab_type": "code",
        "colab": {}
      },
      "source": [
        "def strstrBruteForce(str, pattern):\n",
        "  if not pattern: return 0\n",
        "  for i in range(len(str)-len(pattern)+1):\n",
        "    stri = i\n",
        "    patterni = 0\n",
        "  while stri < len(str) and patterni < len(pattern) and str[stri] == pattern[patterni]:\n",
        "    stri += 1\n",
        "    patterni += 1\n",
        "  if (patterni == len(pattern)): return i\n",
        "  return -1"
      ],
      "execution_count": 0,
      "outputs": []
    },
    {
      "cell_type": "code",
      "metadata": {
        "id": "FmM2Hz8fYoEC",
        "colab_type": "code",
        "colab": {
          "base_uri": "https://localhost:8080/",
          "height": 34
        },
        "outputId": "ba0decfd-e3c1-40f2-b5d8-1aa6ae4b030c"
      },
      "source": [
        "print(strstrBruteForce(\"xxxxyzabcdabcdefabc\", \"abc\"))"
      ],
      "execution_count": 12,
      "outputs": [
        {
          "output_type": "stream",
          "text": [
            "16\n"
          ],
          "name": "stdout"
        }
      ]
    },
    {
      "cell_type": "code",
      "metadata": {
        "id": "LGsCG2_eZIgI",
        "colab_type": "code",
        "colab": {}
      },
      "source": [
        ""
      ],
      "execution_count": 0,
      "outputs": []
    }
  ]
}