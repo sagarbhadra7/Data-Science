{
  "nbformat": 4,
  "nbformat_minor": 0,
  "metadata": {
    "colab": {
      "name": "findall.ipynb",
      "provenance": [],
      "authorship_tag": "ABX9TyMu2Ugry446Fe377TXksYMQ",
      "include_colab_link": true
    },
    "kernelspec": {
      "name": "python3",
      "display_name": "Python 3"
    }
  },
  "cells": [
    {
      "cell_type": "markdown",
      "metadata": {
        "id": "view-in-github",
        "colab_type": "text"
      },
      "source": [
        "<a href=\"https://colab.research.google.com/github/sagarbhadra7/Python-Programs/blob/master/findall.ipynb\" target=\"_parent\"><img src=\"https://colab.research.google.com/assets/colab-badge.svg\" alt=\"Open In Colab\"/></a>"
      ]
    },
    {
      "cell_type": "code",
      "metadata": {
        "id": "320NqQEH98C6",
        "colab_type": "code",
        "colab": {
          "base_uri": "https://localhost:8080/",
          "height": 67
        },
        "outputId": "4aa332d1-38c6-4a9a-aef5-06e33ee7dfd0"
      },
      "source": [
        "# to find string start with given string\n",
        "import re\n",
        "\n",
        "txt = input('Please enter Message :')\n",
        "s= input('Please enter string to search in Message :')\n",
        "\n",
        "#Check if the string starts \n",
        "\n",
        "x = re.findall('^'+s, txt)\n",
        "if (x):\n",
        "  print(\"Yes, the string starts with \"+ s)\n",
        "else:\n",
        "  print(\"No match\")"
      ],
      "execution_count": 8,
      "outputs": [
        {
          "output_type": "stream",
          "text": [
            "Please enter Message :I am sagar\n",
            "Please enter string to search in Message :I\n",
            "Yes, the string starts with I\n"
          ],
          "name": "stdout"
        }
      ]
    },
    {
      "cell_type": "code",
      "metadata": {
        "id": "pD_pfZrA99Gn",
        "colab_type": "code",
        "colab": {
          "base_uri": "https://localhost:8080/",
          "height": 67
        },
        "outputId": "b7fcda45-147f-4bd0-b584-9ce982410855"
      },
      "source": [
        "# to find string ending with given string\n",
        "import re\n",
        "\n",
        "txt = input('Please enter Message :')\n",
        "s= input('Please enter string to search in Message :')\n",
        "\n",
        "#Check if the string ends \n",
        "\n",
        "x = re.findall(s+'$', txt)\n",
        "if (x):\n",
        "  print(\"Yes, the string ends with 'world'\")\n",
        "else:\n",
        "  print(\"No match\")\n"
      ],
      "execution_count": 9,
      "outputs": [
        {
          "output_type": "stream",
          "text": [
            "Please enter Message :I am sagar\n",
            "Please enter string to search in Message :sagar\n",
            "Yes, the string ends with 'world'\n"
          ],
          "name": "stdout"
        }
      ]
    },
    {
      "cell_type": "code",
      "metadata": {
        "id": "3W9ue3soAVVw",
        "colab_type": "code",
        "colab": {
          "base_uri": "https://localhost:8080/",
          "height": 84
        },
        "outputId": "adb8de6e-ddfe-470c-9015-0e7ccd753fa3"
      },
      "source": [
        "# to check the string occurence in messgae\n",
        "import re\n",
        "\n",
        "txt = input('Please enter Message :')\n",
        "s= input('Please enter string to search in Message :')\n",
        "\n",
        "#Check if the message contains  string followed by 0 or more \"x\" characters:\n",
        "\n",
        "x = re.findall(s+'x*', txt)\n",
        "\n",
        "print(x)\n",
        "\n",
        "if (x):\n",
        "  print(\"Yes, there is at least one match!\")\n",
        "else:\n",
        "  print(\"No match\")\n"
      ],
      "execution_count": 11,
      "outputs": [
        {
          "output_type": "stream",
          "text": [
            "Please enter Message :i am sagar\n",
            "Please enter string to search in Message :a\n",
            "['a', 'a', 'a']\n",
            "Yes, there is at least one match!\n"
          ],
          "name": "stdout"
        }
      ]
    },
    {
      "cell_type": "code",
      "metadata": {
        "id": "ETBgrtYGAt_F",
        "colab_type": "code",
        "colab": {
          "base_uri": "https://localhost:8080/",
          "height": 84
        },
        "outputId": "e338bc85-a246-402c-8ae5-99bcb2cc1508"
      },
      "source": [
        "#Check if the message contains  string followed by 1 or more \"x\" characters:\n",
        "import re\n",
        "\n",
        "txt = input('Please enter Message :')\n",
        "s= input('Please enter string to search in Message :')\n",
        "\n",
        "x = re.findall(s+\"x+\", txt)\n",
        "\n",
        "print(x)\n",
        "\n",
        "if (x):\n",
        "  print(\"Yes, there is at least one match!\")\n",
        "else:\n",
        "  print(\"No match\")\n"
      ],
      "execution_count": 12,
      "outputs": [
        {
          "output_type": "stream",
          "text": [
            "Please enter Message :i am sagar bhadra\n",
            "Please enter string to search in Message :a\n",
            "[]\n",
            "No match\n"
          ],
          "name": "stdout"
        }
      ]
    },
    {
      "cell_type": "code",
      "metadata": {
        "id": "awmNH8uXBkjn",
        "colab_type": "code",
        "colab": {
          "base_uri": "https://localhost:8080/",
          "height": 101
        },
        "outputId": "c8a23029-2efa-42d2-ccf3-502393990a75"
      },
      "source": [
        "import re\n",
        "\n",
        "txt = input('Please enter Message :')\n",
        "s= input('Please enter string to search in Message :')\n",
        "n=input('Number of occurence :')\n",
        "\n",
        "#Check if the string contains \"a\" followed by exactly two \"l\" characters:\n",
        "\n",
        "x = re.findall(s+\"{\"+n+\"}\", txt)\n",
        "\n",
        "print(x)\n",
        "\n",
        "if (x):\n",
        "  print(\"Yes, there is at least one match!\")\n",
        "else:\n",
        "  print(\"No match\")\n"
      ],
      "execution_count": 13,
      "outputs": [
        {
          "output_type": "stream",
          "text": [
            "Please enter Message :The rain in Spain falls mainly in the plain!\n",
            "Please enter string to search in Message :al\n",
            "Number of occurence :2\n",
            "['all']\n",
            "Yes, there is at least one match!\n"
          ],
          "name": "stdout"
        }
      ]
    },
    {
      "cell_type": "code",
      "metadata": {
        "id": "9HrS6eFXDhB7",
        "colab_type": "code",
        "colab": {}
      },
      "source": [
        ""
      ],
      "execution_count": 0,
      "outputs": []
    }
  ]
}