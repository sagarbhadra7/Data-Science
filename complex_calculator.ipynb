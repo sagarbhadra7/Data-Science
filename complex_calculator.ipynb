{
  "nbformat": 4,
  "nbformat_minor": 0,
  "metadata": {
    "colab": {
      "name": "complex_calculator.ipynb",
      "provenance": [],
      "authorship_tag": "ABX9TyOQnUlH2DflTxLuBOj5Vsj3",
      "include_colab_link": true
    },
    "kernelspec": {
      "name": "python3",
      "display_name": "Python 3"
    }
  },
  "cells": [
    {
      "cell_type": "markdown",
      "metadata": {
        "id": "view-in-github",
        "colab_type": "text"
      },
      "source": [
        "<a href=\"https://colab.research.google.com/github/sagarbhadra7/Data-Science/blob/master/complex_calculator.ipynb\" target=\"_parent\"><img src=\"https://colab.research.google.com/assets/colab-badge.svg\" alt=\"Open In Colab\"/></a>"
      ]
    },
    {
      "cell_type": "code",
      "metadata": {
        "id": "rLeuedRpkUZw",
        "colab_type": "code",
        "colab": {
          "base_uri": "https://localhost:8080/",
          "height": 229
        },
        "outputId": "34dd120b-8ead-4ee2-c54d-740a0505470a"
      },
      "source": [
        "import pandas as pd\n",
        "import numpy as np\n",
        "import math\n",
        "\n",
        "class complex_numbers:\n",
        "\n",
        "    #self declaration\n",
        "    def __init__(self,real=0,imag=0):\n",
        "        self.real=real\n",
        "        self.imag=imag\n",
        "    \n",
        "    #for represenatation\n",
        "    def __repr__(self):\n",
        "        if self.real == 0.0 and self.imag == 0.0:\n",
        "            return \"0.00\"\n",
        "        if self.real == 0:\n",
        "            return \"%.2fi\" % self.imag\n",
        "        if self.imag == 0:\n",
        "            return \"%.2f\" % self.real\n",
        "        return \"%.2f %s %.2fi\" % (self.real, \"+\" if self.imag >= 0 else \"-\", abs(self.imag))\n",
        "\n",
        "    #for + operator overloading\n",
        "    def __add__(self,other):\n",
        "        return self.real+other.real\n",
        "\n",
        "    def __add__(self,other):\n",
        "        r=self.real+other.real\n",
        "        i=self.imag+other.imag\n",
        "        return complex_numbers(r,i)\n",
        "      \n",
        "    def __sub__(self,other):\n",
        "      r=self.real-other.real\n",
        "      i=self.imag-other.imag\n",
        "      return complex_numbers(r,i)\n",
        "\n",
        "    def __mul__(self,other):\n",
        "      r=(self.real*other.real)-(self.imag*other.imag)\n",
        "      i=(self.imag*other.real)+(self.real*other.imag)\n",
        "      return complex_numbers(r,i)\n",
        "\n",
        "    def __truediv__(self,other):\n",
        "      r=(self.real*other.real)-(self.imag*other.imag)/(other.real*other.real+other.imag*other.imag)\n",
        "      i=(self.imag*other.real)+(self.real*other.imag)/(other.real*other.real+other.imag*other.imag)\n",
        "      return complex_numbers(r,i)\n",
        "\n",
        "    def abs(self):\n",
        "      a=math.sqrt(self.real**2+real.imag**2)\n",
        "      return a\n",
        "    \n",
        "    def argument(self):\n",
        "      a=math.atan(self.real/self.imag)\n",
        "      return a\n",
        "\n",
        "    def conjugate(self):\n",
        "      r=r\n",
        "      i=-i\n",
        "      return complex_numbers(r,i)\n",
        "\n",
        "\n",
        "\n",
        "comp_1=complex_numbers(3,5)\n",
        "comp_2=complex_numbers(4,4)\n",
        "#obj1=complex_numbers('sagar')\n",
        "#obj2=complex_numbers('bhadra')\n",
        "comp_sum=comp_1+comp_2\n",
        "comp_diff=comp_1-comp_2\n",
        "comp_prod=comp_1*comp_2\n",
        "comp_quot=comp_1/comp_2\n",
        "comp_abs=abs(comp_1)\n",
        "comp_conj=argument(comp_1)\n",
        "comp_arg=conjugate(comp_1)\n",
        "print(comp_sum)\n",
        "print(comp_diff)\n",
        "print(comp_prod)\n",
        "print(comp_quot)\n",
        "print(comp_abs)\n",
        "print(comp_conj)\n",
        "print(comp_arg)"
      ],
      "execution_count": 11,
      "outputs": [
        {
          "output_type": "error",
          "ename": "TypeError",
          "evalue": "ignored",
          "traceback": [
            "\u001b[0;31m---------------------------------------------------------------------------\u001b[0m",
            "\u001b[0;31mTypeError\u001b[0m                                 Traceback (most recent call last)",
            "\u001b[0;32m<ipython-input-11-4b500b0eea64>\u001b[0m in \u001b[0;36m<module>\u001b[0;34m()\u001b[0m\n\u001b[1;32m     67\u001b[0m \u001b[0mcomp_prod\u001b[0m\u001b[0;34m=\u001b[0m\u001b[0mcomp_1\u001b[0m\u001b[0;34m*\u001b[0m\u001b[0mcomp_2\u001b[0m\u001b[0;34m\u001b[0m\u001b[0;34m\u001b[0m\u001b[0m\n\u001b[1;32m     68\u001b[0m \u001b[0mcomp_quot\u001b[0m\u001b[0;34m=\u001b[0m\u001b[0mcomp_1\u001b[0m\u001b[0;34m/\u001b[0m\u001b[0mcomp_2\u001b[0m\u001b[0;34m\u001b[0m\u001b[0;34m\u001b[0m\u001b[0m\n\u001b[0;32m---> 69\u001b[0;31m \u001b[0mcomp_abs\u001b[0m\u001b[0;34m=\u001b[0m\u001b[0mabs\u001b[0m\u001b[0;34m(\u001b[0m\u001b[0mcomp_1\u001b[0m\u001b[0;34m)\u001b[0m\u001b[0;34m\u001b[0m\u001b[0;34m\u001b[0m\u001b[0m\n\u001b[0m\u001b[1;32m     70\u001b[0m \u001b[0mcomp_conj\u001b[0m\u001b[0;34m=\u001b[0m\u001b[0margument\u001b[0m\u001b[0;34m(\u001b[0m\u001b[0mcomp_1\u001b[0m\u001b[0;34m)\u001b[0m\u001b[0;34m\u001b[0m\u001b[0;34m\u001b[0m\u001b[0m\n\u001b[1;32m     71\u001b[0m \u001b[0mcomp_arg\u001b[0m\u001b[0;34m=\u001b[0m\u001b[0mconjugate\u001b[0m\u001b[0;34m(\u001b[0m\u001b[0mcomp_1\u001b[0m\u001b[0;34m)\u001b[0m\u001b[0;34m\u001b[0m\u001b[0;34m\u001b[0m\u001b[0m\n",
            "\u001b[0;31mTypeError\u001b[0m: bad operand type for abs(): 'complex_numbers'"
          ]
        }
      ]
    },
    {
      "cell_type": "code",
      "metadata": {
        "id": "F65hrGAMkZD6",
        "colab_type": "code",
        "colab": {}
      },
      "source": [
        ""
      ],
      "execution_count": 0,
      "outputs": []
    }
  ]
}