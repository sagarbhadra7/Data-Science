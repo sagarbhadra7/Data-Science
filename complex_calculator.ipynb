{
  "nbformat": 4,
  "nbformat_minor": 0,
  "metadata": {
    "colab": {
      "name": "complex_calculator.ipynb",
      "provenance": [],
      "authorship_tag": "ABX9TyNaMg8XJvTG5uigL1bBqgpI",
      "include_colab_link": true
    },
    "kernelspec": {
      "name": "python3",
      "display_name": "Python 3"
    }
  },
  "cells": [
    {
      "cell_type": "markdown",
      "metadata": {
        "id": "view-in-github",
        "colab_type": "text"
      },
      "source": [
        "<a href=\"https://colab.research.google.com/github/sagarbhadra7/Data-Science/blob/master/complex_calculator.ipynb\" target=\"_parent\"><img src=\"https://colab.research.google.com/assets/colab-badge.svg\" alt=\"Open In Colab\"/></a>"
      ]
    },
    {
      "cell_type": "code",
      "metadata": {
        "id": "rLeuedRpkUZw",
        "colab_type": "code",
        "outputId": "f01a4c84-09cd-4f43-fbe9-bbb07e862047",
        "colab": {
          "base_uri": "https://localhost:8080/",
          "height": 134
        }
      },
      "source": [
        "import pandas as pd\n",
        "import numpy as np\n",
        "import math\n",
        "import cmath\n",
        "\n",
        "class complex_numbers:\n",
        "\n",
        "    #self declaration\n",
        "    def __init__(self,real=0,imag=0):\n",
        "        self.real=real\n",
        "        self.imag=imag\n",
        "    \n",
        "    #for represenatation\n",
        "    def __repr__(self):\n",
        "        if self.real == 0.0 and self.imag == 0.0:\n",
        "            return \"0.00\"\n",
        "        if self.real == 0:\n",
        "            return \"%.2fi\" % self.imag\n",
        "        if self.imag == 0:\n",
        "            return \"%.2f\" % self.real\n",
        "        return \"%.2f %s %.2fi\" % (self.real, \"+\" if self.imag >= 0 else \"-\", abs(self.imag))\n",
        "\n",
        "    #for + operator overloading\n",
        "    def __add__(self,other):\n",
        "        return self.real+other.real\n",
        "\n",
        "    def __add__(self,other):\n",
        "        r=self.real+other.real\n",
        "        i=self.imag+other.imag\n",
        "        return complex_numbers(r,i)\n",
        "      \n",
        "    def __sub__(self,other):\n",
        "      r=self.real-other.real\n",
        "      i=self.imag-other.imag\n",
        "      return complex_numbers(r,i)\n",
        "\n",
        "    def __mul__(self,other):\n",
        "      r= (self.real*other.real) - (self.imag*other.imag)\n",
        "      i= (self.imag*other.real) + (self.real*other.imag)\n",
        "      return complex_numbers(r,i)\n",
        "\n",
        "    def __truediv__(self,other):\n",
        "      r=((self.real*other.real)+(self.imag*other.imag))/((other.real*other.real)+(other.imag*other.imag))\n",
        "      i=((self.imag*other.real)-(self.real*other.imag))/((other.real*other.real)+(other.imag*other.imag))\n",
        "      return complex_numbers(r,i)\n",
        "\n",
        "    def absolute(self):\n",
        "        r=math.sqrt((self.real**2)+(self.imag**2))\n",
        "        return r\n",
        "    \n",
        "    def argument(self):\n",
        "      r =np.arctan(self.imag/self.real)\n",
        "      #r=2 * (math.atan(self.imag/(math.sqrt((self.real**2)+(self.imag**2))+self.real)))\n",
        "      #i=math.atan(other.real/other.imag)\n",
        "      #return complex_numbers(r,i)\n",
        "      #r= round(r,2)\n",
        "      return r\n",
        "\n",
        "    def conjugate(self):\n",
        "      r=self.real\n",
        "      i=self.imag*-1\n",
        "      return complex_numbers(r,i)\n",
        "      #return r\n",
        "\n",
        "\n",
        "\n",
        "comp_1=complex_numbers(3,5)\n",
        "comp_2=complex_numbers(4,4)\n",
        "#obj1=complex_numbers('sagar')\n",
        "#obj2=complex_numbers('bhadra')\n",
        "comp_sum=comp_1+comp_2\n",
        "comp_diff=comp_1-comp_2\n",
        "comp_prod=comp_1*comp_2\n",
        "comp_quot=comp_1/comp_2\n",
        "comp_abs=comp_1.absolute()\n",
        "comp_conj=comp_1.conjugate()\n",
        "comp_arg=comp_1.argument()\n",
        "print(comp_sum)\n",
        "print(comp_diff)\n",
        "print(comp_prod)\n",
        "print(comp_quot)\n",
        "print(comp_abs)\n",
        "print(comp_conj)\n",
        "print(comp_arg)"
      ],
      "execution_count": 25,
      "outputs": [
        {
          "output_type": "stream",
          "text": [
            "7.00 + 9.00i\n",
            "-1.00 + 1.00i\n",
            "-8.00 + 32.00i\n",
            "1.00 + 0.25i\n",
            "5.830951894845301\n",
            "3.00 - 5.00i\n",
            "1.0303768265243125\n"
          ],
          "name": "stdout"
        }
      ]
    },
    {
      "cell_type": "code",
      "metadata": {
        "id": "F65hrGAMkZD6",
        "colab_type": "code",
        "colab": {
          "base_uri": "https://localhost:8080/",
          "height": 34
        },
        "outputId": "7bdedda5-d68f-4263-ee50-f6f7e93e811b"
      },
      "source": [
        "import math\n",
        "import cmath\n",
        "import numpy as np\n",
        "k=cmath.atan(3/5)\n",
        "e=np.arctan(5/3)\n",
        "print(k,e)"
      ],
      "execution_count": 32,
      "outputs": [
        {
          "output_type": "stream",
          "text": [
            "(0.5404195002705842+0j) 1.0303768265243125\n"
          ],
          "name": "stdout"
        }
      ]
    },
    {
      "cell_type": "code",
      "metadata": {
        "id": "x2x71OL58Sse",
        "colab_type": "code",
        "colab": {}
      },
      "source": [
        ""
      ],
      "execution_count": 0,
      "outputs": []
    }
  ]
}