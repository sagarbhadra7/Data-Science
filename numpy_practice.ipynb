{
  "nbformat": 4,
  "nbformat_minor": 0,
  "metadata": {
    "colab": {
      "name": "numpy_practice.ipynb",
      "provenance": [],
      "authorship_tag": "ABX9TyObAgmidA56zN4bKNZlmEMe",
      "include_colab_link": true
    },
    "kernelspec": {
      "name": "python3",
      "display_name": "Python 3"
    }
  },
  "cells": [
    {
      "cell_type": "markdown",
      "metadata": {
        "id": "view-in-github",
        "colab_type": "text"
      },
      "source": [
        "<a href=\"https://colab.research.google.com/github/sagarbhadra7/Python-Programs/blob/master/numpy_practice.ipynb\" target=\"_parent\"><img src=\"https://colab.research.google.com/assets/colab-badge.svg\" alt=\"Open In Colab\"/></a>"
      ]
    },
    {
      "cell_type": "code",
      "metadata": {
        "id": "SW9CjVY3AFug",
        "colab_type": "code",
        "colab": {}
      },
      "source": [
        "list1=[1,2,3,4,5,6,7,8,9,10]"
      ],
      "execution_count": 0,
      "outputs": []
    },
    {
      "cell_type": "code",
      "metadata": {
        "id": "Qo0nO5iMAPbb",
        "colab_type": "code",
        "colab": {}
      },
      "source": [
        "import numpy as np\n",
        "import random as rd\n",
        "from matplotlib import pyplot as plt "
      ],
      "execution_count": 0,
      "outputs": []
    },
    {
      "cell_type": "code",
      "metadata": {
        "id": "s0r3R8edAL7O",
        "colab_type": "code",
        "colab": {
          "base_uri": "https://localhost:8080/",
          "height": 34
        },
        "outputId": "1e99425b-a5dc-4913-aad3-31c268be291b"
      },
      "source": [
        "array1=np.array(list1)\n",
        "print(array1)"
      ],
      "execution_count": 6,
      "outputs": [
        {
          "output_type": "stream",
          "text": [
            "[ 1  2  3  4  5  6  7  8  9 10]\n"
          ],
          "name": "stdout"
        }
      ]
    },
    {
      "cell_type": "code",
      "metadata": {
        "id": "Ro42Av55AU9b",
        "colab_type": "code",
        "colab": {}
      },
      "source": [
        "list2=array1.tolist()"
      ],
      "execution_count": 0,
      "outputs": []
    },
    {
      "cell_type": "code",
      "metadata": {
        "id": "AwxWmw56Aman",
        "colab_type": "code",
        "colab": {
          "base_uri": "https://localhost:8080/",
          "height": 34
        },
        "outputId": "2a759811-27ae-4812-de21-595d5c8b67d6"
      },
      "source": [
        "print(type(list2))"
      ],
      "execution_count": 12,
      "outputs": [
        {
          "output_type": "stream",
          "text": [
            "<class 'list'>\n"
          ],
          "name": "stdout"
        }
      ]
    },
    {
      "cell_type": "code",
      "metadata": {
        "id": "yZnN8aV0A3_f",
        "colab_type": "code",
        "colab": {
          "base_uri": "https://localhost:8080/",
          "height": 34
        },
        "outputId": "136c823b-de8b-4054-b053-f0024605fdb7"
      },
      "source": [
        "print(type(array1))"
      ],
      "execution_count": 13,
      "outputs": [
        {
          "output_type": "stream",
          "text": [
            "<class 'numpy.ndarray'>\n"
          ],
          "name": "stdout"
        }
      ]
    },
    {
      "cell_type": "code",
      "metadata": {
        "id": "gsq4gFgUBCKz",
        "colab_type": "code",
        "colab": {
          "base_uri": "https://localhost:8080/",
          "height": 84
        },
        "outputId": "b5543b71-e93a-4ebe-c0fa-bbc1339c6f82"
      },
      "source": [
        "# shape\n",
        "print('Shape: ', array1.shape)\n",
        "\n",
        "# dtype\n",
        "print('Datatype: ', array1.dtype)\n",
        "\n",
        "# size\n",
        "print('Size: ', array1.size)\n",
        "\n",
        "# ndim\n",
        "print('Num Dimensions: ', array1.ndim)"
      ],
      "execution_count": 14,
      "outputs": [
        {
          "output_type": "stream",
          "text": [
            "Shape:  (10,)\n",
            "Datatype:  int64\n",
            "Size:  10\n",
            "Num Dimensions:  1\n"
          ],
          "name": "stdout"
        }
      ]
    },
    {
      "cell_type": "code",
      "metadata": {
        "id": "JWO83HE9Beoc",
        "colab_type": "code",
        "colab": {
          "base_uri": "https://localhost:8080/",
          "height": 34
        },
        "outputId": "52638d16-f198-4225-d36c-2a571943c415"
      },
      "source": [
        "np.shape(array1)"
      ],
      "execution_count": 15,
      "outputs": [
        {
          "output_type": "execute_result",
          "data": {
            "text/plain": [
              "(10,)"
            ]
          },
          "metadata": {
            "tags": []
          },
          "execution_count": 15
        }
      ]
    },
    {
      "cell_type": "code",
      "metadata": {
        "id": "uTm65TSxBims",
        "colab_type": "code",
        "colab": {}
      },
      "source": [
        "arr2=np.random.randint(1,100,size=[4,4])"
      ],
      "execution_count": 0,
      "outputs": []
    },
    {
      "cell_type": "code",
      "metadata": {
        "id": "8e8hSvxcDi9U",
        "colab_type": "code",
        "colab": {
          "base_uri": "https://localhost:8080/",
          "height": 84
        },
        "outputId": "8131d175-7414-4626-d9e9-b79dc0a614db"
      },
      "source": [
        "arr2"
      ],
      "execution_count": 27,
      "outputs": [
        {
          "output_type": "execute_result",
          "data": {
            "text/plain": [
              "array([[36, 34, 15, 71],\n",
              "       [43, 18, 92, 84],\n",
              "       [21, 51, 67, 66],\n",
              "       [13, 90, 85, 38]])"
            ]
          },
          "metadata": {
            "tags": []
          },
          "execution_count": 27
        }
      ]
    },
    {
      "cell_type": "code",
      "metadata": {
        "id": "pY8kVh3ODl-D",
        "colab_type": "code",
        "colab": {
          "base_uri": "https://localhost:8080/",
          "height": 50
        },
        "outputId": "cd2469a3-24c3-4e70-dfef-84e1e6b57873"
      },
      "source": [
        "arr2[:2,:2]"
      ],
      "execution_count": 28,
      "outputs": [
        {
          "output_type": "execute_result",
          "data": {
            "text/plain": [
              "array([[36, 34],\n",
              "       [43, 18]])"
            ]
          },
          "metadata": {
            "tags": []
          },
          "execution_count": 28
        }
      ]
    },
    {
      "cell_type": "code",
      "metadata": {
        "id": "HweDWcL5ERi_",
        "colab_type": "code",
        "colab": {
          "base_uri": "https://localhost:8080/",
          "height": 34
        },
        "outputId": "4d904715-9d22-49c5-f8cd-ee66161e4046"
      },
      "source": [
        "arr2[arr2%2==0]"
      ],
      "execution_count": 29,
      "outputs": [
        {
          "output_type": "execute_result",
          "data": {
            "text/plain": [
              "array([36, 34, 18, 92, 84, 66, 90, 38])"
            ]
          },
          "metadata": {
            "tags": []
          },
          "execution_count": 29
        }
      ]
    },
    {
      "cell_type": "code",
      "metadata": {
        "id": "VYvHu6FsEZvE",
        "colab_type": "code",
        "colab": {}
      },
      "source": [
        "arr3=np.random.rand(4,4)"
      ],
      "execution_count": 0,
      "outputs": []
    },
    {
      "cell_type": "code",
      "metadata": {
        "id": "QDL3z5V2Ez_0",
        "colab_type": "code",
        "colab": {
          "base_uri": "https://localhost:8080/",
          "height": 84
        },
        "outputId": "1667c871-278c-44c8-8545-98bba1f9dd84"
      },
      "source": [
        "print(arr3)"
      ],
      "execution_count": 61,
      "outputs": [
        {
          "output_type": "stream",
          "text": [
            "[[0.17564383 0.2232257  0.16990331 0.99673329]\n",
            " [0.31707113 0.25198877 0.26128056 0.71770715]\n",
            " [0.19430041 0.2556346  0.01895984 0.70685929]\n",
            " [0.94797796 0.40864302 0.6689361  0.01745263]]\n"
          ],
          "name": "stdout"
        }
      ]
    },
    {
      "cell_type": "code",
      "metadata": {
        "id": "oK_VGSM8E1Vx",
        "colab_type": "code",
        "colab": {}
      },
      "source": [
        "arr3[1,2]=np.nan\n",
        "arr3[2,3]=np.nan\n",
        "arr3[1,1]=np.nan"
      ],
      "execution_count": 0,
      "outputs": []
    },
    {
      "cell_type": "code",
      "metadata": {
        "id": "KH0Gn8gKFHjf",
        "colab_type": "code",
        "colab": {
          "base_uri": "https://localhost:8080/",
          "height": 34
        },
        "outputId": "6b9e6a26-893c-4df3-8fbf-0b2df309f7cf"
      },
      "source": [
        "print(type(arr3))"
      ],
      "execution_count": 35,
      "outputs": [
        {
          "output_type": "stream",
          "text": [
            "<class 'numpy.ndarray'>\n"
          ],
          "name": "stdout"
        }
      ]
    },
    {
      "cell_type": "code",
      "metadata": {
        "id": "roOWnwtqF1vx",
        "colab_type": "code",
        "colab": {
          "base_uri": "https://localhost:8080/",
          "height": 34
        },
        "outputId": "e3f7cdda-e3e9-4115-8120-be1fb3e21c2c"
      },
      "source": [
        "arr3[0][0]"
      ],
      "execution_count": 64,
      "outputs": [
        {
          "output_type": "execute_result",
          "data": {
            "text/plain": [
              "0.17564383439675813"
            ]
          },
          "metadata": {
            "tags": []
          },
          "execution_count": 64
        }
      ]
    },
    {
      "cell_type": "code",
      "metadata": {
        "id": "LkW1mK5dG4-3",
        "colab_type": "code",
        "colab": {
          "base_uri": "https://localhost:8080/",
          "height": 34
        },
        "outputId": "247c7f41-a5c8-4090-b521-b227d6c4540e"
      },
      "source": [
        "type(arr3[0][0])"
      ],
      "execution_count": 63,
      "outputs": [
        {
          "output_type": "execute_result",
          "data": {
            "text/plain": [
              "numpy.float64"
            ]
          },
          "metadata": {
            "tags": []
          },
          "execution_count": 63
        }
      ]
    },
    {
      "cell_type": "code",
      "metadata": {
        "id": "tHpDmVyAG6nu",
        "colab_type": "code",
        "colab": {
          "base_uri": "https://localhost:8080/",
          "height": 84
        },
        "outputId": "31199884-26f4-4333-9343-33f4a3aa5e23"
      },
      "source": [
        "arr3"
      ],
      "execution_count": 65,
      "outputs": [
        {
          "output_type": "execute_result",
          "data": {
            "text/plain": [
              "array([[0.17564383, 0.2232257 , 0.16990331, 0.99673329],\n",
              "       [0.31707113,        nan,        nan, 0.71770715],\n",
              "       [0.19430041, 0.2556346 , 0.01895984,        nan],\n",
              "       [0.94797796, 0.40864302, 0.6689361 , 0.01745263]])"
            ]
          },
          "metadata": {
            "tags": []
          },
          "execution_count": 65
        }
      ]
    },
    {
      "cell_type": "code",
      "metadata": {
        "id": "_9UEHAfYIxem",
        "colab_type": "code",
        "colab": {}
      },
      "source": [
        "missing_bool = np.isnan(arr3) | np.isinf(arr3)\n",
        "arr3[missing_bool] = -1"
      ],
      "execution_count": 0,
      "outputs": []
    },
    {
      "cell_type": "code",
      "metadata": {
        "id": "wn0uSLpHJarS",
        "colab_type": "code",
        "colab": {
          "base_uri": "https://localhost:8080/",
          "height": 84
        },
        "outputId": "609646df-85c5-4be8-e2ab-a34bc7d80b00"
      },
      "source": [
        "arr3"
      ],
      "execution_count": 70,
      "outputs": [
        {
          "output_type": "execute_result",
          "data": {
            "text/plain": [
              "array([[ 0.17564383,  0.2232257 ,  0.16990331,  0.99673329],\n",
              "       [ 0.31707113, -1.        , -1.        ,  0.71770715],\n",
              "       [ 0.19430041,  0.2556346 ,  0.01895984, -1.        ],\n",
              "       [ 0.94797796,  0.40864302,  0.6689361 ,  0.01745263]])"
            ]
          },
          "metadata": {
            "tags": []
          },
          "execution_count": 70
        }
      ]
    },
    {
      "cell_type": "code",
      "metadata": {
        "id": "_TB9pLYlJdQr",
        "colab_type": "code",
        "colab": {
          "base_uri": "https://localhost:8080/",
          "height": 84
        },
        "outputId": "b604f20a-3508-4357-f202-c455d0222bb5"
      },
      "source": [
        "print(missing_bool)"
      ],
      "execution_count": 71,
      "outputs": [
        {
          "output_type": "stream",
          "text": [
            "[[False False False False]\n",
            " [False  True  True False]\n",
            " [False False False  True]\n",
            " [False False False False]]\n"
          ],
          "name": "stdout"
        }
      ]
    },
    {
      "cell_type": "code",
      "metadata": {
        "id": "Aex9Lee3JtBa",
        "colab_type": "code",
        "colab": {
          "base_uri": "https://localhost:8080/",
          "height": 67
        },
        "outputId": "15d69c8d-7b05-4f87-99cc-ec0ffc78ec31"
      },
      "source": [
        "print(\"Mean value is: \", arr3.mean(axis=1))\n",
        "print(\"Max value is: \", arr3.max(axis=0))\n",
        "print(\"Min value is: \", arr3.min(axis=1))"
      ],
      "execution_count": 75,
      "outputs": [
        {
          "output_type": "stream",
          "text": [
            "Mean value is:  [ 0.39137653 -0.24130543 -0.13277629  0.51075242]\n",
            "Max value is:  [0.94797796 0.40864302 0.6689361  0.99673329]\n",
            "Min value is:  [ 0.16990331 -1.         -1.          0.01745263]\n"
          ],
          "name": "stdout"
        }
      ]
    },
    {
      "cell_type": "code",
      "metadata": {
        "id": "HqHnNe1TJ4bv",
        "colab_type": "code",
        "colab": {
          "base_uri": "https://localhost:8080/",
          "height": 50
        },
        "outputId": "f90496e9-614e-4d9f-8e96-cc87b5a8016d"
      },
      "source": [
        "# Cumulative Sum\n",
        "np.cumsum(arr2)"
      ],
      "execution_count": 77,
      "outputs": [
        {
          "output_type": "execute_result",
          "data": {
            "text/plain": [
              "array([ 36,  70,  85, 156, 199, 217, 309, 393, 414, 465, 532, 598, 611,\n",
              "       701, 786, 824])"
            ]
          },
          "metadata": {
            "tags": []
          },
          "execution_count": 77
        }
      ]
    },
    {
      "cell_type": "code",
      "metadata": {
        "id": "yJrj8J7fKTr6",
        "colab_type": "code",
        "colab": {}
      },
      "source": [
        "arr4=arr2[:3:1,::1].copy()"
      ],
      "execution_count": 0,
      "outputs": []
    },
    {
      "cell_type": "code",
      "metadata": {
        "id": "pIQj3D9OKycD",
        "colab_type": "code",
        "colab": {
          "base_uri": "https://localhost:8080/",
          "height": 67
        },
        "outputId": "77e9180e-3eac-49ab-b38a-92c5ae0a764a"
      },
      "source": [
        "print(arr4)"
      ],
      "execution_count": 86,
      "outputs": [
        {
          "output_type": "stream",
          "text": [
            "[[36 34 15 71]\n",
            " [43 18 92 84]\n",
            " [21 51 67 66]]\n"
          ],
          "name": "stdout"
        }
      ]
    },
    {
      "cell_type": "code",
      "metadata": {
        "id": "4Pcc1dG0Kz6Z",
        "colab_type": "code",
        "colab": {
          "base_uri": "https://localhost:8080/",
          "height": 50
        },
        "outputId": "968e6941-36bf-464d-e61f-c9cf16c33f03"
      },
      "source": [
        "np.reshape(arr4,[2,6])"
      ],
      "execution_count": 87,
      "outputs": [
        {
          "output_type": "execute_result",
          "data": {
            "text/plain": [
              "array([[36, 34, 15, 71, 43, 18],\n",
              "       [92, 84, 21, 51, 67, 66]])"
            ]
          },
          "metadata": {
            "tags": []
          },
          "execution_count": 87
        }
      ]
    },
    {
      "cell_type": "code",
      "metadata": {
        "id": "c4JvN3U2LXN3",
        "colab_type": "code",
        "colab": {
          "base_uri": "https://localhost:8080/",
          "height": 34
        },
        "outputId": "9d52ceda-7670-4759-f782-9367fdaa224e"
      },
      "source": [
        "np.linspace(start=1, stop=50, num=10, dtype=int)"
      ],
      "execution_count": 88,
      "outputs": [
        {
          "output_type": "execute_result",
          "data": {
            "text/plain": [
              "array([ 1,  6, 11, 17, 22, 28, 33, 39, 44, 50])"
            ]
          },
          "metadata": {
            "tags": []
          },
          "execution_count": 88
        }
      ]
    },
    {
      "cell_type": "code",
      "metadata": {
        "id": "znpZ_FFqMMdP",
        "colab_type": "code",
        "colab": {}
      },
      "source": [
        "arr5=np.linspace(start=1, stop=50, num=10, dtype='float64')"
      ],
      "execution_count": 0,
      "outputs": []
    },
    {
      "cell_type": "code",
      "metadata": {
        "id": "u631p_JrMQbM",
        "colab_type": "code",
        "colab": {
          "base_uri": "https://localhost:8080/",
          "height": 50
        },
        "outputId": "8cabd002-ca65-4dd6-993c-d1413103d200"
      },
      "source": [
        "arr5"
      ],
      "execution_count": 93,
      "outputs": [
        {
          "output_type": "execute_result",
          "data": {
            "text/plain": [
              "array([ 1.        ,  6.44444444, 11.88888889, 17.33333333, 22.77777778,\n",
              "       28.22222222, 33.66666667, 39.11111111, 44.55555556, 50.        ])"
            ]
          },
          "metadata": {
            "tags": []
          },
          "execution_count": 93
        }
      ]
    },
    {
      "cell_type": "code",
      "metadata": {
        "id": "AxaAqTtAMRme",
        "colab_type": "code",
        "colab": {}
      },
      "source": [
        "# Limit the number of digits after the decimal to 2\n",
        "np.set_printoptions(precision=2) "
      ],
      "execution_count": 0,
      "outputs": []
    },
    {
      "cell_type": "code",
      "metadata": {
        "id": "C1Yy9bIgMmV6",
        "colab_type": "code",
        "colab": {
          "base_uri": "https://localhost:8080/",
          "height": 34
        },
        "outputId": "7699523f-e789-4e65-e5e9-cdd5fee24544"
      },
      "source": [
        "print(arr5)"
      ],
      "execution_count": 95,
      "outputs": [
        {
          "output_type": "stream",
          "text": [
            "[ 1.    6.44 11.89 17.33 22.78 28.22 33.67 39.11 44.56 50.  ]\n"
          ],
          "name": "stdout"
        }
      ]
    },
    {
      "cell_type": "code",
      "metadata": {
        "id": "KPMuF73gMov8",
        "colab_type": "code",
        "colab": {}
      },
      "source": [
        "arr6=np.resize(arr5,[4,4])\n",
        "arr7=arr4.resize(3,3,refcheck=False)"
      ],
      "execution_count": 0,
      "outputs": []
    },
    {
      "cell_type": "code",
      "metadata": {
        "id": "AvViPJQ0N7XA",
        "colab_type": "code",
        "colab": {
          "base_uri": "https://localhost:8080/",
          "height": 84
        },
        "outputId": "94772966-2944-412c-df26-4879938da1ff"
      },
      "source": [
        "print(arr6)"
      ],
      "execution_count": 108,
      "outputs": [
        {
          "output_type": "stream",
          "text": [
            "[[ 1.    6.44 11.89 17.33]\n",
            " [22.78 28.22 33.67 39.11]\n",
            " [44.56 50.    1.    6.44]\n",
            " [11.89 17.33 22.78 28.22]]\n"
          ],
          "name": "stdout"
        }
      ]
    },
    {
      "cell_type": "code",
      "metadata": {
        "id": "3OUVxhrKOB-n",
        "colab_type": "code",
        "colab": {
          "base_uri": "https://localhost:8080/",
          "height": 34
        },
        "outputId": "8aa46403-3449-48e4-c832-70289e0da50f"
      },
      "source": [
        "print(arr7)"
      ],
      "execution_count": 109,
      "outputs": [
        {
          "output_type": "stream",
          "text": [
            "None\n"
          ],
          "name": "stdout"
        }
      ]
    },
    {
      "cell_type": "code",
      "metadata": {
        "id": "CwLg64UOOhYU",
        "colab_type": "code",
        "colab": {
          "base_uri": "https://localhost:8080/",
          "height": 50
        },
        "outputId": "6152edae-b1a0-409b-cd72-9ea6a171f52a"
      },
      "source": [
        "a = [1,2,3] \n",
        "\n",
        "# Repeat whole of 'a' two times\n",
        "print('Tile:   ', np.tile(a, 2))\n",
        "\n",
        "# Repeat each element of 'a' two times\n",
        "print('Repeat: ', np.repeat(a, 2))"
      ],
      "execution_count": 110,
      "outputs": [
        {
          "output_type": "stream",
          "text": [
            "Tile:    [1 2 3 1 2 3]\n",
            "Repeat:  [1 1 2 2 3 3]\n"
          ],
          "name": "stdout"
        }
      ]
    },
    {
      "cell_type": "code",
      "metadata": {
        "id": "94AApKLmP1RN",
        "colab_type": "code",
        "colab": {
          "base_uri": "https://localhost:8080/",
          "height": 353
        },
        "outputId": "9f8b3188-9190-4a3c-bcad-449495b3f21c"
      },
      "source": [
        "# Random numbers between [0,1) of shape 4,4\n",
        "print(np.random.rand(4,4))\n",
        "\n",
        "# Normal distribution with mean=0 and variance=1 of shape 4,4\n",
        "print(np.random.randn(4,4))\n",
        "\n",
        "# Random integers between [0, 10) of shape 4,4\n",
        "print(np.random.randint(0, 10, size=[4,4]))\n",
        "\n",
        "# One random number between [0,1)\n",
        "print(np.random.random())\n",
        "\n",
        "# Random numbers between [0,1) of shape 4,4\n",
        "print(np.random.random(size=[4,4]))\n",
        "\n",
        "# Pick 10 items from a given list, with equal probability\n",
        "print(np.random.choice(['a', 'e', 'i', 'o', 'u'], size=20))  \n",
        "cho=np.random.choice(['a', 'e', 'i', 'o', 'u'], size=20)\n",
        "\n",
        "# Pick 10 items from a given list with a predefined probability 'p'\n",
        "print(np.random.choice(['a', 'e', 'i', 'o', 'u'], size=10, p=[0.3, .1, 0.1, 0.4, 0.1]))"
      ],
      "execution_count": 119,
      "outputs": [
        {
          "output_type": "stream",
          "text": [
            "[[0.95 0.08 0.66 0.51]\n",
            " [0.18 0.88 0.14 0.89]\n",
            " [0.43 0.93 0.72 0.04]\n",
            " [0.81 0.68 0.7  0.37]]\n",
            "[[-0.59 -0.11  1.21  1.15]\n",
            " [-2.62  2.29 -2.29  0.36]\n",
            " [ 0.87  1.75 -0.25  0.5 ]\n",
            " [ 1.01  0.09  0.53  1.16]]\n",
            "[[5 8 7 3]\n",
            " [0 8 0 7]\n",
            " [2 8 7 5]\n",
            " [4 5 9 0]]\n",
            "0.056815203750336885\n",
            "[[0.07 0.64 0.85 0.77]\n",
            " [0.78 0.66 0.65 0.87]\n",
            " [0.02 0.96 0.46 0.38]\n",
            " [0.73 0.41 0.06 0.8 ]]\n",
            "['e' 'e' 'e' 'i' 'u' 'o' 'o' 'a' 'u' 'u' 'u' 'u' 'o' 'o' 'u' 'a' 'a' 'e'\n",
            " 'o' 'i']\n",
            "['a' 'o' 'e' 'o' 'i' 'a' 'a' 'i' 'o' 'o']\n"
          ],
          "name": "stdout"
        }
      ]
    },
    {
      "cell_type": "code",
      "metadata": {
        "id": "EmVyYqoBQJHP",
        "colab_type": "code",
        "colab": {
          "base_uri": "https://localhost:8080/",
          "height": 50
        },
        "outputId": "4d661135-e129-49e1-c2fc-98c79250bee9"
      },
      "source": [
        "# Get the unique items and their counts\n",
        "uniqs, counts = np.unique(cho, return_counts=True)\n",
        "print(\"Unique items : \", uniqs)\n",
        "print(\"Counts       : \", counts)"
      ],
      "execution_count": 120,
      "outputs": [
        {
          "output_type": "stream",
          "text": [
            "Unique items :  ['a' 'e' 'i' 'o' 'u']\n",
            "Counts       :  [7 1 5 1 6]\n"
          ],
          "name": "stdout"
        }
      ]
    },
    {
      "cell_type": "code",
      "metadata": {
        "id": "hTyxMRq3SEOi",
        "colab_type": "code",
        "colab": {
          "base_uri": "https://localhost:8080/",
          "height": 34
        },
        "outputId": "ba3b1a14-2af8-4b62-ca4d-c8056a0ec25e"
      },
      "source": [
        "np.histogram(arr2, bins=[0,20,40,60,80])"
      ],
      "execution_count": 123,
      "outputs": [
        {
          "output_type": "execute_result",
          "data": {
            "text/plain": [
              "(array([3, 4, 2, 3]), array([ 0, 20, 40, 60, 80]))"
            ]
          },
          "metadata": {
            "tags": []
          },
          "execution_count": 123
        }
      ]
    },
    {
      "cell_type": "code",
      "metadata": {
        "id": "ci0qebWETjHI",
        "colab_type": "code",
        "colab": {
          "base_uri": "https://localhost:8080/",
          "height": 84
        },
        "outputId": "2b634627-e4c6-475c-9da3-f11105c35030"
      },
      "source": [
        "print(arr2)"
      ],
      "execution_count": 122,
      "outputs": [
        {
          "output_type": "stream",
          "text": [
            "[[36 34 15 71]\n",
            " [43 18 92 84]\n",
            " [21 51 67 66]\n",
            " [13 90 85 38]]\n"
          ],
          "name": "stdout"
        }
      ]
    },
    {
      "cell_type": "code",
      "metadata": {
        "id": "3kHZ21l9TsPE",
        "colab_type": "code",
        "colab": {}
      },
      "source": [
        "array10=np.random.randint(1,10,50)"
      ],
      "execution_count": 0,
      "outputs": []
    },
    {
      "cell_type": "code",
      "metadata": {
        "id": "aEqoRNVyUENL",
        "colab_type": "code",
        "colab": {
          "base_uri": "https://localhost:8080/",
          "height": 67
        },
        "outputId": "0eac0957-346c-4084-cdea-124124601eb2"
      },
      "source": [
        "print(array10)\n",
        "print(array10.size)"
      ],
      "execution_count": 139,
      "outputs": [
        {
          "output_type": "stream",
          "text": [
            "[4 9 2 1 6 7 1 7 5 2 5 6 3 7 7 1 5 7 1 2 3 2 7 4 4 9 4 4 2 1 7 4 8 8 8 4 1\n",
            " 1 4 8 6 3 7 3 5 7 6 7 9 1]\n",
            "50\n"
          ],
          "name": "stdout"
        }
      ]
    },
    {
      "cell_type": "code",
      "metadata": {
        "id": "JbtUSvJ6UWxk",
        "colab_type": "code",
        "colab": {}
      },
      "source": [
        "b=np.bincount(array10)"
      ],
      "execution_count": 0,
      "outputs": []
    },
    {
      "cell_type": "code",
      "metadata": {
        "id": "p14SFTA7Ugqx",
        "colab_type": "code",
        "colab": {
          "base_uri": "https://localhost:8080/",
          "height": 118
        },
        "outputId": "272e270a-10fb-451f-84b8-a3cd2c75f5cb"
      },
      "source": [
        "print(b)\n",
        "counts, bins = np.histogram(array10)\n",
        "print('Counts: ', counts)\n",
        "print('Bins: ', bins)\n",
        "digitized = np.digitize(array10, bins)\n",
        "print(\"digitized\",digitized)"
      ],
      "execution_count": 140,
      "outputs": [
        {
          "output_type": "stream",
          "text": [
            "[ 0  8  5  4  8  4  4 10  4  3]\n",
            "Counts:  [ 8  5  4  8  0  4  4 10  4  3]\n",
            "Bins:  [1.  1.8 2.6 3.4 4.2 5.  5.8 6.6 7.4 8.2 9. ]\n",
            "digitized [ 4 11  2  1  7  8  1  8  6  2  6  7  3  8  8  1  6  8  1  2  3  2  8  4\n",
            "  4 11  4  4  2  1  8  4  9  9  9  4  1  1  4  9  7  3  8  3  6  8  7  8\n",
            " 11  1]\n"
          ],
          "name": "stdout"
        }
      ]
    },
    {
      "cell_type": "code",
      "metadata": {
        "id": "kvaCx5tyUwOz",
        "colab_type": "code",
        "colab": {
          "base_uri": "https://localhost:8080/",
          "height": 281
        },
        "outputId": "52161918-ab2d-4d9d-89cd-7b104fa61779"
      },
      "source": [
        "np.histogram(array10,[0,2,4,6,8,10])\n",
        "plt.hist(array10, [0,2,4,6,8,10])\n",
        "plt.title(\"histogram\") \n",
        "plt.show()"
      ],
      "execution_count": 156,
      "outputs": [
        {
          "output_type": "display_data",
          "data": {
            "image/png": "[encoded data removed]",
            "text/plain": [
              "<Figure size 432x288 with 1 Axes>"
            ]
          },
          "metadata": {
            "tags": []
          }
        }
      ]
    },
    {
      "cell_type": "code",
      "metadata": {
        "id": "4YYaH1NDhjkO",
        "colab_type": "code",
        "colab": {}
      },
      "source": [
        "inds = np.digitize(array10, bins)"
      ],
      "execution_count": 0,
      "outputs": []
    },
    {
      "cell_type": "code",
      "metadata": {
        "id": "S7z5PKrzhxiw",
        "colab_type": "code",
        "colab": {
          "base_uri": "https://localhost:8080/",
          "height": 50
        },
        "outputId": "e25a8f43-7f9f-44ba-9dd5-fac43561b54b"
      },
      "source": [
        "print(inds)"
      ],
      "execution_count": 152,
      "outputs": [
        {
          "output_type": "stream",
          "text": [
            "[1 1 1 1 1 1 1 1 1 1 1 1 1 1 1 1 1 1 1 1 1 1 1 1 1 1 1 1 1 1 1 1 1 1 1 1 1\n",
            " 1 1 1 1 1 1 1 1 1 1 1 1 1]\n"
          ],
          "name": "stdout"
        }
      ]
    },
    {
      "cell_type": "code",
      "metadata": {
        "id": "eg6jdk7niLEu",
        "colab_type": "code",
        "colab": {
          "base_uri": "https://localhost:8080/",
          "height": 50
        },
        "outputId": "5e551e16-bf92-41be-e4d7-768c9aa7b257"
      },
      "source": [
        "import numpy as np \n",
        "   \n",
        "a = np.array([22,87,5,43,56,73,55,54,11,20,51,5,79,31,27]) \n",
        "np.histogram(a,bins = [0,20,40,60,80,100]) \n",
        "hist,bins = np.histogram(a,bins = [0,20,40,60,80,100])\n",
        "print(hist)\n",
        "print(bins)"
      ],
      "execution_count": 158,
      "outputs": [
        {
          "output_type": "stream",
          "text": [
            "[3 4 5 2 1]\n",
            "[  0  20  40  60  80 100]\n"
          ],
          "name": "stdout"
        }
      ]
    },
    {
      "cell_type": "code",
      "metadata": {
        "id": "laWMsMzQmRp_",
        "colab_type": "code",
        "colab": {
          "base_uri": "https://localhost:8080/",
          "height": 67
        },
        "outputId": "3605796a-69e7-48f8-c833-0b53b728192a"
      },
      "source": [
        "inds = np.digitize(a, bins)\n",
        "print(inds)\n",
        "print(bins)\n",
        "print(a)"
      ],
      "execution_count": 164,
      "outputs": [
        {
          "output_type": "stream",
          "text": [
            "[2 5 1 3 3 4 3 3 1 2 3 1 4 2 2]\n",
            "[  0  20  40  60  80 100]\n",
            "[22 87  5 43 56 73 55 54 11 20 51  5 79 31 27]\n"
          ],
          "name": "stdout"
        }
      ]
    },
    {
      "cell_type": "code",
      "metadata": {
        "id": "9_yK26zAjtj3",
        "colab_type": "code",
        "colab": {
          "base_uri": "https://localhost:8080/",
          "height": 269
        },
        "outputId": "046fd6ad-65c5-4a63-bf89-b5eea617986c"
      },
      "source": [
        "for n in range(a.size):\n",
        "  print(bins[inds[n]-1], \"<=\", a[n], \"<\", bins[inds[n]])"
      ],
      "execution_count": 162,
      "outputs": [
        {
          "output_type": "stream",
          "text": [
            "20 <= 22 < 40\n",
            "80 <= 87 < 100\n",
            "0 <= 5 < 20\n",
            "40 <= 43 < 60\n",
            "40 <= 56 < 60\n",
            "60 <= 73 < 80\n",
            "40 <= 55 < 60\n",
            "40 <= 54 < 60\n",
            "0 <= 11 < 20\n",
            "20 <= 20 < 40\n",
            "40 <= 51 < 60\n",
            "0 <= 5 < 20\n",
            "60 <= 79 < 80\n",
            "20 <= 31 < 40\n",
            "20 <= 27 < 40\n"
          ],
          "name": "stdout"
        }
      ]
    },
    {
      "cell_type": "code",
      "metadata": {
        "id": "s3sn49gOl1se",
        "colab_type": "code",
        "colab": {}
      },
      "source": [
        "hist1,bins1 =np.histogram(array10,[0,2,4,6,8,10])\n",
        "inds1= np.digitize(array10, bins1)"
      ],
      "execution_count": 0,
      "outputs": []
    },
    {
      "cell_type": "code",
      "metadata": {
        "id": "zXBkvrIumo0g",
        "colab_type": "code",
        "colab": {
          "base_uri": "https://localhost:8080/",
          "height": 118
        },
        "outputId": "064646ef-dfbc-4bb6-ab9f-09e06315e81b"
      },
      "source": [
        "print(array10)\n",
        "print(hist1)\n",
        "print(bins1)\n",
        "print(inds1)"
      ],
      "execution_count": 173,
      "outputs": [
        {
          "output_type": "stream",
          "text": [
            "[4 9 2 1 6 7 1 7 5 2 5 6 3 7 7 1 5 7 1 2 3 2 7 4 4 9 4 4 2 1 7 4 8 8 8 4 1\n",
            " 1 4 8 6 3 7 3 5 7 6 7 9 1]\n",
            "[ 8  9 12 14  7]\n",
            "[ 0  2  4  6  8 10]\n",
            "[3 5 2 1 4 4 1 4 3 2 3 4 2 4 4 1 3 4 1 2 2 2 4 3 3 5 3 3 2 1 4 3 5 5 5 3 1\n",
            " 1 3 5 4 2 4 2 3 4 4 4 5 1]\n"
          ],
          "name": "stdout"
        }
      ]
    },
    {
      "cell_type": "code",
      "metadata": {
        "id": "HHugP4F3mrYU",
        "colab_type": "code",
        "colab": {
          "base_uri": "https://localhost:8080/",
          "height": 857
        },
        "outputId": "a53971e0-081c-4651-cccf-13adfae4b1fb"
      },
      "source": [
        "for n in range(array10.size):\n",
        "  print(bins1[inds1[n]-1], \"<=\", array10[n], \"<\", bins1[inds1[n]])"
      ],
      "execution_count": 174,
      "outputs": [
        {
          "output_type": "stream",
          "text": [
            "4 <= 4 < 6\n",
            "8 <= 9 < 10\n",
            "2 <= 2 < 4\n",
            "0 <= 1 < 2\n",
            "6 <= 6 < 8\n",
            "6 <= 7 < 8\n",
            "0 <= 1 < 2\n",
            "6 <= 7 < 8\n",
            "4 <= 5 < 6\n",
            "2 <= 2 < 4\n",
            "4 <= 5 < 6\n",
            "6 <= 6 < 8\n",
            "2 <= 3 < 4\n",
            "6 <= 7 < 8\n",
            "6 <= 7 < 8\n",
            "0 <= 1 < 2\n",
            "4 <= 5 < 6\n",
            "6 <= 7 < 8\n",
            "0 <= 1 < 2\n",
            "2 <= 2 < 4\n",
            "2 <= 3 < 4\n",
            "2 <= 2 < 4\n",
            "6 <= 7 < 8\n",
            "4 <= 4 < 6\n",
            "4 <= 4 < 6\n",
            "8 <= 9 < 10\n",
            "4 <= 4 < 6\n",
            "4 <= 4 < 6\n",
            "2 <= 2 < 4\n",
            "0 <= 1 < 2\n",
            "6 <= 7 < 8\n",
            "4 <= 4 < 6\n",
            "8 <= 8 < 10\n",
            "8 <= 8 < 10\n",
            "8 <= 8 < 10\n",
            "4 <= 4 < 6\n",
            "0 <= 1 < 2\n",
            "0 <= 1 < 2\n",
            "4 <= 4 < 6\n",
            "8 <= 8 < 10\n",
            "6 <= 6 < 8\n",
            "2 <= 3 < 4\n",
            "6 <= 7 < 8\n",
            "2 <= 3 < 4\n",
            "4 <= 5 < 6\n",
            "6 <= 7 < 8\n",
            "6 <= 6 < 8\n",
            "6 <= 7 < 8\n",
            "8 <= 9 < 10\n",
            "0 <= 1 < 2\n"
          ],
          "name": "stdout"
        }
      ]
    },
    {
      "cell_type": "code",
      "metadata": {
        "id": "ytmg8NGVnTrm",
        "colab_type": "code",
        "colab": {}
      },
      "source": [
        ""
      ],
      "execution_count": 0,
      "outputs": []
    }
  ]
}